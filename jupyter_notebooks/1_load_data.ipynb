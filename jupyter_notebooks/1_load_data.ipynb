{
 "cells": [
  {
   "cell_type": "markdown",
   "id": "62450ace-a87c-44da-b4fa-bf1d06af15f8",
   "metadata": {},
   "source": [
    "# TODO"
   ]
  },
  {
   "cell_type": "markdown",
   "id": "403b563f-5673-4bce-ae3f-7850eaa3005e",
   "metadata": {},
   "source": [
    "- [ ] Fix the arrays in the data ingestion\n",
    "- [ ] Fix the datatypes in general\n",
    "- [X] Fix the connection pooling issue (ClientError: failed to obtain a connection from the pool within 60.0s (timeout))"
   ]
  },
  {
   "cell_type": "markdown",
   "id": "48febaa3-bc63-4060-a00a-1cce7e901aeb",
   "metadata": {},
   "source": [
    "# Libraries and contants"
   ]
  },
  {
   "cell_type": "code",
   "execution_count": 1,
   "id": "54283889-0326-48be-9f02-fcd28a1fa070",
   "metadata": {},
   "outputs": [],
   "source": [
    "# !pip install tqdm"
   ]
  },
  {
   "cell_type": "code",
   "execution_count": 2,
   "id": "3e4a90e1-dfba-4b44-a28b-5870e55360e9",
   "metadata": {},
   "outputs": [],
   "source": [
    "import os\n",
    "import json\n",
    "import random\n",
    "\n",
    "import neo4j\n",
    "import numpy as np\n",
    "from tqdm import tqdm"
   ]
  },
  {
   "cell_type": "code",
   "execution_count": 3,
   "id": "f418a294-c67e-4cf9-8415-285ccb27041a",
   "metadata": {},
   "outputs": [],
   "source": [
    "SEMANTIC_PATH = '../semanticscholar_raw_data'\n",
    "\n",
    "SEED = 13"
   ]
  },
  {
   "cell_type": "code",
   "execution_count": 4,
   "id": "ad4804b2-d40a-4c3d-8d31-86e5fe6e64c3",
   "metadata": {},
   "outputs": [],
   "source": [
    "random.seed(SEED)\n",
    "np.random.seed(SEED)"
   ]
  },
  {
   "cell_type": "markdown",
   "id": "2867774d-def4-4269-9ebd-76c3fb5b2d16",
   "metadata": {},
   "source": [
    "# Neo4j"
   ]
  },
  {
   "cell_type": "code",
   "execution_count": 5,
   "id": "5c7ccb56-a73e-4851-b8c0-97101096c935",
   "metadata": {},
   "outputs": [],
   "source": [
    "DRIVER = neo4j.GraphDatabase.driver(uri=\"neo4j://localhost\")\n",
    "# result = driver.execute_query(query)"
   ]
  },
  {
   "cell_type": "code",
   "execution_count": 6,
   "id": "9b884c55-8a15-4e07-84ee-8dcad18ba7f4",
   "metadata": {},
   "outputs": [],
   "source": [
    "def execute(query: str):\n",
    "    \"\"\"\n",
    "    Executes a Cypher @query.\n",
    "    TODO: It might be possible to avoid opening multiple connections to the database.\n",
    "    \"\"\"\n",
    "    # driver = neo4j.GraphDatabase.driver(uri=\"neo4j://localhost\")\n",
    "    # result = driver.session().run(query)\n",
    "    # # summary = result.consume()\n",
    "    # driver.close()\n",
    "    # return summary\n",
    "\n",
    "    result = DRIVER.execute_query(query)\n",
    "    return result"
   ]
  },
  {
   "cell_type": "code",
   "execution_count": 7,
   "id": "8f76e31e-bfd7-4684-8792-8aff2bdb781a",
   "metadata": {},
   "outputs": [],
   "source": [
    "def delete_graph() -> None:\n",
    "    \"\"\"\n",
    "    Deletes every node and edge of the graph.\n",
    "    \"\"\"\n",
    "    query = \"\"\"\n",
    "        MATCH (n)\n",
    "        DETACH DELETE n;\n",
    "    \"\"\"\n",
    "\n",
    "    execute(query)"
   ]
  },
  {
   "cell_type": "code",
   "execution_count": 8,
   "id": "fea3448f-31e5-49ee-94cb-e07e2a5b3229",
   "metadata": {
    "scrolled": true
   },
   "outputs": [],
   "source": [
    "delete_graph()"
   ]
  },
  {
   "cell_type": "markdown",
   "id": "850ccfe3-cf33-498c-acd7-b10ba696bc99",
   "metadata": {},
   "source": [
    "## Papers"
   ]
  },
  {
   "cell_type": "code",
   "execution_count": 9,
   "id": "7ffb0d49-6ee2-4667-b10f-271c8f85f566",
   "metadata": {},
   "outputs": [],
   "source": [
    "def parse_journal_name(paper) -> str:\n",
    "    \"\"\"\n",
    "    Not every file has a field 'journal' in the json.\n",
    "    This function treats those edge cases.\n",
    "    \"\"\"\n",
    "    if 'journal' not in paper or not paper['journal']:\n",
    "        return None\n",
    "    else:\n",
    "        return paper.get('journal', {'name': None}).get('name', None)"
   ]
  },
  {
   "cell_type": "code",
   "execution_count": 10,
   "id": "037bc719-c73b-4f7b-9891-14dcaa076e74",
   "metadata": {
    "scrolled": true
   },
   "outputs": [],
   "source": [
    "def create_papers():\n",
    "    \"\"\"\n",
    "    Create the nodes of label `Paper`.\n",
    "    \"\"\"\n",
    "    for fname in tqdm(os.listdir(SEMANTIC_PATH)):\n",
    "        # print(f'Creating paper of {fname}')\n",
    "\n",
    "        with open(f'{SEMANTIC_PATH}/{fname}') as f:\n",
    "            paper = json.loads(f.read())\n",
    "\n",
    "        query = f\"\"\"\n",
    "        CREATE (n:Paper {{\n",
    "            paper_id: \"{paper['paperId']}\",\n",
    "            publication_venue: \"{paper['publicationVenue']}\",\n",
    "            title: \"{paper['title']}\",\n",
    "            venue: \"{paper['venue']}\",\n",
    "            year: \"{paper['year']}\",\n",
    "            fieldsOfStudy: \"{paper['fieldsOfStudy']}\",\n",
    "            publicationDate:\" {paper['publicationDate']}\"\n",
    "        }})\n",
    "        \"\"\"\n",
    "\n",
    "        execute(query)"
   ]
  },
  {
   "cell_type": "code",
   "execution_count": 11,
   "id": "8db23829-32c9-4a7d-a8ff-015a47d30823",
   "metadata": {
    "scrolled": true
   },
   "outputs": [
    {
     "name": "stderr",
     "output_type": "stream",
     "text": [
      "100%|████████████████████████████████████████| 739/739 [00:03<00:00, 230.53it/s]"
     ]
    },
    {
     "name": "stdout",
     "output_type": "stream",
     "text": [
      "CPU times: user 599 ms, sys: 137 ms, total: 736 ms\n",
      "Wall time: 3.21 s\n"
     ]
    },
    {
     "name": "stderr",
     "output_type": "stream",
     "text": [
      "\n"
     ]
    }
   ],
   "source": [
    "%%time\n",
    "create_papers()"
   ]
  },
  {
   "cell_type": "code",
   "execution_count": 12,
   "id": "f2b1b63d-35a1-4c20-ac42-7df037e2fa62",
   "metadata": {},
   "outputs": [],
   "source": [
    "def create_paper__paper_id__range_index():\n",
    "    \"\"\"\n",
    "    Create indexes\n",
    "    \"\"\"\n",
    "    query = \"\"\"\n",
    "        CREATE RANGE INDEX paper__paper_id__range_index IF NOT EXISTS\n",
    "        FOR (n:Paper)\n",
    "        ON (n.paper_id)\n",
    "    \"\"\"\n",
    "\n",
    "    execute(query)"
   ]
  },
  {
   "cell_type": "code",
   "execution_count": 13,
   "id": "68253c3d-0774-4bcf-af31-009dc4704456",
   "metadata": {},
   "outputs": [
    {
     "name": "stdout",
     "output_type": "stream",
     "text": [
      "CPU times: user 2.53 ms, sys: 1.05 ms, total: 3.58 ms\n",
      "Wall time: 4.18 ms\n"
     ]
    }
   ],
   "source": [
    "%%time\n",
    "create_paper__paper_id__range_index()"
   ]
  },
  {
   "cell_type": "markdown",
   "id": "c207fe7b-2a92-4e98-a114-aa2cc5d90dcd",
   "metadata": {},
   "source": [
    "## Authors"
   ]
  },
  {
   "cell_type": "code",
   "execution_count": 14,
   "id": "9eed0910-0e7f-4f7d-9f3e-28b6005645cc",
   "metadata": {},
   "outputs": [],
   "source": [
    "def create_authors() -> None:\n",
    "    \"\"\"\n",
    "    For each paper, generate a node with label `Author` for that paper.\n",
    "    We are using the MERGE here since we don't want to duplicate authors.\n",
    "    \"\"\"\n",
    "    for fname in tqdm(os.listdir(SEMANTIC_PATH)):\n",
    "        # print(f'Creating the authors of {fname}')\n",
    "\n",
    "        with open(f'{SEMANTIC_PATH}/{fname}') as f:\n",
    "            paper = json.loads(f.read())\n",
    "    \n",
    "        for author in paper['authors']:\n",
    "            query = f\"\"\"\n",
    "            MERGE (n:Author {{\n",
    "                name: \"{author['name']}\",\n",
    "                author_id: \"{author['authorId']}\"\n",
    "            }})\n",
    "            \"\"\"\n",
    "            execute(query)"
   ]
  },
  {
   "cell_type": "code",
   "execution_count": 15,
   "id": "8d0b397a-82c1-4a96-b40f-5e01184aa386",
   "metadata": {
    "scrolled": true
   },
   "outputs": [
    {
     "name": "stderr",
     "output_type": "stream",
     "text": [
      "100%|█████████████████████████████████████████| 739/739 [00:11<00:00, 66.94it/s]"
     ]
    },
    {
     "name": "stdout",
     "output_type": "stream",
     "text": [
      "CPU times: user 2.81 s, sys: 503 ms, total: 3.31 s\n",
      "Wall time: 11 s\n"
     ]
    },
    {
     "name": "stderr",
     "output_type": "stream",
     "text": [
      "\n"
     ]
    }
   ],
   "source": [
    "%%time\n",
    "create_authors()"
   ]
  },
  {
   "cell_type": "code",
   "execution_count": 16,
   "id": "899bd3c6-75cd-412d-9520-ad9e375c5ef4",
   "metadata": {},
   "outputs": [],
   "source": [
    "def create_author__author_id__range_index():\n",
    "    \"\"\"\n",
    "    Create indexes\n",
    "    \"\"\"\n",
    "    query = \"\"\"\n",
    "        CREATE RANGE INDEX author__author_id__range_index IF NOT EXISTS\n",
    "        FOR (n:Author)\n",
    "        ON (n.author_id)\n",
    "    \"\"\"\n",
    "\n",
    "    execute(query)"
   ]
  },
  {
   "cell_type": "code",
   "execution_count": 17,
   "id": "61b8f13b-d73a-457d-b817-fd9c778ed5cf",
   "metadata": {},
   "outputs": [
    {
     "name": "stdout",
     "output_type": "stream",
     "text": [
      "CPU times: user 2.34 ms, sys: 0 ns, total: 2.34 ms\n",
      "Wall time: 5.14 ms\n"
     ]
    }
   ],
   "source": [
    "%%time\n",
    "create_author__author_id__range_index()"
   ]
  },
  {
   "cell_type": "code",
   "execution_count": 18,
   "id": "59d01bc9-1de7-4d1a-9564-482c447f9656",
   "metadata": {},
   "outputs": [],
   "source": [
    "def link_author_to_paper() -> None:\n",
    "    \"\"\"\n",
    "    Create the edge `Wrote` and `IsCorrespondingAuthor`, linking Authors and Papers.\n",
    "    The first author is considered the corresponding author.\n",
    "    \"\"\"\n",
    "    for fname in tqdm(os.listdir(SEMANTIC_PATH)):\n",
    "        # print(f'Linking authors of file {fname}')\n",
    "\n",
    "        with open(f'{SEMANTIC_PATH}/{fname}') as f:\n",
    "            paper = json.loads(f.read())\n",
    "\n",
    "            is_first = True\n",
    "            for author in paper['authors']:\n",
    "                if is_first:\n",
    "                    # The first author is the main corresponding author.\n",
    "                    query = f\"\"\"\n",
    "                        MATCH (a:Author {{author_id: '{author['authorId']}'}})\n",
    "                        WITH a\n",
    "                        MATCH (p:Paper {{paper_id: '{paper['paperId']}'}})\n",
    "                        WITH a, p\n",
    "                        CREATE (a)-[e:IsCorrespondingAuthor]->(p);\n",
    "                    \"\"\"\n",
    "                    execute(query)\n",
    "                    is_first = False\n",
    "                \n",
    "                query = f\"\"\"\n",
    "                    MATCH (a:Author {{author_id: '{author['authorId']}'}})\n",
    "                    WITH a\n",
    "                    MATCH (p:Paper {{paper_id: '{paper['paperId']}'}})\n",
    "                    WITH a, p\n",
    "                    CREATE (a)-[e:Wrote]->(p);\n",
    "                \"\"\"\n",
    "    \n",
    "                execute(query)"
   ]
  },
  {
   "cell_type": "code",
   "execution_count": 19,
   "id": "0c2269df-3603-4720-bc1b-b8b558d216f4",
   "metadata": {
    "scrolled": true
   },
   "outputs": [
    {
     "name": "stderr",
     "output_type": "stream",
     "text": [
      "100%|█████████████████████████████████████████| 739/739 [00:26<00:00, 28.23it/s]"
     ]
    },
    {
     "name": "stdout",
     "output_type": "stream",
     "text": [
      "CPU times: user 3.12 s, sys: 545 ms, total: 3.67 s\n",
      "Wall time: 26.2 s\n"
     ]
    },
    {
     "name": "stderr",
     "output_type": "stream",
     "text": [
      "\n"
     ]
    }
   ],
   "source": [
    "%%time\n",
    "link_author_to_paper()"
   ]
  },
  {
   "cell_type": "markdown",
   "id": "e6b92fe6-2231-405c-9dbb-8e5c987bda99",
   "metadata": {},
   "source": [
    "## Citations"
   ]
  },
  {
   "cell_type": "code",
   "execution_count": 20,
   "id": "609eb7da-8a5f-497e-aa5a-ed8783e1d475",
   "metadata": {},
   "outputs": [],
   "source": [
    "def link_citations_between_papers() -> None:\n",
    "    \"\"\"\n",
    "    Generate the edge Cited linking a Paper to a Paper.\n",
    "    \"\"\"\n",
    "    for fname in tqdm(os.listdir(SEMANTIC_PATH)):\n",
    "        # print(f'Linking citations of file {fname}')\n",
    "\n",
    "        with open(f'{SEMANTIC_PATH}/{fname}') as f:\n",
    "            paper = json.loads(f.read())\n",
    "\n",
    "        for citation in paper.get('citations', []):\n",
    "            query = f\"\"\"\n",
    "                MATCH (a:Paper {{paper_id: '{citation['paperId']}'}}), (p:Paper {{paper_id: '{paper['paperId']}'}})\n",
    "                CREATE (a)-[e:Cites]->(p);\n",
    "            \"\"\"\n",
    "            execute(query)"
   ]
  },
  {
   "cell_type": "code",
   "execution_count": 21,
   "id": "fca91a16-15aa-40da-b486-e4b0334d7151",
   "metadata": {
    "scrolled": true
   },
   "outputs": [
    {
     "name": "stderr",
     "output_type": "stream",
     "text": [
      "100%|█████████████████████████████████████████| 739/739 [01:12<00:00, 10.15it/s]"
     ]
    },
    {
     "name": "stdout",
     "output_type": "stream",
     "text": [
      "CPU times: user 10.9 s, sys: 1.72 s, total: 12.7 s\n",
      "Wall time: 1min 12s\n"
     ]
    },
    {
     "name": "stderr",
     "output_type": "stream",
     "text": [
      "\n"
     ]
    }
   ],
   "source": [
    "%%time\n",
    "link_citations_between_papers()"
   ]
  },
  {
   "cell_type": "markdown",
   "id": "6b2be030-c1a2-4d8c-aff0-083cfefa0d28",
   "metadata": {},
   "source": [
    "# Journals"
   ]
  },
  {
   "cell_type": "code",
   "execution_count": 1,
   "id": "4e3b29ae-7605-43f0-959f-10ffc1af463d",
   "metadata": {},
   "outputs": [],
   "source": [
    "def create_journals()->None:\n",
    "    for fname in os.listdir(SEMANTIC_PATH):\n",
    "        print(f'Creating papers of file {fname}')\n",
    "\n",
    "        with open(f'{SEMANTIC_PATH}/{fname}') as f:\n",
    "            paper = json.loads(f.read())\n",
    "            query = f\"\"\"\n",
    "            MERGE (n:Journal {{\n",
    "                year: \"{paper['year']}\",\n",
    "                journal_name: \"{parse_journal_name(paper)}\"\n",
    "                \n",
    "            }})\n",
    "            \"\"\"\n",
    "        execute(query)"
   ]
  },
  {
   "cell_type": "code",
   "execution_count": null,
   "id": "07fc0539-6f21-4686-b7cc-7104040e7075",
   "metadata": {},
   "outputs": [],
   "source": [
    "%%time\n",
    "create_journals()"
   ]
  },
  {
   "cell_type": "code",
   "execution_count": null,
   "id": "360fffe6-14b3-4332-9c48-657a67e85a7d",
   "metadata": {},
   "outputs": [],
   "source": [
    "def link_journals()-> None:\n",
    "    for fname in os.listdir(SEMANTIC_PATH):\n",
    "        print(f'Linking journal of file {fname}')\n",
    "\n",
    "        with open(f'{SEMANTIC_PATH}/{fname}') as f:\n",
    "            paper = json.loads(f.read())\n",
    "            \n",
    "            query = f\"\"\"\n",
    "                    MATCH (p:Paper {{paper_id: '{paper['paperId']}'}})\n",
    "                    WITH p\n",
    "                    MATCH (j:Journal {{journal_name: '{parse_journal_name(paper)}'}})\n",
    "                    WITH p, j\n",
    "                    CREATE (p)-[e:publishedin]->(j);\"\"\"\n",
    "            execute(query)"
   ]
  },
  {
   "cell_type": "code",
   "execution_count": null,
   "id": "409cee37-b038-478b-917c-d37309951b49",
   "metadata": {},
   "outputs": [],
   "source": [
    "%%time\n",
    "link_journals()"
   ]
  },
  {
   "cell_type": "markdown",
   "id": "a3a9bb43-13d4-41bf-b65f-e4c25b2298c1",
   "metadata": {},
   "source": [
    "## Reviews"
   ]
  },
  {
   "cell_type": "markdown",
   "id": "51fac118-ed4b-4ae9-ab56-f5bbb51486e5",
   "metadata": {},
   "source": [
    "We will have to generate synthetic data here to represent the reviews.\n",
    "\n",
    "Typically, each paper has 3 reviewers, who are usually relevant authors.\n",
    "The author cannot review its own paper.\n",
    "\n",
    "The strategy that we will be using is to select up to 3 authors who:\n",
    "1. wrote papers cited by the paper in question; and\n",
    "2. didn't wrote the paper itself."
   ]
  },
  {
   "cell_type": "code",
   "execution_count": 22,
   "id": "4fbfc534-d873-4187-9a4f-777b47547642",
   "metadata": {},
   "outputs": [],
   "source": [
    "def get_possible_reviewers():\n",
    "    \"\"\"\n",
    "    Auxiliary function that returns an aggregation of all possible reviewers of a paper.\n",
    "    The logic of a \"possible reviewer\" is to select an author who:\n",
    "    1. wrote paper(s) cited by the paper in question; and who\n",
    "    2. didn't wrote the paper itself.\n",
    "    \"\"\"\n",
    "    query = \"\"\"\n",
    "        MATCH (a:Author)-[w1:Wrote]->(mp:Paper)-[c:Cites]->(cp:Paper)\n",
    "        WITH mp, cp, a\n",
    "        MATCH (wcp:Author)-[w2:Wrote]->(cp)\n",
    "        WHERE NOT (wcp)-[:Wrote]->(mp)\n",
    "        RETURN mp.paper_id AS paper_id, collect(wcp.author_id) AS possible_reviewer_ids;\n",
    "    \"\"\"\n",
    "\n",
    "    return execute(query)"
   ]
  },
  {
   "cell_type": "code",
   "execution_count": 23,
   "id": "3faf49c7-f01b-46cf-81c3-cf0545721bcc",
   "metadata": {
    "scrolled": true
   },
   "outputs": [
    {
     "name": "stderr",
     "output_type": "stream",
     "text": [
      "100%|█████████████████████████████████████████| 736/736 [00:09<00:00, 80.58it/s]\n"
     ]
    }
   ],
   "source": [
    "def link_reviewer_to_paper() -> None:\n",
    "    \"\"\"\n",
    "    This function generates synthetic data.\n",
    "    \"\"\"\n",
    "    result = get_possible_reviewers()\n",
    "    \n",
    "    for paper_id, possible_reviewers in tqdm(result[0]):\n",
    "        # Papers can have a different amount of reviewers, varying from 1 to 4, following the distribution specified by `p`.\n",
    "        # Edge case: If the paper doesn't cite any other paper, it will have 0 reviewers.\n",
    "        reviewer_qty = min(\n",
    "            np.random.choice(np.arange(1, 5), p=[0.1, 0.3, 0.5, 0.1]),\n",
    "            len(possible_reviewers)\n",
    "        )\n",
    "\n",
    "        reviewers = random.sample(possible_reviewers, reviewer_qty)\n",
    "        for reviewer in reviewers:\n",
    "            query = f\"\"\"\n",
    "                MATCH (a:Author {{author_id: '{reviewer}'}}), (p:Paper {{paper_id: '{paper_id}'}})\n",
    "                CREATE (a)-[e:Reviewed]->(p);\n",
    "            \"\"\"\n",
    "\n",
    "            execute(query)\n",
    "\n",
    "link_reviewer_to_paper()"
   ]
  },
  {
   "cell_type": "markdown",
   "id": "98c65ced-2650-4bc8-ad33-a25cea0c84ee",
   "metadata": {},
   "source": [
    "## Keywords"
   ]
  },
  {
   "cell_type": "markdown",
   "id": "fa9c65dd-07e4-4383-8daf-318b8ad3beb5",
   "metadata": {},
   "source": [
    "# Querying"
   ]
  },
  {
   "cell_type": "markdown",
   "id": "053eac31-cebf-4bf8-833f-88f107bdae1e",
   "metadata": {},
   "source": [
    "<b>Query 1 \n",
    "<p>Find the top 3 most cited papers of each conference.</span>\n",
    "<p>MATCH (p:Paper)-[:cited]->(cited:Paper)\n",
    "WITH p.journal_name AS journal, p.title AS title, COUNT(*) AS num_citations\n",
    "ORDER BY journal, num_citations DESC\n",
    "WITH journal, COLLECT({title: title, num_citations: num_citations}) AS papers\n",
    "WITH journal, papers, [i IN RANGE(1, SIZE(papers)) | i] AS ranks\n",
    "UNWIND ranks AS rank\n",
    "WITH journal, papers[rank - 1].title AS title, papers[rank - 1].num_citations AS num_citations, rank\n",
    "WHERE rank <= 3\n",
    "RETURN journal, title, num_citations, rank\n",
    "ORDER BY journal, rank\n",
    "<p><b>Manually Test</b>\n",
    "<p>MATCH (p:Paper)-[c:cited]->(cited:Paper)\n",
    "WITH p.journal_name AS journal, p.title AS title, COUNT(c) AS num_citations\n",
    "WHERE journal = '2014 IEEE International Conference on Big Data (Big Data)'\n",
    "RETURN journal, title, num_citations\n",
    "ORDER BY num_citations DESC\n"
   ]
  },
  {
   "cell_type": "markdown",
   "id": "27a2e050-cba7-4315-a498-83ad406792a6",
   "metadata": {},
   "source": [
    "<b>Query 4\n",
    "<p> Find the h-indexes of the authors in your graph\n",
    "\n",
    "<p>MATCH (a:Author)-[:Wrote]->(p:Paper)-[:cited]->(cited:Paper)\n",
    "WITH a, p, COUNT(*) AS num_citations\n",
    "ORDER BY num_citations DESC\n",
    "WITH a, COLLECT(num_citations) AS citation_counts\n",
    "WITH a, [i IN RANGE(1, SIZE(citation_counts)) | CASE WHEN citation_counts[i - 1] >= i THEN i ELSE 0 END] AS h_values\n",
    "WITH a, MAX(h_values) AS h_index\n",
    "WITH a, MAX(REDUCE(s = 0, h IN h_index | CASE WHEN h > s THEN h ELSE s END)) AS max_h_index\n",
    "RETURN a.author_id AS author_id, a.name AS author_name, max_h_index\n",
    "</p>\n",
    "\n",
    "<b>Manually test\n",
    "<p>MATCH (a:Author)-[:Wrote]->(p:Paper)-[:cited]->(cited:Paper)\n",
    "WITH a, p, COUNT(*) AS num_citations\n",
    "ORDER BY num_citations DESC\n",
    "WHERE a.name = 'M. Mokbel'\n",
    "return a.name, p.title, num_citations</p>"
   ]
  },
  {
   "cell_type": "markdown",
   "id": "938604e0-2137-4957-ab31-7b6587f2e7b1",
   "metadata": {},
   "source": [
    "# TODO"
   ]
  },
  {
   "cell_type": "markdown",
   "id": "651fb60b-9262-4899-a13a-de8fc29814e6",
   "metadata": {},
   "source": [
    "- [ ] Add the abstract of the paper;"
   ]
  },
  {
   "cell_type": "code",
   "execution_count": null,
   "id": "9b4fc737-224b-4a4a-8856-05d8e3d1faa4",
   "metadata": {},
   "outputs": [],
   "source": []
  }
 ],
 "metadata": {
  "kernelspec": {
   "display_name": "Python 3 (ipykernel)",
   "language": "python",
   "name": "python3"
  },
  "language_info": {
   "codemirror_mode": {
    "name": "ipython",
    "version": 3
   },
   "file_extension": ".py",
   "mimetype": "text/x-python",
   "name": "python",
   "nbconvert_exporter": "python",
   "pygments_lexer": "ipython3",
   "version": "3.11.5"
  }
 },
 "nbformat": 4,
 "nbformat_minor": 5
}

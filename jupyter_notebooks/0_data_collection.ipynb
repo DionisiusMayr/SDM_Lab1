{
 "cells": [
  {
   "cell_type": "code",
   "execution_count": 1,
   "id": "e3f6f16f-5914-4a0f-b213-2ebe62140461",
   "metadata": {},
   "outputs": [],
   "source": [
    "import requests\n",
    "import time\n",
    "import os\n",
    "import json\n",
    "from typing import List\n",
    "from tqdm import tqdm"
   ]
  },
  {
   "cell_type": "code",
   "execution_count": 2,
   "id": "444d8a36-7582-4b34-a6ed-2697302e0cc6",
   "metadata": {},
   "outputs": [],
   "source": [
    "SLEEP_BETWEEN_REQUESTS = 1\n",
    "SEMANTIC_PATH = '../semanticscholar_raw_data'\n",
    "S2_API_KEY = os.environ.get('S2_API_KEY', '')"
   ]
  },
  {
   "cell_type": "code",
   "execution_count": 3,
   "id": "234c77fc-0e53-494e-848d-9ee562637152",
   "metadata": {},
   "outputs": [],
   "source": [
    "# paper_id = 'CorpusId:258959144'"
   ]
  },
  {
   "cell_type": "code",
   "execution_count": 4,
   "id": "8b851e81-276e-4c4f-b2e5-4a0c3bd681bd",
   "metadata": {},
   "outputs": [],
   "source": [
    "FIELDS = ','.join([\n",
    "    'paperId',\n",
    "    'title',\n",
    "    'venue',\n",
    "    'publicationVenue',\n",
    "    'year',\n",
    "    'authors',\n",
    "    'fieldsOfStudy',\n",
    "    'publicationTypes',\n",
    "    'publicationDate',\n",
    "    'journal',\n",
    "    'citations',\n",
    "    'abstract'\n",
    "])"
   ]
  },
  {
   "cell_type": "code",
   "execution_count": 5,
   "id": "67357d3e-da2e-4333-ace6-c02d4cf2a043",
   "metadata": {},
   "outputs": [],
   "source": [
    "PAYLOAD = {'fields': FIELDS, 'X-API-KEY': S2_API_KEY}"
   ]
  },
  {
   "cell_type": "code",
   "execution_count": 6,
   "id": "f62fc0db-dfb2-4479-9f7a-3e5e33b0a3fc",
   "metadata": {},
   "outputs": [],
   "source": [
    "if not os.path.exists(SEMANTIC_PATH):\n",
    "    os.mkdir(SEMANTIC_PATH)"
   ]
  },
  {
   "cell_type": "code",
   "execution_count": 7,
   "id": "0e3115b1-f26a-4b58-a99d-3dc06da34979",
   "metadata": {},
   "outputs": [],
   "source": [
    "def cache_request(paper_id: str) -> int:\n",
    "    \"\"\"\n",
    "    This function checks if @paper_id has already been requested and stored in disk.\n",
    "    If it has not been requested yet, it will request it and store it in disk if the status code is successful.\n",
    "    It returns the status code of the request.\n",
    "    \"\"\"\n",
    "    path = f'{SEMANTIC_PATH}/{paper_id}.json'\n",
    "    if not os.path.exists(path):\n",
    "        time.sleep(SLEEP_BETWEEN_REQUESTS)\n",
    "        url = f'https://api.semanticscholar.org/graph/v1/paper/{paper_id}'\n",
    "        r = requests.get(url, params=PAYLOAD)\n",
    "\n",
    "        if r.status_code == 200:\n",
    "            # print(f\"Got paper {paper_id}\")\n",
    "            with open(path, 'w') as f:\n",
    "                f.write(r.text)\n",
    "        else:\n",
    "            print(f\"Fail: status code {r.status_code} paper_id {paper_id}\")\n",
    "\n",
    "        return r.status_code\n",
    "    else:\n",
    "        # print(f\"{paper_id} already in disk\")\n",
    "        return 0  # \"Status code\" for file already in disk."
   ]
  },
  {
   "cell_type": "code",
   "execution_count": 8,
   "id": "685c49ff-30d3-427c-b4be-83ee0d57c024",
   "metadata": {},
   "outputs": [
    {
     "data": {
      "text/plain": [
       "0"
      ]
     },
     "execution_count": 8,
     "metadata": {},
     "output_type": "execute_result"
    }
   ],
   "source": [
    "# This is the Hive paper\n",
    "paper_id = '19a22753a1ef61c2bd19e97961f8ed1b5a073c2c'\n",
    "cache_request(paper_id)"
   ]
  },
  {
   "cell_type": "code",
   "execution_count": 9,
   "id": "b381474f-6719-4f94-9699-f7051e455323",
   "metadata": {
    "scrolled": true
   },
   "outputs": [],
   "source": [
    "def visit_cited_papers() -> List[str]:\n",
    "    \"\"\"\n",
    "    Returns a list of paper_id's that were cited by any of the papers in `SEMANTIC_PATH`.\n",
    "    \"\"\"\n",
    "    cited = []\n",
    "    for fname in os.listdir(SEMANTIC_PATH):\n",
    "        with open(f'{SEMANTIC_PATH}/{fname}') as f:\n",
    "            paper = json.loads(f.read())\n",
    "    \n",
    "        for citation in paper.get('citations', []):\n",
    "            cited.append(citation['paperId'])\n",
    "\n",
    "    return cited"
   ]
  },
  {
   "cell_type": "code",
   "execution_count": 10,
   "id": "e6c53f63-a91a-4b76-ac5a-798fac83a40b",
   "metadata": {
    "scrolled": true
   },
   "outputs": [
    {
     "data": {
      "text/plain": [
       "['9b85d3b3307ac97e0ba48f622e80b4b12a0bb84d',\n",
       " '79ac5846e984c19400cb4a05fe6299cef2aed49a',\n",
       " '3071316ec436cf5db8e5dfd327c0bb31b90ed19b',\n",
       " '279b48e6f14e28ba685a8c01dd44e22017112019',\n",
       " '3a40cc4443916381a994305ad22582d692bd5c06',\n",
       " '5ea093d67c8c2e5ad5bba0b4c443a5147230bf8a',\n",
       " '4c565890c7bb0cd0b852dd62237fa8ae6a49242c',\n",
       " 'e6ba5f5a7f9fa56ef4cb55cf17c5850dfcc73419',\n",
       " '18348ec40d78c8b9bfb3c7d10b4b5a1cb16586d8',\n",
       " '1db04857e49b12fb0bc0d0d3c02e52d191b89ae4',\n",
       " 'c7b590dcc6012f14c616fb5a2d61538933b67403',\n",
       " 'ff9813e42465510374ee7923a9b2c26fd993a966',\n",
       " 'c28cb52a0be1ff70c002c33d6c1a6e95be45ce81',\n",
       " 'a7e23764b67955950194c64722e4b1adef63d4fd',\n",
       " '701da93036fc422bd1885753857a487c8052ef9e',\n",
       " '4b78ea6c594a03b8ee91073720125f721b5e260e',\n",
       " '21ade5ffa0391f7a445cc352d9aea5fb26bf05af',\n",
       " '0bae0651fe084a2387d73fd0f9c6a8140e197151',\n",
       " 'f6f79d50f4c4ada76faa05d504ad48722d7b1db4',\n",
       " '46bbf1c1efe07655d33d95fee4b7097237b55d1e',\n",
       " 'b54dfa6cb540c4d9bc4b13673b39a1af9480c1fe',\n",
       " '5fbfff904f36096bc772c743bfd19a9160a464cf',\n",
       " 'eccb5456ac7ae13435e211649b6e45eb2d553a79',\n",
       " 'bb5daa5f6070e36c3d8efcef586bda14265d201a',\n",
       " '860cfc60a834bcb1e7097f50443aaa700ac0f615',\n",
       " '1ebeb7e79c9525f8b078e304dd386c8a5ac43871',\n",
       " 'e8f578b5b022333489758b47025a1edbd36dc94a',\n",
       " 'c9b6448e78cef885db60341922564f5e5063751b',\n",
       " '76a57bec29a8e7cfa63cbc7e01efd5a97f5a378a',\n",
       " 'e53b8c599708357ad502859dd0d068385955387c',\n",
       " '782fb765ee18108b3da4c8b672a62febc1f3edc6',\n",
       " '87dc61d3a9bda20a5470b99d1cf21953f7346ac5',\n",
       " 'cb83283aba5e71a3207713fe91c87908141221f6',\n",
       " '799d5a8271887adede035644d878c7bd555576df',\n",
       " '405e258f49e75a6820f337528caca38273a5671c',\n",
       " '39ad1126826b599c3827396fecdf9d6539c8beed',\n",
       " '1a6a71d38512f60db520646487fa2046f7867203',\n",
       " 'fb49ad3e2eecc5df77917761223df2b8e286dced',\n",
       " '9e1ebbf969d9b016493f9bb470906b565e9630fa',\n",
       " '8cecfd0a55b2b2b1d20e1104378ff1a5e5ead801',\n",
       " 'c1fdfcd4470c65aa1238d3a1719c60672c8a4f5b',\n",
       " '1051abf1e3dae90241ad15b3f98f2e41197ee611',\n",
       " '24fb6845be71b9f4d37b574670b15b64ef638ff6',\n",
       " 'ce37aec8464e6f55cd567172d149719da95a1b86',\n",
       " '1730001220d2aa1dd0bb6b4dae80b2adb8ed9cf7',\n",
       " '8cc1a554e799ed2a51d259130745be253ccd8eda',\n",
       " 'd68ff1fdba49d5cd6888794f6216c72f98072c6e',\n",
       " '287ef7598fd902e2dc1e090a43283da35300460e',\n",
       " '52277b9e877e45967e9c9d0e115cd916f0c757c8',\n",
       " '2c859754f05887fc03765a893e39f231fa7912b8',\n",
       " '9dde49c2fd168fe7c74942e222667da75319c365',\n",
       " '505a111eb7b8c1e82289d40d4faef2d323d725f6',\n",
       " 'db4752eb75f948e23a7666bcaee3975c402f5789',\n",
       " '3d7dade66cffceaabd4624065becdfa25876f137',\n",
       " 'f824983e92dab0ee940c8d77bb409c2ae053f362',\n",
       " '5aee8865fb79fda96df7ba37f2597af727e1a9a5',\n",
       " '6c619aa81df5335437bef3db194a8c0debeeb30d',\n",
       " 'aa7911cd6fccf70e50b1328c2208c0e15296665d',\n",
       " '41aa852d750c6647e61e95097361bcea451fcd4f',\n",
       " 'd26a96a88748dad20bf5ebf71551655e4ca91849',\n",
       " '88a30d7676108ecafcd8a85c2c60b3d5d1fbde50',\n",
       " '1d871ce98e8d572cc16aab38ba1c980ace5e3551',\n",
       " '7fe5e23fffb189ce45659abe414d70bd770ed878',\n",
       " '1055fcec1bd8d8515372a897eab665bb5e8d176a',\n",
       " 'e43a323e57d9c2886b3f75846cc5b03b1e615527',\n",
       " '177d76faa7081c5ed87614777b4a1bc55441a814',\n",
       " '543aaa8400c2db06e17476bac72669d9bb8e24a4',\n",
       " 'b36bd37b93106c72a8c0584257c19d8f12b4edfa',\n",
       " '1dae31a071329c7c1f1f604ec28613b57e633b00',\n",
       " '79978f7faf4864db35bf87c192b838ed61d13b08',\n",
       " 'f08872ea575b547e687df3a14347dbc147a98ef9',\n",
       " 'bc963dcdf9994e46a8ce113be851bdffb4c66a4d',\n",
       " 'f4d67c9752d40c089b7312780cc53dbd86689db0',\n",
       " '98e6c589a1a5648e8851c3567320709351d7cd73',\n",
       " '2d058447fe3fb3384c213de0399c2610ce3cb2b2',\n",
       " '70afbf5476f79bc57710502364977fc8bd19d153',\n",
       " 'fc10b975239678f6e67de7b7bf83979c1c338b3a',\n",
       " 'a33814b7425c2e6bd503840d203b817a7dd962ba',\n",
       " '31da2244533fd583ffb98362c8d3547443857d78',\n",
       " '15a3e97222d98feb0e621f6bd08501653ffb9160',\n",
       " '1833aa5b71f46907a333714f4a4256e1e2cf2206',\n",
       " 'fee3d430e522aee1ce22885795cbba0adc25d1b8',\n",
       " 'd12fdd94bba025f919cdf5b4fa2daef9ae3f8331',\n",
       " '7e555856fc97b669379b0989a8c50097e4f607ed',\n",
       " 'fd7e17b22037caf16e46a4cd9c8ba62930d66d5a',\n",
       " '34582a98281ebacd189768a8762d6076260a8285',\n",
       " '8221357325c0ea1cc45c825e264a77ba220d2f83',\n",
       " '96f5938a6a01693168b8858c8ab5f0787d98b7f7',\n",
       " '2b1ab5326f39f26a05ab433b30434276bc04f2d0',\n",
       " '6121fb3e393597e02481a516f0035f06ec9a5836',\n",
       " '02bfacb2562c6766a21f6f990195fb35a3b999f7',\n",
       " 'e0a7de219b4621495b91f98dd2bd588279e899ac',\n",
       " '6a8da14088bd38ded1bc0fd795bf82573a43c539',\n",
       " '242dbbef9e7f624525c57645f193e0b13a90ad44',\n",
       " '07a11d8d3ca3903974a3ca143cba5dba50322639',\n",
       " '5a6b10872fb5fb178b4b3643e608d52a11f072dd',\n",
       " '1ff51a6f923f6451fd25af35f9b4723c539febd8',\n",
       " '00547fcffcd9dc46b863e3390d1ac6fd9e7f48fb',\n",
       " 'b98a270d83e6a4d20542f8709a5f7f27391462b3',\n",
       " '5db3257a61d86f302767ae1f21d6fd30567f12e5',\n",
       " '1bd8cb97f207dee598c54ea40fd65b3ab7c140d5',\n",
       " '26935c7ac8f989157e647fec07e9d9df77150bb2',\n",
       " '51fe44efd3628fed2eccc23bcb4d905af7e36511',\n",
       " '2032aa3ea996e32b45890e9d5bfae4638af2b3cc',\n",
       " '51fff8dc8af70c8d45c6df93a4b5b3444f27c23c',\n",
       " '2b5602e65b413a0123fc024337122733e38cc7bb',\n",
       " 'a87af8ec4686bd8fb9594271c3348a8a6ba57aa9',\n",
       " '0107b93a2ffb0f4fc9ceea6340f4b75f07e351a8',\n",
       " '3308709248acfc9725da739ebdacf8e4ee10a9f5',\n",
       " 'aafc2c50a03651f6051bfb7cfcc3ce04d2151772',\n",
       " '3cbd30688b0b1a297a1a26d143b9523a45cbea21',\n",
       " 'a1d09f5caf9a4daa39dd20bc5fbcbb151abbdcde',\n",
       " '05e1a700ea853a52b30331748d4ba7fc538d9d43',\n",
       " 'c556bb448d681514af585c357d6fd98287d3e5f2',\n",
       " '27387572208cf777fb2c55db8880dd5407d0e779',\n",
       " 'c133816f3ead6e4b0f17cfb946bddd05a3f389e5',\n",
       " 'e363c4346232d25131cede327c8f3e8733c7eed5',\n",
       " '46ee81606e9c9cbcc73f3534df6d72df0a0ae542',\n",
       " '47cbefb68fddfb28b06e11e211938a819720b2b1',\n",
       " '9d10eac7b7a9010c27c8e55d33694a94c678b2a4',\n",
       " '2ab32aa661c4e2168b59b3a5591dccaf74ed2d7a',\n",
       " '9911f321e39910431a67e29e5af955b0265dd54c',\n",
       " '52050fc14b3c3257690b3d1ee1284c91068c6d24',\n",
       " '4f23232d1eb26f2d75b65d9efe22bbcd63eb20d4',\n",
       " 'e54c404089e5591c53b448c0046bd72caa14aa47',\n",
       " 'f13f014f51dd425661e3202067c5ef5052fe4d6a',\n",
       " 'cc3cb6b0ea04eb35c1907e3917a4db4b435c95b1',\n",
       " '279b3d7c2aa0506fcf7c8e0a8fabe1e28100ad58',\n",
       " '71ae3a943f58b123ab34a4302d48d354c2879b93',\n",
       " '04315fbe6554edc9b5d76c99f64b8d1a6f26f7af',\n",
       " 'bc9063c31086b497b68d3bc44311a1de0cd3739f',\n",
       " 'b2c39ec09efe8ee00766c80415c591fc869df5a3',\n",
       " 'af67486a4546f309a84a96e288e9be6aca1f9013',\n",
       " '00309b5b1fa392c3eead280c4483ff9d7dda7616',\n",
       " 'da9018bb497909a0c676dbafb4f4ee36401e031d',\n",
       " '9ba542a8bb010f99aa772c71049729f473684450',\n",
       " '56b597a0b3adf8ebe83bac08b4d6d77bd5164c81',\n",
       " 'e3e8cf1f8d5f7f4f9fd6a0409e2a6fe7f0e28778',\n",
       " 'ebc6bbcce1673dc814e42b56f36a0056ee5e2f29',\n",
       " '59dad43d9b946b1fa3d4833579642f1725298ff5',\n",
       " 'a013c498b400a5f8c7593068a90a30a259a4e565',\n",
       " 'accd3131c9c5b96ba92663f28e6c05dec34d111c',\n",
       " '8e00277d353b59e90190344c5c64a7e4b1ad8d2d',\n",
       " '416fc25f446ea1cba804325944f3f26aa13c3219',\n",
       " 'a27772e0dfcbc38d81a1dfd098a7cd5eebee7d34',\n",
       " '423d041626cc83ac610a909d59ea89185d78736f',\n",
       " 'db23ac2c318b1ae1ec6be149f677441b0b1a9c8c',\n",
       " '0298be1c904296b8d85bc771c64337ca2adbf519',\n",
       " '90dcdf8f53c6e988c065112be7de09dfc04ec67f',\n",
       " 'a4260807cf0147f608451feb153ec72f625e0a49',\n",
       " 'c2d7e74af1463ab8879bb7ac2df770a33badaac6',\n",
       " 'ef92be238fda1ddd58932775fb08bcc9f19aafeb',\n",
       " 'f999d04824df9e6b2f125c02039884aa4ccf4702',\n",
       " 'cb2a60a1367a017043a5e3d55114ba51c35dab7e',\n",
       " 'c3acc9fd01af3f2df1d31a1d1cc742f0a105d656',\n",
       " '2a421f952f1972f6e2da185c60a3d116601d68e8',\n",
       " '5f55813248e67d189689752ff04d733d20c30a6a',\n",
       " '04b58240f67a6495c46b4874a9521806ab15003d',\n",
       " '81c3f39258d9cee8a9289f71341f12f5f4b01716',\n",
       " 'c262df730ed671d77d3a25615965341464116eae',\n",
       " 'f8601d4cea8d0d4d7e6fba5643843a945292db32',\n",
       " '958a7bfd8cd1f94684bfaea825e8e3f67e948a1b',\n",
       " '1e0922720fb12069bbb6bbb8b49f096eece9fb87',\n",
       " 'f0c335cc7d8ecc7b6b0ee1a5516e32df658b1f35',\n",
       " '3b22b31afe9e19f0360c6db9b9bce995bdc1d4fd',\n",
       " '56b04b587b38ec39bcd6f8a175d7b87f25512ce9',\n",
       " '8430997d1f1a3c6f99e517004f88d4d1ac4869c5',\n",
       " 'ecceaf2cb9419e90b164b3d634824b699927ca91',\n",
       " '80009aff443ba823c4586e2608f9f87424df3e0e',\n",
       " 'f7652d7225543d891d3d5a6318925a5a481618ca',\n",
       " '70d71af0705a484928fd9b8189ca331b57c8d188',\n",
       " 'e8b725c49e18a28bbdad9f1623f176b32b9e52d0',\n",
       " '11fa69602e876870a5281157a1415368c8033dd2',\n",
       " '476124d8221f9ea7b1272e8daca4f92f59c1409f',\n",
       " '2bd5aaf20b65cefe742b2ec86ca7c9b9061c836a',\n",
       " '60ba359fccf0cbe952931fb8cb132035f0313198',\n",
       " '742b584c6a15daff95198b56dafd3eeb75f33722',\n",
       " 'f4b1c42e55a84ed565fce6cfb6712d334dcb38ed',\n",
       " '830eae09b31371a0c0cbe42f100450b0fb6837c6',\n",
       " 'fc1633d6d3f4ea034f839e889a58fbd46edb3b61',\n",
       " '94380e72ff9f4e319b4f192412db1dd1388ae804',\n",
       " 'bb2116bac9257c34f9f99e2a952139a2d4bb00b8',\n",
       " '48d6af19e4decc315843e9fe62ff8655a31d6281',\n",
       " '41bc129af613d532053cd834bb394dcf4a2d8743',\n",
       " '3c580b5ffd611098edaaacdd921759705f9ebffa',\n",
       " 'f90393cef0ce3b4653ce8519fd4d97e1fe6b8a62',\n",
       " '1a98026464a69d5cf120e59e4ed09a8122c4a156',\n",
       " '423cfc9d5f61e1deca43b5a82d1d503c4ddf339e',\n",
       " '9fa364d966f4ef8231ff5d67bc03949fb178381f',\n",
       " '017ed88c7a7f4d72319bcf5821b591b694fd23f7',\n",
       " '52a02a99c5bb79a7e4ebddd8fa9867e22aff6c97',\n",
       " '8e6e1c70b9d505a4d35c5a67db4b400f6e51f3aa',\n",
       " '232be7f0e591d30dfa081e2800ff8728636660a2',\n",
       " '150c8db66022a7211f7f44c8c909bc6855ffdaa0',\n",
       " 'ce71be82ff41e0849f09cf337faa943989dd9c08',\n",
       " '7b03b28e7a7ad5328f1147a98a06ebcb7cb4f541',\n",
       " '42398f605f3f4d3b6a2014baddf08308e5b5958c',\n",
       " 'fefdd694006cbb4f8dc82d11008d20caaebd6e97',\n",
       " 'a4d4ff654e50547105692b211291ea89b5760d2d',\n",
       " 'e7b9f75e088372bf5cfb50ca00d548e7b6946d2a',\n",
       " 'e5a1d2a4622bef28ea2936efce2de78230e1d53a',\n",
       " 'd0055875a633413b7029a710fcb1e82874990880',\n",
       " 'f6c4ab71098b36124ced28f9adb01998a3bebbb8',\n",
       " 'df49485b692986e67a74da78f62d1f87c8b5824f',\n",
       " '3414d38cbfe6649bf6210015e61bcf4ee04bdac2',\n",
       " 'd74f2d67ab3b45a12f44e199dfa8ad874d8db6d5',\n",
       " 'bdba72a6344bcb312fa8f8b9dee0e7d70066d796',\n",
       " '979849b70905b4a6c6ab191b457c44e5cc3fb6d2',\n",
       " '6106c4c13d6d935e22a30b0c2f00882007966648',\n",
       " 'e09449eb024f797b5b8150f941409b8fd330c574',\n",
       " '52a8f8612a6e40ca4e66b52f4c2b21d46c32092b',\n",
       " 'c8b7cb88edd20d8512bd95df8397ee5745db1fbf',\n",
       " '5559efe1dfe522bec64133f79652ebf926d94387',\n",
       " 'baeabbd0b0cf14de63782b4093dd8f63763f6e8c',\n",
       " '5f6e20eef611ea5257db246a8cac11cce344e241',\n",
       " '0cb1408a191e23da467e7d46a7a99a2c86bcc439',\n",
       " '45622c2438ae345dd699cb80c452ebccb4af55d8',\n",
       " '9769ad995432f967c8fb8eee8beb9a6df3dc187a',\n",
       " '812a350b59d22beef4df4c3c56d0d346061c750d',\n",
       " 'bc46cc5a88b8eb09ffdb60cbf9136204b6b6c55a',\n",
       " 'c4a6b2feb4c5b0fcabf37e1b2ef1dbbb867e32b8',\n",
       " '5b61348e696a872a453e5c64901514350f07d14a',\n",
       " '9d11391c6d0480b74151cf2236593b9a71c6f812',\n",
       " 'a6eea17d2e2a3a39bf0dbe39c95be629e65c0710',\n",
       " 'b3f3d47e91103f0c1df21ca600f8aac093bc86e8',\n",
       " '79bb025077b46d4f1340ea46084532fdb5e650de',\n",
       " 'd39702c97d95f26acf316364b177cf225c49cf97',\n",
       " '80b08e036bc1b57ad3796db8253c123ec5e8df38',\n",
       " '69ef5235dbc515a4251a51a02d5eade14a81c6f7',\n",
       " 'def7a8db4f1028982fc6398ba82c20b84083b1a4',\n",
       " '7cb89eb72fdda9033f72d24fc691fbd841b06d50',\n",
       " '1d0232fb7d4323ce02e9aa3e4d62241e5503594d',\n",
       " '3c3efe9a4f629bf1cd535c2e87bf457fad1e1088',\n",
       " 'ab0abbdbf33a793849ca7af004724dbafadb8e41',\n",
       " '209ce2c3f0ce5eb442dc8533ad4b9c73e78aa506',\n",
       " 'f2def29fa9e941b20b80290ec67611ace3ea1217',\n",
       " '7455916f66f980649e46b5b9020d1f2838b51d34',\n",
       " '0ba976983e45db6057165596018edc2db18fa288',\n",
       " 'bf1c79b57ab3398ba7a576ad78e64fef7b658ca9',\n",
       " '0085607ab691730ce4aa6ebde1dbfc8bc8a1ae49',\n",
       " '0b30a79fc41c2ad64e49a6172b74f153d4c8fba9',\n",
       " 'a659630e4fc4fde45c8c88ed2981e237e811b66f',\n",
       " '90bbba3f34b58d777050426edbbc5060f20a13c2',\n",
       " '2e99e3956edd0fd1219144faae56ce6a5448c952',\n",
       " '3d974a54d70edc2449fc88ee9f69f0ec8b4ecb99',\n",
       " '0bc3c0f4d11ab16bdb1a715f8d95844aa55f9cb3',\n",
       " '904b9f6b2886a9f829d764928333ed9ef035c6b5',\n",
       " '6dbf11e595bf91eec3e82ca32e8511fbaee5e0ce',\n",
       " '6e55491af14c3685f894f6ca3b0031811524380f',\n",
       " '6259ad4d0992252b72b0e6af0d19b03ddcba6d9e',\n",
       " '38ff3a01e30d2244d9439d3c7c68533e195310fb',\n",
       " '0d2b32f8aec73f09a2d5d1e2f77b2e941ebf7002',\n",
       " '564b5b241d60e76ed5fd7fbff972840880bdd0a0',\n",
       " '1cd0a36db369abdf152e5007b47e2ca3eaebde0c',\n",
       " 'cd6d13ed496b0083698681f07c39e030d4a95081',\n",
       " '024c9e9327edd1f6ed69eb9850cfaf5c2b266be9',\n",
       " '2d1dc3af8028d98ee72a854ce1698477d5f89ef7',\n",
       " 'eadc9d297dc924d4c3e16f8a2b1d4606953ed4dd',\n",
       " '417e6d8ceaf80d10e33eb4aa33da85049c602149',\n",
       " '6349bcb9dcd16717984458c34195cf7e74452827',\n",
       " '634ec8ee5f84deed430a2309f9ba6f5484253d0a',\n",
       " 'e6b9aab8f451d03f9975fe962f9365ea4ce60d0c',\n",
       " '0ab3e75f1630a12e6aed0b6a1a927964219232d0',\n",
       " 'a684521b7865b70948f4fbd1aade5629c767ab8e',\n",
       " 'a29909129c00a0b5c2a8e15d985835cbba097036',\n",
       " '4b7270f34f1d956ad2a3506d7a2d5fe52bcd4746',\n",
       " '69459dae828ca0376d193b8bffcc573e07a5d86a',\n",
       " '847e20a0d38536fd77a0c4688f32c0ff87b3264a',\n",
       " 'ad440832e6a33a2235e3a372ba09af3b41bfb783',\n",
       " '41a63d3be2ea4e50cde19b808444b2543580572d',\n",
       " '184794e37c15c97d89e2cc1e91fe2b762e85fccd',\n",
       " '2c0af3d414eafbec3e8b85de54d285ae44239840',\n",
       " 'da9a6a1c0f8c280a1c27881d910b1c85327098e6',\n",
       " '7c8ef2cfc2a82d2e7653589191083d11af939eca',\n",
       " '68b214c851c16a52b7cae56e7e079b62acc16ad2',\n",
       " '0036975a5e51251e3ccde743ecc3aa18a9ae7623',\n",
       " '6418b3858a4764c4c35f32da8bc2c24284b41d47',\n",
       " '0351f22135e61de52250654b1f8b277cd8c7a173',\n",
       " '43cdbe8841b7356bb8b1a9033366aa82c055ca11',\n",
       " 'c15f22153572da2884f56d01c1dce8ef43e2f9cd',\n",
       " '7cad99340b84943c06e53f856fd8d40d9a4faf54',\n",
       " 'ed688a1db361de5b593b8a8a81bbd6634f22a198',\n",
       " '9b3bf443b3c3c169e9a0c5dc400075a9994acb44',\n",
       " 'adc829ea230a1d884d91f2448841d324bf03e3d5',\n",
       " 'e154ff9f7275a5493cefbe9f0f1a74109740e94d',\n",
       " '7e7b68a06f622141e62f167277dc91c7040259fa',\n",
       " '66c9f4c60c3bea1cb9379cfa1e3fefcbeaae70b5',\n",
       " 'c8dc089296e858a169584ee24d03158bcd803444',\n",
       " '3a43c756aae279ef8ec4ea9b989dd9847d9085ba',\n",
       " 'd64b9f8f7bf0cdec2876815037e0e9ffafe9c0f4',\n",
       " 'fa78b39d4d20beabd27a7eb0978fff38fc648a7d',\n",
       " '6b9e84a03d0ad38beba2c4ad42746d9a83028f93',\n",
       " '5b94afd84e59da930740c711a008b9c58aa345b0',\n",
       " '61585741c987ffc236cd754ca8c5fc4559967dd2',\n",
       " 'cad1057a722868f24cb5e2a39a09d6fd012aed33',\n",
       " '707d67b3d1045488d775ab61d55de38c1f3ad876',\n",
       " '263b0924f50444bbd7cdf5374638695e3eb56156',\n",
       " 'd9b6d17c46a48cddbff9ef900e393b745813b48e',\n",
       " '0f119b265c39f70db0b6965ed9a68a85959e1e3f',\n",
       " 'ad0b77cafe6d668239bea5ec281edd4113736eb3',\n",
       " '84f60428f78964c0cb663ee36caf222e9f182b32',\n",
       " '84565f87768f607afc2f0ee726b865568c48d300',\n",
       " 'd456a30f9d2f01d31cf81e41a1df56b9af4e35dc',\n",
       " 'd768710878f296ee8c3c9812d03dbe407a6f3759',\n",
       " '41eafea6256ab2af225617006eac763b2a420ccd',\n",
       " '052fbae566b46bdb095d78aafa6b590489289ddc',\n",
       " '6abdbbc12c92c361673ba4d2eb4df1b1f1f21de8',\n",
       " '4e40ece969a8df857e894026c74c9e7afde14ee2',\n",
       " 'a2e6b815217b9b793d6723db3699bc722ed93ba2',\n",
       " '3f350e8a11776aa1cfc8cdb294f180c9e194299f',\n",
       " '428887384e902437bb222665addba0c0f5661024',\n",
       " '915ab7b6ca3633230403d47dbb31cf74888cc5c9',\n",
       " '9f3703253051a95263bc2a882afe4e61b66fc9f9',\n",
       " '775c8b9885f47f2904c017fba819bdbce6e60361',\n",
       " '804d10e44c231983a2c11a973c2568e96f88e20d',\n",
       " 'fc708f685cc0c94504261eff90c013d269c003e1',\n",
       " 'b1f3a0a6e73da401a52cb2ce15131c1182d5ad0f',\n",
       " '76f3d9c892c1849e4bacf66d23a6f7a143e72b0a',\n",
       " 'b0aa86accdf0645997b51faa50bace3f04a28892',\n",
       " 'd871a638aeef8691ad11c29845c633e83bc2082c',\n",
       " '112a63ec956805f3286a10d3bfb7b8caada49646',\n",
       " 'c7fd412661ad440d86bd024cc2cd6c1f64526f76',\n",
       " '38cd208cdbc3631fcac4148bd4a421dd87c8d110',\n",
       " '13965d8d68217308ff8c7e738ced637739c6a1b8',\n",
       " '74dbc069841d8fa55cd2721e53b9f4532899c146',\n",
       " 'a41ba3b5fec34ac5c21b4c411cd596f76ad7bf00',\n",
       " 'cc2099784e9b36cec19a1f43d8531d098288f4bf',\n",
       " '32f65dd751e5c491d83c2f46e41f50afa1c6d2bb',\n",
       " '3493104b05ea7721d862b3dc99b97f8678b80596',\n",
       " '9e4980cb927b803d375c5796f4a2eb3a7fe0555d',\n",
       " 'f087453fa1f2afddb4235f782281492d6c8462b3',\n",
       " 'af34181ae916e01c72513f915f984a1d2c7febab',\n",
       " '7557105c9aa6a26db4f8e73fabb25e8134013fb5',\n",
       " '3437212c42cc17e1bd0904601c79e3240cc44331',\n",
       " '557a5147d88ad361b807d4c93decac6d57d2d5e9',\n",
       " 'c5cf54b2b6abf658697d272c1377812fd9e24e11',\n",
       " 'a409d10f693b73910727d8e42a8564a51a9c37be',\n",
       " '052f9b4f411760bb8d1a20fb21ad71468f809634',\n",
       " 'e87689a48e6c0e340cf372af66997a60ad50bc46',\n",
       " '6edfe852ddd798e0aea50ef777ba5cce98fe677e',\n",
       " 'e3b3cfd764bcb1f8c02c40ee241ba1fcff36724c',\n",
       " 'df3337a955d39a9d13e63929624a7bd47ecd9505',\n",
       " '322752a0c0a9445ba094e65edd1e6c0c9e8a0756',\n",
       " '0bab0c081441ee036cfcaee93d0b0202cbf133bf',\n",
       " '26e0349eb4e5f783b634f3219d5660adde2ae040',\n",
       " '4afe00a53ed14d475d2df8b5da9c281d74b2ca53',\n",
       " 'b2f0754a1b1e4567f5a69d2e211c3bb4f775c35a',\n",
       " 'd00ec1e3de4b10b0814addcb14ce1527cc36b973',\n",
       " '3f350e8a11776aa1cfc8cdb294f180c9e194299f',\n",
       " 'ed742bb42202e202c627749e6d9a5352ca67ab02',\n",
       " '2eb056a07b011d3789553926eb5210669856c968',\n",
       " '30b19680d378594f0dd9a99b2720d404795d4b82',\n",
       " 'de949f8ede5beb2a274f34cb3f27804d18ef0d5c',\n",
       " '04b8d9bc6a5dba708d997a6287d4e43cb72317e9',\n",
       " 'fad2a450d2091437f2b1e29e30043936dcecf3a7',\n",
       " '903e61e27431cc86920345ce5d3ca252843138ed',\n",
       " '9fd26287d720315f880b26e4555aaf3157da4932',\n",
       " '224e1fdcce82dfed35731d51f82b6ddff0677a63',\n",
       " '176ac6d67bfb8164094a6f0861430b5fc9e95439',\n",
       " '2dc358b926488fbe23d8d4943116b9729e467ccf',\n",
       " '0a378fec0f20724abb104361a58260d43babafd8',\n",
       " 'd147d89a8eeff1f5b0380aeb7881388be9fea5e6',\n",
       " 'f88cecf1ee0d720f47cbbd5c10ea27d5f84b36dd',\n",
       " '3f0ae66975dce667aead28a68532f3f00494e93e',\n",
       " 'f9c4fc874e97815b91ab049f6cbc69f0eab90c4f',\n",
       " 'cfc14fba96834b03bb4d169240039f340b0d8935',\n",
       " '04aa0bed274dd3ebf9e14359a01db9e5643a10ab',\n",
       " '93399eb3eefca171db3d055e7d4b650a96e6592a',\n",
       " '4791e729dd607cfef78aa5a4676df31e276975bf',\n",
       " 'ea28372c02f184b056ec70d8395a7de80a728580',\n",
       " 'fde5bc70cbee7b7cffca2448c81aa6238a424971',\n",
       " '5be45c53fbee486daed779c4d8a632f398f1883b',\n",
       " '3f60be580e4b48e79017f79d04c90f26c22e8f77',\n",
       " '2cd6bdc7e40a18976a92865be43b350bc83dd173',\n",
       " 'c47c8b97fe98c4851155a592ef1d780e4a2b587c',\n",
       " '3d5e9ba7b5e68a8aa86a0f0d587f4d0bdf348d34',\n",
       " '75698d0fa3b98cb9eed3557fc04709e37452ad4c',\n",
       " '6fec7ea2dba611eb647e4fb08a9746bd60b7a835',\n",
       " 'ed8b176d882b6452c6ebc66b444868b560bd5793',\n",
       " 'aa88341640c7406250496777306cc335ecbc7750',\n",
       " '454df4f4d3508aa96a6392a1eca6da347bf70e57',\n",
       " 'a99aba1d1a6657860417a312def18f3587c8113e',\n",
       " 'ef7d25f543f03a4cf5cd073310a3a5b361356f1a',\n",
       " 'e1e14fc15dd52b411886bdcf173e9bd7d6e04ab8',\n",
       " '275fd6a0f7b37a00947506c66849acac3d673f75',\n",
       " 'cf11a0ed193df2aa00573737136e6f9c98e2c820',\n",
       " 'e62f23a6474a2dea29d4497767de0fc38c26ab37',\n",
       " 'fc6955ef2530d59f20ce7ea40148beeb6d1766a1',\n",
       " 'e0b706a73648af0217f235886e6133b2927f64c6',\n",
       " '6b8b39aaf8297756fc755064437db212e6a7d467',\n",
       " '857138baa0ee48b1f9c1d617a16a5beecc963d78',\n",
       " '69ae2d6128094a3a97e503badeaff4989519828e',\n",
       " '17119282c4661329aef3e100df925fb9ed1e7f05',\n",
       " '8daf81a51094227b4fa4e8d18d3b558578c9fd8b',\n",
       " '0b3be8e79a977d77d80a6f57baaf449ae64962aa',\n",
       " '5a4122add1e631ffc45367a1467e2693e28fb6b5',\n",
       " '9a5c3d04cde121acd808b8a7d6ef7a4014b2cb72',\n",
       " '8dc8ce191a565f665f2319b024baac9a7cbe521f',\n",
       " '3aedc5997c36befdbecd4b225588e7f404638b45',\n",
       " '049af837db8c08860442fb9fe437788acee45028',\n",
       " '9f35c25377f322d975527bfe070c535c1284e659',\n",
       " '26c9f7542ea711ee40989b5e489578c61de80db6',\n",
       " 'c794dcb58b4b8bd67cb39744ea8552eed339850e',\n",
       " 'ef80ef9a7c548c4364780ee3fa3b00ecfde90a60',\n",
       " 'a37c236803455afd7da3dc027e7865a0414a5697',\n",
       " '887cc6cf7f4f5ed7c15d45bba5f7d70839dada30',\n",
       " 'f8f7a1611d17b2c41bb864c19c80f0e13e7a211c',\n",
       " '7318e84f1e1b1301758493021f64d0b16227ff11',\n",
       " '14bb9e42eae9f2e4ca63c1b1b5d7507b15d50aeb',\n",
       " 'f43559d8037a00cc49c0a8d1d130c65318bda0e2',\n",
       " '1216718b112db9f973b1e7fb1b94b796995a0a6d',\n",
       " 'a6dff8f97d20263c096ce972f009a3badd81798f',\n",
       " 'f6df596f51e9a9b5b01eb7b8ca6af4209fea2bf0',\n",
       " '819a1c317ace34418c7df5950df06760c76b722e',\n",
       " 'b0aa86accdf0645997b51faa50bace3f04a28892',\n",
       " 'd7b325ea271298d68fad4badc32f2737445c8c61',\n",
       " 'dd249ccbdab518dc9c02579dd3f5b0a44dd3d558',\n",
       " '3b69bae623fdcdc312c0bf61c7a03931375f4243',\n",
       " 'e3ac2df5b83f7d29705f0f034aff19d8131badeb',\n",
       " '64ba47bd973f23df799adb95b44dacc99f16c506',\n",
       " '7bcd70ad01a8ea93f243aacbf558fc5a5fa9d117',\n",
       " '14653dcebea517f2e41acdf913a899768a3e516a',\n",
       " 'd202d2936b7495b1c493d94a744f3f4653f6f447',\n",
       " '4e3fc7cebd3127926f60ace85f15ab3354d5bd23',\n",
       " 'b2892c2b3f9567b2c34192eafeab6c9aad1da024',\n",
       " 'aa8ee338ab9fa149c77afe39cf4ec4c7671e9d13',\n",
       " '5b373584bae1578497cd5f8fee48adb1f7683dd4',\n",
       " '7da3d658383291c587b06fc74a82e230eb4a16b1',\n",
       " '4423f8c87959116db52238f1fa7f15bbd48f94d6',\n",
       " '655c13b2d6bc4ba0d3247bc7cd80299dfcd1b6dc',\n",
       " '478a2df386cc4939468f5e3351c3c6e1a3a521e2',\n",
       " '3c4d9121155ece334a80cf72ae7f78f668dca304',\n",
       " '5f650814212bf68b43963609ddab581bfd3d9049',\n",
       " '9e38f9c3c12ba5ea0a728b08357551db4e137d14',\n",
       " '2ca7e36901022fde6f0477088267cb1fa36a1668',\n",
       " '85106fc0a68a575166f0f18456fa755b7a2660a3',\n",
       " '529e2b6043ae282482ae435f10e1ba4bbcde81b3',\n",
       " '9f886f9a5270b5283a2b0b40e06ae8e3faeb8136',\n",
       " '05d70a97554d7a210aada1161e1b7488564da169',\n",
       " 'e43272b6d0cf8c6bb5931c226dc5dd47cf88b0df',\n",
       " '9602241f2e0fcc43e1d99e17c4bb4404eca8780b',\n",
       " '84849418529ca40cbf8fa970ec17d1721e22fdd2',\n",
       " '5de55d387e40236a4475f1791cd27c45c8dbe3ad',\n",
       " '0dbccbd94d76d4382b2cc3549495cff37eb8fd6e',\n",
       " '09db1a8ac2bbf488e86926179f1d09635a0d6842',\n",
       " 'c1e87b86aba714b2a9d5e0e9d60a4e18fce73421',\n",
       " '99e6c944928324074e5ef5a2688f7c8638088cef',\n",
       " '1466bbd80abcea05df4d006fbf5b3c2de47ad545',\n",
       " '98d4ef0824a365ed3f8cfee3eecd78524b77b07c',\n",
       " '4426ec037a7d63a0dc60dfc959695c779d69f2c4',\n",
       " 'bc63736b27cedd6e88f69de247c3a536b17dadbd',\n",
       " '7f72fd0a1dba3ea1bd4d081ae0741877180a5b5c',\n",
       " '2ec46ec78856140a99463a34f9788d00aa59cbf7',\n",
       " 'c5e4d3ef6d61cbeea895863856501e2e35a67dd0',\n",
       " '00cf787add0f7b31f5ddf41d8d9ece1eb4af46ca',\n",
       " '85b2d3db4f0c3f8b2d9097f7fd6eb6f2c3172f6c',\n",
       " '9653e1af0491dbfec6ecab5133fb182156298dad',\n",
       " 'ab7366f88da620a8b8677130ffdad06b9b656d58',\n",
       " '3e44eb98a709aba18743e3ddbbf60eb1a3bada9b',\n",
       " 'b49a3d0e3e22590887a6fc3c5dab4ee778ac5246',\n",
       " '47789ae4698b57aa0d7c7a9406d56fc198cbcf4b',\n",
       " '9e88a6e3f1068fd4c265966167919d5de70feb55',\n",
       " 'dea3cac9612d5681f0b30579b6df9532ee1548e6',\n",
       " 'e9a71e07318e4a27880aaaa5e9212332fe53877b',\n",
       " '80b3c885415573cbdb33cd7ebd275db46ec3ea45',\n",
       " 'b971205103f9ae837813bdec890f6b57f590d5a0',\n",
       " 'b29ef8ed3ff8c14ec5dec9a1d70a8de1eb5e170a',\n",
       " 'ed34d88092deb56d7694602d88da710018447313',\n",
       " 'b2f8399dc3423e4bac9300174b01a55ab1c81f85',\n",
       " 'e15b09a8fff64a9e0745e5af1ea9f8b94e1627d2',\n",
       " 'd83974986a4c6fc986e03dfe3f3cb0a9e710fbd6',\n",
       " '91119319745c15d1d628b6dcb87251f981014c36',\n",
       " 'bdab29415be76e68d3c98defb72fc882d9daaf42',\n",
       " 'dc1b7128c9156206bab48c0effbda1036d04d32d',\n",
       " '88a8e2cd491b49e33013f77edd93fbb428d1a93b',\n",
       " '72764a7c961c3291a90be79939497241423316f1',\n",
       " 'd71c21699ab9fd1f03252d36463b5595cdc9e606',\n",
       " '1fb367def62cd3fe9449f512fc9dba9d49021f7e',\n",
       " '9bf2a39fa4d13a95a65e8e2516441baa5d23bf47',\n",
       " '6fe9be342163f2a31a4434c7c042b64be9d8ce84',\n",
       " 'cff0f7e23f4015c404de2f80d85f4776fbf6ac55',\n",
       " '38e7a3b3d4f585fdf6267c288d792d49a3960de7',\n",
       " '8c3b678a0f9477c6abf3203ef08de945e0cb826e',\n",
       " '5f649b6095d86626a0fdff30ab5bba1af8b16a6e',\n",
       " 'c240416b053ab9fb006fe7dad7d2d3d71d79f6db',\n",
       " '25b5fdd9fa85c8ecd3af60d90d8162d4d9552e89',\n",
       " '1810965b9fb37068ec79544fdd0862b895d0f38f',\n",
       " '7a26969250cb89009bc2c92bf9442f5cd5d43292',\n",
       " '6b893c4e88387c1fbb2ebab152122c3533e3d11b',\n",
       " '3dfcd50430e9f8aad59fdb23171d4acb51515f33',\n",
       " 'f718a40ce9f7c823f01f2dcf32aab49a1bda96d5',\n",
       " 'c26bc1e91a0ea0f4edfdbfdc280e3b4eb869f6e0',\n",
       " '9939b3b3a053e943e7a6ff7e242ca6b6e2777e63',\n",
       " 'ea38182f7626bb75b12a1f35b97664c8a3298209',\n",
       " '47410d210b22dfa4d437d24b50dc87ac56b0584f',\n",
       " '72e11b7b04c1a5df1b660b143c626355ad27de0f',\n",
       " '26fa3e0546ece5df8d3182fc8608bbf34a224cbb',\n",
       " 'd0614367ae0946c8c420e8a8173395ed2d683de8',\n",
       " '932f5c75b9baa7efaeb7ab286a52f3f1b62d1fee',\n",
       " 'c2fa234572e8968b6e809d8d5c338183c2893a75',\n",
       " 'dc07e2db8e52279f20e838bd453daf2007acfcbf',\n",
       " '7ab161895d05cbdab1c33303a5bbd96218049114',\n",
       " 'e1a2204a90f397ad5dd350355e3a2023b5b7e7a9',\n",
       " '725046c474ff5523d267a8dc3177b25844d3eacd',\n",
       " '2d77eb067dea7ebd25685e8e53a29df1f7cc68e8',\n",
       " 'b24eff245500045c5f327a026f4b0817b4212ad7',\n",
       " '8fbd3cbaeb8067cbc8021754d50039692d8a10fd',\n",
       " '1848fd7dc64e9cd99ebe7a67dd3672907ca851fb',\n",
       " '07679278169720ce0385a169801a58cc704a3163',\n",
       " '68cee58a53d152cb19d8a9c4ae54a691e6c9c213',\n",
       " '18f95c677e014391acd632cf2c8d5033cf6a1a20',\n",
       " '4eb966f43278e594be9359bdaf5ed89dd9969e49',\n",
       " '070a94fa275a03740874059dc6419acedd1f583e',\n",
       " '5cfb440c06a8c6daffb18afdd1e20047f2617b21',\n",
       " 'dbc2d511fe0108dc2cc72c7695b74b023ec9c95f',\n",
       " '037891f3cec1f81bfb2fec10e9b294bb25845384',\n",
       " 'd53abeb9a3fbf81e8c5f1cf9693b0caa0be0edb3',\n",
       " '1bc721fde887c17dbfc14c9a0be38a9f18709507',\n",
       " 'c4c5e13e7f515aa1f3b178a322f20f05216e87c6',\n",
       " '0e74d9dea6398e3eb6290ac8ea792692357dab95',\n",
       " 'c9bcda1c2063e1573d579fd2c0a6ac761d925de8',\n",
       " 'cb96c9feca7fec039f02f2830eeb6fc737805694',\n",
       " 'e988a39a2f1271e4b64150430bb4288f720537a2',\n",
       " '54f23863c7574b0668436910ef2d8d858d55762d',\n",
       " '0bc2d8cb6c4f7a084ad8578da2dd74237b3e5153',\n",
       " '5c24052d625df9fccb61851cd44b346979846b1a',\n",
       " '2538ced0617aacfd4a414cc5219ccd3af0392908',\n",
       " '0a7c3187aabf20f6c9961fa67b6691eeb314ca24',\n",
       " '213b7716da4493119b8ea622b73f2982907bb2fd',\n",
       " '18a0b2caf6bfff82d05936f7059ff2c94e7f7181',\n",
       " '6bf808c3cd762b850f73b6aa735f9c3821cad7cc',\n",
       " '096f5d708f0fa228f87c1e1af5416859a4ba3ce2',\n",
       " 'aa007874ab2f0fb59dbdc1a4cef59cf70e7fd8fe',\n",
       " 'cac031714dbee5b255db981657690fff65257a67',\n",
       " '6812eea4c1bce5d5021506fe441e751dfa4bbc65',\n",
       " '3cc6b6b976aeaa47a8f62b2577c09c826dadd9eb',\n",
       " '071a3b21ae16ae9f961bfc06b0117ff116566cfa',\n",
       " '0a9163fc2b09f88b098790976f81f2a3a7d64753',\n",
       " 'e44f91d5b632d0401cfba9437b4d54ff90489a60',\n",
       " 'ab3ece56a0ea8ad908fac8baf8aaffbbe566639c',\n",
       " '695bdc6e24608364491b9418a220c65a7cd17413',\n",
       " '0eb03a5a5b9ce07e2bfdb53d3aa873e043af90b3',\n",
       " 'f158cad7a51f46be0d8831a00a2869ee97524048',\n",
       " 'bc2b6f7895109c3740a08a6921f516774ff01bc0',\n",
       " '6e7c207cf6f70201bfeecea9ffe4b3de7de1de9e',\n",
       " 'bd1cf25819cc5d371b04839a5f5a6b896b76458a',\n",
       " '4c314233869e9e8ff8c8aca60458e0aa8d315e03',\n",
       " '47feb78f053a18b3ced9288d459f92800a4196cf',\n",
       " '0760a0f1e90c9c607f86e55a0fb54a307a7cb6f0',\n",
       " 'ecdc1b0e3a27760b6dabe75eb16687d7ec931146',\n",
       " 'c1f6c578a231ef308ed5b29e819fdc6eb6fe1909',\n",
       " 'bd275727a7b86034b8110f496eab171a8da13d22',\n",
       " '06ca4211af16e672981066dba006c8816c446413',\n",
       " '8534b14537e42f72c9070163f6e6fe265c3e799a',\n",
       " 'e0c79ba8acebe2006cf99bbecaf734e35013de2f',\n",
       " 'f64d9d3d13d666e33bbdfc2686b7e180d67ce3d4',\n",
       " '1c5939747f38c33d258c54ebcbb2463ca5757629',\n",
       " '88a724083b2cfcc096448c28e6973c8f761ee463',\n",
       " '467381641e0c2a953572c340abeb1ec9d8d7b0b6',\n",
       " '1cd497e82bdc46a9d3d28b2316ea7cbe9aee5467',\n",
       " '17632a916579c56a62e68303311a2e90e22716eb',\n",
       " '04f946f4ad3eb9ea92d2727aaeadce7d1eca6d5f',\n",
       " '09e9406f4911402fe97a573313c3da890572db83',\n",
       " '378c2332df0c06c4a8aac723b62e3266fea3c48b',\n",
       " '85c6db4e2eb186a8cd251220882342cdafd34ce1',\n",
       " '6c505a7c37fb9c907fa48b2bcd23494646b76105',\n",
       " 'd9161269ed0f6e3339f66979498d48dbb3f2f4a1',\n",
       " '54116169e40dd36223e85ef036a82327b3bfd882',\n",
       " 'c3d8ca293718eec2b143af6b386cf9b48201a014',\n",
       " '9c6e37437290d7b295095f0e4085a18b66c721d9',\n",
       " '52b0c878d2c217811d8ebbc480a0ffe58395df7e',\n",
       " 'd346bfc14f75ee112758502bbc7af5cbf9eab7cd',\n",
       " '414c7308f89b61552b6147272d5cf8041797d3fd',\n",
       " '86c333c0e5a406680862fd0ea8e835e483afcfe0',\n",
       " 'ff426e8f6c79897c176a5dcc57245fec79373eea',\n",
       " '4e2fe8e210377683a3f58d03482312ecba0f0598',\n",
       " 'ddd63b4bf59a0697b799fe7708b32e1a957712d4',\n",
       " '2703789238c80cc96e2a9d8dcc695d50316271ad',\n",
       " '18cd4130517e7c519d72e742990a3666472b2322',\n",
       " '853ff26da6965c7ba593db687fc2150f2c54cb88',\n",
       " '91bc4ae4331665db1111b579acd5257810da445f',\n",
       " 'a7012e5749c737ae1ec24df9c345d7099403fffc',\n",
       " '2ff74c0cab30c7615c49e6445a1f4f93aa0e7237',\n",
       " '756430d0c98735873f66ef887c441f5475afecbf',\n",
       " '192e1451b6e10b3ebd42b28521520926694353a1',\n",
       " '2173448e26d8bec6edd4e2456b39944f0109868b',\n",
       " 'de17afa89e38658e1a2e7b5c357856aa08ba0dd7',\n",
       " 'bea72cd55656d009d9e827ae4185352f603fabae',\n",
       " 'f365bc53d9380f0d9dba603c766c7bc3e05c217b',\n",
       " 'ac096edbb428e65efb65f9b10073336556b896c3',\n",
       " '10eb3390f7f20a7bfe8b396ce8f969ea4eaae267',\n",
       " 'ad539d5e6e3ef7e6498b28e1937118e1856093d5',\n",
       " 'd32bc3f846e9a05c990394ce5c4693f3174042ad',\n",
       " '84294c7bbde52b026fc08dae023998af97b52218',\n",
       " 'ff8cfbe999f134e8fe5f8f0f9b06520d26ceef15',\n",
       " 'ac73c49afdf3dbe0dd4b9c37fdaf9393c0713dff',\n",
       " 'e2cb5b62596cd7c380538ebd7d78d60b43a0c7e4',\n",
       " '3d877065e079f54ce1a97b6231b94def687dbb76',\n",
       " '2908ab3a55d410482f04a6c8de3a98f6922c77f6',\n",
       " '588b68a368cc39bc8b49c606c0d1b3d701e2f8ca',\n",
       " 'bcdb3c295a6876128f48deb341337cff7b5bce56',\n",
       " '1e9a86622382eb55434c6ec619eb4aa42f3acefd',\n",
       " '9610204f7b0d141dc8897658bda21f6e1098cba9',\n",
       " '45a7cddd73ed87bc88b8df409c1c102674bfb83f',\n",
       " '3778e7ba84f5c321c8707bb8b066ea89ca626020',\n",
       " 'b78e611a8b6cb6ca898d6ca62d7014477cf1e3e8',\n",
       " 'b0904ea85663d3eba48a29b23e8468e353afa1ae',\n",
       " '0a7fd3627a9e3d71e8c892290d6c7e7a7d6a2349',\n",
       " '0dc5c2427d7001311e47380664241600d1fa1502',\n",
       " '4c565890c7bb0cd0b852dd62237fa8ae6a49242c',\n",
       " '37e88da46bebb2dd23a37ffd16ec7b317cac95d9',\n",
       " '78787b830d0c15c6384a480cd1cd17380b5da2c3',\n",
       " 'b23268234c79cc1d448863d7f3313b93c7594d3a',\n",
       " '87bd3c258df57399477ce937d914bcb8235c27f3',\n",
       " '083f9db4185ee0962ceadf9037de565ee99568d3',\n",
       " '9f33af02bf99e564b481e185c1ce730625044b06',\n",
       " '2dae3b6a93fc468a22b022e8ff9d52bb7d51dec7',\n",
       " '3e7e1a3f2f8646914c4372c4cabc1e7b880ca4a0',\n",
       " '033631cb29213c3537ab6cdcad32b57677a51878',\n",
       " '36cbf37930a0f0ddc61124eca9d40c6806e534ea',\n",
       " '285756d7b193abd91eb4d944c13730fdbb757096',\n",
       " '5192b8133b8ea5c0098ff156c1379d146200464b',\n",
       " '21ade5ffa0391f7a445cc352d9aea5fb26bf05af',\n",
       " 'a4de136b20d60567c65549365658c290ddc8ac1e',\n",
       " '3931ced1309d2c15248bab0ddb27032ebba77d89',\n",
       " '46bbf1c1efe07655d33d95fee4b7097237b55d1e',\n",
       " '5841d3fa36c3867064f4c731463ec11fce10dac9',\n",
       " 'cbd7a1500ebff4192316112f3c084719c5aa5dd4',\n",
       " '9ec4e3a874ca6b884f162f7913855366ff625ecd',\n",
       " '3ce3a3b7697c7fcbba186c5338bf2f70239d55c1',\n",
       " '52b4576515dcd53f40ab0637d93f7d4350b9adc0',\n",
       " '029385da8a6849b2a94033a0bd4a44a0252048d3',\n",
       " '4635345b26c493fb601166fef91f2fbce660f2bc',\n",
       " 'b54dfa6cb540c4d9bc4b13673b39a1af9480c1fe',\n",
       " '2a5c54cd11c20ead1f5d88ecce16aaa9cfa00771',\n",
       " '63dc7bbb3d8f1529a55b51ba8a8461c33c07ece6',\n",
       " 'aa2ae86424618d20bb21f799fc1561c618c64575',\n",
       " 'ac0b53d68a4c4c0e6806bbbc1da7e48c89e4158c',\n",
       " '0cc3de9d856615addab3c44a2afe1cb778a3a027',\n",
       " 'a3da2d2a3122765a5e6bbefb57f6bce75e5272a7',\n",
       " '460edd398c293f7b5305bd245b2f1c788708a3e0',\n",
       " 'f40578e5d022145ab1eb5bfd886ece56d5072616',\n",
       " '50f16f7c8f1715d04af19e4bc48dcc3a0becfb07',\n",
       " '01f6f821e9e46558952cf947bac760265a1867f4',\n",
       " '583612da73374017f8572ad02822df75d7a6cb6f',\n",
       " '1cd270bff29951be07635c3f393e3b017f7cfad2',\n",
       " '7576b03835494b047c1c1d56244212858aa4be48',\n",
       " '490be76a80a42d1df3c7b4ad6e06bf50bce28d32',\n",
       " '32b08d39ac8a3fb6e1ee2a84f16719196c1823a6',\n",
       " 'fa0406a0954c608ae9aad47ddb38f2a8013f4a46',\n",
       " 'b6fb42867de19f48e37f2be3daa334f16a415068',\n",
       " 'f6f5d46f83339464c1aa58fff0f712454af4ca63',\n",
       " '8d4291b58bb0a2a8e940597ba2f406415e7d0ad1',\n",
       " '3e9a73e296f7ecd03c5d21fa7fc13f9371b43071',\n",
       " '82dc238455489fe13e4f4e92216f6d62c16c9480',\n",
       " 'ad72d157a1e95a8d453cc1e57e62d481338c2653',\n",
       " 'a5b256463275c6f58d60dd37f472b6b13cf18ee8',\n",
       " 'd1d4a6164259da45a43183d26b8c08ae4645077e',\n",
       " 'e020a8350b92f1dcf85f057e70b835e469058e4c',\n",
       " '14cad8da091eb57f4efa0bf859c7c80c0534d07b',\n",
       " '6637cc63393f401237a948809d76b9d0074c5a56',\n",
       " '1fe033eab8ddb66dd75c6fcb87b9a989629b9f96',\n",
       " '3b5199f1c099e493130c0f25f30ee59264dd6206',\n",
       " 'a89e9fcace90748afb3c1c3b37434f3b1d206c60',\n",
       " '7dfb2d42214874edf3f58a25000a188be8c25a6e',\n",
       " 'f9b008e80977a0d7d495b8c78bc62d877dd9d943',\n",
       " '962941ef90ca9c8764ba6a61e6b86873e14e81bf',\n",
       " 'f7697c87d25b859b5203c5a85ba0f80a5d444d86',\n",
       " 'ab7eac8eacf50dcb03a5b4a0776f1a248811826e',\n",
       " 'c979721d68ac59aa61cb7d95b2c8aa3a31a8bd2f',\n",
       " '885a27c73cf094c41647607fbf8ea1ae3eb89e1f',\n",
       " '740c9893c743527db7a25b121e47e4d44157c0a6',\n",
       " '18230127a20e46a13bccbdae6ce90f29f3a7c464',\n",
       " 'f0fb365d666f0d75d6b0f9a2786aed344d076db8',\n",
       " '928ce06c204d5940eee31e5233485413b813de6d',\n",
       " 'c4013eb6e59599e8ec7c42198d2fabd72f20e9eb',\n",
       " '0d4c57978d74e1783b9131ad2884dcaefc97b3e4',\n",
       " '83dc0eca1a453e2970d32923bb48bb84976bd968',\n",
       " 'cb0526865795954556bc3072e84336919dbe9a8d',\n",
       " '9d78322de014bb9be6059bde440539fc832aa909',\n",
       " '827aa4f53afab4aa7fbb3aebdb80735f0e35068f',\n",
       " '0d792da2ea1d68f996b5f5c5df7fc858128643f3',\n",
       " 'c171a8a93a57e7a499890b1e77233b8d16d4d384',\n",
       " '52ec8dccb701f731a0fcfb904d9cdd3bd1d48a41',\n",
       " 'eb0928daefd356a74db3e0b075da205713eee301',\n",
       " '5da496f5fdd4b37509de731c3f0d27d00ba8057a',\n",
       " 'be72f75f31c4cd7bb12e634b6e6da017429069f1',\n",
       " 'f5b80c508f64473994b6d5933922c2e807806da5',\n",
       " '2f0a8a3da145984635862cc59ee4a033bf42b6f9',\n",
       " 'c9e0826ec05763f6bb73908038d89e2afd38d67b',\n",
       " 'ee29a83f09756d41568cac5f84082ccc55166ad8',\n",
       " 'bf8d6af02fe19da97f4740bc4cd3da98ce9b1fa8',\n",
       " 'c906562762bb96f4b720bc408dadb9b7c9a50f95',\n",
       " '139b6704eec1aa38f61834c7d4497755f4408149',\n",
       " '2b75478afae209103e8beddf353abe677e84c9ba',\n",
       " 'ecb454ef240aca595c2a981ab3b637651de1c549',\n",
       " 'a4d894dc43b7335c3ed00adb9918caa185e246c4',\n",
       " '8e74816fe95ee8fa1a6a28162f745a4ce7f03b6e',\n",
       " '1d6d3d0f3ed7a959ed298da1d5d1708f46e9b8f1',\n",
       " 'b351632f24f5f7417fa96119893e24c587c0333d',\n",
       " '9bdb2e40b8dd5d0c8261ec149fd1e8cd6c444515',\n",
       " '610df78324239e5f5ed8810316a2dd9ad83c47ed',\n",
       " 'd004b35e67f9e9fc70397a580f16397a050add97',\n",
       " '6afdc49323c7236b238c4e9cf3f37dacd991de90',\n",
       " 'f30c82d5bc12934982d5d6494b7a06553b84000c',\n",
       " 'c1928f42ad6293562df6078b83adef1e78bd224e',\n",
       " '44775b43d0f55d0d8b94beb1fe8b76ad64270cbb',\n",
       " '0bb489605b4fa105ca2ae0c0774c85d353777dbc',\n",
       " 'c973f0225b2d6c08e2415d1b2fbaf666be1b4356',\n",
       " 'be5ae5f98ae4b16d14b99d5c3db2b86173382f28',\n",
       " '7c9abae93ee7ff943b3ef5023e655e1ab8abc42a',\n",
       " '72c6c3ede1d4457a85b9ddac0a2bc8d1096f221c',\n",
       " '412b91005cb4bf89989385f13ce7a770c84b5faa',\n",
       " 'ef12b71e7c7cc7483e3c2147ebf9753a31554266',\n",
       " '893150f171bd7656d86a56c1026e6129d265a957',\n",
       " '63b809349666fa571782b08364b68acbb1df0c2d',\n",
       " 'a43a9e5418e0220d671dec55166b60e08f8f152c',\n",
       " '74c8d0872b1781fd746ca387835c0e39a73d09bb',\n",
       " '940d956a6858eabaaf346962f383cdc2746b89fc',\n",
       " '4595404a30579368ffb6f15f0b96cf346c5d0658',\n",
       " '6b76654f74df814bb778fe5d03e088c69489e347',\n",
       " 'ced6690b802d33f61931f526443fca2a63c02382',\n",
       " '5d647f9147dd0412cc45a36e40f8562e46988c24',\n",
       " '3308eeac303fd042f8d7659d9c43faa35173c39b',\n",
       " 'ed6ce714b65aca1272ec8af9db74076ecb5605d5',\n",
       " 'a92ac38658b3a7f75e1836b9d9b6c41b21c40d79',\n",
       " 'b37c5a96fe2f3389d9fe3addb8812634abb82164',\n",
       " '76031ea3119e840798d4aef5cfe3c55814077698',\n",
       " '974a06b07fc2d51b14a37d1fca5cb16ee1fef306',\n",
       " '241ef0bcba5e7236846105062c9d99e0cfa297e2',\n",
       " '5e9bb0f3e74be4d8f75cca6ceb3ec87b3e04d7cc',\n",
       " '6d31f0391547e6a56e63cf88948807c675650a5b',\n",
       " '5496654b0e517cc0a3c37786011d651c86425e45',\n",
       " '528ff02f6d6505bd121107edd69ab9c777a53d7e',\n",
       " 'a2976770da75e2144ae02e737e8211cc05255ec9',\n",
       " '6510ef26ad1da6c9c8863a8dc0428d122bb17c81',\n",
       " 'a72bbf818135b30ab24835e663bc8dcb7b8274ff',\n",
       " 'c76f473beee5eb2a03c9574976e9a638c9681836',\n",
       " '9972f870796edc67058f7568e34947c3feb89033',\n",
       " 'e460147584cd2dd8f2081df0d5ea01c1ba0813ca',\n",
       " '9852d8c1fff0afbd01b32ee8b72ce6b2de974c6b',\n",
       " 'c5269518351196e2d6a653b60fa7b024d329b95d',\n",
       " '99e568d08ad43f1dc9e9ad3fe138e90e6d5bcefe',\n",
       " 'b31e4669399e24c41c8026e1f8eb391c7d4da68d',\n",
       " '426f449a52d0ecf0cdd87ca99450a6a9ab8cfb58',\n",
       " 'dc2c30eed51a96a0c05568b21b8e796a64431f6e',\n",
       " '179be300a3656f6fb5df77ac6cdef1b1265b49f5',\n",
       " '8cedc0f9e4859d9ec40a1cd722506e51394881d0',\n",
       " '68f8ca9a402628a5d0134ce760771534bdbf2ff0',\n",
       " 'e3fe2987ba15fcee2699b9e4e275d520f201c743',\n",
       " '8792bdc6f3dfebe253e44a920a15e2844c65a5af',\n",
       " '48b439f323cfa7bdbd296883f1f51725c7c90de3',\n",
       " 'fcddef807d5be24f432af1cb0ce9eaea1e1822ed',\n",
       " '617dcea8e88f2e5020a21d52e455e9cd3645cc21',\n",
       " '6243a3819d26e562ebc9f363a9b4d2a644879d0f',\n",
       " '7f1d99c02eb68e042a8cfe90573eab340f217eef',\n",
       " 'af4afbf2465b3ff08ed9762e0c8810c101cb23d6',\n",
       " '123dc25b83e8e8e8c11af24fa32e286e5f938a8f',\n",
       " '66f5a9a44cb48d1391794c0941b4e03602d35942',\n",
       " '4a3e7eb231c351387b9e8adb3dc97dc956d94067',\n",
       " 'b7b225d85ec06e617b23aeb59f20c85baabcd967',\n",
       " 'a4c2131a637b85fbc5286c5ce96c8b7ab05e376a',\n",
       " '7082ce56bc8a583bb7838f024b6171d8f0015d6b',\n",
       " 'bcf769660b4b5644e317eec62a6e12b106d2312e',\n",
       " '4f2e118dfa0035ada9675a69de849cc035c56c96',\n",
       " '8e0409ecfd222523505c125445386159a62847be',\n",
       " '860ca3087b399ffef29c9453690b98a52d68fa76',\n",
       " '32c375bbc14bd06963b9a35f745e82297dcc90b7',\n",
       " 'bf1c9926fbeb4cb897d9ef29a173fb90d5a3c1e2',\n",
       " '1c0f98aff3f4ea171ab8ce509672ba80e67aed9c',\n",
       " '31a427cb9055afa0bddc66d685fce5580e0aefcd',\n",
       " '30ec607ac91739b00915de05404a40072187f30a',\n",
       " '2fca85e178c734ebae62fe44e215dbbf68464d70',\n",
       " '027a0b333e4ee894044eb73b8c9e9685d0cc9437',\n",
       " '0aba5218a015f0dd9824c806eba8092224085f6f',\n",
       " '174e3525466fe10f8370465d650411c80efa411e',\n",
       " '566335e2186af11f6d5b08398788e73ec3419c84',\n",
       " '62d86c86114655be8820a26bdfd18f8a57ec071a',\n",
       " 'f12c406b5f2aa5ad95d0b2d1b0c9695e4d1dee1d',\n",
       " '5d929577dbceb7e1e30ce725e39223bbdd284d4d',\n",
       " '47bbd78c67e8d51353a4e86009a22a3706ae7d03',\n",
       " 'f1c4a600e77ba034f3780df1d95bc784a348aea5',\n",
       " 'bc3da3227643a15389715d306487d25cf9f2c1cd',\n",
       " '8e6c889b136604856813962ad7d1be6b85902c9c',\n",
       " '268aece62d0208a487defd8ee6f3a663700785d2',\n",
       " '429eb824082ceaf6f0896019947a535fe7a58cab',\n",
       " '9d4d853857edf905e65258dbae78a2a8659d58a4',\n",
       " '40221e3af661308fb13b815589b52d61bd97a2a4',\n",
       " '0282e4075a6540a84d2f5c91ca5edd0a32205d2d',\n",
       " '559038f96b87b11504514d837674c341a5e0d915',\n",
       " 'fb6719d01b509fb02b87880f16c00697a420e026',\n",
       " 'b8b8ac9082fd5618788f272bfe7bf6972942cbe5',\n",
       " 'be5195170c174deecde0a520aa4ebf761533660c',\n",
       " 'd9604c579fb432bee1d7654a33a54e3f2e0c315e',\n",
       " '4350ddf185419f5765d22d6df91c781093b005f7',\n",
       " '8237c9db4dbeda194d5f776e3e59d7e9565a6ce7',\n",
       " '8a09943924779c6ed17172c0049827747fc1f86b',\n",
       " '5c0d159258baebce69d4a137f09a8db82203295c',\n",
       " '051a855480c8bcf9c93d462fa4a63ef1d4cee674',\n",
       " 'a399c4c0353cd05c81c25881d9e60cad9dc25721',\n",
       " '12d85f6c705a7f395e28d5a673a12d3df15e3e3b',\n",
       " 'eec9df0cd5be9c8db42246f28ddf1cf2f1bc692d',\n",
       " '6046b1ad6859c608d87080f07845777b3859982d',\n",
       " '7baae4f977b79c1888d71e6d6cf3d5dbe82d8c9c',\n",
       " '91028e204a2a81d3883594f3f2868c62f67235f5',\n",
       " '2f4132d69428bebdb2033430694e6b864cfc1af6',\n",
       " '4dbb0734f5c3ce557cdc2018e481dc2ee579874d',\n",
       " '31478651aef08aa03d5664c622f0aaa21f578e86',\n",
       " 'c8aaa993c4ff77288d273247ccc7027710203c06',\n",
       " '3c366a92cba7de367b03e8e8ede709ddb482240b',\n",
       " '020c0eb629ba2fd2c2779eff688fa779cdee3f04',\n",
       " '519910454b06824fffabb17cda6249dc3b08f49e',\n",
       " 'd24fd10c9de79820d4e74da5fbb49c8e21d90a24',\n",
       " '0a7683898d2cfe668e128ec80afcd3d5fa3e0ee3',\n",
       " 'aefc02aa5dd70dabe7486386035b11feaca0888b',\n",
       " 'a4563ed728a5ae36c2f01643aaad33527a9cc331',\n",
       " '3b6b9b9b5a27cead7334e52d69247e61969140be',\n",
       " 'e227fd7379a3a401ad6034ec33eab788b5b40036',\n",
       " 'f1b2534186f339e2be887a35bf6a15b25ee1466e',\n",
       " '7bc946d8dc3db31c577427a2b5193b5561718bf5',\n",
       " 'b2c8e4b4cfffbd0fd1588d6cb1648d64c95134d2',\n",
       " '1ffe7131d664a6ad6e90d453763dc329f5c8f9fe',\n",
       " '3a460b512d6b7995d9d893f003245b1ba1432eb2',\n",
       " '178b245c23c4ab1659fbcfab93fbacb920f71b05',\n",
       " 'fc5c35ea7ccdf34023fd3dc47c0a439da0e693ff',\n",
       " 'f7cd51ee4b79ac5a9328dca1705855810989562b',\n",
       " '7db38ac39358af71ba400b806861e7d680ed5767',\n",
       " '8b04ba604dffa94b3b979739f847f9f44c9d9ee2',\n",
       " '180ecc06a36a600f66206b5230176b7560c1b476',\n",
       " '5a5488fd5c0926ac598f702b5d796dd9669b1266',\n",
       " '641eadadc0ebd842ace1ce7017454da6a5c2aa97',\n",
       " '37739c4feb1e515f3856865741c2bc51949b72cf',\n",
       " '1601858bb60cb5b83dc0be73efca8dc06b19221c',\n",
       " '9a97fa90caca83bed116455010c21116018e67b2',\n",
       " '52110af180fd667bb587adabade40fc71fe811e6',\n",
       " 'd5d3b9e88fc156e2ad9f89b33a02768359d36238',\n",
       " 'e24119d6f41ae34bdd301157132eb1cd694e461a',\n",
       " 'f5c74425d4064954f225f3a21562117f0bbafc63',\n",
       " '3f9e3488c5a05bb4783cb03a90e695c5338919b1',\n",
       " '4e94f7496deef4f632d5c1da8a32de664919fa1f',\n",
       " 'e90e7667b26f05c64b3186c05357884d39e1b8d1',\n",
       " '4330152358dc55bab8728a71d789d730306a73f7',\n",
       " '737dfafa721ee0fe288d7ab3052885167189a466',\n",
       " '5cd2321da0a9c84db8aea08d239c8ae666e6566a',\n",
       " 'ce401258c0f460b6b02eff20fa97174d14d5594f',\n",
       " 'cb742f027fc0b2ecdc20b3472ad51458440e1f32',\n",
       " '010d1b055eae0ad3175ae379124a36d3c9c05e3c',\n",
       " '96122897f7b8ddd0d3e10f900b2a22ea00b3eb16',\n",
       " '0625452100ecbf0302cc0d2ad3a1bd5d43f08f73',\n",
       " '5bdb2dcc682270526e00d1ec9dcb22b89babf7e3',\n",
       " '95fdd2ff52e9a22a049ff55d7330db3e16e46318',\n",
       " '50fe7e4dc97a576427030a997068f7f03ce80399',\n",
       " '065514d564d28e91295ce2aa7a3b7c5fe5ec13ac',\n",
       " '7aeeb8d0e3c05acbeccd77c54597bd2d47d8bb0d',\n",
       " '7152371ff3913c6e87ecf1507883979fb1e3683f',\n",
       " '21d13680178235565ccf07350507541e024e2078',\n",
       " '1f52c70ae2cacd893d63580b39dbf1f5f8f14e16',\n",
       " '39391ab293e3d557b3ac4fb85c010a54d9d475fc',\n",
       " 'ab719cb751f66e7bec0df4ee43d9bb0d272b4a50',\n",
       " 'fa8f8f7dcf04085ccc7913a405000e098b00508d',\n",
       " 'cbc2813c8011edc36b4ed6bf18556f13a202076d',\n",
       " '8159dc7bce11fdb404b43b06fd6e33cb2f02b5e0',\n",
       " 'd8cf7f6bc2f07fd0f27a36cdf63569b667a0b514',\n",
       " 'dd3671347e1a59adf928e44edc6e6b891600acec',\n",
       " '57d391bbdc3bc2d0a4b66de6ce2e73eda74dfe2a',\n",
       " 'a7c82fb0091aaa4dcf898c36caafcfa4e5b77c34',\n",
       " 'b981d111b27dc17b867439d79aff5cfe9c00c0dc',\n",
       " 'efa62f1614551c2d0d85f6c46d443a07487251c8',\n",
       " 'c5598c88d74199707e58ae2303cce92b5c03f70e',\n",
       " '4763fb31ba6aa4d12b1d0d63e4f5895724c32b50',\n",
       " 'db3e5a4f84e9cbb4cafc8fb90ce8cb2a03dfb740',\n",
       " 'ec936cc6059ba26c461a0d2f92e36e4f3e93448b',\n",
       " 'ce99356d6bb24b2574d5ae0d63336ebb6111dd60',\n",
       " '2001e952a7453c417e52d6959c2f008fa9555a23',\n",
       " 'f7ce0ec51262204e26f8902b87cd9c82b0c46b7f',\n",
       " '74c6720507e1a8b8ad88565ec74b5dc8cb54c5a2',\n",
       " '3ed35eae89b2a189b37ea45d6e432cfee870e80f',\n",
       " 'd39ccc676962803d89bd4b497eec492b2624622c',\n",
       " '7f68a7385fae58ead1e7465d7b2f156d617bd5a3',\n",
       " '9cb00f873d963a18aa698d134548c74eb25e50f7',\n",
       " '6de63b89a82f92247c9205ca858fbdd507bf9f45',\n",
       " '7b552b2792b8823ea4c7a8ba1e1330bc647a7232',\n",
       " '4a62ad838eb3c23ba6c7259ad509fb3db4e59b1b',\n",
       " '237e4c1eb7114546f6aec80b61afef6d3fa91ab6',\n",
       " '017eec33d8940238148c77713ad0d12a268e6672',\n",
       " '5fea9bffc138ac8c1be6df3e50df65582a902955',\n",
       " '7bbd1762024afe9d9272eb24c594dfe984e81810',\n",
       " '00240a6dfe4053ab17a11e53dfe96d81083a304e',\n",
       " 'cb65a74cfb043c595569fe76c7eb163bdcc99c87',\n",
       " '2ce31dc6b51c6540a283106ee7e1f780fdb07fa5',\n",
       " 'c9d1833c215b67901422968f08fe795d8995ab7c',\n",
       " '2a9d0c5edf9533b12d49590ec6e8d6e6885ae1cc',\n",
       " '8bfc362eafc740ed4fa6119e740a9b1c5fd59c59',\n",
       " '7b03b28e7a7ad5328f1147a98a06ebcb7cb4f541',\n",
       " '87482bf8500518fed52600186f44a67d22558bd3',\n",
       " 'c069dbcb73939d2ee37fdfd84d6aedf88ab864a5',\n",
       " '5c45b3c224525f3245673dd797cfde62cf4160f6',\n",
       " '8d47325c7a51c4591865e3791c8f484144ac44d1',\n",
       " '9df2f4e313febdd47348851a2c5ea608b6b327d2',\n",
       " 'a39feaf9250fd5160d47abeb02a451ab99e1e82a',\n",
       " 'a946719797d17f33514576b7f1845a44bf021966',\n",
       " '515b12924f0978b634be87aaca3c3c97f87b0e19',\n",
       " 'be02834706ac39ef06bd894e6516f0f682717a1e',\n",
       " 'c02d6bff042b58bf0f36203dfc1e5778c47669fe',\n",
       " 'c596f771fd6e928ac7d60d94a4c7300a91bd05c5',\n",
       " '4b65d7aecd214d63612ba5b8139976a1a2714d45',\n",
       " '700f7588a9aceaa37ead03b39701ba0e08ec8d89',\n",
       " 'bfcd3d33f668e7a9ad164411ffb1279594ce44fb',\n",
       " 'f8cd876fc933886fae9cca0db3db4f194a7689ac',\n",
       " 'cb099217d144f4adff74b25807039db4a880eaa0',\n",
       " '590035d0dc623311f489ee3b36b0ba046ce6cf6d',\n",
       " '0b2ad4e210211600cd16c798d5824f194d136f69',\n",
       " 'f6dba40bf6fde1eb7a20b2700b0806d111f4853e',\n",
       " '2bdff17894b29c24954e7270d14c748a0df54831',\n",
       " 'a5cdec2213988380529132ff6bbfbf0dc59001c9',\n",
       " '7b62cd2cdc4e6cf9a6b4388dc8fad7761500b455',\n",
       " '925966074ce31557df2b9241c9c0b78e00de306f',\n",
       " '6dd091c8d42821585f83d2ba38dd82549f2e47ef',\n",
       " '0ed5e600dfdde7750daa9d22664fb190df352e66',\n",
       " 'c1037831df10c839ff8a4107b926b9fa90fcf0bd',\n",
       " '8a3f53497c430805664366783880bf29647310f4',\n",
       " 'f917610e763b3f00864ed09d4bc4b70849aeb472',\n",
       " 'a1c1fb73683cbdd65ad247d56b304ce9381bca1a',\n",
       " '23a4ffccd0938227aed65c0518de12cdd15a513a',\n",
       " 'e08dd9233623c070b3dad5ceaf9e3b50aba55eb1',\n",
       " 'b1265f9c4025d962081cea849b0892f2e6f5cdcc',\n",
       " 'fc3a52f3b19ecd7bf3d5d913b623c7ef705a7232',\n",
       " 'cbddf41f690f8bd69fffdfd4185fd9baf48efc93',\n",
       " '7ae5b2943cb2e8c896a11ce2c286a68ff9980757',\n",
       " '8904ed3646b1b1499bd127ed3d21ff00216348df',\n",
       " '29e6a86497276026705b4df969a0db49bda9f9ff',\n",
       " '780a25c9673a6efda028601755eefcf3edf5e800',\n",
       " '8d95414288b985b3bb3006b7db02ae249fbf83c2',\n",
       " 'd0facc95c7eb371270750f49e6ca8ec0cf486134',\n",
       " 'c51d60725510b036a2e3a220ff0466057b83a13d',\n",
       " '28cffd63920ec9b898814b3a8a42d1b95b3dde36',\n",
       " '788f7004ba6665e4f23fdbe654eb48b8cd30baee',\n",
       " '9d63243c8c2882c57c65bf29289517b3d3bf968a',\n",
       " '2afd705e4ce9609e5527c61c5ad7a06d320e533a',\n",
       " '07d62a477be0b7fdaa6e260b127d65cb5cb4b65b',\n",
       " '791611366ca24863181e9c445bc5a816b7a71584',\n",
       " '1cf241ab230b94a0f510b07086cfdb3aa8b2ba4b',\n",
       " 'e5929074d6d822d55e21afaa8d6769e8a96e4618',\n",
       " '921b4742b1b41f60cd7f6698350d41e514bd19f9',\n",
       " '1d78e848f01c120c98f221d22d9607f4b1bc751e',\n",
       " 'b05d06e50c9da6289db88d40bb226a641ff20fdb',\n",
       " 'f4d23ef7b5ff4f1413edbb53aca67cf5cf16a1df',\n",
       " '1db7f96c4888e14e462fa9983e7c8eeeec4442a6',\n",
       " '5bc5f8da2c2ea167c3841cb570077a17a2ba4c7b',\n",
       " '0b6f00f358dbdbecdd0515e7118416d654743230',\n",
       " '5e6abb0dd16608c1893755463a49fdb0185049a2',\n",
       " '59db459c818dd2bb68d428aea771f89deb02ef88',\n",
       " '7de551ca1ac2fa5896536e9ec17ccf826a07ff0b',\n",
       " '811e3123dbcf4d33f7d8c2e2e27abfc36f117d36',\n",
       " 'adc2c005eb47abe7caaec71047e63449bce73c92',\n",
       " '582e0d19e5015fc471285331155f57875959906d',\n",
       " '15a4a210c2acd74735ec7b669f55c088aa067397',\n",
       " 'd54b91e7a02600f609738632798916add5419bea',\n",
       " 'be54c5198400303b73346a9a1a14094c0fa78543',\n",
       " 'e64bfebfec387b560472fa518df0f544013609df',\n",
       " '6dc9ce06e9453674676aa66aa2dc17197f69052a',\n",
       " 'f6c1195667252a859e28c1caa55299a779c7cc4c',\n",
       " '9b9feaac640f9dd86e6c54b939c2a364fc14583a',\n",
       " 'd16ec0a455bea8265a0f0deaa20905c6e1422ae8',\n",
       " '45c04f7e774fff11bd849c09a7ed7089e93852b1',\n",
       " '037c46348830906d1cf640416af00923a78e2eb0',\n",
       " '9052116a065ff54093ef11ed2bde73f0db51f5af',\n",
       " '059f6df83f490fd5709af764d940609adf466eba',\n",
       " '1aa68f99a5aa0793b55c7d64fc5284bedbb28d43',\n",
       " '435efc33299f59084c633ef6bf08912f4797dc3a',\n",
       " 'e2ce13534785a4dc737be620db42812787848996',\n",
       " '36e7c632958db4f473fbd380fc58e34345846c3b',\n",
       " 'fd13aba4d7b78a04f9eb9490731945a2ee1456be',\n",
       " '9e2687f848b2bd407ce0f40b7512a847cde3b1bf',\n",
       " '59cb876815cd8a76343a0a2cf9b0d12cfe1ba66a',\n",
       " 'd0d74fc82c14ca3ef3b0b4675e3d2e0e87cb58b0',\n",
       " 'd4450115c9f236c87fa61a815337be58aba358df',\n",
       " 'c5d1a777afdb206afecb2658800551c55f01246d',\n",
       " '70295bb19fa5025c12528721f76062e01534fd27',\n",
       " 'c7ed8ba25186af1cc82c70523e2516287852fd85',\n",
       " '9c713bf42d9cd4aa57b1a09b2e60e7405d8ed43d',\n",
       " '4cd0102b81362157f87c0c8ea42b674814ee3e19',\n",
       " '1d57f2de10e09b173e621d9a29b524b04c13dfc1',\n",
       " '3da1bd0cd2b2472760c44f64c8735382475b9977',\n",
       " '20e6241b9bfe68bb21bbb240c3b451581b49b9b2',\n",
       " '5c70fe0c3a98e970284f524f283a8d71f3baab99',\n",
       " '265d1c01a463dbb7a03301e47132dd54b2e5a251',\n",
       " '23303ccd6f9cee536d9b3e61689b1ff32753243f',\n",
       " '14a579a38dc230db6ae38acbea8f1d59748cab2f',\n",
       " 'e0239057a8d21084352d09cc1891b90d319091be',\n",
       " 'ecfc4344323725f68363c40f68bd2c9a25749675',\n",
       " 'bad8862c23cd1f321a490afa242abaaa42e25e8f',\n",
       " '5f109268132b8e960ce3bb7ed85f058137ce1698',\n",
       " 'bdf648a3804565c9f5762881024557de34a76624',\n",
       " 'a340111f01ba5dcbd36a484999c360f82840a6d9',\n",
       " '42fc24ed0a31abafc1b0baaca920cb30916f0c1b',\n",
       " 'f4fc0ff5f7e386d7574cb0e68f9e4495259c4afb',\n",
       " 'db7e73fda57b6ddd402760989cc6a71a24dda69b',\n",
       " '016270664b9c11ede50bc86b191f2b673326f3f3',\n",
       " '994869925523adb86f06799f841cdf00a97ca790',\n",
       " ...]"
      ]
     },
     "execution_count": 10,
     "metadata": {},
     "output_type": "execute_result"
    }
   ],
   "source": [
    "visit_cited_papers()"
   ]
  },
  {
   "cell_type": "code",
   "execution_count": null,
   "id": "a513d4c1-240f-476c-95fd-d51eba9965ca",
   "metadata": {
    "scrolled": true
   },
   "outputs": [
    {
     "name": "stderr",
     "output_type": "stream",
     "text": [
      "  0%|                                      | 1/59545 [00:01<26:28:28,  1.60s/it]"
     ]
    },
    {
     "name": "stdout",
     "output_type": "stream",
     "text": [
      "Fail: status code 429 paper_id 9b85d3b3307ac97e0ba48f622e80b4b12a0bb84d\n"
     ]
    },
    {
     "name": "stderr",
     "output_type": "stream",
     "text": [
      "  0%|                                      | 3/59545 [00:04<27:01:56,  1.63s/it]"
     ]
    },
    {
     "name": "stdout",
     "output_type": "stream",
     "text": [
      "Fail: status code 429 paper_id 3071316ec436cf5db8e5dfd327c0bb31b90ed19b\n"
     ]
    },
    {
     "name": "stderr",
     "output_type": "stream",
     "text": [
      "  0%|                                      | 9/59545 [00:12<23:13:36,  1.40s/it]"
     ]
    },
    {
     "name": "stdout",
     "output_type": "stream",
     "text": [
      "Fail: status code 429 paper_id 18348ec40d78c8b9bfb3c7d10b4b5a1cb16586d8\n"
     ]
    },
    {
     "name": "stderr",
     "output_type": "stream",
     "text": [
      "  0%|                                     | 10/59545 [00:14<24:02:01,  1.45s/it]"
     ]
    },
    {
     "name": "stdout",
     "output_type": "stream",
     "text": [
      "Fail: status code 429 paper_id 1db04857e49b12fb0bc0d0d3c02e52d191b89ae4\n"
     ]
    },
    {
     "name": "stderr",
     "output_type": "stream",
     "text": [
      "  0%|                                     | 13/59545 [00:19<25:56:07,  1.57s/it]"
     ]
    },
    {
     "name": "stdout",
     "output_type": "stream",
     "text": [
      "Fail: status code 429 paper_id c28cb52a0be1ff70c002c33d6c1a6e95be45ce81\n"
     ]
    },
    {
     "name": "stderr",
     "output_type": "stream",
     "text": [
      "  0%|                                     | 18/59545 [00:25<21:03:27,  1.27s/it]"
     ]
    },
    {
     "name": "stdout",
     "output_type": "stream",
     "text": [
      "Fail: status code 429 paper_id 0bae0651fe084a2387d73fd0f9c6a8140e197151\n"
     ]
    },
    {
     "name": "stderr",
     "output_type": "stream",
     "text": [
      "  0%|                                     | 19/59545 [00:27<22:33:04,  1.36s/it]"
     ]
    },
    {
     "name": "stdout",
     "output_type": "stream",
     "text": [
      "Fail: status code 429 paper_id f6f79d50f4c4ada76faa05d504ad48722d7b1db4\n"
     ]
    },
    {
     "name": "stderr",
     "output_type": "stream",
     "text": [
      "  0%|                                     | 28/59545 [00:41<20:50:46,  1.26s/it]"
     ]
    },
    {
     "name": "stdout",
     "output_type": "stream",
     "text": [
      "Fail: status code 429 paper_id c9b6448e78cef885db60341922564f5e5063751b\n"
     ]
    },
    {
     "name": "stderr",
     "output_type": "stream",
     "text": [
      "  0%|                                     | 35/59545 [00:44<10:49:29,  1.53it/s]"
     ]
    },
    {
     "name": "stdout",
     "output_type": "stream",
     "text": [
      "Fail: status code 429 paper_id 405e258f49e75a6820f337528caca38273a5671c\n"
     ]
    },
    {
     "name": "stderr",
     "output_type": "stream",
     "text": [
      "  0%|                                      | 49/59545 [00:49<8:38:10,  1.91it/s]"
     ]
    },
    {
     "name": "stdout",
     "output_type": "stream",
     "text": [
      "Fail: status code 429 paper_id 52277b9e877e45967e9c9d0e115cd916f0c757c8\n"
     ]
    },
    {
     "name": "stderr",
     "output_type": "stream",
     "text": [
      "  0%|                                     | 58/59545 [01:04<25:16:00,  1.53s/it]"
     ]
    },
    {
     "name": "stdout",
     "output_type": "stream",
     "text": [
      "Fail: status code 429 paper_id aa7911cd6fccf70e50b1328c2208c0e15296665d\n"
     ]
    },
    {
     "name": "stderr",
     "output_type": "stream",
     "text": [
      "  0%|                                     | 67/59545 [01:18<26:53:31,  1.63s/it]"
     ]
    },
    {
     "name": "stdout",
     "output_type": "stream",
     "text": [
      "Fail: status code 429 paper_id 543aaa8400c2db06e17476bac72669d9bb8e24a4\n"
     ]
    },
    {
     "name": "stderr",
     "output_type": "stream",
     "text": [
      "  0%|                                     | 68/59545 [01:20<26:56:20,  1.63s/it]"
     ]
    },
    {
     "name": "stdout",
     "output_type": "stream",
     "text": [
      "Fail: status code 429 paper_id b36bd37b93106c72a8c0584257c19d8f12b4edfa\n"
     ]
    },
    {
     "name": "stderr",
     "output_type": "stream",
     "text": [
      "  0%|                                     | 69/59545 [01:21<26:28:17,  1.60s/it]"
     ]
    },
    {
     "name": "stdout",
     "output_type": "stream",
     "text": [
      "Fail: status code 429 paper_id 1dae31a071329c7c1f1f604ec28613b57e633b00\n"
     ]
    },
    {
     "name": "stderr",
     "output_type": "stream",
     "text": [
      "  0%|                                     | 73/59545 [01:28<26:55:14,  1.63s/it]"
     ]
    },
    {
     "name": "stdout",
     "output_type": "stream",
     "text": [
      "Fail: status code 429 paper_id f4d67c9752d40c089b7312780cc53dbd86689db0\n"
     ]
    },
    {
     "name": "stderr",
     "output_type": "stream",
     "text": [
      "  0%|                                     | 74/59545 [01:30<26:58:01,  1.63s/it]"
     ]
    },
    {
     "name": "stdout",
     "output_type": "stream",
     "text": [
      "Fail: status code 429 paper_id 98e6c589a1a5648e8851c3567320709351d7cd73\n"
     ]
    },
    {
     "name": "stderr",
     "output_type": "stream",
     "text": [
      "  0%|                                     | 75/59545 [01:31<26:59:31,  1.63s/it]"
     ]
    },
    {
     "name": "stdout",
     "output_type": "stream",
     "text": [
      "Fail: status code 429 paper_id 2d058447fe3fb3384c213de0399c2610ce3cb2b2\n"
     ]
    },
    {
     "name": "stderr",
     "output_type": "stream",
     "text": [
      "  0%|                                     | 76/59545 [01:33<26:39:19,  1.61s/it]"
     ]
    },
    {
     "name": "stdout",
     "output_type": "stream",
     "text": [
      "Fail: status code 429 paper_id 70afbf5476f79bc57710502364977fc8bd19d153\n"
     ]
    },
    {
     "name": "stderr",
     "output_type": "stream",
     "text": [
      "  0%|                                     | 79/59545 [01:37<25:19:43,  1.53s/it]"
     ]
    },
    {
     "name": "stdout",
     "output_type": "stream",
     "text": [
      "Fail: status code 429 paper_id 31da2244533fd583ffb98362c8d3547443857d78\n"
     ]
    },
    {
     "name": "stderr",
     "output_type": "stream",
     "text": [
      "  0%|                                     | 81/59545 [01:40<24:41:14,  1.49s/it]"
     ]
    },
    {
     "name": "stdout",
     "output_type": "stream",
     "text": [
      "Fail: status code 429 paper_id 1833aa5b71f46907a333714f4a4256e1e2cf2206\n"
     ]
    },
    {
     "name": "stderr",
     "output_type": "stream",
     "text": [
      "  0%|                                     | 82/59545 [01:42<25:24:06,  1.54s/it]"
     ]
    },
    {
     "name": "stdout",
     "output_type": "stream",
     "text": [
      "Fail: status code 429 paper_id fee3d430e522aee1ce22885795cbba0adc25d1b8\n"
     ]
    },
    {
     "name": "stderr",
     "output_type": "stream",
     "text": [
      "  0%|                                     | 83/59545 [01:44<25:53:57,  1.57s/it]"
     ]
    },
    {
     "name": "stdout",
     "output_type": "stream",
     "text": [
      "Fail: status code 429 paper_id d12fdd94bba025f919cdf5b4fa2daef9ae3f8331\n"
     ]
    },
    {
     "name": "stderr",
     "output_type": "stream",
     "text": [
      "  0%|                                     | 88/59545 [01:52<27:13:44,  1.65s/it]"
     ]
    },
    {
     "name": "stdout",
     "output_type": "stream",
     "text": [
      "Fail: status code 429 paper_id 96f5938a6a01693168b8858c8ab5f0787d98b7f7\n"
     ]
    },
    {
     "name": "stderr",
     "output_type": "stream",
     "text": [
      "  0%|                                     | 92/59545 [01:58<26:43:04,  1.62s/it]"
     ]
    },
    {
     "name": "stdout",
     "output_type": "stream",
     "text": [
      "Fail: status code 429 paper_id e0a7de219b4621495b91f98dd2bd588279e899ac\n"
     ]
    },
    {
     "name": "stderr",
     "output_type": "stream",
     "text": [
      "  0%|                                     | 99/59545 [02:09<24:52:38,  1.51s/it]"
     ]
    },
    {
     "name": "stdout",
     "output_type": "stream",
     "text": [
      "Fail: status code 429 paper_id b98a270d83e6a4d20542f8709a5f7f27391462b3\n"
     ]
    },
    {
     "name": "stderr",
     "output_type": "stream",
     "text": [
      "  0%|                                    | 115/59545 [02:33<25:41:38,  1.56s/it]"
     ]
    },
    {
     "name": "stdout",
     "output_type": "stream",
     "text": [
      "Fail: status code 429 paper_id 27387572208cf777fb2c55db8880dd5407d0e779\n"
     ]
    },
    {
     "name": "stderr",
     "output_type": "stream",
     "text": [
      "  0%|                                    | 116/59545 [02:35<26:01:47,  1.58s/it]"
     ]
    },
    {
     "name": "stdout",
     "output_type": "stream",
     "text": [
      "Fail: status code 429 paper_id c133816f3ead6e4b0f17cfb946bddd05a3f389e5\n"
     ]
    },
    {
     "name": "stderr",
     "output_type": "stream",
     "text": [
      "  0%|                                    | 117/59545 [02:36<26:19:07,  1.59s/it]"
     ]
    },
    {
     "name": "stdout",
     "output_type": "stream",
     "text": [
      "Fail: status code 429 paper_id e363c4346232d25131cede327c8f3e8733c7eed5\n"
     ]
    },
    {
     "name": "stderr",
     "output_type": "stream",
     "text": [
      "  0%|                                    | 118/59545 [02:38<26:32:24,  1.61s/it]"
     ]
    },
    {
     "name": "stdout",
     "output_type": "stream",
     "text": [
      "Fail: status code 429 paper_id 46ee81606e9c9cbcc73f3534df6d72df0a0ae542\n"
     ]
    },
    {
     "name": "stderr",
     "output_type": "stream",
     "text": [
      "  0%|                                    | 119/59545 [02:40<27:14:18,  1.65s/it]"
     ]
    },
    {
     "name": "stdout",
     "output_type": "stream",
     "text": [
      "Fail: status code 429 paper_id 47cbefb68fddfb28b06e11e211938a819720b2b1\n"
     ]
    },
    {
     "name": "stderr",
     "output_type": "stream",
     "text": [
      "  0%|                                    | 120/59545 [02:41<27:08:10,  1.64s/it]"
     ]
    },
    {
     "name": "stdout",
     "output_type": "stream",
     "text": [
      "Fail: status code 429 paper_id 9d10eac7b7a9010c27c8e55d33694a94c678b2a4\n"
     ]
    },
    {
     "name": "stderr",
     "output_type": "stream",
     "text": [
      "  0%|                                    | 123/59545 [02:44<19:40:43,  1.19s/it]"
     ]
    },
    {
     "name": "stdout",
     "output_type": "stream",
     "text": [
      "Fail: status code 429 paper_id 52050fc14b3c3257690b3d1ee1284c91068c6d24\n"
     ]
    },
    {
     "name": "stderr",
     "output_type": "stream",
     "text": [
      "  0%|                                    | 126/59545 [02:49<23:23:14,  1.42s/it]"
     ]
    },
    {
     "name": "stdout",
     "output_type": "stream",
     "text": [
      "Fail: status code 429 paper_id f13f014f51dd425661e3202067c5ef5052fe4d6a\n"
     ]
    },
    {
     "name": "stderr",
     "output_type": "stream",
     "text": [
      "  0%|                                    | 127/59545 [02:50<24:24:44,  1.48s/it]"
     ]
    },
    {
     "name": "stdout",
     "output_type": "stream",
     "text": [
      "Fail: status code 429 paper_id cc3cb6b0ea04eb35c1907e3917a4db4b435c95b1\n"
     ]
    },
    {
     "name": "stderr",
     "output_type": "stream",
     "text": [
      "  0%|                                    | 128/59545 [02:52<25:09:47,  1.52s/it]"
     ]
    },
    {
     "name": "stdout",
     "output_type": "stream",
     "text": [
      "Fail: status code 429 paper_id 279b3d7c2aa0506fcf7c8e0a8fabe1e28100ad58\n"
     ]
    },
    {
     "name": "stderr",
     "output_type": "stream",
     "text": [
      "  0%|                                    | 130/59545 [02:55<26:05:49,  1.58s/it]"
     ]
    },
    {
     "name": "stdout",
     "output_type": "stream",
     "text": [
      "Fail: status code 429 paper_id 04315fbe6554edc9b5d76c99f64b8d1a6f26f7af\n"
     ]
    },
    {
     "name": "stderr",
     "output_type": "stream",
     "text": [
      "  0%|                                    | 131/59545 [02:57<26:22:19,  1.60s/it]"
     ]
    },
    {
     "name": "stdout",
     "output_type": "stream",
     "text": [
      "Fail: status code 429 paper_id bc9063c31086b497b68d3bc44311a1de0cd3739f\n"
     ]
    },
    {
     "name": "stderr",
     "output_type": "stream",
     "text": [
      "  0%|                                    | 133/59545 [03:00<25:33:28,  1.55s/it]"
     ]
    },
    {
     "name": "stdout",
     "output_type": "stream",
     "text": [
      "Fail: status code 429 paper_id af67486a4546f309a84a96e288e9be6aca1f9013\n"
     ]
    },
    {
     "name": "stderr",
     "output_type": "stream",
     "text": [
      "  0%|                                    | 134/59545 [03:02<25:37:38,  1.55s/it]"
     ]
    },
    {
     "name": "stdout",
     "output_type": "stream",
     "text": [
      "Fail: status code 429 paper_id 00309b5b1fa392c3eead280c4483ff9d7dda7616\n"
     ]
    },
    {
     "name": "stderr",
     "output_type": "stream",
     "text": [
      "  0%|                                    | 135/59545 [03:03<25:55:04,  1.57s/it]"
     ]
    },
    {
     "name": "stdout",
     "output_type": "stream",
     "text": [
      "Fail: status code 429 paper_id da9018bb497909a0c676dbafb4f4ee36401e031d\n"
     ]
    },
    {
     "name": "stderr",
     "output_type": "stream",
     "text": [
      "  0%|                                    | 136/59545 [03:05<26:00:38,  1.58s/it]"
     ]
    },
    {
     "name": "stdout",
     "output_type": "stream",
     "text": [
      "Fail: status code 429 paper_id 9ba542a8bb010f99aa772c71049729f473684450\n"
     ]
    },
    {
     "name": "stderr",
     "output_type": "stream",
     "text": [
      "  0%|                                    | 137/59545 [03:07<26:37:57,  1.61s/it]"
     ]
    },
    {
     "name": "stdout",
     "output_type": "stream",
     "text": [
      "Fail: status code 429 paper_id 56b597a0b3adf8ebe83bac08b4d6d77bd5164c81\n"
     ]
    },
    {
     "name": "stderr",
     "output_type": "stream",
     "text": [
      "  0%|                                    | 138/59545 [03:08<26:40:38,  1.62s/it]"
     ]
    },
    {
     "name": "stdout",
     "output_type": "stream",
     "text": [
      "Fail: status code 429 paper_id e3e8cf1f8d5f7f4f9fd6a0409e2a6fe7f0e28778\n"
     ]
    },
    {
     "name": "stderr",
     "output_type": "stream",
     "text": [
      "  0%|                                    | 139/59545 [03:10<26:47:28,  1.62s/it]"
     ]
    },
    {
     "name": "stdout",
     "output_type": "stream",
     "text": [
      "Fail: status code 429 paper_id ebc6bbcce1673dc814e42b56f36a0056ee5e2f29\n"
     ]
    },
    {
     "name": "stderr",
     "output_type": "stream",
     "text": [
      "  0%|                                    | 140/59545 [03:12<27:24:15,  1.66s/it]"
     ]
    },
    {
     "name": "stdout",
     "output_type": "stream",
     "text": [
      "Fail: status code 429 paper_id 59dad43d9b946b1fa3d4833579642f1725298ff5\n"
     ]
    },
    {
     "name": "stderr",
     "output_type": "stream",
     "text": [
      "  0%|                                    | 141/59545 [03:13<27:15:44,  1.65s/it]"
     ]
    },
    {
     "name": "stdout",
     "output_type": "stream",
     "text": [
      "Fail: status code 429 paper_id a013c498b400a5f8c7593068a90a30a259a4e565\n"
     ]
    },
    {
     "name": "stderr",
     "output_type": "stream",
     "text": [
      "  0%|                                    | 142/59545 [03:15<27:11:07,  1.65s/it]"
     ]
    },
    {
     "name": "stdout",
     "output_type": "stream",
     "text": [
      "Fail: status code 429 paper_id accd3131c9c5b96ba92663f28e6c05dec34d111c\n"
     ]
    },
    {
     "name": "stderr",
     "output_type": "stream",
     "text": [
      "  0%|                                    | 144/59545 [03:17<21:16:06,  1.29s/it]"
     ]
    },
    {
     "name": "stdout",
     "output_type": "stream",
     "text": [
      "Fail: status code 429 paper_id 416fc25f446ea1cba804325944f3f26aa13c3219\n"
     ]
    },
    {
     "name": "stderr",
     "output_type": "stream",
     "text": [
      "  0%|                                    | 145/59545 [03:18<21:26:12,  1.30s/it]"
     ]
    },
    {
     "name": "stdout",
     "output_type": "stream",
     "text": [
      "Fail: status code 429 paper_id a27772e0dfcbc38d81a1dfd098a7cd5eebee7d34\n"
     ]
    },
    {
     "name": "stderr",
     "output_type": "stream",
     "text": [
      "  0%|                                    | 146/59545 [03:19<21:34:24,  1.31s/it]"
     ]
    },
    {
     "name": "stdout",
     "output_type": "stream",
     "text": [
      "Fail: status code 429 paper_id 423d041626cc83ac610a909d59ea89185d78736f\n"
     ]
    },
    {
     "name": "stderr",
     "output_type": "stream",
     "text": [
      "  0%|                                    | 147/59545 [03:21<23:03:29,  1.40s/it]"
     ]
    },
    {
     "name": "stdout",
     "output_type": "stream",
     "text": [
      "Fail: status code 429 paper_id db23ac2c318b1ae1ec6be149f677441b0b1a9c8c\n"
     ]
    },
    {
     "name": "stderr",
     "output_type": "stream",
     "text": [
      "  0%|                                    | 148/59545 [03:23<24:10:14,  1.46s/it]"
     ]
    },
    {
     "name": "stdout",
     "output_type": "stream",
     "text": [
      "Fail: status code 429 paper_id 0298be1c904296b8d85bc771c64337ca2adbf519\n"
     ]
    },
    {
     "name": "stderr",
     "output_type": "stream",
     "text": [
      "  0%|                                    | 149/59545 [03:24<24:58:39,  1.51s/it]"
     ]
    },
    {
     "name": "stdout",
     "output_type": "stream",
     "text": [
      "Fail: status code 429 paper_id 90dcdf8f53c6e988c065112be7de09dfc04ec67f\n"
     ]
    },
    {
     "name": "stderr",
     "output_type": "stream",
     "text": [
      "  0%|                                    | 152/59545 [03:29<26:21:17,  1.60s/it]"
     ]
    },
    {
     "name": "stdout",
     "output_type": "stream",
     "text": [
      "Fail: status code 429 paper_id ef92be238fda1ddd58932775fb08bcc9f19aafeb\n"
     ]
    },
    {
     "name": "stderr",
     "output_type": "stream",
     "text": [
      "  0%|                                    | 154/59545 [03:32<25:36:59,  1.55s/it]"
     ]
    },
    {
     "name": "stdout",
     "output_type": "stream",
     "text": [
      "Fail: status code 429 paper_id cb2a60a1367a017043a5e3d55114ba51c35dab7e\n"
     ]
    },
    {
     "name": "stderr",
     "output_type": "stream",
     "text": [
      "  0%|                                    | 155/59545 [03:34<26:02:22,  1.58s/it]"
     ]
    },
    {
     "name": "stdout",
     "output_type": "stream",
     "text": [
      "Fail: status code 429 paper_id c3acc9fd01af3f2df1d31a1d1cc742f0a105d656\n"
     ]
    },
    {
     "name": "stderr",
     "output_type": "stream",
     "text": [
      "  0%|                                    | 156/59545 [03:35<26:20:05,  1.60s/it]"
     ]
    },
    {
     "name": "stdout",
     "output_type": "stream",
     "text": [
      "Fail: status code 429 paper_id 2a421f952f1972f6e2da185c60a3d116601d68e8\n"
     ]
    },
    {
     "name": "stderr",
     "output_type": "stream",
     "text": [
      "  0%|                                    | 157/59545 [03:37<26:32:31,  1.61s/it]"
     ]
    },
    {
     "name": "stdout",
     "output_type": "stream",
     "text": [
      "Fail: status code 429 paper_id 5f55813248e67d189689752ff04d733d20c30a6a\n"
     ]
    },
    {
     "name": "stderr",
     "output_type": "stream",
     "text": [
      "  0%|                                    | 158/59545 [03:39<26:41:05,  1.62s/it]"
     ]
    },
    {
     "name": "stdout",
     "output_type": "stream",
     "text": [
      "Fail: status code 429 paper_id 04b58240f67a6495c46b4874a9521806ab15003d\n"
     ]
    },
    {
     "name": "stderr",
     "output_type": "stream",
     "text": [
      "  0%|                                    | 159/59545 [03:40<26:47:21,  1.62s/it]"
     ]
    },
    {
     "name": "stdout",
     "output_type": "stream",
     "text": [
      "Fail: status code 429 paper_id 81c3f39258d9cee8a9289f71341f12f5f4b01716\n"
     ]
    },
    {
     "name": "stderr",
     "output_type": "stream",
     "text": [
      "  0%|                                    | 160/59545 [03:42<25:20:24,  1.54s/it]"
     ]
    },
    {
     "name": "stdout",
     "output_type": "stream",
     "text": [
      "Fail: status code 429 paper_id c262df730ed671d77d3a25615965341464116eae\n"
     ]
    },
    {
     "name": "stderr",
     "output_type": "stream",
     "text": [
      "  0%|                                    | 161/59545 [03:43<25:50:49,  1.57s/it]"
     ]
    },
    {
     "name": "stdout",
     "output_type": "stream",
     "text": [
      "Fail: status code 429 paper_id f8601d4cea8d0d4d7e6fba5643843a945292db32\n"
     ]
    },
    {
     "name": "stderr",
     "output_type": "stream",
     "text": [
      "  0%|                                    | 163/59545 [03:46<23:51:40,  1.45s/it]"
     ]
    },
    {
     "name": "stdout",
     "output_type": "stream",
     "text": [
      "Fail: status code 429 paper_id 1e0922720fb12069bbb6bbb8b49f096eece9fb87\n"
     ]
    },
    {
     "name": "stderr",
     "output_type": "stream",
     "text": [
      "  0%|                                    | 164/59545 [03:48<24:50:25,  1.51s/it]"
     ]
    },
    {
     "name": "stdout",
     "output_type": "stream",
     "text": [
      "Fail: status code 429 paper_id f0c335cc7d8ecc7b6b0ee1a5516e32df658b1f35\n"
     ]
    },
    {
     "name": "stderr",
     "output_type": "stream",
     "text": [
      "  0%|                                    | 167/59545 [03:52<26:15:52,  1.59s/it]"
     ]
    },
    {
     "name": "stdout",
     "output_type": "stream",
     "text": [
      "Fail: status code 429 paper_id 8430997d1f1a3c6f99e517004f88d4d1ac4869c5\n"
     ]
    },
    {
     "name": "stderr",
     "output_type": "stream",
     "text": [
      "  0%|                                    | 168/59545 [03:54<26:29:38,  1.61s/it]"
     ]
    },
    {
     "name": "stdout",
     "output_type": "stream",
     "text": [
      "Fail: status code 429 paper_id ecceaf2cb9419e90b164b3d634824b699927ca91\n"
     ]
    },
    {
     "name": "stderr",
     "output_type": "stream",
     "text": [
      "  0%|                                    | 169/59545 [03:56<26:38:42,  1.62s/it]"
     ]
    },
    {
     "name": "stdout",
     "output_type": "stream",
     "text": [
      "Fail: status code 429 paper_id 80009aff443ba823c4586e2608f9f87424df3e0e\n"
     ]
    },
    {
     "name": "stderr",
     "output_type": "stream",
     "text": [
      "  0%|                                    | 170/59545 [03:57<26:45:41,  1.62s/it]"
     ]
    },
    {
     "name": "stdout",
     "output_type": "stream",
     "text": [
      "Fail: status code 429 paper_id f7652d7225543d891d3d5a6318925a5a481618ca\n"
     ]
    },
    {
     "name": "stderr",
     "output_type": "stream",
     "text": [
      "  0%|                                    | 171/59545 [03:59<24:52:31,  1.51s/it]"
     ]
    },
    {
     "name": "stdout",
     "output_type": "stream",
     "text": [
      "Fail: status code 429 paper_id 70d71af0705a484928fd9b8189ca331b57c8d188\n"
     ]
    },
    {
     "name": "stderr",
     "output_type": "stream",
     "text": [
      "  0%|                                    | 172/59545 [04:00<25:27:56,  1.54s/it]"
     ]
    },
    {
     "name": "stdout",
     "output_type": "stream",
     "text": [
      "Fail: status code 429 paper_id e8b725c49e18a28bbdad9f1623f176b32b9e52d0\n"
     ]
    },
    {
     "name": "stderr",
     "output_type": "stream",
     "text": [
      "  0%|                                    | 174/59545 [04:02<19:58:19,  1.21s/it]"
     ]
    },
    {
     "name": "stdout",
     "output_type": "stream",
     "text": [
      "Fail: status code 429 paper_id 476124d8221f9ea7b1272e8daca4f92f59c1409f\n"
     ]
    },
    {
     "name": "stderr",
     "output_type": "stream",
     "text": [
      "  0%|                                    | 178/59545 [04:08<24:53:28,  1.51s/it]"
     ]
    },
    {
     "name": "stdout",
     "output_type": "stream",
     "text": [
      "Fail: status code 429 paper_id f4b1c42e55a84ed565fce6cfb6712d334dcb38ed\n"
     ]
    },
    {
     "name": "stderr",
     "output_type": "stream",
     "text": [
      "  0%|                                    | 182/59545 [04:13<21:11:14,  1.28s/it]"
     ]
    },
    {
     "name": "stdout",
     "output_type": "stream",
     "text": [
      "Fail: status code 429 paper_id bb2116bac9257c34f9f99e2a952139a2d4bb00b8\n"
     ]
    },
    {
     "name": "stderr",
     "output_type": "stream",
     "text": [
      "  0%|                                    | 191/59545 [04:28<27:04:11,  1.64s/it]"
     ]
    },
    {
     "name": "stdout",
     "output_type": "stream",
     "text": [
      "Fail: status code 429 paper_id 52a02a99c5bb79a7e4ebddd8fa9867e22aff6c97\n"
     ]
    },
    {
     "name": "stderr",
     "output_type": "stream",
     "text": [
      "  0%|                                    | 201/59545 [04:41<23:54:49,  1.45s/it]"
     ]
    },
    {
     "name": "stdout",
     "output_type": "stream",
     "text": [
      "Fail: status code 429 paper_id e5a1d2a4622bef28ea2936efce2de78230e1d53a\n"
     ]
    },
    {
     "name": "stderr",
     "output_type": "stream",
     "text": [
      "  0%|▏                                   | 208/59545 [04:52<26:12:00,  1.59s/it]"
     ]
    },
    {
     "name": "stdout",
     "output_type": "stream",
     "text": [
      "Fail: status code 429 paper_id 979849b70905b4a6c6ab191b457c44e5cc3fb6d2\n"
     ]
    },
    {
     "name": "stderr",
     "output_type": "stream",
     "text": [
      "  0%|▏                                   | 235/59545 [05:34<24:47:22,  1.50s/it]"
     ]
    },
    {
     "name": "stdout",
     "output_type": "stream",
     "text": [
      "Fail: status code 429 paper_id 209ce2c3f0ce5eb442dc8533ad4b9c73e78aa506\n"
     ]
    },
    {
     "name": "stderr",
     "output_type": "stream",
     "text": [
      "  0%|▏                                   | 250/59545 [05:55<24:08:00,  1.47s/it]"
     ]
    },
    {
     "name": "stdout",
     "output_type": "stream",
     "text": [
      "Fail: status code 429 paper_id 6259ad4d0992252b72b0e6af0d19b03ddcba6d9e\n"
     ]
    },
    {
     "name": "stderr",
     "output_type": "stream",
     "text": [
      "  0%|▏                                   | 251/59545 [05:57<24:56:26,  1.51s/it]"
     ]
    },
    {
     "name": "stdout",
     "output_type": "stream",
     "text": [
      "Fail: status code 429 paper_id 38ff3a01e30d2244d9439d3c7c68533e195310fb\n"
     ]
    },
    {
     "name": "stderr",
     "output_type": "stream",
     "text": [
      "  0%|▏                                   | 252/59545 [05:58<25:30:43,  1.55s/it]"
     ]
    },
    {
     "name": "stdout",
     "output_type": "stream",
     "text": [
      "Fail: status code 429 paper_id 0d2b32f8aec73f09a2d5d1e2f77b2e941ebf7002\n"
     ]
    },
    {
     "name": "stderr",
     "output_type": "stream",
     "text": [
      "  0%|▏                                   | 254/59545 [06:01<24:45:49,  1.50s/it]"
     ]
    },
    {
     "name": "stdout",
     "output_type": "stream",
     "text": [
      "Fail: status code 429 paper_id 1cd0a36db369abdf152e5007b47e2ca3eaebde0c\n"
     ]
    },
    {
     "name": "stderr",
     "output_type": "stream",
     "text": [
      "  0%|▏                                   | 256/59545 [06:05<25:23:34,  1.54s/it]"
     ]
    },
    {
     "name": "stdout",
     "output_type": "stream",
     "text": [
      "Fail: status code 429 paper_id 024c9e9327edd1f6ed69eb9850cfaf5c2b266be9\n"
     ]
    },
    {
     "name": "stderr",
     "output_type": "stream",
     "text": [
      "  0%|▏                                   | 258/59545 [06:08<26:11:18,  1.59s/it]"
     ]
    },
    {
     "name": "stdout",
     "output_type": "stream",
     "text": [
      "Fail: status code 429 paper_id eadc9d297dc924d4c3e16f8a2b1d4606953ed4dd\n"
     ]
    },
    {
     "name": "stderr",
     "output_type": "stream",
     "text": [
      "  0%|▏                                   | 259/59545 [06:10<26:26:55,  1.61s/it]"
     ]
    },
    {
     "name": "stdout",
     "output_type": "stream",
     "text": [
      "Fail: status code 429 paper_id 417e6d8ceaf80d10e33eb4aa33da85049c602149\n"
     ]
    },
    {
     "name": "stderr",
     "output_type": "stream",
     "text": [
      "  0%|▏                                   | 262/59545 [06:14<26:47:22,  1.63s/it]"
     ]
    },
    {
     "name": "stdout",
     "output_type": "stream",
     "text": [
      "Fail: status code 429 paper_id e6b9aab8f451d03f9975fe962f9365ea4ce60d0c\n"
     ]
    },
    {
     "name": "stderr",
     "output_type": "stream",
     "text": [
      "  0%|▏                                   | 263/59545 [06:16<25:19:33,  1.54s/it]"
     ]
    },
    {
     "name": "stdout",
     "output_type": "stream",
     "text": [
      "Fail: status code 429 paper_id 0ab3e75f1630a12e6aed0b6a1a927964219232d0\n"
     ]
    },
    {
     "name": "stderr",
     "output_type": "stream",
     "text": [
      "  0%|▏                                   | 269/59545 [06:22<20:29:17,  1.24s/it]"
     ]
    },
    {
     "name": "stdout",
     "output_type": "stream",
     "text": [
      "Fail: status code 429 paper_id ad440832e6a33a2235e3a372ba09af3b41bfb783\n"
     ]
    },
    {
     "name": "stderr",
     "output_type": "stream",
     "text": [
      "  0%|▏                                   | 272/59545 [06:27<23:32:08,  1.43s/it]"
     ]
    },
    {
     "name": "stdout",
     "output_type": "stream",
     "text": [
      "Fail: status code 429 paper_id 2c0af3d414eafbec3e8b85de54d285ae44239840\n"
     ]
    },
    {
     "name": "stderr",
     "output_type": "stream",
     "text": [
      "  1%|▏                                   | 390/59545 [09:00<25:22:53,  1.54s/it]"
     ]
    },
    {
     "name": "stdout",
     "output_type": "stream",
     "text": [
      "Fail: status code 429 paper_id 6b8b39aaf8297756fc755064437db212e6a7d467\n"
     ]
    },
    {
     "name": "stderr",
     "output_type": "stream",
     "text": [
      "  1%|▏                                   | 391/59545 [09:01<25:49:51,  1.57s/it]"
     ]
    },
    {
     "name": "stdout",
     "output_type": "stream",
     "text": [
      "Fail: status code 429 paper_id 857138baa0ee48b1f9c1d617a16a5beecc963d78\n"
     ]
    },
    {
     "name": "stderr",
     "output_type": "stream",
     "text": [
      "  1%|▏                                   | 392/59545 [09:03<26:09:11,  1.59s/it]"
     ]
    },
    {
     "name": "stdout",
     "output_type": "stream",
     "text": [
      "Fail: status code 429 paper_id 69ae2d6128094a3a97e503badeaff4989519828e\n"
     ]
    },
    {
     "name": "stderr",
     "output_type": "stream",
     "text": [
      "  1%|▏                                   | 393/59545 [09:05<26:22:52,  1.61s/it]"
     ]
    },
    {
     "name": "stdout",
     "output_type": "stream",
     "text": [
      "Fail: status code 429 paper_id 17119282c4661329aef3e100df925fb9ed1e7f05\n"
     ]
    },
    {
     "name": "stderr",
     "output_type": "stream",
     "text": [
      "  1%|▏                                   | 395/59545 [09:06<20:28:45,  1.25s/it]"
     ]
    },
    {
     "name": "stdout",
     "output_type": "stream",
     "text": [
      "Fail: status code 429 paper_id 0b3be8e79a977d77d80a6f57baaf449ae64962aa\n"
     ]
    },
    {
     "name": "stderr",
     "output_type": "stream",
     "text": [
      "  1%|▏                                   | 396/59545 [09:08<22:02:58,  1.34s/it]"
     ]
    },
    {
     "name": "stdout",
     "output_type": "stream",
     "text": [
      "Fail: status code 429 paper_id 5a4122add1e631ffc45367a1467e2693e28fb6b5\n"
     ]
    },
    {
     "name": "stderr",
     "output_type": "stream",
     "text": [
      "  1%|▏                                   | 397/59545 [09:10<22:51:08,  1.39s/it]"
     ]
    },
    {
     "name": "stdout",
     "output_type": "stream",
     "text": [
      "Fail: status code 429 paper_id 9a5c3d04cde121acd808b8a7d6ef7a4014b2cb72\n"
     ]
    },
    {
     "name": "stderr",
     "output_type": "stream",
     "text": [
      "  1%|▏                                   | 398/59545 [09:11<23:59:06,  1.46s/it]"
     ]
    },
    {
     "name": "stdout",
     "output_type": "stream",
     "text": [
      "Fail: status code 429 paper_id 8dc8ce191a565f665f2319b024baac9a7cbe521f\n"
     ]
    },
    {
     "name": "stderr",
     "output_type": "stream",
     "text": [
      "  1%|▏                                   | 399/59545 [09:13<24:47:47,  1.51s/it]"
     ]
    },
    {
     "name": "stdout",
     "output_type": "stream",
     "text": [
      "Fail: status code 429 paper_id 3aedc5997c36befdbecd4b225588e7f404638b45\n"
     ]
    },
    {
     "name": "stderr",
     "output_type": "stream",
     "text": [
      "  1%|▏                                   | 403/59545 [09:19<26:12:05,  1.59s/it]"
     ]
    },
    {
     "name": "stdout",
     "output_type": "stream",
     "text": [
      "Fail: status code 429 paper_id c794dcb58b4b8bd67cb39744ea8552eed339850e\n"
     ]
    },
    {
     "name": "stderr",
     "output_type": "stream",
     "text": [
      "  1%|▏                                   | 404/59545 [09:21<26:05:21,  1.59s/it]"
     ]
    },
    {
     "name": "stdout",
     "output_type": "stream",
     "text": [
      "Fail: status code 429 paper_id ef80ef9a7c548c4364780ee3fa3b00ecfde90a60\n"
     ]
    },
    {
     "name": "stderr",
     "output_type": "stream",
     "text": [
      "  1%|▏                                   | 405/59545 [09:22<24:50:10,  1.51s/it]"
     ]
    },
    {
     "name": "stdout",
     "output_type": "stream",
     "text": [
      "Fail: status code 429 paper_id a37c236803455afd7da3dc027e7865a0414a5697\n"
     ]
    },
    {
     "name": "stderr",
     "output_type": "stream",
     "text": [
      "  1%|▏                                   | 406/59545 [09:24<25:27:34,  1.55s/it]"
     ]
    },
    {
     "name": "stdout",
     "output_type": "stream",
     "text": [
      "Fail: status code 429 paper_id 887cc6cf7f4f5ed7c15d45bba5f7d70839dada30\n"
     ]
    },
    {
     "name": "stderr",
     "output_type": "stream",
     "text": [
      "  1%|▏                                   | 407/59545 [09:26<25:53:16,  1.58s/it]"
     ]
    },
    {
     "name": "stdout",
     "output_type": "stream",
     "text": [
      "Fail: status code 429 paper_id f8f7a1611d17b2c41bb864c19c80f0e13e7a211c\n"
     ]
    },
    {
     "name": "stderr",
     "output_type": "stream",
     "text": [
      "  1%|▏                                   | 408/59545 [09:27<26:11:42,  1.59s/it]"
     ]
    },
    {
     "name": "stdout",
     "output_type": "stream",
     "text": [
      "Fail: status code 429 paper_id 7318e84f1e1b1301758493021f64d0b16227ff11\n"
     ]
    },
    {
     "name": "stderr",
     "output_type": "stream",
     "text": [
      "  1%|▏                                   | 409/59545 [09:29<26:24:30,  1.61s/it]"
     ]
    },
    {
     "name": "stdout",
     "output_type": "stream",
     "text": [
      "Fail: status code 429 paper_id 14bb9e42eae9f2e4ca63c1b1b5d7507b15d50aeb\n"
     ]
    },
    {
     "name": "stderr",
     "output_type": "stream",
     "text": [
      "  1%|▏                                   | 410/59545 [09:30<26:33:35,  1.62s/it]"
     ]
    },
    {
     "name": "stdout",
     "output_type": "stream",
     "text": [
      "Fail: status code 429 paper_id f43559d8037a00cc49c0a8d1d130c65318bda0e2\n"
     ]
    },
    {
     "name": "stderr",
     "output_type": "stream",
     "text": [
      "  1%|▏                                   | 412/59545 [09:34<26:44:24,  1.63s/it]"
     ]
    },
    {
     "name": "stdout",
     "output_type": "stream",
     "text": [
      "Fail: status code 429 paper_id a6dff8f97d20263c096ce972f009a3badd81798f\n"
     ]
    },
    {
     "name": "stderr",
     "output_type": "stream",
     "text": [
      "  1%|▏                                   | 413/59545 [09:35<26:17:18,  1.60s/it]"
     ]
    },
    {
     "name": "stdout",
     "output_type": "stream",
     "text": [
      "Fail: status code 429 paper_id f6df596f51e9a9b5b01eb7b8ca6af4209fea2bf0\n"
     ]
    },
    {
     "name": "stderr",
     "output_type": "stream",
     "text": [
      "  1%|▎                                   | 414/59545 [09:37<26:02:01,  1.58s/it]"
     ]
    },
    {
     "name": "stdout",
     "output_type": "stream",
     "text": [
      "Fail: status code 429 paper_id 819a1c317ace34418c7df5950df06760c76b722e\n"
     ]
    },
    {
     "name": "stderr",
     "output_type": "stream",
     "text": [
      "  1%|▎                                   | 416/59545 [09:38<20:10:38,  1.23s/it]"
     ]
    },
    {
     "name": "stdout",
     "output_type": "stream",
     "text": [
      "Fail: status code 429 paper_id d7b325ea271298d68fad4badc32f2737445c8c61\n"
     ]
    },
    {
     "name": "stderr",
     "output_type": "stream",
     "text": [
      "  1%|▎                                   | 417/59545 [09:40<21:50:53,  1.33s/it]"
     ]
    },
    {
     "name": "stdout",
     "output_type": "stream",
     "text": [
      "Fail: status code 429 paper_id dd249ccbdab518dc9c02579dd3f5b0a44dd3d558\n"
     ]
    },
    {
     "name": "stderr",
     "output_type": "stream",
     "text": [
      "  1%|▎                                   | 418/59545 [09:42<23:36:45,  1.44s/it]"
     ]
    },
    {
     "name": "stdout",
     "output_type": "stream",
     "text": [
      "Fail: status code 429 paper_id 3b69bae623fdcdc312c0bf61c7a03931375f4243\n"
     ]
    },
    {
     "name": "stderr",
     "output_type": "stream",
     "text": [
      "  1%|▎                                   | 419/59545 [09:43<24:07:59,  1.47s/it]"
     ]
    },
    {
     "name": "stdout",
     "output_type": "stream",
     "text": [
      "Fail: status code 429 paper_id e3ac2df5b83f7d29705f0f034aff19d8131badeb\n"
     ]
    },
    {
     "name": "stderr",
     "output_type": "stream",
     "text": [
      "  1%|▎                                   | 426/59545 [09:53<23:36:27,  1.44s/it]"
     ]
    },
    {
     "name": "stdout",
     "output_type": "stream",
     "text": [
      "Fail: status code 429 paper_id aa8ee338ab9fa149c77afe39cf4ec4c7671e9d13\n"
     ]
    },
    {
     "name": "stderr",
     "output_type": "stream",
     "text": [
      "  1%|▎                                   | 446/59545 [10:17<17:34:54,  1.07s/it]"
     ]
    },
    {
     "name": "stdout",
     "output_type": "stream",
     "text": [
      "Fail: status code 429 paper_id c1e87b86aba714b2a9d5e0e9d60a4e18fce73421\n"
     ]
    },
    {
     "name": "stderr",
     "output_type": "stream",
     "text": [
      "  1%|▎                                   | 451/59545 [10:25<24:42:53,  1.51s/it]"
     ]
    },
    {
     "name": "stdout",
     "output_type": "stream",
     "text": [
      "Fail: status code 429 paper_id bc63736b27cedd6e88f69de247c3a536b17dadbd\n"
     ]
    },
    {
     "name": "stderr",
     "output_type": "stream",
     "text": [
      "  1%|▎                                   | 471/59545 [10:55<26:12:15,  1.60s/it]"
     ]
    },
    {
     "name": "stdout",
     "output_type": "stream",
     "text": [
      "Fail: status code 429 paper_id d83974986a4c6fc986e03dfe3f3cb0a9e710fbd6\n"
     ]
    },
    {
     "name": "stderr",
     "output_type": "stream",
     "text": [
      "  1%|▎                                   | 477/59545 [11:05<26:48:41,  1.63s/it]"
     ]
    },
    {
     "name": "stdout",
     "output_type": "stream",
     "text": [
      "Fail: status code 429 paper_id d71c21699ab9fd1f03252d36463b5595cdc9e606\n"
     ]
    },
    {
     "name": "stderr",
     "output_type": "stream",
     "text": [
      "  1%|▎                                   | 478/59545 [11:06<26:49:31,  1.63s/it]"
     ]
    },
    {
     "name": "stdout",
     "output_type": "stream",
     "text": [
      "Fail: status code 429 paper_id 1fb367def62cd3fe9449f512fc9dba9d49021f7e\n"
     ]
    },
    {
     "name": "stderr",
     "output_type": "stream",
     "text": [
      "  1%|▎                                   | 479/59545 [11:08<27:07:59,  1.65s/it]"
     ]
    },
    {
     "name": "stdout",
     "output_type": "stream",
     "text": [
      "Fail: status code 429 paper_id 9bf2a39fa4d13a95a65e8e2516441baa5d23bf47\n"
     ]
    },
    {
     "name": "stderr",
     "output_type": "stream",
     "text": [
      "  1%|▎                                   | 480/59545 [11:10<26:46:06,  1.63s/it]"
     ]
    },
    {
     "name": "stdout",
     "output_type": "stream",
     "text": [
      "Fail: status code 429 paper_id 6fe9be342163f2a31a4434c7c042b64be9d8ce84\n"
     ]
    },
    {
     "name": "stderr",
     "output_type": "stream",
     "text": [
      "  1%|▎                                   | 482/59545 [11:13<26:49:35,  1.64s/it]"
     ]
    },
    {
     "name": "stdout",
     "output_type": "stream",
     "text": [
      "Fail: status code 429 paper_id 38e7a3b3d4f585fdf6267c288d792d49a3960de7\n"
     ]
    },
    {
     "name": "stderr",
     "output_type": "stream",
     "text": [
      "  1%|▎                                   | 483/59545 [11:15<26:50:29,  1.64s/it]"
     ]
    },
    {
     "name": "stdout",
     "output_type": "stream",
     "text": [
      "Fail: status code 429 paper_id 8c3b678a0f9477c6abf3203ef08de945e0cb826e\n"
     ]
    },
    {
     "name": "stderr",
     "output_type": "stream",
     "text": [
      "  1%|▎                                   | 484/59545 [11:16<26:52:05,  1.64s/it]"
     ]
    },
    {
     "name": "stdout",
     "output_type": "stream",
     "text": [
      "Fail: status code 429 paper_id 5f649b6095d86626a0fdff30ab5bba1af8b16a6e\n"
     ]
    },
    {
     "name": "stderr",
     "output_type": "stream",
     "text": [
      "  1%|▎                                   | 485/59545 [11:18<26:56:15,  1.64s/it]"
     ]
    },
    {
     "name": "stdout",
     "output_type": "stream",
     "text": [
      "Fail: status code 429 paper_id c240416b053ab9fb006fe7dad7d2d3d71d79f6db\n"
     ]
    },
    {
     "name": "stderr",
     "output_type": "stream",
     "text": [
      "  1%|▎                                   | 486/59545 [11:19<26:50:39,  1.64s/it]"
     ]
    },
    {
     "name": "stdout",
     "output_type": "stream",
     "text": [
      "Fail: status code 429 paper_id 25b5fdd9fa85c8ecd3af60d90d8162d4d9552e89\n"
     ]
    },
    {
     "name": "stderr",
     "output_type": "stream",
     "text": [
      "  1%|▎                                   | 488/59545 [11:22<25:47:53,  1.57s/it]"
     ]
    },
    {
     "name": "stdout",
     "output_type": "stream",
     "text": [
      "Fail: status code 429 paper_id 7a26969250cb89009bc2c92bf9442f5cd5d43292\n"
     ]
    },
    {
     "name": "stderr",
     "output_type": "stream",
     "text": [
      "  1%|▎                                   | 489/59545 [11:24<26:08:24,  1.59s/it]"
     ]
    },
    {
     "name": "stdout",
     "output_type": "stream",
     "text": [
      "Fail: status code 429 paper_id 6b893c4e88387c1fbb2ebab152122c3533e3d11b\n"
     ]
    },
    {
     "name": "stderr",
     "output_type": "stream",
     "text": [
      "  1%|▎                                   | 490/59545 [11:26<26:20:23,  1.61s/it]"
     ]
    },
    {
     "name": "stdout",
     "output_type": "stream",
     "text": [
      "Fail: status code 429 paper_id 3dfcd50430e9f8aad59fdb23171d4acb51515f33\n"
     ]
    },
    {
     "name": "stderr",
     "output_type": "stream",
     "text": [
      "  1%|▎                                   | 491/59545 [11:27<26:31:00,  1.62s/it]"
     ]
    },
    {
     "name": "stdout",
     "output_type": "stream",
     "text": [
      "Fail: status code 429 paper_id f718a40ce9f7c823f01f2dcf32aab49a1bda96d5\n"
     ]
    },
    {
     "name": "stderr",
     "output_type": "stream",
     "text": [
      "  1%|▎                                   | 493/59545 [11:29<20:28:14,  1.25s/it]"
     ]
    },
    {
     "name": "stdout",
     "output_type": "stream",
     "text": [
      "Fail: status code 429 paper_id 9939b3b3a053e943e7a6ff7e242ca6b6e2777e63\n"
     ]
    },
    {
     "name": "stderr",
     "output_type": "stream",
     "text": [
      "  1%|▎                                   | 500/59545 [11:32<12:10:22,  1.35it/s]"
     ]
    },
    {
     "name": "stdout",
     "output_type": "stream",
     "text": [
      "Fail: status code 429 paper_id c2fa234572e8968b6e809d8d5c338183c2893a75\n"
     ]
    },
    {
     "name": "stderr",
     "output_type": "stream",
     "text": [
      "  1%|▎                                   | 502/59545 [11:34<11:49:08,  1.39it/s]"
     ]
    },
    {
     "name": "stdout",
     "output_type": "stream",
     "text": [
      "Fail: status code 429 paper_id 7ab161895d05cbdab1c33303a5bbd96218049114\n"
     ]
    },
    {
     "name": "stderr",
     "output_type": "stream",
     "text": [
      "  1%|▎                                    | 507/59545 [11:35<8:25:27,  1.95it/s]"
     ]
    },
    {
     "name": "stdout",
     "output_type": "stream",
     "text": [
      "Fail: status code 429 paper_id 8fbd3cbaeb8067cbc8021754d50039692d8a10fd\n"
     ]
    },
    {
     "name": "stderr",
     "output_type": "stream",
     "text": [
      "  1%|▎                                   | 508/59545 [11:37<10:31:16,  1.56it/s]"
     ]
    },
    {
     "name": "stdout",
     "output_type": "stream",
     "text": [
      "Fail: status code 429 paper_id 1848fd7dc64e9cd99ebe7a67dd3672907ca851fb\n"
     ]
    },
    {
     "name": "stderr",
     "output_type": "stream",
     "text": [
      "  1%|▎                                   | 509/59545 [11:38<13:00:06,  1.26it/s]"
     ]
    },
    {
     "name": "stdout",
     "output_type": "stream",
     "text": [
      "Fail: status code 429 paper_id 07679278169720ce0385a169801a58cc704a3163\n"
     ]
    },
    {
     "name": "stderr",
     "output_type": "stream",
     "text": [
      "  1%|▎                                   | 511/59545 [11:42<17:46:58,  1.08s/it]"
     ]
    },
    {
     "name": "stdout",
     "output_type": "stream",
     "text": [
      "Fail: status code 429 paper_id 18f95c677e014391acd632cf2c8d5033cf6a1a20\n"
     ]
    },
    {
     "name": "stderr",
     "output_type": "stream",
     "text": [
      "  1%|▎                                   | 513/59545 [11:45<21:32:02,  1.31s/it]"
     ]
    },
    {
     "name": "stdout",
     "output_type": "stream",
     "text": [
      "Fail: status code 429 paper_id 070a94fa275a03740874059dc6419acedd1f583e\n"
     ]
    },
    {
     "name": "stderr",
     "output_type": "stream",
     "text": [
      "  1%|▎                                   | 514/59545 [11:46<22:54:20,  1.40s/it]"
     ]
    },
    {
     "name": "stdout",
     "output_type": "stream",
     "text": [
      "Fail: status code 429 paper_id 5cfb440c06a8c6daffb18afdd1e20047f2617b21\n"
     ]
    },
    {
     "name": "stderr",
     "output_type": "stream",
     "text": [
      "  1%|▎                                   | 523/59545 [12:01<26:51:22,  1.64s/it]"
     ]
    },
    {
     "name": "stdout",
     "output_type": "stream",
     "text": [
      "Fail: status code 429 paper_id e988a39a2f1271e4b64150430bb4288f720537a2\n"
     ]
    },
    {
     "name": "stderr",
     "output_type": "stream",
     "text": [
      "  1%|▎                                   | 560/59545 [12:57<26:22:34,  1.61s/it]"
     ]
    },
    {
     "name": "stdout",
     "output_type": "stream",
     "text": [
      "Fail: status code 429 paper_id 1cd497e82bdc46a9d3d28b2316ea7cbe9aee5467\n"
     ]
    },
    {
     "name": "stderr",
     "output_type": "stream",
     "text": [
      "  1%|▎                                   | 563/59545 [12:59<16:46:13,  1.02s/it]"
     ]
    },
    {
     "name": "stdout",
     "output_type": "stream",
     "text": [
      "Fail: status code 429 paper_id 09e9406f4911402fe97a573313c3da890572db83\n"
     ]
    },
    {
     "name": "stderr",
     "output_type": "stream",
     "text": [
      "  1%|▎                                   | 564/59545 [13:00<17:49:05,  1.09s/it]"
     ]
    },
    {
     "name": "stdout",
     "output_type": "stream",
     "text": [
      "Fail: status code 429 paper_id 378c2332df0c06c4a8aac723b62e3266fea3c48b\n"
     ]
    },
    {
     "name": "stderr",
     "output_type": "stream",
     "text": [
      "  1%|▎                                   | 565/59545 [13:02<19:29:59,  1.19s/it]"
     ]
    },
    {
     "name": "stdout",
     "output_type": "stream",
     "text": [
      "Fail: status code 429 paper_id 85c6db4e2eb186a8cd251220882342cdafd34ce1\n"
     ]
    },
    {
     "name": "stderr",
     "output_type": "stream",
     "text": [
      "  1%|▎                                   | 566/59545 [13:03<21:18:36,  1.30s/it]"
     ]
    },
    {
     "name": "stdout",
     "output_type": "stream",
     "text": [
      "Fail: status code 429 paper_id 6c505a7c37fb9c907fa48b2bcd23494646b76105\n"
     ]
    },
    {
     "name": "stderr",
     "output_type": "stream",
     "text": [
      "  1%|▎                                   | 567/59545 [13:05<22:18:41,  1.36s/it]"
     ]
    },
    {
     "name": "stdout",
     "output_type": "stream",
     "text": [
      "Fail: status code 429 paper_id d9161269ed0f6e3339f66979498d48dbb3f2f4a1\n"
     ]
    },
    {
     "name": "stderr",
     "output_type": "stream",
     "text": [
      "  1%|▎                                   | 568/59545 [13:06<23:32:35,  1.44s/it]"
     ]
    },
    {
     "name": "stdout",
     "output_type": "stream",
     "text": [
      "Fail: status code 429 paper_id 54116169e40dd36223e85ef036a82327b3bfd882\n"
     ]
    },
    {
     "name": "stderr",
     "output_type": "stream",
     "text": [
      "  1%|▎                                   | 569/59545 [13:08<23:59:37,  1.46s/it]"
     ]
    },
    {
     "name": "stdout",
     "output_type": "stream",
     "text": [
      "Fail: status code 429 paper_id c3d8ca293718eec2b143af6b386cf9b48201a014\n"
     ]
    },
    {
     "name": "stderr",
     "output_type": "stream",
     "text": [
      "  1%|▎                                   | 570/59545 [13:09<24:32:26,  1.50s/it]"
     ]
    },
    {
     "name": "stdout",
     "output_type": "stream",
     "text": [
      "Fail: status code 429 paper_id 9c6e37437290d7b295095f0e4085a18b66c721d9\n"
     ]
    },
    {
     "name": "stderr",
     "output_type": "stream",
     "text": [
      "  1%|▎                                   | 571/59545 [13:11<25:30:27,  1.56s/it]"
     ]
    },
    {
     "name": "stdout",
     "output_type": "stream",
     "text": [
      "Fail: status code 429 paper_id 52b0c878d2c217811d8ebbc480a0ffe58395df7e\n"
     ]
    },
    {
     "name": "stderr",
     "output_type": "stream",
     "text": [
      "  1%|▎                                   | 574/59545 [13:16<25:57:47,  1.58s/it]"
     ]
    },
    {
     "name": "stdout",
     "output_type": "stream",
     "text": [
      "Fail: status code 429 paper_id 86c333c0e5a406680862fd0ea8e835e483afcfe0\n"
     ]
    },
    {
     "name": "stderr",
     "output_type": "stream",
     "text": [
      "  1%|▎                                   | 575/59545 [13:18<26:37:18,  1.63s/it]"
     ]
    },
    {
     "name": "stdout",
     "output_type": "stream",
     "text": [
      "Fail: status code 429 paper_id ff426e8f6c79897c176a5dcc57245fec79373eea\n"
     ]
    },
    {
     "name": "stderr",
     "output_type": "stream",
     "text": [
      "  1%|▎                                    | 595/59545 [13:33<6:13:24,  2.63it/s]"
     ]
    },
    {
     "name": "stdout",
     "output_type": "stream",
     "text": [
      "Fail: status code 429 paper_id ff8cfbe999f134e8fe5f8f0f9b06520d26ceef15\n"
     ]
    },
    {
     "name": "stderr",
     "output_type": "stream",
     "text": [
      "  1%|▎                                    | 602/59545 [13:34<5:18:14,  3.09it/s]"
     ]
    },
    {
     "name": "stdout",
     "output_type": "stream",
     "text": [
      "Fail: status code 429 paper_id 1e9a86622382eb55434c6ec619eb4aa42f3acefd\n"
     ]
    },
    {
     "name": "stderr",
     "output_type": "stream",
     "text": [
      "  1%|▎                                    | 603/59545 [13:36<6:53:06,  2.38it/s]"
     ]
    },
    {
     "name": "stdout",
     "output_type": "stream",
     "text": [
      "Fail: status code 429 paper_id 9610204f7b0d141dc8897658bda21f6e1098cba9\n"
     ]
    },
    {
     "name": "stderr",
     "output_type": "stream",
     "text": [
      "  1%|▍                                    | 604/59545 [13:37<8:52:20,  1.85it/s]"
     ]
    },
    {
     "name": "stdout",
     "output_type": "stream",
     "text": [
      "Fail: status code 429 paper_id 45a7cddd73ed87bc88b8df409c1c102674bfb83f\n"
     ]
    },
    {
     "name": "stderr",
     "output_type": "stream",
     "text": [
      "  1%|▎                                   | 605/59545 [13:39<11:06:09,  1.47it/s]"
     ]
    },
    {
     "name": "stdout",
     "output_type": "stream",
     "text": [
      "Fail: status code 429 paper_id 3778e7ba84f5c321c8707bb8b066ea89ca626020\n"
     ]
    },
    {
     "name": "stderr",
     "output_type": "stream",
     "text": [
      "  1%|▎                                   | 606/59545 [13:41<13:28:36,  1.21it/s]"
     ]
    },
    {
     "name": "stdout",
     "output_type": "stream",
     "text": [
      "Fail: status code 429 paper_id b78e611a8b6cb6ca898d6ca62d7014477cf1e3e8\n"
     ]
    },
    {
     "name": "stderr",
     "output_type": "stream",
     "text": [
      "  1%|▎                                   | 607/59545 [13:42<15:50:38,  1.03it/s]"
     ]
    },
    {
     "name": "stdout",
     "output_type": "stream",
     "text": [
      "Fail: status code 429 paper_id b0904ea85663d3eba48a29b23e8468e353afa1ae\n"
     ]
    },
    {
     "name": "stderr",
     "output_type": "stream",
     "text": [
      "  1%|▎                                   | 608/59545 [13:44<18:24:55,  1.12s/it]"
     ]
    },
    {
     "name": "stdout",
     "output_type": "stream",
     "text": [
      "Fail: status code 429 paper_id 0a7fd3627a9e3d71e8c892290d6c7e7a7d6a2349\n"
     ]
    },
    {
     "name": "stderr",
     "output_type": "stream",
     "text": [
      "  1%|▎                                   | 609/59545 [13:46<20:17:15,  1.24s/it]"
     ]
    },
    {
     "name": "stdout",
     "output_type": "stream",
     "text": [
      "Fail: status code 429 paper_id 0dc5c2427d7001311e47380664241600d1fa1502\n"
     ]
    },
    {
     "name": "stderr",
     "output_type": "stream",
     "text": [
      "  1%|▎                                   | 611/59545 [13:47<17:36:02,  1.08s/it]"
     ]
    },
    {
     "name": "stdout",
     "output_type": "stream",
     "text": [
      "Fail: status code 429 paper_id 37e88da46bebb2dd23a37ffd16ec7b317cac95d9\n"
     ]
    },
    {
     "name": "stderr",
     "output_type": "stream",
     "text": [
      "  1%|▎                                   | 612/59545 [13:49<19:59:58,  1.22s/it]"
     ]
    },
    {
     "name": "stdout",
     "output_type": "stream",
     "text": [
      "Fail: status code 429 paper_id 78787b830d0c15c6384a480cd1cd17380b5da2c3\n"
     ]
    },
    {
     "name": "stderr",
     "output_type": "stream",
     "text": [
      "  1%|▎                                   | 614/59545 [13:52<22:55:06,  1.40s/it]"
     ]
    },
    {
     "name": "stdout",
     "output_type": "stream",
     "text": [
      "Fail: status code 429 paper_id 87bd3c258df57399477ce937d914bcb8235c27f3\n"
     ]
    },
    {
     "name": "stderr",
     "output_type": "stream",
     "text": [
      "  1%|▎                                   | 615/59545 [13:54<23:58:45,  1.46s/it]"
     ]
    },
    {
     "name": "stdout",
     "output_type": "stream",
     "text": [
      "Fail: status code 429 paper_id 083f9db4185ee0962ceadf9037de565ee99568d3\n"
     ]
    },
    {
     "name": "stderr",
     "output_type": "stream",
     "text": [
      "  1%|▎                                   | 617/59545 [13:57<25:20:34,  1.55s/it]"
     ]
    },
    {
     "name": "stdout",
     "output_type": "stream",
     "text": [
      "Fail: status code 429 paper_id 2dae3b6a93fc468a22b022e8ff9d52bb7d51dec7\n"
     ]
    },
    {
     "name": "stderr",
     "output_type": "stream",
     "text": [
      "  1%|▎                                   | 620/59545 [14:02<26:38:12,  1.63s/it]"
     ]
    },
    {
     "name": "stdout",
     "output_type": "stream",
     "text": [
      "Fail: status code 429 paper_id 36cbf37930a0f0ddc61124eca9d40c6806e534ea\n"
     ]
    },
    {
     "name": "stderr",
     "output_type": "stream",
     "text": [
      "  1%|▍                                   | 621/59545 [14:04<26:41:01,  1.63s/it]"
     ]
    },
    {
     "name": "stdout",
     "output_type": "stream",
     "text": [
      "Fail: status code 429 paper_id 285756d7b193abd91eb4d944c13730fdbb757096\n"
     ]
    },
    {
     "name": "stderr",
     "output_type": "stream",
     "text": [
      "  1%|▍                                   | 622/59545 [14:06<26:43:15,  1.63s/it]"
     ]
    },
    {
     "name": "stdout",
     "output_type": "stream",
     "text": [
      "Fail: status code 429 paper_id 5192b8133b8ea5c0098ff156c1379d146200464b\n"
     ]
    },
    {
     "name": "stderr",
     "output_type": "stream",
     "text": [
      "  1%|▍                                   | 625/59545 [14:09<22:33:25,  1.38s/it]"
     ]
    },
    {
     "name": "stdout",
     "output_type": "stream",
     "text": [
      "Fail: status code 429 paper_id 3931ced1309d2c15248bab0ddb27032ebba77d89\n"
     ]
    },
    {
     "name": "stderr",
     "output_type": "stream",
     "text": [
      "  1%|▍                                   | 629/59545 [14:12<16:28:34,  1.01s/it]"
     ]
    },
    {
     "name": "stdout",
     "output_type": "stream",
     "text": [
      "Fail: status code 429 paper_id 9ec4e3a874ca6b884f162f7913855366ff625ecd\n"
     ]
    },
    {
     "name": "stderr",
     "output_type": "stream",
     "text": [
      "  1%|▍                                   | 638/59545 [14:17<10:32:46,  1.55it/s]"
     ]
    },
    {
     "name": "stdout",
     "output_type": "stream",
     "text": [
      "Fail: status code 429 paper_id ac0b53d68a4c4c0e6806bbbc1da7e48c89e4158c\n"
     ]
    },
    {
     "name": "stderr",
     "output_type": "stream",
     "text": [
      "  1%|▍                                   | 658/59545 [14:44<21:42:09,  1.33s/it]"
     ]
    },
    {
     "name": "stdout",
     "output_type": "stream",
     "text": [
      "Fail: status code 429 paper_id d1d4a6164259da45a43183d26b8c08ae4645077e\n"
     ]
    },
    {
     "name": "stderr",
     "output_type": "stream",
     "text": [
      "  1%|▍                                   | 660/59545 [14:47<23:35:47,  1.44s/it]"
     ]
    },
    {
     "name": "stdout",
     "output_type": "stream",
     "text": [
      "Fail: status code 429 paper_id 14cad8da091eb57f4efa0bf859c7c80c0534d07b\n"
     ]
    },
    {
     "name": "stderr",
     "output_type": "stream",
     "text": [
      "  1%|▍                                   | 710/59545 [15:58<22:40:36,  1.39s/it]"
     ]
    },
    {
     "name": "stdout",
     "output_type": "stream",
     "text": [
      "Fail: status code 429 paper_id be5ae5f98ae4b16d14b99d5c3db2b86173382f28\n"
     ]
    },
    {
     "name": "stderr",
     "output_type": "stream",
     "text": [
      "  1%|▍                                   | 711/59545 [15:59<23:33:07,  1.44s/it]"
     ]
    },
    {
     "name": "stdout",
     "output_type": "stream",
     "text": [
      "Fail: status code 429 paper_id 7c9abae93ee7ff943b3ef5023e655e1ab8abc42a\n"
     ]
    },
    {
     "name": "stderr",
     "output_type": "stream",
     "text": [
      "  1%|▍                                   | 712/59545 [16:01<24:25:32,  1.49s/it]"
     ]
    },
    {
     "name": "stdout",
     "output_type": "stream",
     "text": [
      "Fail: status code 429 paper_id 72c6c3ede1d4457a85b9ddac0a2bc8d1096f221c\n"
     ]
    },
    {
     "name": "stderr",
     "output_type": "stream",
     "text": [
      "  1%|▍                                   | 713/59545 [16:02<23:40:59,  1.45s/it]"
     ]
    },
    {
     "name": "stdout",
     "output_type": "stream",
     "text": [
      "Fail: status code 429 paper_id 412b91005cb4bf89989385f13ce7a770c84b5faa\n"
     ]
    },
    {
     "name": "stderr",
     "output_type": "stream",
     "text": [
      "  1%|▍                                   | 714/59545 [16:04<24:33:36,  1.50s/it]"
     ]
    },
    {
     "name": "stdout",
     "output_type": "stream",
     "text": [
      "Fail: status code 429 paper_id ef12b71e7c7cc7483e3c2147ebf9753a31554266\n"
     ]
    },
    {
     "name": "stderr",
     "output_type": "stream",
     "text": [
      "  1%|▍                                   | 715/59545 [16:05<24:47:30,  1.52s/it]"
     ]
    },
    {
     "name": "stdout",
     "output_type": "stream",
     "text": [
      "Fail: status code 429 paper_id 893150f171bd7656d86a56c1026e6129d265a957\n"
     ]
    },
    {
     "name": "stderr",
     "output_type": "stream",
     "text": [
      "  1%|▍                                   | 717/59545 [16:07<18:24:13,  1.13s/it]"
     ]
    },
    {
     "name": "stdout",
     "output_type": "stream",
     "text": [
      "Fail: status code 429 paper_id a43a9e5418e0220d671dec55166b60e08f8f152c\n"
     ]
    },
    {
     "name": "stderr",
     "output_type": "stream",
     "text": [
      "  1%|▍                                   | 718/59545 [16:08<20:29:09,  1.25s/it]"
     ]
    },
    {
     "name": "stdout",
     "output_type": "stream",
     "text": [
      "Fail: status code 429 paper_id 74c8d0872b1781fd746ca387835c0e39a73d09bb\n"
     ]
    },
    {
     "name": "stderr",
     "output_type": "stream",
     "text": [
      "  1%|▍                                   | 719/59545 [16:10<22:05:12,  1.35s/it]"
     ]
    },
    {
     "name": "stdout",
     "output_type": "stream",
     "text": [
      "Fail: status code 429 paper_id 940d956a6858eabaaf346962f383cdc2746b89fc\n"
     ]
    },
    {
     "name": "stderr",
     "output_type": "stream",
     "text": [
      "  1%|▍                                   | 721/59545 [16:12<18:22:53,  1.12s/it]"
     ]
    },
    {
     "name": "stdout",
     "output_type": "stream",
     "text": [
      "Fail: status code 429 paper_id 6b76654f74df814bb778fe5d03e088c69489e347\n"
     ]
    },
    {
     "name": "stderr",
     "output_type": "stream",
     "text": [
      "  1%|▍                                   | 722/59545 [16:13<20:21:14,  1.25s/it]"
     ]
    },
    {
     "name": "stdout",
     "output_type": "stream",
     "text": [
      "Fail: status code 429 paper_id ced6690b802d33f61931f526443fca2a63c02382\n"
     ]
    },
    {
     "name": "stderr",
     "output_type": "stream",
     "text": [
      "  1%|▍                                   | 724/59545 [16:15<17:26:46,  1.07s/it]"
     ]
    },
    {
     "name": "stdout",
     "output_type": "stream",
     "text": [
      "Fail: status code 429 paper_id 3308eeac303fd042f8d7659d9c43faa35173c39b\n"
     ]
    },
    {
     "name": "stderr",
     "output_type": "stream",
     "text": [
      "  1%|▍                                   | 725/59545 [16:16<19:16:14,  1.18s/it]"
     ]
    },
    {
     "name": "stdout",
     "output_type": "stream",
     "text": [
      "Fail: status code 429 paper_id ed6ce714b65aca1272ec8af9db74076ecb5605d5\n"
     ]
    },
    {
     "name": "stderr",
     "output_type": "stream",
     "text": [
      "  1%|▍                                   | 731/59545 [16:20<13:07:23,  1.24it/s]"
     ]
    },
    {
     "name": "stdout",
     "output_type": "stream",
     "text": [
      "Fail: status code 429 paper_id 5e9bb0f3e74be4d8f75cca6ceb3ec87b3e04d7cc\n"
     ]
    },
    {
     "name": "stderr",
     "output_type": "stream",
     "text": [
      "  1%|▍                                   | 733/59545 [16:21<13:12:04,  1.24it/s]"
     ]
    },
    {
     "name": "stdout",
     "output_type": "stream",
     "text": [
      "Fail: status code 429 paper_id 5496654b0e517cc0a3c37786011d651c86425e45\n"
     ]
    },
    {
     "name": "stderr",
     "output_type": "stream",
     "text": [
      "  1%|▍                                   | 734/59545 [16:23<15:35:08,  1.05it/s]"
     ]
    },
    {
     "name": "stdout",
     "output_type": "stream",
     "text": [
      "Fail: status code 429 paper_id 528ff02f6d6505bd121107edd69ab9c777a53d7e\n"
     ]
    },
    {
     "name": "stderr",
     "output_type": "stream",
     "text": [
      "  1%|▍                                   | 735/59545 [16:25<17:50:05,  1.09s/it]"
     ]
    },
    {
     "name": "stdout",
     "output_type": "stream",
     "text": [
      "Fail: status code 429 paper_id a2976770da75e2144ae02e737e8211cc05255ec9\n"
     ]
    },
    {
     "name": "stderr",
     "output_type": "stream",
     "text": [
      "  1%|▍                                   | 768/59545 [17:15<26:07:17,  1.60s/it]"
     ]
    },
    {
     "name": "stdout",
     "output_type": "stream",
     "text": [
      "Fail: status code 429 paper_id 32c375bbc14bd06963b9a35f745e82297dcc90b7\n"
     ]
    },
    {
     "name": "stderr",
     "output_type": "stream",
     "text": [
      "  1%|▍                                   | 771/59545 [17:20<26:10:47,  1.60s/it]"
     ]
    },
    {
     "name": "stdout",
     "output_type": "stream",
     "text": [
      "Fail: status code 429 paper_id 31a427cb9055afa0bddc66d685fce5580e0aefcd\n"
     ]
    },
    {
     "name": "stderr",
     "output_type": "stream",
     "text": [
      "  1%|▍                                   | 772/59545 [17:22<25:57:13,  1.59s/it]"
     ]
    },
    {
     "name": "stdout",
     "output_type": "stream",
     "text": [
      "Fail: status code 429 paper_id 30ec607ac91739b00915de05404a40072187f30a\n"
     ]
    },
    {
     "name": "stderr",
     "output_type": "stream",
     "text": [
      "  1%|▍                                   | 773/59545 [17:23<25:56:07,  1.59s/it]"
     ]
    },
    {
     "name": "stdout",
     "output_type": "stream",
     "text": [
      "Fail: status code 429 paper_id 2fca85e178c734ebae62fe44e215dbbf68464d70\n"
     ]
    },
    {
     "name": "stderr",
     "output_type": "stream",
     "text": [
      "  1%|▍                                   | 774/59545 [17:25<26:11:06,  1.60s/it]"
     ]
    },
    {
     "name": "stdout",
     "output_type": "stream",
     "text": [
      "Fail: status code 429 paper_id 027a0b333e4ee894044eb73b8c9e9685d0cc9437\n"
     ]
    },
    {
     "name": "stderr",
     "output_type": "stream",
     "text": [
      "  1%|▍                                   | 775/59545 [17:27<26:20:46,  1.61s/it]"
     ]
    },
    {
     "name": "stdout",
     "output_type": "stream",
     "text": [
      "Fail: status code 429 paper_id 0aba5218a015f0dd9824c806eba8092224085f6f\n"
     ]
    },
    {
     "name": "stderr",
     "output_type": "stream",
     "text": [
      "  1%|▍                                   | 776/59545 [17:28<26:27:55,  1.62s/it]"
     ]
    },
    {
     "name": "stdout",
     "output_type": "stream",
     "text": [
      "Fail: status code 429 paper_id 174e3525466fe10f8370465d650411c80efa411e\n"
     ]
    },
    {
     "name": "stderr",
     "output_type": "stream",
     "text": [
      "  1%|▍                                   | 777/59545 [17:30<26:09:15,  1.60s/it]"
     ]
    },
    {
     "name": "stdout",
     "output_type": "stream",
     "text": [
      "Fail: status code 429 paper_id 566335e2186af11f6d5b08398788e73ec3419c84\n"
     ]
    },
    {
     "name": "stderr",
     "output_type": "stream",
     "text": [
      "  1%|▍                                   | 778/59545 [17:31<26:14:05,  1.61s/it]"
     ]
    },
    {
     "name": "stdout",
     "output_type": "stream",
     "text": [
      "Fail: status code 429 paper_id 62d86c86114655be8820a26bdfd18f8a57ec071a\n"
     ]
    },
    {
     "name": "stderr",
     "output_type": "stream",
     "text": [
      "  1%|▍                                   | 779/59545 [17:33<26:22:52,  1.62s/it]"
     ]
    },
    {
     "name": "stdout",
     "output_type": "stream",
     "text": [
      "Fail: status code 429 paper_id f12c406b5f2aa5ad95d0b2d1b0c9695e4d1dee1d\n"
     ]
    },
    {
     "name": "stderr",
     "output_type": "stream",
     "text": [
      "  1%|▍                                   | 781/59545 [17:36<26:33:55,  1.63s/it]"
     ]
    },
    {
     "name": "stdout",
     "output_type": "stream",
     "text": [
      "Fail: status code 429 paper_id 47bbd78c67e8d51353a4e86009a22a3706ae7d03\n"
     ]
    },
    {
     "name": "stderr",
     "output_type": "stream",
     "text": [
      "  1%|▍                                   | 782/59545 [17:38<26:14:54,  1.61s/it]"
     ]
    },
    {
     "name": "stdout",
     "output_type": "stream",
     "text": [
      "Fail: status code 429 paper_id f1c4a600e77ba034f3780df1d95bc784a348aea5\n"
     ]
    },
    {
     "name": "stderr",
     "output_type": "stream",
     "text": [
      "  1%|▍                                   | 784/59545 [17:41<26:23:58,  1.62s/it]"
     ]
    },
    {
     "name": "stdout",
     "output_type": "stream",
     "text": [
      "Fail: status code 429 paper_id 8e6c889b136604856813962ad7d1be6b85902c9c\n"
     ]
    },
    {
     "name": "stderr",
     "output_type": "stream",
     "text": [
      "  1%|▍                                   | 786/59545 [17:44<25:04:27,  1.54s/it]"
     ]
    },
    {
     "name": "stdout",
     "output_type": "stream",
     "text": [
      "Fail: status code 429 paper_id 429eb824082ceaf6f0896019947a535fe7a58cab\n"
     ]
    },
    {
     "name": "stderr",
     "output_type": "stream",
     "text": [
      "  1%|▍                                   | 787/59545 [17:46<25:34:28,  1.57s/it]"
     ]
    },
    {
     "name": "stdout",
     "output_type": "stream",
     "text": [
      "Fail: status code 429 paper_id 9d4d853857edf905e65258dbae78a2a8659d58a4\n"
     ]
    },
    {
     "name": "stderr",
     "output_type": "stream",
     "text": [
      "  1%|▍                                   | 788/59545 [17:47<25:55:09,  1.59s/it]"
     ]
    },
    {
     "name": "stdout",
     "output_type": "stream",
     "text": [
      "Fail: status code 429 paper_id 40221e3af661308fb13b815589b52d61bd97a2a4\n"
     ]
    },
    {
     "name": "stderr",
     "output_type": "stream",
     "text": [
      "  1%|▍                                   | 789/59545 [17:49<26:10:42,  1.60s/it]"
     ]
    },
    {
     "name": "stdout",
     "output_type": "stream",
     "text": [
      "Fail: status code 429 paper_id 0282e4075a6540a84d2f5c91ca5edd0a32205d2d\n"
     ]
    },
    {
     "name": "stderr",
     "output_type": "stream",
     "text": [
      "  1%|▍                                   | 790/59545 [17:51<26:21:02,  1.61s/it]"
     ]
    },
    {
     "name": "stdout",
     "output_type": "stream",
     "text": [
      "Fail: status code 429 paper_id 559038f96b87b11504514d837674c341a5e0d915\n"
     ]
    },
    {
     "name": "stderr",
     "output_type": "stream",
     "text": [
      "  1%|▍                                   | 791/59545 [17:52<26:27:48,  1.62s/it]"
     ]
    },
    {
     "name": "stdout",
     "output_type": "stream",
     "text": [
      "Fail: status code 429 paper_id fb6719d01b509fb02b87880f16c00697a420e026\n"
     ]
    },
    {
     "name": "stderr",
     "output_type": "stream",
     "text": [
      "  1%|▍                                   | 792/59545 [17:54<26:33:02,  1.63s/it]"
     ]
    },
    {
     "name": "stdout",
     "output_type": "stream",
     "text": [
      "Fail: status code 429 paper_id b8b8ac9082fd5618788f272bfe7bf6972942cbe5\n"
     ]
    },
    {
     "name": "stderr",
     "output_type": "stream",
     "text": [
      "  1%|▍                                   | 793/59545 [17:56<26:35:41,  1.63s/it]"
     ]
    },
    {
     "name": "stdout",
     "output_type": "stream",
     "text": [
      "Fail: status code 429 paper_id be5195170c174deecde0a520aa4ebf761533660c\n"
     ]
    },
    {
     "name": "stderr",
     "output_type": "stream",
     "text": [
      "  1%|▍                                   | 795/59545 [17:59<26:40:34,  1.63s/it]"
     ]
    },
    {
     "name": "stdout",
     "output_type": "stream",
     "text": [
      "Fail: status code 429 paper_id 4350ddf185419f5765d22d6df91c781093b005f7\n"
     ]
    },
    {
     "name": "stderr",
     "output_type": "stream",
     "text": [
      "  1%|▍                                   | 796/59545 [18:00<26:40:35,  1.63s/it]"
     ]
    },
    {
     "name": "stdout",
     "output_type": "stream",
     "text": [
      "Fail: status code 429 paper_id 8237c9db4dbeda194d5f776e3e59d7e9565a6ce7\n"
     ]
    },
    {
     "name": "stderr",
     "output_type": "stream",
     "text": [
      "  1%|▍                                   | 797/59545 [18:02<26:41:46,  1.64s/it]"
     ]
    },
    {
     "name": "stdout",
     "output_type": "stream",
     "text": [
      "Fail: status code 429 paper_id 8a09943924779c6ed17172c0049827747fc1f86b\n"
     ]
    },
    {
     "name": "stderr",
     "output_type": "stream",
     "text": [
      "  1%|▍                                   | 799/59545 [18:05<26:43:38,  1.64s/it]"
     ]
    },
    {
     "name": "stdout",
     "output_type": "stream",
     "text": [
      "Fail: status code 429 paper_id 051a855480c8bcf9c93d462fa4a63ef1d4cee674\n"
     ]
    },
    {
     "name": "stderr",
     "output_type": "stream",
     "text": [
      "  1%|▍                                   | 800/59545 [18:07<26:43:13,  1.64s/it]"
     ]
    },
    {
     "name": "stdout",
     "output_type": "stream",
     "text": [
      "Fail: status code 429 paper_id a399c4c0353cd05c81c25881d9e60cad9dc25721\n"
     ]
    },
    {
     "name": "stderr",
     "output_type": "stream",
     "text": [
      "  1%|▍                                   | 805/59545 [18:15<26:43:58,  1.64s/it]"
     ]
    },
    {
     "name": "stdout",
     "output_type": "stream",
     "text": [
      "Fail: status code 429 paper_id 91028e204a2a81d3883594f3f2868c62f67235f5\n"
     ]
    },
    {
     "name": "stderr",
     "output_type": "stream",
     "text": [
      "  1%|▍                                   | 808/59545 [18:20<26:43:48,  1.64s/it]"
     ]
    },
    {
     "name": "stdout",
     "output_type": "stream",
     "text": [
      "Fail: status code 429 paper_id 31478651aef08aa03d5664c622f0aaa21f578e86\n"
     ]
    },
    {
     "name": "stderr",
     "output_type": "stream",
     "text": [
      "  1%|▍                                   | 812/59545 [18:26<26:01:15,  1.59s/it]"
     ]
    },
    {
     "name": "stdout",
     "output_type": "stream",
     "text": [
      "Fail: status code 429 paper_id 519910454b06824fffabb17cda6249dc3b08f49e\n"
     ]
    },
    {
     "name": "stderr",
     "output_type": "stream",
     "text": [
      "  1%|▍                                   | 813/59545 [18:28<26:44:28,  1.64s/it]"
     ]
    },
    {
     "name": "stdout",
     "output_type": "stream",
     "text": [
      "Fail: status code 429 paper_id d24fd10c9de79820d4e74da5fbb49c8e21d90a24\n"
     ]
    },
    {
     "name": "stderr",
     "output_type": "stream",
     "text": [
      "  1%|▌                                   | 841/59545 [19:07<26:18:45,  1.61s/it]"
     ]
    },
    {
     "name": "stdout",
     "output_type": "stream",
     "text": [
      "Fail: status code 429 paper_id e90e7667b26f05c64b3186c05357884d39e1b8d1\n"
     ]
    },
    {
     "name": "stderr",
     "output_type": "stream",
     "text": [
      "  1%|▌                                   | 882/59545 [20:10<25:13:31,  1.55s/it]"
     ]
    },
    {
     "name": "stdout",
     "output_type": "stream",
     "text": [
      "Fail: status code 429 paper_id 7b552b2792b8823ea4c7a8ba1e1330bc647a7232\n"
     ]
    },
    {
     "name": "stderr",
     "output_type": "stream",
     "text": [
      "  1%|▌                                   | 883/59545 [20:12<25:39:16,  1.57s/it]"
     ]
    },
    {
     "name": "stdout",
     "output_type": "stream",
     "text": [
      "Fail: status code 429 paper_id 4a62ad838eb3c23ba6c7259ad509fb3db4e59b1b\n"
     ]
    },
    {
     "name": "stderr",
     "output_type": "stream",
     "text": [
      "  1%|▌                                   | 884/59545 [20:13<24:29:30,  1.50s/it]"
     ]
    },
    {
     "name": "stdout",
     "output_type": "stream",
     "text": [
      "Fail: status code 429 paper_id 237e4c1eb7114546f6aec80b61afef6d3fa91ab6\n"
     ]
    },
    {
     "name": "stderr",
     "output_type": "stream",
     "text": [
      "  1%|▌                                   | 886/59545 [20:15<19:27:39,  1.19s/it]"
     ]
    },
    {
     "name": "stdout",
     "output_type": "stream",
     "text": [
      "Fail: status code 429 paper_id 5fea9bffc138ac8c1be6df3e50df65582a902955\n"
     ]
    },
    {
     "name": "stderr",
     "output_type": "stream",
     "text": [
      "  1%|▌                                   | 889/59545 [20:16<14:09:47,  1.15it/s]"
     ]
    },
    {
     "name": "stdout",
     "output_type": "stream",
     "text": [
      "Fail: status code 429 paper_id cb65a74cfb043c595569fe76c7eb163bdcc99c87\n"
     ]
    },
    {
     "name": "stderr",
     "output_type": "stream",
     "text": [
      "  1%|▌                                   | 891/59545 [20:18<13:59:32,  1.16it/s]"
     ]
    },
    {
     "name": "stdout",
     "output_type": "stream",
     "text": [
      "Fail: status code 429 paper_id c9d1833c215b67901422968f08fe795d8995ab7c\n"
     ]
    },
    {
     "name": "stderr",
     "output_type": "stream",
     "text": [
      "  1%|▌                                   | 892/59545 [20:20<16:06:04,  1.01it/s]"
     ]
    },
    {
     "name": "stdout",
     "output_type": "stream",
     "text": [
      "Fail: status code 429 paper_id 2a9d0c5edf9533b12d49590ec6e8d6e6885ae1cc\n"
     ]
    },
    {
     "name": "stderr",
     "output_type": "stream",
     "text": [
      "  1%|▌                                   | 893/59545 [20:21<18:15:07,  1.12s/it]"
     ]
    },
    {
     "name": "stdout",
     "output_type": "stream",
     "text": [
      "Fail: status code 429 paper_id 8bfc362eafc740ed4fa6119e740a9b1c5fd59c59\n"
     ]
    },
    {
     "name": "stderr",
     "output_type": "stream",
     "text": [
      "  2%|▌                                   | 895/59545 [20:23<16:24:47,  1.01s/it]"
     ]
    },
    {
     "name": "stdout",
     "output_type": "stream",
     "text": [
      "Fail: status code 429 paper_id 87482bf8500518fed52600186f44a67d22558bd3\n"
     ]
    },
    {
     "name": "stderr",
     "output_type": "stream",
     "text": [
      "  2%|▌                                   | 896/59545 [20:24<17:31:38,  1.08s/it]"
     ]
    },
    {
     "name": "stdout",
     "output_type": "stream",
     "text": [
      "Fail: status code 429 paper_id c069dbcb73939d2ee37fdfd84d6aedf88ab864a5\n"
     ]
    },
    {
     "name": "stderr",
     "output_type": "stream",
     "text": [
      "  2%|▌                                   | 897/59545 [20:26<20:02:58,  1.23s/it]"
     ]
    },
    {
     "name": "stdout",
     "output_type": "stream",
     "text": [
      "Fail: status code 429 paper_id 5c45b3c224525f3245673dd797cfde62cf4160f6\n"
     ]
    },
    {
     "name": "stderr",
     "output_type": "stream",
     "text": [
      "  2%|▌                                   | 898/59545 [20:28<21:41:46,  1.33s/it]"
     ]
    },
    {
     "name": "stdout",
     "output_type": "stream",
     "text": [
      "Fail: status code 429 paper_id 8d47325c7a51c4591865e3791c8f484144ac44d1\n"
     ]
    },
    {
     "name": "stderr",
     "output_type": "stream",
     "text": [
      "  2%|▌                                   | 899/59545 [20:29<23:00:04,  1.41s/it]"
     ]
    },
    {
     "name": "stdout",
     "output_type": "stream",
     "text": [
      "Fail: status code 429 paper_id 9df2f4e313febdd47348851a2c5ea608b6b327d2\n"
     ]
    },
    {
     "name": "stderr",
     "output_type": "stream",
     "text": [
      "  2%|▌                                   | 900/59545 [20:31<22:38:37,  1.39s/it]"
     ]
    },
    {
     "name": "stdout",
     "output_type": "stream",
     "text": [
      "Fail: status code 429 paper_id a39feaf9250fd5160d47abeb02a451ab99e1e82a\n"
     ]
    },
    {
     "name": "stderr",
     "output_type": "stream",
     "text": [
      "  2%|▌                                   | 901/59545 [20:32<23:46:51,  1.46s/it]"
     ]
    },
    {
     "name": "stdout",
     "output_type": "stream",
     "text": [
      "Fail: status code 429 paper_id a946719797d17f33514576b7f1845a44bf021966\n"
     ]
    },
    {
     "name": "stderr",
     "output_type": "stream",
     "text": [
      "  2%|▌                                   | 902/59545 [20:34<24:36:45,  1.51s/it]"
     ]
    },
    {
     "name": "stdout",
     "output_type": "stream",
     "text": [
      "Fail: status code 429 paper_id 515b12924f0978b634be87aaca3c3c97f87b0e19\n"
     ]
    },
    {
     "name": "stderr",
     "output_type": "stream",
     "text": [
      "  2%|▌                                   | 903/59545 [20:35<23:45:19,  1.46s/it]"
     ]
    },
    {
     "name": "stdout",
     "output_type": "stream",
     "text": [
      "Fail: status code 429 paper_id be02834706ac39ef06bd894e6516f0f682717a1e\n"
     ]
    },
    {
     "name": "stderr",
     "output_type": "stream",
     "text": [
      "  2%|▌                                   | 904/59545 [20:37<24:37:08,  1.51s/it]"
     ]
    },
    {
     "name": "stdout",
     "output_type": "stream",
     "text": [
      "Fail: status code 429 paper_id c02d6bff042b58bf0f36203dfc1e5778c47669fe\n"
     ]
    },
    {
     "name": "stderr",
     "output_type": "stream",
     "text": [
      "  2%|▌                                   | 907/59545 [20:42<25:57:44,  1.59s/it]"
     ]
    },
    {
     "name": "stdout",
     "output_type": "stream",
     "text": [
      "Fail: status code 429 paper_id 700f7588a9aceaa37ead03b39701ba0e08ec8d89\n"
     ]
    },
    {
     "name": "stderr",
     "output_type": "stream",
     "text": [
      "  2%|▌                                   | 908/59545 [20:43<26:10:50,  1.61s/it]"
     ]
    },
    {
     "name": "stdout",
     "output_type": "stream",
     "text": [
      "Fail: status code 429 paper_id bfcd3d33f668e7a9ad164411ffb1279594ce44fb\n"
     ]
    },
    {
     "name": "stderr",
     "output_type": "stream",
     "text": [
      "  2%|▌                                   | 909/59545 [20:45<26:20:18,  1.62s/it]"
     ]
    },
    {
     "name": "stdout",
     "output_type": "stream",
     "text": [
      "Fail: status code 429 paper_id f8cd876fc933886fae9cca0db3db4f194a7689ac\n"
     ]
    },
    {
     "name": "stderr",
     "output_type": "stream",
     "text": [
      "  2%|▌                                   | 914/59545 [20:53<26:36:39,  1.63s/it]"
     ]
    },
    {
     "name": "stdout",
     "output_type": "stream",
     "text": [
      "Fail: status code 429 paper_id 2bdff17894b29c24954e7270d14c748a0df54831\n"
     ]
    },
    {
     "name": "stderr",
     "output_type": "stream",
     "text": [
      "  2%|▌                                   | 919/59545 [21:01<25:26:37,  1.56s/it]"
     ]
    },
    {
     "name": "stdout",
     "output_type": "stream",
     "text": [
      "Fail: status code 429 paper_id 0ed5e600dfdde7750daa9d22664fb190df352e66\n"
     ]
    },
    {
     "name": "stderr",
     "output_type": "stream",
     "text": [
      "  2%|▌                                   | 923/59545 [21:07<26:23:29,  1.62s/it]"
     ]
    },
    {
     "name": "stdout",
     "output_type": "stream",
     "text": [
      "Fail: status code 429 paper_id a1c1fb73683cbdd65ad247d56b304ce9381bca1a\n"
     ]
    },
    {
     "name": "stderr",
     "output_type": "stream",
     "text": [
      "  2%|▌                                   | 935/59545 [21:27<24:48:22,  1.52s/it]"
     ]
    },
    {
     "name": "stdout",
     "output_type": "stream",
     "text": [
      "Fail: status code 429 paper_id c51d60725510b036a2e3a220ff0466057b83a13d\n"
     ]
    },
    {
     "name": "stderr",
     "output_type": "stream",
     "text": [
      "  2%|▌                                   | 936/59545 [21:28<25:21:30,  1.56s/it]"
     ]
    },
    {
     "name": "stdout",
     "output_type": "stream",
     "text": [
      "Fail: status code 429 paper_id 28cffd63920ec9b898814b3a8a42d1b95b3dde36\n"
     ]
    },
    {
     "name": "stderr",
     "output_type": "stream",
     "text": [
      "  2%|▌                                   | 937/59545 [21:30<25:45:45,  1.58s/it]"
     ]
    },
    {
     "name": "stdout",
     "output_type": "stream",
     "text": [
      "Fail: status code 429 paper_id 788f7004ba6665e4f23fdbe654eb48b8cd30baee\n"
     ]
    },
    {
     "name": "stderr",
     "output_type": "stream",
     "text": [
      "  2%|▌                                   | 938/59545 [21:32<26:02:25,  1.60s/it]"
     ]
    },
    {
     "name": "stdout",
     "output_type": "stream",
     "text": [
      "Fail: status code 429 paper_id 9d63243c8c2882c57c65bf29289517b3d3bf968a\n"
     ]
    },
    {
     "name": "stderr",
     "output_type": "stream",
     "text": [
      "  2%|▌                                   | 939/59545 [21:33<26:13:42,  1.61s/it]"
     ]
    },
    {
     "name": "stdout",
     "output_type": "stream",
     "text": [
      "Fail: status code 429 paper_id 2afd705e4ce9609e5527c61c5ad7a06d320e533a\n"
     ]
    },
    {
     "name": "stderr",
     "output_type": "stream",
     "text": [
      "  2%|▌                                   | 940/59545 [21:35<26:20:51,  1.62s/it]"
     ]
    },
    {
     "name": "stdout",
     "output_type": "stream",
     "text": [
      "Fail: status code 429 paper_id 07d62a477be0b7fdaa6e260b127d65cb5cb4b65b\n"
     ]
    },
    {
     "name": "stderr",
     "output_type": "stream",
     "text": [
      "  2%|▌                                   | 941/59545 [21:36<26:20:51,  1.62s/it]"
     ]
    },
    {
     "name": "stdout",
     "output_type": "stream",
     "text": [
      "Fail: status code 429 paper_id 791611366ca24863181e9c445bc5a816b7a71584\n"
     ]
    },
    {
     "name": "stderr",
     "output_type": "stream",
     "text": [
      "  2%|▌                                   | 942/59545 [21:38<26:33:26,  1.63s/it]"
     ]
    },
    {
     "name": "stdout",
     "output_type": "stream",
     "text": [
      "Fail: status code 429 paper_id 1cf241ab230b94a0f510b07086cfdb3aa8b2ba4b\n"
     ]
    },
    {
     "name": "stderr",
     "output_type": "stream",
     "text": [
      "  2%|▌                                   | 943/59545 [21:40<26:35:58,  1.63s/it]"
     ]
    },
    {
     "name": "stdout",
     "output_type": "stream",
     "text": [
      "Fail: status code 429 paper_id e5929074d6d822d55e21afaa8d6769e8a96e4618\n"
     ]
    },
    {
     "name": "stderr",
     "output_type": "stream",
     "text": [
      "  2%|▌                                   | 945/59545 [21:43<26:37:37,  1.64s/it]"
     ]
    },
    {
     "name": "stdout",
     "output_type": "stream",
     "text": [
      "Fail: status code 429 paper_id 1d78e848f01c120c98f221d22d9607f4b1bc751e\n"
     ]
    },
    {
     "name": "stderr",
     "output_type": "stream",
     "text": [
      "  2%|▌                                   | 946/59545 [21:45<26:38:42,  1.64s/it]"
     ]
    },
    {
     "name": "stdout",
     "output_type": "stream",
     "text": [
      "Fail: status code 429 paper_id b05d06e50c9da6289db88d40bb226a641ff20fdb\n"
     ]
    },
    {
     "name": "stderr",
     "output_type": "stream",
     "text": [
      "  2%|▌                                   | 947/59545 [21:46<26:29:43,  1.63s/it]"
     ]
    },
    {
     "name": "stdout",
     "output_type": "stream",
     "text": [
      "Fail: status code 429 paper_id f4d23ef7b5ff4f1413edbb53aca67cf5cf16a1df\n"
     ]
    },
    {
     "name": "stderr",
     "output_type": "stream",
     "text": [
      "  2%|▌                                   | 949/59545 [21:50<26:43:25,  1.64s/it]"
     ]
    },
    {
     "name": "stdout",
     "output_type": "stream",
     "text": [
      "Fail: status code 429 paper_id 5bc5f8da2c2ea167c3841cb570077a17a2ba4c7b\n"
     ]
    },
    {
     "name": "stderr",
     "output_type": "stream",
     "text": [
      "  2%|▌                                   | 951/59545 [21:52<23:40:03,  1.45s/it]"
     ]
    },
    {
     "name": "stdout",
     "output_type": "stream",
     "text": [
      "Fail: status code 429 paper_id 5e6abb0dd16608c1893755463a49fdb0185049a2\n"
     ]
    },
    {
     "name": "stderr",
     "output_type": "stream",
     "text": [
      "  2%|▌                                   | 954/59545 [21:57<25:12:10,  1.55s/it]"
     ]
    },
    {
     "name": "stdout",
     "output_type": "stream",
     "text": [
      "Fail: status code 429 paper_id 811e3123dbcf4d33f7d8c2e2e27abfc36f117d36\n"
     ]
    },
    {
     "name": "stderr",
     "output_type": "stream",
     "text": [
      "  2%|▌                                   | 955/59545 [21:58<24:03:20,  1.48s/it]"
     ]
    },
    {
     "name": "stdout",
     "output_type": "stream",
     "text": [
      "Fail: status code 429 paper_id adc2c005eb47abe7caaec71047e63449bce73c92\n"
     ]
    },
    {
     "name": "stderr",
     "output_type": "stream",
     "text": [
      "  2%|▌                                   | 956/59545 [22:00<24:22:15,  1.50s/it]"
     ]
    },
    {
     "name": "stdout",
     "output_type": "stream",
     "text": [
      "Fail: status code 429 paper_id 582e0d19e5015fc471285331155f57875959906d\n"
     ]
    },
    {
     "name": "stderr",
     "output_type": "stream",
     "text": [
      "  2%|▌                                   | 957/59545 [22:01<25:01:01,  1.54s/it]"
     ]
    },
    {
     "name": "stdout",
     "output_type": "stream",
     "text": [
      "Fail: status code 429 paper_id 15a4a210c2acd74735ec7b669f55c088aa067397\n"
     ]
    },
    {
     "name": "stderr",
     "output_type": "stream",
     "text": [
      "  2%|▌                                   | 958/59545 [22:03<24:00:30,  1.48s/it]"
     ]
    },
    {
     "name": "stdout",
     "output_type": "stream",
     "text": [
      "Fail: status code 429 paper_id d54b91e7a02600f609738632798916add5419bea\n"
     ]
    },
    {
     "name": "stderr",
     "output_type": "stream",
     "text": [
      "  2%|▌                                   | 960/59545 [22:06<25:22:18,  1.56s/it]"
     ]
    },
    {
     "name": "stdout",
     "output_type": "stream",
     "text": [
      "Fail: status code 429 paper_id e64bfebfec387b560472fa518df0f544013609df\n"
     ]
    },
    {
     "name": "stderr",
     "output_type": "stream",
     "text": [
      "  2%|▌                                   | 963/59545 [22:11<25:02:56,  1.54s/it]"
     ]
    },
    {
     "name": "stdout",
     "output_type": "stream",
     "text": [
      "Fail: status code 429 paper_id 9b9feaac640f9dd86e6c54b939c2a364fc14583a\n"
     ]
    },
    {
     "name": "stderr",
     "output_type": "stream",
     "text": [
      "  2%|▌                                   | 964/59545 [22:12<25:30:32,  1.57s/it]"
     ]
    },
    {
     "name": "stdout",
     "output_type": "stream",
     "text": [
      "Fail: status code 429 paper_id d16ec0a455bea8265a0f0deaa20905c6e1422ae8\n"
     ]
    },
    {
     "name": "stderr",
     "output_type": "stream",
     "text": [
      "  2%|▌                                   | 965/59545 [22:14<25:52:02,  1.59s/it]"
     ]
    },
    {
     "name": "stdout",
     "output_type": "stream",
     "text": [
      "Fail: status code 429 paper_id 45c04f7e774fff11bd849c09a7ed7089e93852b1\n"
     ]
    },
    {
     "name": "stderr",
     "output_type": "stream",
     "text": [
      "  2%|▌                                   | 966/59545 [22:16<26:05:40,  1.60s/it]"
     ]
    },
    {
     "name": "stdout",
     "output_type": "stream",
     "text": [
      "Fail: status code 429 paper_id 037c46348830906d1cf640416af00923a78e2eb0\n"
     ]
    },
    {
     "name": "stderr",
     "output_type": "stream",
     "text": [
      "  2%|▌                                   | 967/59545 [22:17<26:15:57,  1.61s/it]"
     ]
    },
    {
     "name": "stdout",
     "output_type": "stream",
     "text": [
      "Fail: status code 429 paper_id 9052116a065ff54093ef11ed2bde73f0db51f5af\n"
     ]
    },
    {
     "name": "stderr",
     "output_type": "stream",
     "text": [
      "  2%|▌                                   | 968/59545 [22:19<26:22:57,  1.62s/it]"
     ]
    },
    {
     "name": "stdout",
     "output_type": "stream",
     "text": [
      "Fail: status code 429 paper_id 059f6df83f490fd5709af764d940609adf466eba\n"
     ]
    },
    {
     "name": "stderr",
     "output_type": "stream",
     "text": [
      "  2%|▌                                   | 969/59545 [22:20<26:32:18,  1.63s/it]"
     ]
    },
    {
     "name": "stdout",
     "output_type": "stream",
     "text": [
      "Fail: status code 429 paper_id 1aa68f99a5aa0793b55c7d64fc5284bedbb28d43\n"
     ]
    },
    {
     "name": "stderr",
     "output_type": "stream",
     "text": [
      "  2%|▌                                   | 970/59545 [22:22<26:30:07,  1.63s/it]"
     ]
    },
    {
     "name": "stdout",
     "output_type": "stream",
     "text": [
      "Fail: status code 429 paper_id 435efc33299f59084c633ef6bf08912f4797dc3a\n"
     ]
    },
    {
     "name": "stderr",
     "output_type": "stream",
     "text": [
      "  2%|▌                                   | 972/59545 [22:25<26:20:42,  1.62s/it]"
     ]
    },
    {
     "name": "stdout",
     "output_type": "stream",
     "text": [
      "Fail: status code 429 paper_id 36e7c632958db4f473fbd380fc58e34345846c3b\n"
     ]
    },
    {
     "name": "stderr",
     "output_type": "stream",
     "text": [
      "  2%|▌                                   | 973/59545 [22:27<26:10:41,  1.61s/it]"
     ]
    },
    {
     "name": "stdout",
     "output_type": "stream",
     "text": [
      "Fail: status code 429 paper_id fd13aba4d7b78a04f9eb9490731945a2ee1456be\n"
     ]
    },
    {
     "name": "stderr",
     "output_type": "stream",
     "text": [
      "  2%|▌                                   | 974/59545 [22:29<26:19:05,  1.62s/it]"
     ]
    },
    {
     "name": "stdout",
     "output_type": "stream",
     "text": [
      "Fail: status code 429 paper_id 9e2687f848b2bd407ce0f40b7512a847cde3b1bf\n"
     ]
    },
    {
     "name": "stderr",
     "output_type": "stream",
     "text": [
      "  2%|▌                                   | 976/59545 [22:32<26:59:47,  1.66s/it]"
     ]
    },
    {
     "name": "stdout",
     "output_type": "stream",
     "text": [
      "Fail: status code 429 paper_id d0d74fc82c14ca3ef3b0b4675e3d2e0e87cb58b0\n"
     ]
    },
    {
     "name": "stderr",
     "output_type": "stream",
     "text": [
      "  2%|▌                                   | 977/59545 [22:34<26:53:17,  1.65s/it]"
     ]
    },
    {
     "name": "stdout",
     "output_type": "stream",
     "text": [
      "Fail: status code 429 paper_id d4450115c9f236c87fa61a815337be58aba358df\n"
     ]
    },
    {
     "name": "stderr",
     "output_type": "stream",
     "text": [
      "  2%|▌                                   | 978/59545 [22:35<26:49:24,  1.65s/it]"
     ]
    },
    {
     "name": "stdout",
     "output_type": "stream",
     "text": [
      "Fail: status code 429 paper_id c5d1a777afdb206afecb2658800551c55f01246d\n"
     ]
    },
    {
     "name": "stderr",
     "output_type": "stream",
     "text": [
      "  2%|▌                                   | 979/59545 [22:37<27:16:28,  1.68s/it]"
     ]
    },
    {
     "name": "stdout",
     "output_type": "stream",
     "text": [
      "Fail: status code 429 paper_id 70295bb19fa5025c12528721f76062e01534fd27\n"
     ]
    },
    {
     "name": "stderr",
     "output_type": "stream",
     "text": [
      "  2%|▌                                   | 980/59545 [22:39<27:04:49,  1.66s/it]"
     ]
    },
    {
     "name": "stdout",
     "output_type": "stream",
     "text": [
      "Fail: status code 429 paper_id c7ed8ba25186af1cc82c70523e2516287852fd85\n"
     ]
    },
    {
     "name": "stderr",
     "output_type": "stream",
     "text": [
      "  2%|▌                                   | 981/59545 [22:40<26:57:29,  1.66s/it]"
     ]
    },
    {
     "name": "stdout",
     "output_type": "stream",
     "text": [
      "Fail: status code 429 paper_id 9c713bf42d9cd4aa57b1a09b2e60e7405d8ed43d\n"
     ]
    },
    {
     "name": "stderr",
     "output_type": "stream",
     "text": [
      "  2%|▌                                   | 984/59545 [22:45<27:00:25,  1.66s/it]"
     ]
    },
    {
     "name": "stdout",
     "output_type": "stream",
     "text": [
      "Fail: status code 429 paper_id 3da1bd0cd2b2472760c44f64c8735382475b9977\n"
     ]
    },
    {
     "name": "stderr",
     "output_type": "stream",
     "text": [
      "  2%|▌                                   | 986/59545 [22:48<26:23:52,  1.62s/it]"
     ]
    },
    {
     "name": "stdout",
     "output_type": "stream",
     "text": [
      "Fail: status code 429 paper_id 5c70fe0c3a98e970284f524f283a8d71f3baab99\n"
     ]
    },
    {
     "name": "stderr",
     "output_type": "stream",
     "text": [
      "  2%|▌                                   | 987/59545 [22:50<26:10:34,  1.61s/it]"
     ]
    },
    {
     "name": "stdout",
     "output_type": "stream",
     "text": [
      "Fail: status code 429 paper_id 265d1c01a463dbb7a03301e47132dd54b2e5a251\n"
     ]
    },
    {
     "name": "stderr",
     "output_type": "stream",
     "text": [
      "  2%|▌                                   | 988/59545 [22:51<24:31:22,  1.51s/it]"
     ]
    },
    {
     "name": "stdout",
     "output_type": "stream",
     "text": [
      "Fail: status code 429 paper_id 23303ccd6f9cee536d9b3e61689b1ff32753243f\n"
     ]
    },
    {
     "name": "stderr",
     "output_type": "stream",
     "text": [
      "  2%|▌                                   | 991/59545 [22:56<25:57:21,  1.60s/it]"
     ]
    },
    {
     "name": "stdout",
     "output_type": "stream",
     "text": [
      "Fail: status code 429 paper_id ecfc4344323725f68363c40f68bd2c9a25749675\n"
     ]
    },
    {
     "name": "stderr",
     "output_type": "stream",
     "text": [
      "  2%|▌                                   | 993/59545 [22:59<25:55:10,  1.59s/it]"
     ]
    },
    {
     "name": "stdout",
     "output_type": "stream",
     "text": [
      "Fail: status code 429 paper_id 5f109268132b8e960ce3bb7ed85f058137ce1698\n"
     ]
    },
    {
     "name": "stderr",
     "output_type": "stream",
     "text": [
      "  2%|▌                                   | 997/59545 [23:06<26:29:59,  1.63s/it]"
     ]
    },
    {
     "name": "stdout",
     "output_type": "stream",
     "text": [
      "Fail: status code 429 paper_id f4fc0ff5f7e386d7574cb0e68f9e4495259c4afb\n"
     ]
    },
    {
     "name": "stderr",
     "output_type": "stream",
     "text": [
      "  2%|▌                                  | 1002/59545 [23:14<26:43:26,  1.64s/it]"
     ]
    },
    {
     "name": "stdout",
     "output_type": "stream",
     "text": [
      "Fail: status code 429 paper_id 74ed1baeeb0389f5654d7d695481824d7e1a6067\n"
     ]
    },
    {
     "name": "stderr",
     "output_type": "stream",
     "text": [
      "  2%|▌                                  | 1003/59545 [23:16<26:42:38,  1.64s/it]"
     ]
    },
    {
     "name": "stdout",
     "output_type": "stream",
     "text": [
      "Fail: status code 429 paper_id f665fbfa07b67582b38ea11e79810ed3d340400c\n"
     ]
    },
    {
     "name": "stderr",
     "output_type": "stream",
     "text": [
      "  2%|▌                                  | 1004/59545 [23:17<26:41:50,  1.64s/it]"
     ]
    },
    {
     "name": "stdout",
     "output_type": "stream",
     "text": [
      "Fail: status code 429 paper_id c59695066325f0dfcf6210a9f0e2aa868793a69d\n"
     ]
    },
    {
     "name": "stderr",
     "output_type": "stream",
     "text": [
      "  2%|▌                                  | 1006/59545 [23:21<26:39:33,  1.64s/it]"
     ]
    },
    {
     "name": "stdout",
     "output_type": "stream",
     "text": [
      "Fail: status code 429 paper_id 4e2cb3b8134698b55b7ee274797131d6204ea7b9\n"
     ]
    },
    {
     "name": "stderr",
     "output_type": "stream",
     "text": [
      "  2%|▌                                  | 1009/59545 [23:26<26:39:19,  1.64s/it]"
     ]
    },
    {
     "name": "stdout",
     "output_type": "stream",
     "text": [
      "Fail: status code 429 paper_id 5e67419603940bbdb2cd9234c82c399badc9c1ac\n"
     ]
    },
    {
     "name": "stderr",
     "output_type": "stream",
     "text": [
      "  2%|▌                                  | 1010/59545 [23:27<26:39:03,  1.64s/it]"
     ]
    },
    {
     "name": "stdout",
     "output_type": "stream",
     "text": [
      "Fail: status code 429 paper_id 30d0600be125d98c6f29bb965f06e8c282892554\n"
     ]
    },
    {
     "name": "stderr",
     "output_type": "stream",
     "text": [
      "  2%|▌                                  | 1011/59545 [23:29<26:38:51,  1.64s/it]"
     ]
    },
    {
     "name": "stdout",
     "output_type": "stream",
     "text": [
      "Fail: status code 429 paper_id c97b97b717d5e57f8ed76694ac37a41348eabb09\n"
     ]
    },
    {
     "name": "stderr",
     "output_type": "stream",
     "text": [
      "  2%|▌                                  | 1012/59545 [23:31<26:38:18,  1.64s/it]"
     ]
    },
    {
     "name": "stdout",
     "output_type": "stream",
     "text": [
      "Fail: status code 429 paper_id 19d752b30d7b1df2132b230dfaaed2a7104380da\n"
     ]
    },
    {
     "name": "stderr",
     "output_type": "stream",
     "text": [
      "  2%|▌                                  | 1013/59545 [23:32<26:38:19,  1.64s/it]"
     ]
    },
    {
     "name": "stdout",
     "output_type": "stream",
     "text": [
      "Fail: status code 429 paper_id 4794e01629480cc2efde856fb85a6a4e9359b961\n"
     ]
    },
    {
     "name": "stderr",
     "output_type": "stream",
     "text": [
      "  2%|▌                                  | 1014/59545 [23:34<26:38:44,  1.64s/it]"
     ]
    },
    {
     "name": "stdout",
     "output_type": "stream",
     "text": [
      "Fail: status code 429 paper_id 5cfdca7ced42b3f0eaf5363a78a2a3f8a0e5367d\n"
     ]
    },
    {
     "name": "stderr",
     "output_type": "stream",
     "text": [
      "  2%|▌                                  | 1015/59545 [23:35<26:38:26,  1.64s/it]"
     ]
    },
    {
     "name": "stdout",
     "output_type": "stream",
     "text": [
      "Fail: status code 429 paper_id caa214e50114338c27c9fbdd84c984fe6f630bde\n"
     ]
    },
    {
     "name": "stderr",
     "output_type": "stream",
     "text": [
      "  2%|▌                                  | 1016/59545 [23:37<26:37:56,  1.64s/it]"
     ]
    },
    {
     "name": "stdout",
     "output_type": "stream",
     "text": [
      "Fail: status code 429 paper_id 525bca1a5e9b9a7c4d4999ed65af54384eeb30d7\n"
     ]
    },
    {
     "name": "stderr",
     "output_type": "stream",
     "text": [
      "  2%|▌                                  | 1017/59545 [23:39<26:38:29,  1.64s/it]"
     ]
    },
    {
     "name": "stdout",
     "output_type": "stream",
     "text": [
      "Fail: status code 429 paper_id 4161f3d86d87a08c3041a68cb275ef7150aecfd0\n"
     ]
    },
    {
     "name": "stderr",
     "output_type": "stream",
     "text": [
      "  2%|▌                                  | 1020/59545 [23:44<26:38:18,  1.64s/it]"
     ]
    },
    {
     "name": "stdout",
     "output_type": "stream",
     "text": [
      "Fail: status code 429 paper_id 9dbcc3bc5ad2e80c7463636c995e9b6ba09356c4\n"
     ]
    },
    {
     "name": "stderr",
     "output_type": "stream",
     "text": [
      "  2%|▌                                  | 1021/59545 [23:45<26:38:14,  1.64s/it]"
     ]
    },
    {
     "name": "stdout",
     "output_type": "stream",
     "text": [
      "Fail: status code 429 paper_id ae3d77b2490091d93147edaaa8ea066fe40d015a\n"
     ]
    },
    {
     "name": "stderr",
     "output_type": "stream",
     "text": [
      "  2%|▌                                  | 1022/59545 [23:47<26:38:18,  1.64s/it]"
     ]
    },
    {
     "name": "stdout",
     "output_type": "stream",
     "text": [
      "Fail: status code 429 paper_id 4117d7c1581a3bf1ad2234ba1068e5d3aa4dc234\n"
     ]
    },
    {
     "name": "stderr",
     "output_type": "stream",
     "text": [
      "  2%|▌                                  | 1023/59545 [23:49<26:38:22,  1.64s/it]"
     ]
    },
    {
     "name": "stdout",
     "output_type": "stream",
     "text": [
      "Fail: status code 429 paper_id bdc41f5f1b8f922a2f20ff10f9a417f51da35125\n"
     ]
    },
    {
     "name": "stderr",
     "output_type": "stream",
     "text": [
      "  2%|▌                                  | 1024/59545 [23:50<25:07:42,  1.55s/it]"
     ]
    },
    {
     "name": "stdout",
     "output_type": "stream",
     "text": [
      "Fail: status code 429 paper_id 8f2e69077067ae308c039415989a20df43019082\n"
     ]
    },
    {
     "name": "stderr",
     "output_type": "stream",
     "text": [
      "  2%|▌                                  | 1025/59545 [23:52<25:35:13,  1.57s/it]"
     ]
    },
    {
     "name": "stdout",
     "output_type": "stream",
     "text": [
      "Fail: status code 429 paper_id c62b1546e0539a29b7ad0be08cb2d36828e2d3a2\n"
     ]
    },
    {
     "name": "stderr",
     "output_type": "stream",
     "text": [
      "  2%|▌                                  | 1027/59545 [23:55<26:07:24,  1.61s/it]"
     ]
    },
    {
     "name": "stdout",
     "output_type": "stream",
     "text": [
      "Fail: status code 429 paper_id 936b38a98cd38ff468b5624abef157f8617e8a4e\n"
     ]
    },
    {
     "name": "stderr",
     "output_type": "stream",
     "text": [
      "  2%|▌                                  | 1029/59545 [23:58<25:59:01,  1.60s/it]"
     ]
    },
    {
     "name": "stdout",
     "output_type": "stream",
     "text": [
      "Fail: status code 429 paper_id d079acfb893d506603c6e9bbad4a87e532afdd13\n"
     ]
    },
    {
     "name": "stderr",
     "output_type": "stream",
     "text": [
      "  2%|▌                                  | 1030/59545 [24:00<26:10:45,  1.61s/it]"
     ]
    },
    {
     "name": "stdout",
     "output_type": "stream",
     "text": [
      "Fail: status code 429 paper_id 4265f27ed5a7a5814f58c538c6c466471be578a7\n"
     ]
    },
    {
     "name": "stderr",
     "output_type": "stream",
     "text": [
      "  2%|▌                                  | 1031/59545 [24:01<24:48:29,  1.53s/it]"
     ]
    },
    {
     "name": "stdout",
     "output_type": "stream",
     "text": [
      "Fail: status code 429 paper_id 020deebd78f90b6d23cda5a82ada4634b97ba03a\n"
     ]
    },
    {
     "name": "stderr",
     "output_type": "stream",
     "text": [
      "  2%|▌                                  | 1032/59545 [24:02<23:51:44,  1.47s/it]"
     ]
    },
    {
     "name": "stdout",
     "output_type": "stream",
     "text": [
      "Fail: status code 429 paper_id 3791a786b1e905e259c47ef8f30bc95222b29cb9\n"
     ]
    },
    {
     "name": "stderr",
     "output_type": "stream",
     "text": [
      "  2%|▌                                  | 1034/59545 [24:06<25:15:58,  1.55s/it]"
     ]
    },
    {
     "name": "stdout",
     "output_type": "stream",
     "text": [
      "Fail: status code 429 paper_id 44d2044de243b9eb108d65764d3f5f6cec0bf1ad\n"
     ]
    },
    {
     "name": "stderr",
     "output_type": "stream",
     "text": [
      "  2%|▌                                  | 1035/59545 [24:07<25:40:37,  1.58s/it]"
     ]
    },
    {
     "name": "stdout",
     "output_type": "stream",
     "text": [
      "Fail: status code 429 paper_id 12f1edc971b6c71c5bdda6fc1761b1d6e69a3e24\n"
     ]
    },
    {
     "name": "stderr",
     "output_type": "stream",
     "text": [
      "  2%|▌                                  | 1036/59545 [24:09<25:57:38,  1.60s/it]"
     ]
    },
    {
     "name": "stdout",
     "output_type": "stream",
     "text": [
      "Fail: status code 429 paper_id b2091e8d6da3b78dda11fef0720b76e24a077f0f\n"
     ]
    },
    {
     "name": "stderr",
     "output_type": "stream",
     "text": [
      "  2%|▌                                  | 1038/59545 [24:12<26:17:43,  1.62s/it]"
     ]
    },
    {
     "name": "stdout",
     "output_type": "stream",
     "text": [
      "Fail: status code 429 paper_id 955e65ab5a4c3aa662aac2abf8178b818be1a41b\n"
     ]
    },
    {
     "name": "stderr",
     "output_type": "stream",
     "text": [
      "  2%|▌                                  | 1039/59545 [24:14<26:23:39,  1.62s/it]"
     ]
    },
    {
     "name": "stdout",
     "output_type": "stream",
     "text": [
      "Fail: status code 429 paper_id 8fc399c490a6041e783b4161c081fe184d7bd8a3\n"
     ]
    },
    {
     "name": "stderr",
     "output_type": "stream",
     "text": [
      "  2%|▌                                  | 1040/59545 [24:15<25:58:08,  1.60s/it]"
     ]
    },
    {
     "name": "stdout",
     "output_type": "stream",
     "text": [
      "Fail: status code 429 paper_id e15411a248c76d46734875e6b68140a599acbb25\n"
     ]
    },
    {
     "name": "stderr",
     "output_type": "stream",
     "text": [
      "  2%|▌                                  | 1042/59545 [24:19<26:39:05,  1.64s/it]"
     ]
    },
    {
     "name": "stdout",
     "output_type": "stream",
     "text": [
      "Fail: status code 429 paper_id 20eb1fb6fbee4307ffbac3e491a82314457269cc\n"
     ]
    },
    {
     "name": "stderr",
     "output_type": "stream",
     "text": [
      "  2%|▌                                  | 1044/59545 [24:22<26:38:14,  1.64s/it]"
     ]
    },
    {
     "name": "stdout",
     "output_type": "stream",
     "text": [
      "Fail: status code 429 paper_id fdf582f5c13e143951e6b2654d7a3a3e84d0724e\n"
     ]
    },
    {
     "name": "stderr",
     "output_type": "stream",
     "text": [
      "  2%|▌                                  | 1045/59545 [24:24<26:38:07,  1.64s/it]"
     ]
    },
    {
     "name": "stdout",
     "output_type": "stream",
     "text": [
      "Fail: status code 429 paper_id 3a5ac606fb029ee39a8db086b4a8b7f95928a7f6\n"
     ]
    },
    {
     "name": "stderr",
     "output_type": "stream",
     "text": [
      "  2%|▌                                  | 1053/59545 [24:37<27:02:41,  1.66s/it]"
     ]
    },
    {
     "name": "stdout",
     "output_type": "stream",
     "text": [
      "Fail: status code 429 paper_id e6b43999dc0b03887cf0a0a15f725177321db80c\n"
     ]
    },
    {
     "name": "stderr",
     "output_type": "stream",
     "text": [
      "  2%|▌                                  | 1054/59545 [24:38<26:54:59,  1.66s/it]"
     ]
    },
    {
     "name": "stdout",
     "output_type": "stream",
     "text": [
      "Fail: status code 429 paper_id 8a1cdc2bca2fb9f9f4acbec92a395eb9676d7102\n"
     ]
    },
    {
     "name": "stderr",
     "output_type": "stream",
     "text": [
      "  2%|▌                                  | 1055/59545 [24:40<26:49:46,  1.65s/it]"
     ]
    },
    {
     "name": "stdout",
     "output_type": "stream",
     "text": [
      "Fail: status code 429 paper_id e01672846307028067b3560d9492aaafaaebdfbd\n"
     ]
    },
    {
     "name": "stderr",
     "output_type": "stream",
     "text": [
      "  2%|▌                                  | 1056/59545 [24:42<27:15:48,  1.68s/it]"
     ]
    },
    {
     "name": "stdout",
     "output_type": "stream",
     "text": [
      "Fail: status code 429 paper_id fd79948accf602b3f678668e7407963beabbe06c\n"
     ]
    },
    {
     "name": "stderr",
     "output_type": "stream",
     "text": [
      "  2%|▌                                  | 1057/59545 [24:43<27:04:01,  1.67s/it]"
     ]
    },
    {
     "name": "stdout",
     "output_type": "stream",
     "text": [
      "Fail: status code 429 paper_id 67b3a728d6cc941a4ee8a646158de31ee061a187\n"
     ]
    },
    {
     "name": "stderr",
     "output_type": "stream",
     "text": [
      "  2%|▌                                  | 1058/59545 [24:45<26:55:59,  1.66s/it]"
     ]
    },
    {
     "name": "stdout",
     "output_type": "stream",
     "text": [
      "Fail: status code 429 paper_id ec49c4181d5ca4593c52e81d8b190e030694d4ee\n"
     ]
    },
    {
     "name": "stderr",
     "output_type": "stream",
     "text": [
      "  2%|▌                                  | 1059/59545 [24:46<25:20:22,  1.56s/it]"
     ]
    },
    {
     "name": "stdout",
     "output_type": "stream",
     "text": [
      "Fail: status code 429 paper_id f33601b94703f909529dae9e17448a224ab79c03\n"
     ]
    },
    {
     "name": "stderr",
     "output_type": "stream",
     "text": [
      "  2%|▌                                  | 1062/59545 [24:51<25:10:04,  1.55s/it]"
     ]
    },
    {
     "name": "stdout",
     "output_type": "stream",
     "text": [
      "Fail: status code 429 paper_id 19d832f4886b1a780d0b356943e029f72d27c540\n"
     ]
    },
    {
     "name": "stderr",
     "output_type": "stream",
     "text": [
      "  2%|▌                                  | 1063/59545 [24:52<24:06:16,  1.48s/it]"
     ]
    },
    {
     "name": "stdout",
     "output_type": "stream",
     "text": [
      "Fail: status code 429 paper_id a159feab9558f80c27437512adac6c8211b4a590\n"
     ]
    },
    {
     "name": "stderr",
     "output_type": "stream",
     "text": [
      "  2%|▋                                  | 1064/59545 [24:54<24:51:45,  1.53s/it]"
     ]
    },
    {
     "name": "stdout",
     "output_type": "stream",
     "text": [
      "Fail: status code 429 paper_id ac033877465cc14939327cff1dd51573c3f92ef1\n"
     ]
    },
    {
     "name": "stderr",
     "output_type": "stream",
     "text": [
      "  2%|▋                                  | 1065/59545 [24:55<25:22:52,  1.56s/it]"
     ]
    },
    {
     "name": "stdout",
     "output_type": "stream",
     "text": [
      "Fail: status code 429 paper_id c8a799a57dd60b60a69e344ad857870d47f4875a\n"
     ]
    },
    {
     "name": "stderr",
     "output_type": "stream",
     "text": [
      "  2%|▋                                  | 1066/59545 [24:57<25:45:11,  1.59s/it]"
     ]
    },
    {
     "name": "stdout",
     "output_type": "stream",
     "text": [
      "Fail: status code 429 paper_id 29465f3860838de6e8078014a8a4219731ffbe15\n"
     ]
    },
    {
     "name": "stderr",
     "output_type": "stream",
     "text": [
      "  2%|▋                                  | 1069/59545 [25:02<25:55:03,  1.60s/it]"
     ]
    },
    {
     "name": "stdout",
     "output_type": "stream",
     "text": [
      "Fail: status code 429 paper_id 590e56dcbb23c2f881309947616875140bbe08e3\n"
     ]
    },
    {
     "name": "stderr",
     "output_type": "stream",
     "text": [
      "  2%|▋                                  | 1071/59545 [25:05<26:16:33,  1.62s/it]"
     ]
    },
    {
     "name": "stdout",
     "output_type": "stream",
     "text": [
      "Fail: status code 429 paper_id efe9fdd761f9de4df08593e684d347039c1bfa48\n"
     ]
    },
    {
     "name": "stderr",
     "output_type": "stream",
     "text": [
      "  2%|▋                                  | 1072/59545 [25:06<24:52:36,  1.53s/it]"
     ]
    },
    {
     "name": "stdout",
     "output_type": "stream",
     "text": [
      "Fail: status code 429 paper_id b59d6fcd522a1aafd45f8ecd65ce520b6a9f996a\n"
     ]
    },
    {
     "name": "stderr",
     "output_type": "stream",
     "text": [
      "  2%|▋                                  | 1073/59545 [25:08<25:23:48,  1.56s/it]"
     ]
    },
    {
     "name": "stdout",
     "output_type": "stream",
     "text": [
      "Fail: status code 429 paper_id d065c9d3f51efec817ff49066ea6775128d892fe\n"
     ]
    },
    {
     "name": "stderr",
     "output_type": "stream",
     "text": [
      "  2%|▋                                  | 1075/59545 [25:11<26:30:58,  1.63s/it]"
     ]
    },
    {
     "name": "stdout",
     "output_type": "stream",
     "text": [
      "Fail: status code 429 paper_id 2badc120904f246e194d9f4f48dfc413d37d4a46\n"
     ]
    },
    {
     "name": "stderr",
     "output_type": "stream",
     "text": [
      "  2%|▋                                  | 1076/59545 [25:13<26:32:25,  1.63s/it]"
     ]
    },
    {
     "name": "stdout",
     "output_type": "stream",
     "text": [
      "Fail: status code 429 paper_id ae503b3f824e5e237801705a313702ccef970600\n"
     ]
    },
    {
     "name": "stderr",
     "output_type": "stream",
     "text": [
      "  2%|▋                                  | 1077/59545 [25:15<26:33:47,  1.64s/it]"
     ]
    },
    {
     "name": "stdout",
     "output_type": "stream",
     "text": [
      "Fail: status code 429 paper_id 34da78c1a32ecae3c320dc6948bdee2f0b88330f\n"
     ]
    },
    {
     "name": "stderr",
     "output_type": "stream",
     "text": [
      "  2%|▋                                  | 1078/59545 [25:16<26:35:54,  1.64s/it]"
     ]
    },
    {
     "name": "stdout",
     "output_type": "stream",
     "text": [
      "Fail: status code 429 paper_id 3ed98554edf607be94e2cb047c13eda2de39dec0\n"
     ]
    },
    {
     "name": "stderr",
     "output_type": "stream",
     "text": [
      "  2%|▋                                  | 1079/59545 [25:18<26:34:40,  1.64s/it]"
     ]
    },
    {
     "name": "stdout",
     "output_type": "stream",
     "text": [
      "Fail: status code 429 paper_id 8e9afbbd4e7e7fe83e71e784e2b9b933767c91f0\n"
     ]
    },
    {
     "name": "stderr",
     "output_type": "stream",
     "text": [
      "  2%|▋                                  | 1080/59545 [25:20<26:35:31,  1.64s/it]"
     ]
    },
    {
     "name": "stdout",
     "output_type": "stream",
     "text": [
      "Fail: status code 429 paper_id 18dee2e2f85bf4758b2e773f436bccffcc167eeb\n"
     ]
    },
    {
     "name": "stderr",
     "output_type": "stream",
     "text": [
      "  2%|▋                                  | 1082/59545 [25:23<26:35:37,  1.64s/it]"
     ]
    },
    {
     "name": "stdout",
     "output_type": "stream",
     "text": [
      "Fail: status code 429 paper_id e733bcb8c0713602cab44e39ce3b5934d47ad8f7\n"
     ]
    },
    {
     "name": "stderr",
     "output_type": "stream",
     "text": [
      "  2%|▋                                  | 1089/59545 [25:34<26:14:44,  1.62s/it]"
     ]
    },
    {
     "name": "stdout",
     "output_type": "stream",
     "text": [
      "Fail: status code 429 paper_id 504ddfcf15ee6fec6ec35e7b84ae8d8abfd15e4c\n"
     ]
    },
    {
     "name": "stderr",
     "output_type": "stream",
     "text": [
      "  2%|▋                                  | 1098/59545 [25:49<26:04:34,  1.61s/it]"
     ]
    },
    {
     "name": "stdout",
     "output_type": "stream",
     "text": [
      "Fail: status code 429 paper_id 3d7940a236be8fc5ad542974d59ed75582b5fa84\n"
     ]
    },
    {
     "name": "stderr",
     "output_type": "stream",
     "text": [
      "  2%|▋                                  | 1100/59545 [25:52<26:20:27,  1.62s/it]"
     ]
    },
    {
     "name": "stdout",
     "output_type": "stream",
     "text": [
      "Fail: status code 429 paper_id fc13352aeb69bb4d9cb73f83be50ade713e13072\n"
     ]
    },
    {
     "name": "stderr",
     "output_type": "stream",
     "text": [
      "  2%|▋                                  | 1103/59545 [25:57<26:31:29,  1.63s/it]"
     ]
    },
    {
     "name": "stdout",
     "output_type": "stream",
     "text": [
      "Fail: status code 429 paper_id 23082daf12f7955e4aa4465fd02616e1e31efd32\n"
     ]
    },
    {
     "name": "stderr",
     "output_type": "stream",
     "text": [
      "  2%|▋                                  | 1104/59545 [25:58<26:32:48,  1.64s/it]"
     ]
    },
    {
     "name": "stdout",
     "output_type": "stream",
     "text": [
      "Fail: status code 429 paper_id a81fdba7610558e56cf4aeadf7e3d835b28922a6\n"
     ]
    },
    {
     "name": "stderr",
     "output_type": "stream",
     "text": [
      "  2%|▋                                  | 1106/59545 [26:02<26:34:08,  1.64s/it]"
     ]
    },
    {
     "name": "stdout",
     "output_type": "stream",
     "text": [
      "Fail: status code 429 paper_id 0bfb2be57299ffb79582bc9da7dffe2a4e9cb1e6\n"
     ]
    },
    {
     "name": "stderr",
     "output_type": "stream",
     "text": [
      "  2%|▋                                  | 1108/59545 [26:05<26:05:00,  1.61s/it]"
     ]
    },
    {
     "name": "stdout",
     "output_type": "stream",
     "text": [
      "Fail: status code 429 paper_id dcabdd8e033a063da069422c053032b651044eb8\n"
     ]
    },
    {
     "name": "stderr",
     "output_type": "stream",
     "text": [
      "  2%|▋                                  | 1110/59545 [26:08<26:20:56,  1.62s/it]"
     ]
    },
    {
     "name": "stdout",
     "output_type": "stream",
     "text": [
      "Fail: status code 429 paper_id bc8e901517efa23ff81f592fcc74e243d7c818ed\n"
     ]
    },
    {
     "name": "stderr",
     "output_type": "stream",
     "text": [
      "  2%|▋                                  | 1113/59545 [26:11<21:31:30,  1.33s/it]"
     ]
    },
    {
     "name": "stdout",
     "output_type": "stream",
     "text": [
      "Fail: status code 429 paper_id 0af05da1058a4605e2685cae686ebdbcc68cc965\n"
     ]
    },
    {
     "name": "stderr",
     "output_type": "stream",
     "text": [
      "  2%|▋                                  | 1114/59545 [26:13<22:50:51,  1.41s/it]"
     ]
    },
    {
     "name": "stdout",
     "output_type": "stream",
     "text": [
      "Fail: status code 429 paper_id ceecaf04c0761dde17e53e8ed8b4bab95a1059a7\n"
     ]
    },
    {
     "name": "stderr",
     "output_type": "stream",
     "text": [
      "  2%|▋                                  | 1115/59545 [26:15<23:52:09,  1.47s/it]"
     ]
    },
    {
     "name": "stdout",
     "output_type": "stream",
     "text": [
      "Fail: status code 429 paper_id cd4ad59c9573bad8e7b3f2249f0aa86668c1135b\n"
     ]
    },
    {
     "name": "stderr",
     "output_type": "stream",
     "text": [
      "  2%|▋                                  | 1117/59545 [26:16<18:53:37,  1.16s/it]"
     ]
    },
    {
     "name": "stdout",
     "output_type": "stream",
     "text": [
      "Fail: status code 429 paper_id f137f42ec627cd4a1a0d260bca61080b11468a16\n"
     ]
    },
    {
     "name": "stderr",
     "output_type": "stream",
     "text": [
      "  2%|▋                                  | 1118/59545 [26:18<21:06:29,  1.30s/it]"
     ]
    },
    {
     "name": "stdout",
     "output_type": "stream",
     "text": [
      "Fail: status code 429 paper_id d2d1841aee522800c9ac15bd035ceb06567ff8db\n"
     ]
    },
    {
     "name": "stderr",
     "output_type": "stream",
     "text": [
      "  2%|▋                                  | 1119/59545 [26:19<22:29:58,  1.39s/it]"
     ]
    },
    {
     "name": "stdout",
     "output_type": "stream",
     "text": [
      "Fail: status code 429 paper_id 19659d0297c50c9d43c31fe4bbd4a0c6e3b9c08d\n"
     ]
    },
    {
     "name": "stderr",
     "output_type": "stream",
     "text": [
      "  2%|▋                                  | 1120/59545 [26:21<23:35:07,  1.45s/it]"
     ]
    },
    {
     "name": "stdout",
     "output_type": "stream",
     "text": [
      "Fail: status code 429 paper_id 563ac63ef99c8f6416ce4f6463355412d1f20b34\n"
     ]
    },
    {
     "name": "stderr",
     "output_type": "stream",
     "text": [
      "  2%|▋                                  | 1121/59545 [26:23<23:57:38,  1.48s/it]"
     ]
    },
    {
     "name": "stdout",
     "output_type": "stream",
     "text": [
      "Fail: status code 429 paper_id f32bec46160111ac2d9b6a570b59a5f43fb1d1aa\n"
     ]
    },
    {
     "name": "stderr",
     "output_type": "stream",
     "text": [
      "  2%|▋                                  | 1122/59545 [26:24<24:17:39,  1.50s/it]"
     ]
    },
    {
     "name": "stdout",
     "output_type": "stream",
     "text": [
      "Fail: status code 429 paper_id 53226c393c738b6aed31cdd244d939155bb49c36\n"
     ]
    },
    {
     "name": "stderr",
     "output_type": "stream",
     "text": [
      "  2%|▋                                  | 1123/59545 [26:26<24:53:19,  1.53s/it]"
     ]
    },
    {
     "name": "stdout",
     "output_type": "stream",
     "text": [
      "Fail: status code 429 paper_id 6633f3085ef4dcde0e86e72fdc6eee96ad6fe164\n"
     ]
    },
    {
     "name": "stderr",
     "output_type": "stream",
     "text": [
      "  2%|▋                                  | 1124/59545 [26:27<25:22:34,  1.56s/it]"
     ]
    },
    {
     "name": "stdout",
     "output_type": "stream",
     "text": [
      "Fail: status code 429 paper_id dd5e727781f89e29f9425f57b5ed60c6dbbdd1bc\n"
     ]
    },
    {
     "name": "stderr",
     "output_type": "stream",
     "text": [
      "  2%|▋                                  | 1125/59545 [26:29<25:44:47,  1.59s/it]"
     ]
    },
    {
     "name": "stdout",
     "output_type": "stream",
     "text": [
      "Fail: status code 429 paper_id 7259277ae51be0ed1bb0b5c40edbc86b131fed6a\n"
     ]
    },
    {
     "name": "stderr",
     "output_type": "stream",
     "text": [
      "  2%|▋                                  | 1126/59545 [26:31<25:59:01,  1.60s/it]"
     ]
    },
    {
     "name": "stdout",
     "output_type": "stream",
     "text": [
      "Fail: status code 429 paper_id 7bc66352b3e32ccfe37d7d54f4b06370e7630201\n"
     ]
    },
    {
     "name": "stderr",
     "output_type": "stream",
     "text": [
      "  2%|▋                                  | 1127/59545 [26:32<25:38:03,  1.58s/it]"
     ]
    },
    {
     "name": "stdout",
     "output_type": "stream",
     "text": [
      "Fail: status code 429 paper_id 96996258ef7f2b77dc9ccef31b4b18073a9623d1\n"
     ]
    },
    {
     "name": "stderr",
     "output_type": "stream",
     "text": [
      "  2%|▋                                  | 1129/59545 [26:36<26:08:56,  1.61s/it]"
     ]
    },
    {
     "name": "stdout",
     "output_type": "stream",
     "text": [
      "Fail: status code 429 paper_id 568e18e9baca30a2a7de39f26779127db7a4c18a\n"
     ]
    },
    {
     "name": "stderr",
     "output_type": "stream",
     "text": [
      "  2%|▋                                  | 1132/59545 [26:40<26:24:50,  1.63s/it]"
     ]
    },
    {
     "name": "stdout",
     "output_type": "stream",
     "text": [
      "Fail: status code 429 paper_id e6a5d4b636684040d999909c83a187d87cd2eff8\n"
     ]
    },
    {
     "name": "stderr",
     "output_type": "stream",
     "text": [
      "  2%|▋                                  | 1134/59545 [26:44<26:30:02,  1.63s/it]"
     ]
    },
    {
     "name": "stdout",
     "output_type": "stream",
     "text": [
      "Fail: status code 429 paper_id 418f74c59ec3e6c75d5ef1a4be6e8e2c02c0e9ca\n"
     ]
    },
    {
     "name": "stderr",
     "output_type": "stream",
     "text": [
      "  2%|▋                                  | 1136/59545 [26:47<26:32:15,  1.64s/it]"
     ]
    },
    {
     "name": "stdout",
     "output_type": "stream",
     "text": [
      "Fail: status code 429 paper_id 537f42aa887a70e569668af96522da0111d518a4\n"
     ]
    },
    {
     "name": "stderr",
     "output_type": "stream",
     "text": [
      "  2%|▋                                  | 1137/59545 [26:49<26:33:13,  1.64s/it]"
     ]
    },
    {
     "name": "stdout",
     "output_type": "stream",
     "text": [
      "Fail: status code 429 paper_id a4be3d63aa5fc23169c8fbb8620d1bb2b950b0b4\n"
     ]
    },
    {
     "name": "stderr",
     "output_type": "stream",
     "text": [
      "  2%|▋                                  | 1139/59545 [26:52<27:03:51,  1.67s/it]"
     ]
    },
    {
     "name": "stdout",
     "output_type": "stream",
     "text": [
      "Fail: status code 429 paper_id 66802e9ba8ac49e79230c52bf0b4ba51693e1cd4\n"
     ]
    },
    {
     "name": "stderr",
     "output_type": "stream",
     "text": [
      "  2%|▋                                  | 1140/59545 [26:54<26:54:59,  1.66s/it]"
     ]
    },
    {
     "name": "stdout",
     "output_type": "stream",
     "text": [
      "Fail: status code 429 paper_id b2924c7fa876a711107a6cc1f72966839c456896\n"
     ]
    },
    {
     "name": "stderr",
     "output_type": "stream",
     "text": [
      "  2%|▋                                  | 1143/59545 [26:59<26:41:17,  1.65s/it]"
     ]
    },
    {
     "name": "stdout",
     "output_type": "stream",
     "text": [
      "Fail: status code 429 paper_id aef5ab7f7e5b4c8c1a70dde3e42dc4ae740cc359\n"
     ]
    },
    {
     "name": "stderr",
     "output_type": "stream",
     "text": [
      "  2%|▋                                  | 1145/59545 [27:02<26:37:51,  1.64s/it]"
     ]
    },
    {
     "name": "stdout",
     "output_type": "stream",
     "text": [
      "Fail: status code 429 paper_id 9b970d2fe97d036f65d4b37a52c460196a421d01\n"
     ]
    },
    {
     "name": "stderr",
     "output_type": "stream",
     "text": [
      "  2%|▋                                  | 1148/59545 [27:07<25:50:54,  1.59s/it]"
     ]
    },
    {
     "name": "stdout",
     "output_type": "stream",
     "text": [
      "Fail: status code 429 paper_id 2be423c0ea950ef80fdb0a9832ca096f28d5b090\n"
     ]
    },
    {
     "name": "stderr",
     "output_type": "stream",
     "text": [
      "  2%|▋                                  | 1152/59545 [27:13<26:25:19,  1.63s/it]"
     ]
    },
    {
     "name": "stdout",
     "output_type": "stream",
     "text": [
      "Fail: status code 429 paper_id a2f06e9c15ac34681f1fb2d49ae78693e475e6e1\n"
     ]
    },
    {
     "name": "stderr",
     "output_type": "stream",
     "text": [
      "  2%|▋                                  | 1163/59545 [27:29<25:20:25,  1.56s/it]"
     ]
    },
    {
     "name": "stdout",
     "output_type": "stream",
     "text": [
      "Fail: status code 429 paper_id 3ae823c1a57aa02ec1a3be2df5b7b6742cdd4887\n"
     ]
    },
    {
     "name": "stderr",
     "output_type": "stream",
     "text": [
      "  2%|▋                                  | 1165/59545 [27:32<25:34:31,  1.58s/it]"
     ]
    },
    {
     "name": "stdout",
     "output_type": "stream",
     "text": [
      "Fail: status code 429 paper_id 5b56e03536854536d9a5c81479543fed87b00298\n"
     ]
    },
    {
     "name": "stderr",
     "output_type": "stream",
     "text": [
      "  2%|▋                                  | 1190/59545 [28:13<25:14:17,  1.56s/it]"
     ]
    },
    {
     "name": "stdout",
     "output_type": "stream",
     "text": [
      "Fail: status code 429 paper_id fa044c015cfdddb8a8a77790fa3e67c763b8d558\n"
     ]
    },
    {
     "name": "stderr",
     "output_type": "stream",
     "text": [
      "  2%|▋                                  | 1191/59545 [28:15<25:38:27,  1.58s/it]"
     ]
    },
    {
     "name": "stdout",
     "output_type": "stream",
     "text": [
      "Fail: status code 429 paper_id 0cf82b0b051a188ca955134e38193fc57fbf91ff\n"
     ]
    },
    {
     "name": "stderr",
     "output_type": "stream",
     "text": [
      "  2%|▋                                  | 1193/59545 [28:18<26:06:23,  1.61s/it]"
     ]
    },
    {
     "name": "stdout",
     "output_type": "stream",
     "text": [
      "Fail: status code 429 paper_id e7a49be26ebcc4e16fdec44d5579635158584992\n"
     ]
    },
    {
     "name": "stderr",
     "output_type": "stream",
     "text": [
      "  2%|▋                                  | 1194/59545 [28:19<26:14:25,  1.62s/it]"
     ]
    },
    {
     "name": "stdout",
     "output_type": "stream",
     "text": [
      "Fail: status code 429 paper_id 2b274069dfd8bd1bcbd1afec1cd9cc231422064b\n"
     ]
    },
    {
     "name": "stderr",
     "output_type": "stream",
     "text": [
      "  2%|▋                                  | 1195/59545 [28:21<25:50:22,  1.59s/it]"
     ]
    },
    {
     "name": "stdout",
     "output_type": "stream",
     "text": [
      "Fail: status code 429 paper_id cf61b5369c5938b3fe4add509d0ecb952d54464c\n"
     ]
    },
    {
     "name": "stderr",
     "output_type": "stream",
     "text": [
      "  2%|▋                                  | 1196/59545 [28:23<26:03:00,  1.61s/it]"
     ]
    },
    {
     "name": "stdout",
     "output_type": "stream",
     "text": [
      "Fail: status code 429 paper_id 2f354d49f51ccc6cfb70ddb0252ad08e493be7e8\n"
     ]
    },
    {
     "name": "stderr",
     "output_type": "stream",
     "text": [
      "  2%|▋                                  | 1197/59545 [28:24<26:12:20,  1.62s/it]"
     ]
    },
    {
     "name": "stdout",
     "output_type": "stream",
     "text": [
      "Fail: status code 429 paper_id 6be3c3ad0e13b740b2195b45480f4b53da9e19bb\n"
     ]
    },
    {
     "name": "stderr",
     "output_type": "stream",
     "text": [
      "  2%|▋                                  | 1198/59545 [28:26<24:21:38,  1.50s/it]"
     ]
    },
    {
     "name": "stdout",
     "output_type": "stream",
     "text": [
      "Fail: status code 429 paper_id f509c8934397f954c9143865864d5760151438be\n"
     ]
    },
    {
     "name": "stderr",
     "output_type": "stream",
     "text": [
      "  2%|▋                                  | 1199/59545 [28:27<25:01:11,  1.54s/it]"
     ]
    },
    {
     "name": "stdout",
     "output_type": "stream",
     "text": [
      "Fail: status code 429 paper_id 92c7b6f29ddf87a0d6d5e553eb22deae8b8b2329\n"
     ]
    },
    {
     "name": "stderr",
     "output_type": "stream",
     "text": [
      "  2%|▋                                  | 1200/59545 [28:29<25:26:00,  1.57s/it]"
     ]
    },
    {
     "name": "stdout",
     "output_type": "stream",
     "text": [
      "Fail: status code 429 paper_id 3895ed33a13b2e99b7d376f501804a67d1af933e\n"
     ]
    },
    {
     "name": "stderr",
     "output_type": "stream",
     "text": [
      "  2%|▋                                  | 1201/59545 [28:30<25:30:31,  1.57s/it]"
     ]
    },
    {
     "name": "stdout",
     "output_type": "stream",
     "text": [
      "Fail: status code 429 paper_id e10a7d4408118361699e98f2421475cb3b1de9d0\n"
     ]
    },
    {
     "name": "stderr",
     "output_type": "stream",
     "text": [
      "  2%|▋                                  | 1202/59545 [28:32<25:37:22,  1.58s/it]"
     ]
    },
    {
     "name": "stdout",
     "output_type": "stream",
     "text": [
      "Fail: status code 429 paper_id 8d14690fda443f6b71c19bb3674dfc90982733fc\n"
     ]
    },
    {
     "name": "stderr",
     "output_type": "stream",
     "text": [
      "  2%|▋                                  | 1203/59545 [28:34<25:26:08,  1.57s/it]"
     ]
    },
    {
     "name": "stdout",
     "output_type": "stream",
     "text": [
      "Fail: status code 429 paper_id 43acfdfbc48554165c63378610d71bedf6da355a\n"
     ]
    },
    {
     "name": "stderr",
     "output_type": "stream",
     "text": [
      "  2%|▋                                  | 1204/59545 [28:35<25:41:56,  1.59s/it]"
     ]
    },
    {
     "name": "stdout",
     "output_type": "stream",
     "text": [
      "Fail: status code 429 paper_id f2c2b4b06b53bbbfecaebd02237d4425c55ebf39\n"
     ]
    },
    {
     "name": "stderr",
     "output_type": "stream",
     "text": [
      "  2%|▋                                  | 1206/59545 [28:38<26:07:57,  1.61s/it]"
     ]
    },
    {
     "name": "stdout",
     "output_type": "stream",
     "text": [
      "Fail: status code 429 paper_id 9c9eeb62e0b8f6d290367935f670d7f0665c441d\n"
     ]
    },
    {
     "name": "stderr",
     "output_type": "stream",
     "text": [
      "  2%|▋                                  | 1208/59545 [28:42<26:20:39,  1.63s/it]"
     ]
    },
    {
     "name": "stdout",
     "output_type": "stream",
     "text": [
      "Fail: status code 429 paper_id f22d21c9acd1d8253390a872edac52b119f60da2\n"
     ]
    },
    {
     "name": "stderr",
     "output_type": "stream",
     "text": [
      "  2%|▋                                  | 1209/59545 [28:43<25:54:20,  1.60s/it]"
     ]
    },
    {
     "name": "stdout",
     "output_type": "stream",
     "text": [
      "Fail: status code 429 paper_id 2ec793f7de432bbbe16853a9d988dbb2ebe58110\n"
     ]
    },
    {
     "name": "stderr",
     "output_type": "stream",
     "text": [
      "  2%|▋                                  | 1211/59545 [28:46<26:13:54,  1.62s/it]"
     ]
    },
    {
     "name": "stdout",
     "output_type": "stream",
     "text": [
      "Fail: status code 429 paper_id eb0c9e80bdc800fccb023678df2b2b74d0be2e94\n"
     ]
    },
    {
     "name": "stderr",
     "output_type": "stream",
     "text": [
      "  2%|▋                                  | 1213/59545 [28:48<20:15:16,  1.25s/it]"
     ]
    },
    {
     "name": "stdout",
     "output_type": "stream",
     "text": [
      "Fail: status code 429 paper_id 9da761f24ca8bf2bedaefafe71e2b295b99005e4\n"
     ]
    },
    {
     "name": "stderr",
     "output_type": "stream",
     "text": [
      "  2%|▋                                  | 1215/59545 [28:51<23:02:48,  1.42s/it]"
     ]
    },
    {
     "name": "stdout",
     "output_type": "stream",
     "text": [
      "Fail: status code 429 paper_id 347c61197034588a2b7ad54b91c4dd8bdd6c6ea1\n"
     ]
    },
    {
     "name": "stderr",
     "output_type": "stream",
     "text": [
      "  2%|▋                                  | 1217/59545 [28:54<23:19:11,  1.44s/it]"
     ]
    },
    {
     "name": "stdout",
     "output_type": "stream",
     "text": [
      "Fail: status code 429 paper_id 2e1690a31d52783493330a4166af183bdfac9015\n"
     ]
    },
    {
     "name": "stderr",
     "output_type": "stream",
     "text": [
      "  2%|▋                                  | 1220/59545 [28:59<23:58:37,  1.48s/it]"
     ]
    },
    {
     "name": "stdout",
     "output_type": "stream",
     "text": [
      "Fail: status code 429 paper_id 0f55a9af989199040b49d7b4294ce7aabcd05f5e\n"
     ]
    },
    {
     "name": "stderr",
     "output_type": "stream",
     "text": [
      "  2%|▋                                  | 1221/59545 [29:01<24:44:03,  1.53s/it]"
     ]
    },
    {
     "name": "stdout",
     "output_type": "stream",
     "text": [
      "Fail: status code 429 paper_id 1cea61d0ebaff5120af9ff115f4b2b50e3a759e6\n"
     ]
    },
    {
     "name": "stderr",
     "output_type": "stream",
     "text": [
      "  2%|▋                                  | 1226/59545 [29:09<26:20:46,  1.63s/it]"
     ]
    },
    {
     "name": "stdout",
     "output_type": "stream",
     "text": [
      "Fail: status code 429 paper_id 4c30abfca8a1ca694246ec760eb16732c93dee4f\n"
     ]
    },
    {
     "name": "stderr",
     "output_type": "stream",
     "text": [
      "  2%|▋                                  | 1248/59545 [29:44<24:44:22,  1.53s/it]"
     ]
    },
    {
     "name": "stdout",
     "output_type": "stream",
     "text": [
      "Fail: status code 429 paper_id 6b24729a9ff6906742369a136d81f7b0f72120c8\n"
     ]
    },
    {
     "name": "stderr",
     "output_type": "stream",
     "text": [
      "  2%|▊                                  | 1283/59545 [30:42<27:05:49,  1.67s/it]"
     ]
    },
    {
     "name": "stdout",
     "output_type": "stream",
     "text": [
      "Fail: status code 429 paper_id 4a03761e4d117ffca9b617e0a3eddb55cd5bcd0d\n"
     ]
    },
    {
     "name": "stderr",
     "output_type": "stream",
     "text": [
      "  2%|▊                                  | 1284/59545 [30:44<26:55:27,  1.66s/it]"
     ]
    },
    {
     "name": "stdout",
     "output_type": "stream",
     "text": [
      "Fail: status code 429 paper_id 60f9fde88c61243a7be69a9bbdadd2551109b946\n"
     ]
    },
    {
     "name": "stderr",
     "output_type": "stream",
     "text": [
      "  2%|▊                                  | 1285/59545 [30:45<26:18:04,  1.63s/it]"
     ]
    },
    {
     "name": "stdout",
     "output_type": "stream",
     "text": [
      "Fail: status code 429 paper_id 8e7245bc40220d91024c4d9ae8c879c89301efbb\n"
     ]
    },
    {
     "name": "stderr",
     "output_type": "stream",
     "text": [
      "  2%|▊                                  | 1286/59545 [30:46<24:52:28,  1.54s/it]"
     ]
    },
    {
     "name": "stdout",
     "output_type": "stream",
     "text": [
      "Fail: status code 429 paper_id 853e3eaa048e388c86972db270e1f9b186236ee1\n"
     ]
    },
    {
     "name": "stderr",
     "output_type": "stream",
     "text": [
      "  2%|▊                                  | 1287/59545 [30:48<25:21:46,  1.57s/it]"
     ]
    },
    {
     "name": "stdout",
     "output_type": "stream",
     "text": [
      "Fail: status code 429 paper_id 27c987ce2e770ea8bfa6d7cba05fd4318e9698a0\n"
     ]
    },
    {
     "name": "stderr",
     "output_type": "stream",
     "text": [
      "  2%|▊                                  | 1288/59545 [30:50<25:17:42,  1.56s/it]"
     ]
    },
    {
     "name": "stdout",
     "output_type": "stream",
     "text": [
      "Fail: status code 429 paper_id 5f32a61e091e3d08c2dee94b0c5c7ca5a18e38d1\n"
     ]
    },
    {
     "name": "stderr",
     "output_type": "stream",
     "text": [
      "  2%|▊                                  | 1289/59545 [30:51<24:05:35,  1.49s/it]"
     ]
    },
    {
     "name": "stdout",
     "output_type": "stream",
     "text": [
      "Fail: status code 429 paper_id dd4f0f9d0c0ae6616d3ab03b497f6a6a96b6192d\n"
     ]
    },
    {
     "name": "stderr",
     "output_type": "stream",
     "text": [
      "  2%|▊                                  | 1290/59545 [30:53<24:48:51,  1.53s/it]"
     ]
    },
    {
     "name": "stdout",
     "output_type": "stream",
     "text": [
      "Fail: status code 429 paper_id 2d38649a4f39aee82f64257084d0cf29ba4489ab\n"
     ]
    },
    {
     "name": "stderr",
     "output_type": "stream",
     "text": [
      "  2%|▊                                  | 1295/59545 [31:01<26:14:27,  1.62s/it]"
     ]
    },
    {
     "name": "stdout",
     "output_type": "stream",
     "text": [
      "Fail: status code 429 paper_id dec32f6351bc9bcaf3d9fae62f0520564749d208\n"
     ]
    },
    {
     "name": "stderr",
     "output_type": "stream",
     "text": [
      "  2%|▊                                  | 1303/59545 [31:14<26:57:16,  1.67s/it]"
     ]
    },
    {
     "name": "stdout",
     "output_type": "stream",
     "text": [
      "Fail: status code 429 paper_id ce1c5b0007177a60df458c146ea7bf3ecf5f76d5\n"
     ]
    },
    {
     "name": "stderr",
     "output_type": "stream",
     "text": [
      "  2%|▊                                  | 1310/59545 [31:25<26:16:19,  1.62s/it]"
     ]
    },
    {
     "name": "stdout",
     "output_type": "stream",
     "text": [
      "Fail: status code 429 paper_id 77f2f5d2c58540dde077d1ec188a1395d28477c3\n"
     ]
    },
    {
     "name": "stderr",
     "output_type": "stream",
     "text": [
      "  2%|▊                                  | 1321/59545 [31:43<26:30:04,  1.64s/it]"
     ]
    },
    {
     "name": "stdout",
     "output_type": "stream",
     "text": [
      "Fail: status code 429 paper_id 24a1c85433fb11620e770d860acac1c2baef1a46\n"
     ]
    },
    {
     "name": "stderr",
     "output_type": "stream",
     "text": [
      "  2%|▊                                  | 1369/59545 [33:02<29:42:02,  1.84s/it]"
     ]
    },
    {
     "name": "stdout",
     "output_type": "stream",
     "text": [
      "Fail: status code 429 paper_id 73322fb538811034065b055da1475ba5860aa9dd\n"
     ]
    },
    {
     "name": "stderr",
     "output_type": "stream",
     "text": [
      "  2%|▊                                  | 1406/59545 [34:04<28:37:20,  1.77s/it]"
     ]
    },
    {
     "name": "stdout",
     "output_type": "stream",
     "text": [
      "Fail: status code 429 paper_id 7a4501bc45e9f6658d3eedf15c1348ea7c375b83\n"
     ]
    },
    {
     "name": "stderr",
     "output_type": "stream",
     "text": [
      "  2%|▊                                  | 1407/59545 [34:06<27:58:34,  1.73s/it]"
     ]
    },
    {
     "name": "stdout",
     "output_type": "stream",
     "text": [
      "Fail: status code 429 paper_id cedb72f099b0416a916b8885b24fa379e6f6adf2\n"
     ]
    },
    {
     "name": "stderr",
     "output_type": "stream",
     "text": [
      "  2%|▊                                  | 1409/59545 [34:09<27:32:34,  1.71s/it]"
     ]
    },
    {
     "name": "stdout",
     "output_type": "stream",
     "text": [
      "Fail: status code 429 paper_id 7aa821135b0292892647694026b888aa0aa0db03\n"
     ]
    },
    {
     "name": "stderr",
     "output_type": "stream",
     "text": [
      "  2%|▊                                  | 1410/59545 [34:11<27:16:09,  1.69s/it]"
     ]
    },
    {
     "name": "stdout",
     "output_type": "stream",
     "text": [
      "Fail: status code 429 paper_id be5f045f819cd4f6cdd59f8a1a088a9bd6d4e15e\n"
     ]
    },
    {
     "name": "stderr",
     "output_type": "stream",
     "text": [
      "  2%|▊                                  | 1411/59545 [34:12<26:35:41,  1.65s/it]"
     ]
    },
    {
     "name": "stdout",
     "output_type": "stream",
     "text": [
      "Fail: status code 429 paper_id 9ca72168aa9b9dad83d9020a4159152ba114314b\n"
     ]
    },
    {
     "name": "stderr",
     "output_type": "stream",
     "text": [
      "  2%|▊                                  | 1412/59545 [34:14<26:26:07,  1.64s/it]"
     ]
    },
    {
     "name": "stdout",
     "output_type": "stream",
     "text": [
      "Fail: status code 429 paper_id a3450e0c96f0dab6020eb61c690438f4dcdeb986\n"
     ]
    },
    {
     "name": "stderr",
     "output_type": "stream",
     "text": [
      "  2%|▊                                  | 1413/59545 [34:15<26:26:29,  1.64s/it]"
     ]
    },
    {
     "name": "stdout",
     "output_type": "stream",
     "text": [
      "Fail: status code 429 paper_id f9358c6e826ae7146d66e1dc8b1d9d8ded15e2b6\n"
     ]
    },
    {
     "name": "stderr",
     "output_type": "stream",
     "text": [
      "  2%|▊                                  | 1414/59545 [34:17<26:27:06,  1.64s/it]"
     ]
    },
    {
     "name": "stdout",
     "output_type": "stream",
     "text": [
      "Fail: status code 429 paper_id 90b55157b9c06e0c13d96e33479b83cd6a0d2c4d\n"
     ]
    },
    {
     "name": "stderr",
     "output_type": "stream",
     "text": [
      "  2%|▊                                  | 1416/59545 [34:20<26:47:43,  1.66s/it]"
     ]
    },
    {
     "name": "stdout",
     "output_type": "stream",
     "text": [
      "Fail: status code 429 paper_id e31383c01cda11aea662384100300378e27d2520\n"
     ]
    },
    {
     "name": "stderr",
     "output_type": "stream",
     "text": [
      "  2%|▊                                  | 1417/59545 [34:22<26:42:01,  1.65s/it]"
     ]
    },
    {
     "name": "stdout",
     "output_type": "stream",
     "text": [
      "Fail: status code 429 paper_id 7b648ce0f1af1fc983e15eefef3e3818f61b9979\n"
     ]
    },
    {
     "name": "stderr",
     "output_type": "stream",
     "text": [
      "  2%|▊                                  | 1418/59545 [34:24<26:37:28,  1.65s/it]"
     ]
    },
    {
     "name": "stdout",
     "output_type": "stream",
     "text": [
      "Fail: status code 429 paper_id af2c8a66ca18bde9a458e0d4881c415f0b731572\n"
     ]
    },
    {
     "name": "stderr",
     "output_type": "stream",
     "text": [
      "  2%|▊                                  | 1419/59545 [34:25<26:34:36,  1.65s/it]"
     ]
    },
    {
     "name": "stdout",
     "output_type": "stream",
     "text": [
      "Fail: status code 429 paper_id 6aeb2ebcd80c150a7497550dc59dbeb5e2197c1b\n"
     ]
    },
    {
     "name": "stderr",
     "output_type": "stream",
     "text": [
      "  2%|▊                                  | 1420/59545 [34:27<26:03:43,  1.61s/it]"
     ]
    },
    {
     "name": "stdout",
     "output_type": "stream",
     "text": [
      "Fail: status code 429 paper_id 1c02a847562f79500fd37e1fd4e36f15f39d36c9\n"
     ]
    },
    {
     "name": "stderr",
     "output_type": "stream",
     "text": [
      "  2%|▊                                  | 1422/59545 [34:30<25:48:44,  1.60s/it]"
     ]
    },
    {
     "name": "stdout",
     "output_type": "stream",
     "text": [
      "Fail: status code 429 paper_id f80fedab764e335eb6569aebf600cd0ce22e9060\n"
     ]
    },
    {
     "name": "stderr",
     "output_type": "stream",
     "text": [
      "  2%|▊                                  | 1423/59545 [34:32<25:56:12,  1.61s/it]"
     ]
    },
    {
     "name": "stdout",
     "output_type": "stream",
     "text": [
      "Fail: status code 429 paper_id 15cac4360fafe7b3ef437467214b2d0b4a264f0e\n"
     ]
    },
    {
     "name": "stderr",
     "output_type": "stream",
     "text": [
      "  2%|▊                                  | 1424/59545 [34:33<25:35:46,  1.59s/it]"
     ]
    },
    {
     "name": "stdout",
     "output_type": "stream",
     "text": [
      "Fail: status code 429 paper_id 6675541c39960caab9e987e8eedd71718376268d\n"
     ]
    },
    {
     "name": "stderr",
     "output_type": "stream",
     "text": [
      "  2%|▊                                  | 1426/59545 [34:37<26:02:04,  1.61s/it]"
     ]
    },
    {
     "name": "stdout",
     "output_type": "stream",
     "text": [
      "Fail: status code 429 paper_id b9d45da04f17ec88a39c0d7a3851e5a215f926fd\n"
     ]
    },
    {
     "name": "stderr",
     "output_type": "stream",
     "text": [
      "  2%|▊                                  | 1428/59545 [34:40<25:34:00,  1.58s/it]"
     ]
    },
    {
     "name": "stdout",
     "output_type": "stream",
     "text": [
      "Fail: status code 429 paper_id e453dd3dad7c2ae7be7ddc8aad36e5e4d2a0e67e\n"
     ]
    },
    {
     "name": "stderr",
     "output_type": "stream",
     "text": [
      "  2%|▊                                  | 1429/59545 [34:41<25:37:12,  1.59s/it]"
     ]
    },
    {
     "name": "stdout",
     "output_type": "stream",
     "text": [
      "Fail: status code 429 paper_id 74c9f4bc3bf808abce7a6639c8746c7aa012debd\n"
     ]
    },
    {
     "name": "stderr",
     "output_type": "stream",
     "text": [
      "  2%|▊                                  | 1430/59545 [34:43<25:50:18,  1.60s/it]"
     ]
    },
    {
     "name": "stdout",
     "output_type": "stream",
     "text": [
      "Fail: status code 429 paper_id 10dbe8820e095ef9f7da40619cf7669375973048\n"
     ]
    },
    {
     "name": "stderr",
     "output_type": "stream",
     "text": [
      "  2%|▊                                  | 1431/59545 [34:44<26:01:14,  1.61s/it]"
     ]
    },
    {
     "name": "stdout",
     "output_type": "stream",
     "text": [
      "Fail: status code 429 paper_id 896ff64187c97f60fedcff06409d2e6cefcead40\n"
     ]
    },
    {
     "name": "stderr",
     "output_type": "stream",
     "text": [
      "  2%|▊                                  | 1432/59545 [34:46<26:09:13,  1.62s/it]"
     ]
    },
    {
     "name": "stdout",
     "output_type": "stream",
     "text": [
      "Fail: status code 429 paper_id 3790363cfb29526322d9539edaa30fb9096ee1a8\n"
     ]
    },
    {
     "name": "stderr",
     "output_type": "stream",
     "text": [
      "  2%|▊                                  | 1433/59545 [34:48<26:14:17,  1.63s/it]"
     ]
    },
    {
     "name": "stdout",
     "output_type": "stream",
     "text": [
      "Fail: status code 429 paper_id f204a73e965d6d0b1da40c01779b50197d883014\n"
     ]
    },
    {
     "name": "stderr",
     "output_type": "stream",
     "text": [
      "  2%|▊                                  | 1434/59545 [34:50<26:47:30,  1.66s/it]"
     ]
    },
    {
     "name": "stdout",
     "output_type": "stream",
     "text": [
      "Fail: status code 429 paper_id f0c851a5a373af3ba6612f353fa79230fa5c1233\n"
     ]
    },
    {
     "name": "stderr",
     "output_type": "stream",
     "text": [
      "  2%|▊                                  | 1436/59545 [34:53<26:40:56,  1.65s/it]"
     ]
    },
    {
     "name": "stdout",
     "output_type": "stream",
     "text": [
      "Fail: status code 429 paper_id 897fbccf523b6ae59023bdc63be3c9a69b163c13\n"
     ]
    },
    {
     "name": "stderr",
     "output_type": "stream",
     "text": [
      "  2%|▊                                  | 1437/59545 [34:55<27:02:33,  1.68s/it]"
     ]
    },
    {
     "name": "stdout",
     "output_type": "stream",
     "text": [
      "Fail: status code 429 paper_id 45ae0675750750fa391184ee68b7c6d2fe9fea05\n"
     ]
    },
    {
     "name": "stderr",
     "output_type": "stream",
     "text": [
      "  2%|▊                                  | 1438/59545 [34:56<26:38:02,  1.65s/it]"
     ]
    },
    {
     "name": "stdout",
     "output_type": "stream",
     "text": [
      "Fail: status code 429 paper_id 5c33d34ac998e186a9892fa42c2184b4e429751e\n"
     ]
    },
    {
     "name": "stderr",
     "output_type": "stream",
     "text": [
      "  2%|▊                                  | 1439/59545 [34:58<26:19:01,  1.63s/it]"
     ]
    },
    {
     "name": "stdout",
     "output_type": "stream",
     "text": [
      "Fail: status code 429 paper_id 8dd4d8193a63c328448b5d6681040eeb6aa511ec\n"
     ]
    },
    {
     "name": "stderr",
     "output_type": "stream",
     "text": [
      "  2%|▊                                  | 1441/59545 [35:01<26:43:33,  1.66s/it]"
     ]
    },
    {
     "name": "stdout",
     "output_type": "stream",
     "text": [
      "Fail: status code 429 paper_id 354949bca46d91dab8494886afa932a495aa6390\n"
     ]
    },
    {
     "name": "stderr",
     "output_type": "stream",
     "text": [
      "  2%|▊                                  | 1442/59545 [35:02<25:08:57,  1.56s/it]"
     ]
    },
    {
     "name": "stdout",
     "output_type": "stream",
     "text": [
      "Fail: status code 429 paper_id 5802c24882078faa2a79f423bb511bdc4be83c05\n"
     ]
    },
    {
     "name": "stderr",
     "output_type": "stream",
     "text": [
      "  2%|▊                                  | 1443/59545 [35:04<25:33:12,  1.58s/it]"
     ]
    },
    {
     "name": "stdout",
     "output_type": "stream",
     "text": [
      "Fail: status code 429 paper_id 10cc78c80318bd054c393526efdd0a26ab5e8d24\n"
     ]
    },
    {
     "name": "stderr",
     "output_type": "stream",
     "text": [
      "  2%|▊                                  | 1444/59545 [35:06<25:31:25,  1.58s/it]"
     ]
    },
    {
     "name": "stdout",
     "output_type": "stream",
     "text": [
      "Fail: status code 429 paper_id e1ec230bbadde65427e2c23a66b430949686a339\n"
     ]
    },
    {
     "name": "stderr",
     "output_type": "stream",
     "text": [
      "  2%|▊                                  | 1445/59545 [35:07<24:05:43,  1.49s/it]"
     ]
    },
    {
     "name": "stdout",
     "output_type": "stream",
     "text": [
      "Fail: status code 429 paper_id 985be72aceab512f76b8dd5ad8ad570e9793a12a\n"
     ]
    },
    {
     "name": "stderr",
     "output_type": "stream",
     "text": [
      "  2%|▊                                  | 1446/59545 [35:09<25:18:09,  1.57s/it]"
     ]
    },
    {
     "name": "stdout",
     "output_type": "stream",
     "text": [
      "Fail: status code 429 paper_id a50b0793b3438f187e7f01ac4a8c6d5297053f01\n"
     ]
    },
    {
     "name": "stderr",
     "output_type": "stream",
     "text": [
      "  2%|▊                                  | 1450/59545 [35:15<26:09:37,  1.62s/it]"
     ]
    },
    {
     "name": "stdout",
     "output_type": "stream",
     "text": [
      "Fail: status code 429 paper_id c264fb9a45b7d8ca5a945af77df7ec8aaa3eea39\n"
     ]
    },
    {
     "name": "stderr",
     "output_type": "stream",
     "text": [
      "  2%|▊                                  | 1457/59545 [35:27<26:26:18,  1.64s/it]"
     ]
    },
    {
     "name": "stdout",
     "output_type": "stream",
     "text": [
      "Fail: status code 429 paper_id 4e07da832c717dfe5151edc26105d1a826520ba4\n"
     ]
    },
    {
     "name": "stderr",
     "output_type": "stream",
     "text": [
      "  2%|▊                                  | 1466/59545 [35:41<26:09:50,  1.62s/it]"
     ]
    },
    {
     "name": "stdout",
     "output_type": "stream",
     "text": [
      "Fail: status code 429 paper_id 127064e92b16c2fc8f56578c0073f878a8079011\n"
     ]
    },
    {
     "name": "stderr",
     "output_type": "stream",
     "text": [
      "  2%|▊                                  | 1467/59545 [35:43<26:15:00,  1.63s/it]"
     ]
    },
    {
     "name": "stdout",
     "output_type": "stream",
     "text": [
      "Fail: status code 429 paper_id aa3c2167ce2d9f6fc7c9342cd82621aa0e198119\n"
     ]
    },
    {
     "name": "stderr",
     "output_type": "stream",
     "text": [
      "  2%|▊                                  | 1469/59545 [35:44<20:13:48,  1.25s/it]"
     ]
    },
    {
     "name": "stdout",
     "output_type": "stream",
     "text": [
      "Fail: status code 429 paper_id 4c2a3e2da54a4e7e81549361ad988d2680ea1b8f\n"
     ]
    },
    {
     "name": "stderr",
     "output_type": "stream",
     "text": [
      "  2%|▊                                  | 1470/59545 [35:46<21:46:02,  1.35s/it]"
     ]
    },
    {
     "name": "stdout",
     "output_type": "stream",
     "text": [
      "Fail: status code 429 paper_id 533537ca0e73cf0407265e2414fbf5f429b5f5c7\n"
     ]
    },
    {
     "name": "stderr",
     "output_type": "stream",
     "text": [
      "  2%|▊                                  | 1475/59545 [35:54<25:32:04,  1.58s/it]"
     ]
    },
    {
     "name": "stdout",
     "output_type": "stream",
     "text": [
      "Fail: status code 429 paper_id d9e7f34d57e20435fb237187de9b53d8348dd6b2\n"
     ]
    },
    {
     "name": "stderr",
     "output_type": "stream",
     "text": [
      "  2%|▊                                  | 1476/59545 [35:56<25:48:17,  1.60s/it]"
     ]
    },
    {
     "name": "stdout",
     "output_type": "stream",
     "text": [
      "Fail: status code 429 paper_id dc7f867029ff4006d0da3130a8add0a1b0eca8ee\n"
     ]
    },
    {
     "name": "stderr",
     "output_type": "stream",
     "text": [
      "  2%|▊                                  | 1477/59545 [35:58<25:58:53,  1.61s/it]"
     ]
    },
    {
     "name": "stdout",
     "output_type": "stream",
     "text": [
      "Fail: status code 429 paper_id a6a074055eb378ba78ba499adb46286397074d42\n"
     ]
    },
    {
     "name": "stderr",
     "output_type": "stream",
     "text": [
      "  2%|▊                                  | 1478/59545 [35:59<26:36:31,  1.65s/it]"
     ]
    },
    {
     "name": "stdout",
     "output_type": "stream",
     "text": [
      "Fail: status code 429 paper_id 2af8e0daf1e07e0adc80b417c03c2e833f4c460b\n"
     ]
    },
    {
     "name": "stderr",
     "output_type": "stream",
     "text": [
      "  3%|▉                                  | 1491/59545 [36:20<26:24:44,  1.64s/it]"
     ]
    },
    {
     "name": "stdout",
     "output_type": "stream",
     "text": [
      "Fail: status code 429 paper_id eae882b065447a35c45348b11d565a2e90999bb2\n"
     ]
    },
    {
     "name": "stderr",
     "output_type": "stream",
     "text": [
      "  3%|▉                                  | 1496/59545 [36:29<26:37:38,  1.65s/it]"
     ]
    },
    {
     "name": "stdout",
     "output_type": "stream",
     "text": [
      "Fail: status code 429 paper_id 3c9da4f2ca3aabe99783b2d3a6c467a94da2e6c9\n"
     ]
    },
    {
     "name": "stderr",
     "output_type": "stream",
     "text": [
      "  3%|▉                                  | 1552/59545 [38:01<26:07:28,  1.62s/it]"
     ]
    },
    {
     "name": "stdout",
     "output_type": "stream",
     "text": [
      "Fail: status code 429 paper_id 8900282b8c0c5ecab97ed83f21c270370ebe996a\n"
     ]
    },
    {
     "name": "stderr",
     "output_type": "stream",
     "text": [
      "  3%|▉                                  | 1553/59545 [38:02<26:01:26,  1.62s/it]"
     ]
    },
    {
     "name": "stdout",
     "output_type": "stream",
     "text": [
      "Fail: status code 429 paper_id 6815744a53cd890ccdc6d5489955b67281a407cb\n"
     ]
    },
    {
     "name": "stderr",
     "output_type": "stream",
     "text": [
      "  3%|▉                                  | 1560/59545 [38:14<25:35:17,  1.59s/it]"
     ]
    },
    {
     "name": "stdout",
     "output_type": "stream",
     "text": [
      "Fail: status code 429 paper_id b213a998112cdc0d3dd6dc88b5dc5c78e47a92ac\n"
     ]
    },
    {
     "name": "stderr",
     "output_type": "stream",
     "text": [
      "  3%|▉                                  | 1561/59545 [38:16<25:46:23,  1.60s/it]"
     ]
    },
    {
     "name": "stdout",
     "output_type": "stream",
     "text": [
      "Fail: status code 429 paper_id b700fc2a57ddbac748ea633600a1e2d34e96a0b3\n"
     ]
    },
    {
     "name": "stderr",
     "output_type": "stream",
     "text": [
      "  3%|▉                                  | 1562/59545 [38:17<24:12:22,  1.50s/it]"
     ]
    },
    {
     "name": "stdout",
     "output_type": "stream",
     "text": [
      "Fail: status code 429 paper_id 0b0ad9d5dd28abd0e38444a467bba6fdb03bd54f\n"
     ]
    },
    {
     "name": "stderr",
     "output_type": "stream",
     "text": [
      "  3%|▉                                  | 1564/59545 [38:20<25:30:14,  1.58s/it]"
     ]
    },
    {
     "name": "stdout",
     "output_type": "stream",
     "text": [
      "Fail: status code 429 paper_id 530eefbd75e1fb3fd4d827738edc5337981a098a\n"
     ]
    },
    {
     "name": "stderr",
     "output_type": "stream",
     "text": [
      "  3%|▉                                  | 1565/59545 [38:22<25:46:05,  1.60s/it]"
     ]
    },
    {
     "name": "stdout",
     "output_type": "stream",
     "text": [
      "Fail: status code 429 paper_id 63f27b579d461e05c966a106f50c34273a68e002\n"
     ]
    },
    {
     "name": "stderr",
     "output_type": "stream",
     "text": [
      "  3%|▉                                  | 1566/59545 [38:23<25:52:10,  1.61s/it]"
     ]
    },
    {
     "name": "stdout",
     "output_type": "stream",
     "text": [
      "Fail: status code 429 paper_id ebf829dfef4c748b6811827cdff69242000b84f4\n"
     ]
    },
    {
     "name": "stderr",
     "output_type": "stream",
     "text": [
      "  3%|▉                                  | 1570/59545 [38:30<27:12:49,  1.69s/it]"
     ]
    },
    {
     "name": "stdout",
     "output_type": "stream",
     "text": [
      "Fail: status code 429 paper_id 86e0f9fb0ab47f7bed327c79b182d98a3d8cfc48\n"
     ]
    },
    {
     "name": "stderr",
     "output_type": "stream",
     "text": [
      "  3%|▉                                  | 1571/59545 [38:32<27:31:33,  1.71s/it]"
     ]
    },
    {
     "name": "stdout",
     "output_type": "stream",
     "text": [
      "Fail: status code 429 paper_id 5db86db844f3305434fe7e4d455de694793813f6\n"
     ]
    },
    {
     "name": "stderr",
     "output_type": "stream",
     "text": [
      "  3%|▉                                  | 1572/59545 [38:34<27:40:32,  1.72s/it]"
     ]
    },
    {
     "name": "stdout",
     "output_type": "stream",
     "text": [
      "Fail: status code 429 paper_id cd0df0552eea1bd6e352cc2be82eb5eb6f415efa\n"
     ]
    },
    {
     "name": "stderr",
     "output_type": "stream",
     "text": [
      "  3%|▉                                  | 1607/59545 [39:32<25:42:39,  1.60s/it]"
     ]
    },
    {
     "name": "stdout",
     "output_type": "stream",
     "text": [
      "Fail: status code 429 paper_id 8fcd6437caac0ed6fec35be69a56211f35476d3f\n"
     ]
    },
    {
     "name": "stderr",
     "output_type": "stream",
     "text": [
      "  3%|▉                                  | 1609/59545 [39:35<26:05:32,  1.62s/it]"
     ]
    },
    {
     "name": "stdout",
     "output_type": "stream",
     "text": [
      "Fail: status code 429 paper_id aa622d61a789b18657466865064efe29f163fb2d\n"
     ]
    },
    {
     "name": "stderr",
     "output_type": "stream",
     "text": [
      "  3%|▉                                  | 1610/59545 [39:37<26:40:28,  1.66s/it]"
     ]
    },
    {
     "name": "stdout",
     "output_type": "stream",
     "text": [
      "Fail: status code 429 paper_id 88ce08f4bb8896f8f4ba9e5dcc1c540935096c0a\n"
     ]
    },
    {
     "name": "stderr",
     "output_type": "stream",
     "text": [
      "  3%|▉                                  | 1613/59545 [39:42<26:28:46,  1.65s/it]"
     ]
    },
    {
     "name": "stdout",
     "output_type": "stream",
     "text": [
      "Fail: status code 429 paper_id d907bfc6b1acb7b6aff262e380f6dc7f2749769c\n"
     ]
    },
    {
     "name": "stderr",
     "output_type": "stream",
     "text": [
      "  3%|▉                                  | 1616/59545 [39:47<25:44:05,  1.60s/it]"
     ]
    },
    {
     "name": "stdout",
     "output_type": "stream",
     "text": [
      "Fail: status code 429 paper_id 60d1f044ff131329d51dd9a497a25863de1490d2\n"
     ]
    },
    {
     "name": "stderr",
     "output_type": "stream",
     "text": [
      "  3%|▉                                  | 1617/59545 [39:48<25:55:13,  1.61s/it]"
     ]
    },
    {
     "name": "stdout",
     "output_type": "stream",
     "text": [
      "Fail: status code 429 paper_id efbc1efb6157245b8143f3ef71e103b0b40725e1\n"
     ]
    },
    {
     "name": "stderr",
     "output_type": "stream",
     "text": [
      "  3%|▉                                  | 1618/59545 [39:50<26:32:49,  1.65s/it]"
     ]
    },
    {
     "name": "stdout",
     "output_type": "stream",
     "text": [
      "Fail: status code 429 paper_id fa9e1742d2e7afb2770dbb35b42be90e793d6359\n"
     ]
    },
    {
     "name": "stderr",
     "output_type": "stream",
     "text": [
      "  3%|▉                                  | 1619/59545 [39:52<26:55:12,  1.67s/it]"
     ]
    },
    {
     "name": "stdout",
     "output_type": "stream",
     "text": [
      "Fail: status code 429 paper_id e903824d024536c97cc1070294471b03969c36a7\n"
     ]
    },
    {
     "name": "stderr",
     "output_type": "stream",
     "text": [
      "  3%|▉                                  | 1620/59545 [39:54<27:47:05,  1.73s/it]"
     ]
    },
    {
     "name": "stdout",
     "output_type": "stream",
     "text": [
      "Fail: status code 429 paper_id ee1bb051bb437fe3f9b9f2d0487db377dbf6e09f\n"
     ]
    },
    {
     "name": "stderr",
     "output_type": "stream",
     "text": [
      "  3%|▉                                  | 1621/59545 [39:55<27:20:54,  1.70s/it]"
     ]
    },
    {
     "name": "stdout",
     "output_type": "stream",
     "text": [
      "Fail: status code 429 paper_id d6a22fba4ae9647a9d3757baa37d82b37f6ac2c4\n"
     ]
    },
    {
     "name": "stderr",
     "output_type": "stream",
     "text": [
      "  3%|▉                                  | 1622/59545 [39:57<27:05:11,  1.68s/it]"
     ]
    },
    {
     "name": "stdout",
     "output_type": "stream",
     "text": [
      "Fail: status code 429 paper_id 4d5246f9ec89bceb660e43353b5085f48c73559c\n"
     ]
    },
    {
     "name": "stderr",
     "output_type": "stream",
     "text": [
      "  3%|▉                                  | 1623/59545 [39:59<27:17:47,  1.70s/it]"
     ]
    },
    {
     "name": "stdout",
     "output_type": "stream",
     "text": [
      "Fail: status code 429 paper_id 49da0ad1e473a006f4fc4b49088a4a040b73251a\n"
     ]
    },
    {
     "name": "stderr",
     "output_type": "stream",
     "text": [
      "  3%|▉                                  | 1624/59545 [40:00<27:05:17,  1.68s/it]"
     ]
    },
    {
     "name": "stdout",
     "output_type": "stream",
     "text": [
      "Fail: status code 429 paper_id b3e1ec1e2f099713da1a100d6b7808cf3e9a1491\n"
     ]
    },
    {
     "name": "stderr",
     "output_type": "stream",
     "text": [
      "  3%|▉                                  | 1625/59545 [40:02<25:28:35,  1.58s/it]"
     ]
    },
    {
     "name": "stdout",
     "output_type": "stream",
     "text": [
      "Fail: status code 429 paper_id 4c8c404a2bdd73d7c4ab83afc2feb05278b1249f\n"
     ]
    },
    {
     "name": "stderr",
     "output_type": "stream",
     "text": [
      "  3%|▉                                  | 1627/59545 [40:05<25:34:13,  1.59s/it]"
     ]
    },
    {
     "name": "stdout",
     "output_type": "stream",
     "text": [
      "Fail: status code 429 paper_id aa824091211ed8648d151aa0063a78600dab60f4\n"
     ]
    },
    {
     "name": "stderr",
     "output_type": "stream",
     "text": [
      "  3%|▉                                  | 1628/59545 [40:07<25:51:44,  1.61s/it]"
     ]
    },
    {
     "name": "stdout",
     "output_type": "stream",
     "text": [
      "Fail: status code 429 paper_id f565145777ca32db565b27f749772391c5256fc1\n"
     ]
    },
    {
     "name": "stderr",
     "output_type": "stream",
     "text": [
      "  3%|▉                                  | 1632/59545 [40:13<25:49:48,  1.61s/it]"
     ]
    },
    {
     "name": "stdout",
     "output_type": "stream",
     "text": [
      "Fail: status code 429 paper_id c8de4a9835eaca38fd4ef4aa5c3cebd6734493e3\n"
     ]
    },
    {
     "name": "stderr",
     "output_type": "stream",
     "text": [
      "  3%|▉                                  | 1633/59545 [40:15<25:59:01,  1.62s/it]"
     ]
    },
    {
     "name": "stdout",
     "output_type": "stream",
     "text": [
      "Fail: status code 429 paper_id 1b171a9f9dde1aba16dd5ae694d9f0a77a9d21d1\n"
     ]
    },
    {
     "name": "stderr",
     "output_type": "stream",
     "text": [
      "  3%|▉                                  | 1636/59545 [40:20<26:24:33,  1.64s/it]"
     ]
    },
    {
     "name": "stdout",
     "output_type": "stream",
     "text": [
      "Fail: status code 429 paper_id 1fab229fc1fcac74bfbee66e676d12cbc65ce02a\n"
     ]
    },
    {
     "name": "stderr",
     "output_type": "stream",
     "text": [
      "  3%|▉                                  | 1645/59545 [40:34<25:04:52,  1.56s/it]"
     ]
    },
    {
     "name": "stdout",
     "output_type": "stream",
     "text": [
      "Fail: status code 429 paper_id 49b1f8402d6b2a9849393bb7c1a5349fa94897ed\n"
     ]
    },
    {
     "name": "stderr",
     "output_type": "stream",
     "text": [
      "  3%|█                                  | 1713/59545 [42:27<26:18:58,  1.64s/it]"
     ]
    },
    {
     "name": "stdout",
     "output_type": "stream",
     "text": [
      "Fail: status code 429 paper_id 9adf0f7b4c8568593ad5774b92fb5e332f93da30\n"
     ]
    },
    {
     "name": "stderr",
     "output_type": "stream",
     "text": [
      "  3%|█                                  | 1717/59545 [42:30<17:39:06,  1.10s/it]"
     ]
    },
    {
     "name": "stdout",
     "output_type": "stream",
     "text": [
      "Fail: status code 429 paper_id e93f9d67e91553f800f8cd1688253b94d9d73a01\n"
     ]
    },
    {
     "name": "stderr",
     "output_type": "stream",
     "text": [
      "  3%|█                                  | 1731/59545 [42:42<16:05:15,  1.00s/it]"
     ]
    },
    {
     "name": "stdout",
     "output_type": "stream",
     "text": [
      "Fail: status code 429 paper_id 9f5c8f4b4ff52766e6c902f685f1b4a1ee632b04\n"
     ]
    },
    {
     "name": "stderr",
     "output_type": "stream",
     "text": [
      "  3%|█                                  | 1740/59545 [42:54<22:51:38,  1.42s/it]"
     ]
    },
    {
     "name": "stdout",
     "output_type": "stream",
     "text": [
      "Fail: status code 429 paper_id 7122ded0258f6b2c8ace76d31229dbb1544acad7\n"
     ]
    },
    {
     "name": "stderr",
     "output_type": "stream",
     "text": [
      "  3%|█                                  | 1741/59545 [42:56<24:11:56,  1.51s/it]"
     ]
    },
    {
     "name": "stdout",
     "output_type": "stream",
     "text": [
      "Fail: status code 429 paper_id 72a4fe9db2fec0f7e5ff002621886be0b1b214cf\n"
     ]
    },
    {
     "name": "stderr",
     "output_type": "stream",
     "text": [
      "  3%|█                                  | 1742/59545 [42:57<24:46:11,  1.54s/it]"
     ]
    },
    {
     "name": "stdout",
     "output_type": "stream",
     "text": [
      "Fail: status code 429 paper_id ba9b91317ab5b7091726ca23dcd19533edae76b5\n"
     ]
    },
    {
     "name": "stderr",
     "output_type": "stream",
     "text": [
      "  3%|█                                  | 1744/59545 [43:01<25:31:42,  1.59s/it]"
     ]
    },
    {
     "name": "stdout",
     "output_type": "stream",
     "text": [
      "Fail: status code 429 paper_id c50a536426b51424c2c475e26bd2a4fd73dd35e6\n"
     ]
    },
    {
     "name": "stderr",
     "output_type": "stream",
     "text": [
      "  3%|█                                  | 1747/59545 [43:06<27:04:38,  1.69s/it]"
     ]
    },
    {
     "name": "stdout",
     "output_type": "stream",
     "text": [
      "Fail: status code 429 paper_id 9f74d8fe38305a5f59c2010598cf0472505bd1f8\n"
     ]
    },
    {
     "name": "stderr",
     "output_type": "stream",
     "text": [
      "  3%|█                                  | 1830/59545 [44:56<18:57:34,  1.18s/it]"
     ]
    },
    {
     "name": "stdout",
     "output_type": "stream",
     "text": [
      "Fail: status code 429 paper_id f6f370c5c6a5f4861f95bfe9638d749e5eee6086\n"
     ]
    },
    {
     "name": "stderr",
     "output_type": "stream",
     "text": [
      "  3%|█                                  | 1831/59545 [44:58<19:14:58,  1.20s/it]"
     ]
    },
    {
     "name": "stdout",
     "output_type": "stream",
     "text": [
      "Fail: status code 429 paper_id 0a6d49377e422a749660622bb785ad9642503d6b\n"
     ]
    },
    {
     "name": "stderr",
     "output_type": "stream",
     "text": [
      "  3%|█                                  | 1832/59545 [44:59<20:53:01,  1.30s/it]"
     ]
    },
    {
     "name": "stdout",
     "output_type": "stream",
     "text": [
      "Fail: status code 429 paper_id 2deae11d8990f8387e92575ebad00686bb1bc9b6\n"
     ]
    },
    {
     "name": "stderr",
     "output_type": "stream",
     "text": [
      "  3%|█                                  | 1833/59545 [45:01<22:47:23,  1.42s/it]"
     ]
    },
    {
     "name": "stdout",
     "output_type": "stream",
     "text": [
      "Fail: status code 429 paper_id 6dba6ec3d009fa163fdb5960f8b65ddd7594e682\n"
     ]
    },
    {
     "name": "stderr",
     "output_type": "stream",
     "text": [
      "  3%|█                                  | 1834/59545 [45:03<24:09:20,  1.51s/it]"
     ]
    },
    {
     "name": "stdout",
     "output_type": "stream",
     "text": [
      "Fail: status code 429 paper_id fae3c3c1d7d4da1916e1464dac9815b2cbbeb10c\n"
     ]
    },
    {
     "name": "stderr",
     "output_type": "stream",
     "text": [
      "  3%|█                                  | 1835/59545 [45:05<26:09:32,  1.63s/it]"
     ]
    },
    {
     "name": "stdout",
     "output_type": "stream",
     "text": [
      "Fail: status code 429 paper_id 5e1caaa3c52e900968d3f1cb53faff94c0a84bb6\n"
     ]
    },
    {
     "name": "stderr",
     "output_type": "stream",
     "text": [
      "  3%|█                                  | 1836/59545 [45:06<24:53:12,  1.55s/it]"
     ]
    },
    {
     "name": "stdout",
     "output_type": "stream",
     "text": [
      "Fail: status code 429 paper_id ce009a429503d6a8826a2e13f31e0c918560ca5d\n"
     ]
    },
    {
     "name": "stderr",
     "output_type": "stream",
     "text": [
      "  3%|█                                  | 1837/59545 [45:08<25:07:44,  1.57s/it]"
     ]
    },
    {
     "name": "stdout",
     "output_type": "stream",
     "text": [
      "Fail: status code 429 paper_id 950ebc1b054d92a094bac5f0e0d7f28b97ddb8e4\n"
     ]
    },
    {
     "name": "stderr",
     "output_type": "stream",
     "text": [
      "  3%|█                                  | 1839/59545 [45:11<25:42:12,  1.60s/it]"
     ]
    },
    {
     "name": "stdout",
     "output_type": "stream",
     "text": [
      "Fail: status code 429 paper_id 80a8009b3a967d079155f6de5878042d1b50ae16\n"
     ]
    },
    {
     "name": "stderr",
     "output_type": "stream",
     "text": [
      "  3%|█                                  | 1840/59545 [45:13<25:51:29,  1.61s/it]"
     ]
    },
    {
     "name": "stdout",
     "output_type": "stream",
     "text": [
      "Fail: status code 429 paper_id c69538e149f1d981547abf7bff365c0b963130a2\n"
     ]
    },
    {
     "name": "stderr",
     "output_type": "stream",
     "text": [
      "  3%|█                                  | 1841/59545 [45:14<25:58:22,  1.62s/it]"
     ]
    },
    {
     "name": "stdout",
     "output_type": "stream",
     "text": [
      "Fail: status code 429 paper_id 1a53013fdd66e61ed117ef1fc90dcfbed5a473a5\n"
     ]
    },
    {
     "name": "stderr",
     "output_type": "stream",
     "text": [
      "  3%|█                                  | 1842/59545 [45:16<26:33:53,  1.66s/it]"
     ]
    },
    {
     "name": "stdout",
     "output_type": "stream",
     "text": [
      "Fail: status code 429 paper_id 69bd1d11809f49b29e407a5ef50fe3cea4ca9cb4\n"
     ]
    },
    {
     "name": "stderr",
     "output_type": "stream",
     "text": [
      "  3%|█                                  | 1844/59545 [45:19<26:23:30,  1.65s/it]"
     ]
    },
    {
     "name": "stdout",
     "output_type": "stream",
     "text": [
      "Fail: status code 429 paper_id 971c35bcab25fbf4fd4bb6e128cf2586f0ab1d67\n"
     ]
    },
    {
     "name": "stderr",
     "output_type": "stream",
     "text": [
      "  3%|█                                  | 1845/59545 [45:21<26:50:48,  1.68s/it]"
     ]
    },
    {
     "name": "stdout",
     "output_type": "stream",
     "text": [
      "Fail: status code 429 paper_id de509811cf5dda0773be9690dc0ed1be400dc7e6\n"
     ]
    },
    {
     "name": "stderr",
     "output_type": "stream",
     "text": [
      "  3%|█                                  | 1846/59545 [45:23<26:28:58,  1.65s/it]"
     ]
    },
    {
     "name": "stdout",
     "output_type": "stream",
     "text": [
      "Fail: status code 429 paper_id 98453116cb0f51dc5a06e6e482a78bb3ec5af096\n"
     ]
    },
    {
     "name": "stderr",
     "output_type": "stream",
     "text": [
      "  3%|█                                  | 1847/59545 [45:24<26:41:38,  1.67s/it]"
     ]
    },
    {
     "name": "stdout",
     "output_type": "stream",
     "text": [
      "Fail: status code 429 paper_id c4ef273259d9e5bd7186fad2fd44649143e1b537\n"
     ]
    },
    {
     "name": "stderr",
     "output_type": "stream",
     "text": [
      "  3%|█                                  | 1848/59545 [45:26<27:26:53,  1.71s/it]"
     ]
    },
    {
     "name": "stdout",
     "output_type": "stream",
     "text": [
      "Fail: status code 429 paper_id be59e3d17d3a01424795747ab12c8e8499a64ebb\n"
     ]
    },
    {
     "name": "stderr",
     "output_type": "stream",
     "text": [
      "  3%|█                                  | 1849/59545 [45:28<28:10:56,  1.76s/it]"
     ]
    },
    {
     "name": "stdout",
     "output_type": "stream",
     "text": [
      "Fail: status code 429 paper_id dd85bde75abe6c0b03b71774b4fd3079a51bdcaf\n"
     ]
    },
    {
     "name": "stderr",
     "output_type": "stream",
     "text": [
      "  3%|█                                  | 1853/59545 [45:35<27:01:33,  1.69s/it]"
     ]
    },
    {
     "name": "stdout",
     "output_type": "stream",
     "text": [
      "Fail: status code 429 paper_id bee004c421d33253a70bfc423132f258fda04c8e\n"
     ]
    },
    {
     "name": "stderr",
     "output_type": "stream",
     "text": [
      "  3%|█                                  | 1857/59545 [45:42<26:53:41,  1.68s/it]"
     ]
    },
    {
     "name": "stdout",
     "output_type": "stream",
     "text": [
      "Fail: status code 429 paper_id 9af5333fd7e2b96b6159c307ebacca1fa9c134c8\n"
     ]
    },
    {
     "name": "stderr",
     "output_type": "stream",
     "text": [
      "  3%|█                                  | 1858/59545 [45:43<26:41:40,  1.67s/it]"
     ]
    },
    {
     "name": "stdout",
     "output_type": "stream",
     "text": [
      "Fail: status code 429 paper_id 44dfee6c1d066c3f03397ccc7cbd5e7a0f8b79a3\n"
     ]
    },
    {
     "name": "stderr",
     "output_type": "stream",
     "text": [
      "  3%|█                                  | 1862/59545 [45:50<26:51:57,  1.68s/it]"
     ]
    },
    {
     "name": "stdout",
     "output_type": "stream",
     "text": [
      "Fail: status code 429 paper_id f0585b104dc53c267c85e9d096f6a62c757d97b6\n"
     ]
    },
    {
     "name": "stderr",
     "output_type": "stream",
     "text": [
      "  3%|█                                  | 1872/59545 [46:05<24:57:46,  1.56s/it]"
     ]
    },
    {
     "name": "stdout",
     "output_type": "stream",
     "text": [
      "Fail: status code 429 paper_id 58e15a19fad60512c9f71a7edc6dfdea175bcbf4\n"
     ]
    },
    {
     "name": "stderr",
     "output_type": "stream",
     "text": [
      "  3%|█                                  | 1874/59545 [46:09<26:34:32,  1.66s/it]"
     ]
    },
    {
     "name": "stdout",
     "output_type": "stream",
     "text": [
      "Fail: status code 429 paper_id b0ffaf10b6533c310663753672ffa9beb9bcda2c\n"
     ]
    },
    {
     "name": "stderr",
     "output_type": "stream",
     "text": [
      "  3%|█                                  | 1875/59545 [46:10<26:28:53,  1.65s/it]"
     ]
    },
    {
     "name": "stdout",
     "output_type": "stream",
     "text": [
      "Fail: status code 429 paper_id d128531fad5f6b1daf6a131e60ce642816de5918\n"
     ]
    },
    {
     "name": "stderr",
     "output_type": "stream",
     "text": [
      "  3%|█                                  | 1880/59545 [46:17<20:31:48,  1.28s/it]"
     ]
    },
    {
     "name": "stdout",
     "output_type": "stream",
     "text": [
      "Fail: status code 429 paper_id 40bb341e176d85c085571abc603329aceb2ba7d8\n"
     ]
    },
    {
     "name": "stderr",
     "output_type": "stream",
     "text": [
      "  3%|█                                  | 1888/59545 [46:31<26:44:51,  1.67s/it]"
     ]
    },
    {
     "name": "stdout",
     "output_type": "stream",
     "text": [
      "Fail: status code 429 paper_id ee21054e274c7902b05f568efdb7707614cfeeee\n"
     ]
    },
    {
     "name": "stderr",
     "output_type": "stream",
     "text": [
      "  3%|█                                  | 1890/59545 [46:34<26:29:56,  1.65s/it]"
     ]
    },
    {
     "name": "stdout",
     "output_type": "stream",
     "text": [
      "Fail: status code 429 paper_id 80bb132ebcdb45aaadf9f5346cc52c63fdadb6f5\n"
     ]
    },
    {
     "name": "stderr",
     "output_type": "stream",
     "text": [
      "  3%|█                                  | 1897/59545 [46:46<26:39:57,  1.67s/it]"
     ]
    },
    {
     "name": "stdout",
     "output_type": "stream",
     "text": [
      "Fail: status code 429 paper_id 8e0175e00163e80aea89daf12474cbe68643fb99\n"
     ]
    },
    {
     "name": "stderr",
     "output_type": "stream",
     "text": [
      "  3%|█                                  | 1910/59545 [47:06<20:03:44,  1.25s/it]"
     ]
    },
    {
     "name": "stdout",
     "output_type": "stream",
     "text": [
      "Fail: status code 429 paper_id 314dbbfc85dd380c8bb5059e5af974c4bfe44d8f\n"
     ]
    },
    {
     "name": "stderr",
     "output_type": "stream",
     "text": [
      "  3%|█▏                                 | 1957/59545 [47:49<10:52:32,  1.47it/s]"
     ]
    },
    {
     "name": "stdout",
     "output_type": "stream",
     "text": [
      "Fail: status code 429 paper_id 28c04ab5ae0ec0815e480b318e6363632289163d\n"
     ]
    },
    {
     "name": "stderr",
     "output_type": "stream",
     "text": [
      "  3%|█▏                                 | 1962/59545 [47:53<12:21:52,  1.29it/s]"
     ]
    },
    {
     "name": "stdout",
     "output_type": "stream",
     "text": [
      "Fail: status code 429 paper_id 1f0572f47be66c2c0fbf3fd0f98f25e5b5f88361\n"
     ]
    },
    {
     "name": "stderr",
     "output_type": "stream",
     "text": [
      "  3%|█▏                                 | 1969/59545 [47:58<11:13:36,  1.42it/s]"
     ]
    },
    {
     "name": "stdout",
     "output_type": "stream",
     "text": [
      "Fail: status code 429 paper_id fc4e0d593e69e92b6b5ed7ff034f1c039334a7d7\n"
     ]
    },
    {
     "name": "stderr",
     "output_type": "stream",
     "text": [
      "  3%|█▏                                  | 1974/59545 [47:59<8:24:05,  1.90it/s]"
     ]
    },
    {
     "name": "stdout",
     "output_type": "stream",
     "text": [
      "Fail: status code 429 paper_id 110d856b888d84fa61e777af1e48added7d7ca74\n"
     ]
    },
    {
     "name": "stderr",
     "output_type": "stream",
     "text": [
      "  3%|█▏                                  | 2022/59545 [48:27<5:57:51,  2.68it/s]"
     ]
    },
    {
     "name": "stdout",
     "output_type": "stream",
     "text": [
      "Fail: status code 429 paper_id 6a2da9934bf05ba165d7ab9e9fb1d9b2a645c603\n"
     ]
    },
    {
     "name": "stderr",
     "output_type": "stream",
     "text": [
      "  3%|█▏                                  | 2029/59545 [48:28<5:17:26,  3.02it/s]"
     ]
    },
    {
     "name": "stdout",
     "output_type": "stream",
     "text": [
      "Fail: status code 429 paper_id 50cd9a81fe964caf6f76c07a058ba962de0bfcec\n"
     ]
    },
    {
     "name": "stderr",
     "output_type": "stream",
     "text": [
      "  3%|█▏                                  | 2043/59545 [48:33<5:30:04,  2.90it/s]"
     ]
    },
    {
     "name": "stdout",
     "output_type": "stream",
     "text": [
      "Fail: status code 429 paper_id a32be5909140d20946fdfcc27cf48a04d3639a7c\n"
     ]
    },
    {
     "name": "stderr",
     "output_type": "stream",
     "text": [
      "  3%|█▏                                 | 2048/59545 [48:39<12:03:32,  1.32it/s]"
     ]
    },
    {
     "name": "stdout",
     "output_type": "stream",
     "text": [
      "Fail: status code 429 paper_id e037116690f0a52346e6b63459376c40cb72e740\n"
     ]
    },
    {
     "name": "stderr",
     "output_type": "stream",
     "text": [
      "  3%|█▏                                 | 2049/59545 [48:41<14:27:38,  1.10it/s]"
     ]
    },
    {
     "name": "stdout",
     "output_type": "stream",
     "text": [
      "Fail: status code 429 paper_id 727880b9d07d02c3ee6c204c0fc13b48f5c4add1\n"
     ]
    },
    {
     "name": "stderr",
     "output_type": "stream",
     "text": [
      "  4%|█▎                                 | 2149/59545 [51:23<26:17:13,  1.65s/it]"
     ]
    },
    {
     "name": "stdout",
     "output_type": "stream",
     "text": [
      "Fail: status code 429 paper_id 63a3be3232b68482b4353800829be6f17fef99b2\n"
     ]
    },
    {
     "name": "stderr",
     "output_type": "stream",
     "text": [
      "  4%|█▎                                 | 2150/59545 [51:25<26:14:10,  1.65s/it]"
     ]
    },
    {
     "name": "stdout",
     "output_type": "stream",
     "text": [
      "Fail: status code 429 paper_id 8b7c4cde58853496a51c7ec94d9e41701a43c02e\n"
     ]
    },
    {
     "name": "stderr",
     "output_type": "stream",
     "text": [
      "  4%|█▎                                 | 2151/59545 [51:27<26:12:05,  1.64s/it]"
     ]
    },
    {
     "name": "stdout",
     "output_type": "stream",
     "text": [
      "Fail: status code 429 paper_id c037cb02b33b4d006f432d58f02e0a69f13194d3\n"
     ]
    },
    {
     "name": "stderr",
     "output_type": "stream",
     "text": [
      "  4%|█▎                                 | 2152/59545 [51:28<26:09:35,  1.64s/it]"
     ]
    },
    {
     "name": "stdout",
     "output_type": "stream",
     "text": [
      "Fail: status code 429 paper_id 90f3ace54a281ee70bc3a1bbfcab388769eebfcb\n"
     ]
    },
    {
     "name": "stderr",
     "output_type": "stream",
     "text": [
      "  4%|█▎                                 | 2153/59545 [51:30<24:41:24,  1.55s/it]"
     ]
    },
    {
     "name": "stdout",
     "output_type": "stream",
     "text": [
      "Fail: status code 429 paper_id 8f64fdc7a4c4a06b3b979cecd3b2bbae2a8fd8e0\n"
     ]
    },
    {
     "name": "stderr",
     "output_type": "stream",
     "text": [
      "  4%|█▎                                 | 2154/59545 [51:31<25:07:00,  1.58s/it]"
     ]
    },
    {
     "name": "stdout",
     "output_type": "stream",
     "text": [
      "Fail: status code 429 paper_id d5d97e0017f8b12c0e55fe65b898ca80ca16daac\n"
     ]
    },
    {
     "name": "stderr",
     "output_type": "stream",
     "text": [
      "  4%|█▎                                 | 2155/59545 [51:33<25:25:14,  1.59s/it]"
     ]
    },
    {
     "name": "stdout",
     "output_type": "stream",
     "text": [
      "Fail: status code 429 paper_id 619d30e565bac61997e6d39320122d66e0199929\n"
     ]
    },
    {
     "name": "stderr",
     "output_type": "stream",
     "text": [
      "  4%|█▎                                 | 2156/59545 [51:35<25:37:39,  1.61s/it]"
     ]
    },
    {
     "name": "stdout",
     "output_type": "stream",
     "text": [
      "Fail: status code 429 paper_id d68333f1c0095c99ebe6ca9bbdde45b2ac13a1dc\n"
     ]
    },
    {
     "name": "stderr",
     "output_type": "stream",
     "text": [
      "  4%|█▎                                 | 2157/59545 [51:36<25:46:35,  1.62s/it]"
     ]
    },
    {
     "name": "stdout",
     "output_type": "stream",
     "text": [
      "Fail: status code 429 paper_id c7d8eda1fefadd1573efcac1bbdb477cb2df9e01\n"
     ]
    },
    {
     "name": "stderr",
     "output_type": "stream",
     "text": [
      "  4%|█▎                                 | 2158/59545 [51:38<25:52:06,  1.62s/it]"
     ]
    },
    {
     "name": "stdout",
     "output_type": "stream",
     "text": [
      "Fail: status code 429 paper_id b17dda97b9c72e0ffdc1436e3a4e16ed761a6942\n"
     ]
    },
    {
     "name": "stderr",
     "output_type": "stream",
     "text": [
      "  4%|█▎                                 | 2159/59545 [51:40<26:25:53,  1.66s/it]"
     ]
    },
    {
     "name": "stdout",
     "output_type": "stream",
     "text": [
      "Fail: status code 429 paper_id 01ca30a5a57d2f43461d8321c9e4d9ecfa0eba85\n"
     ]
    },
    {
     "name": "stderr",
     "output_type": "stream",
     "text": [
      "  4%|█▎                                 | 2160/59545 [51:41<26:00:34,  1.63s/it]"
     ]
    },
    {
     "name": "stdout",
     "output_type": "stream",
     "text": [
      "Fail: status code 429 paper_id f0f2bd3d117e15c7afffefd391339033463c19f1\n"
     ]
    },
    {
     "name": "stderr",
     "output_type": "stream",
     "text": [
      "  4%|█▎                                 | 2161/59545 [51:43<25:52:52,  1.62s/it]"
     ]
    },
    {
     "name": "stdout",
     "output_type": "stream",
     "text": [
      "Fail: status code 429 paper_id f76c4817ac9b658ae8ad83bec6a5ffd31e0083f0\n"
     ]
    },
    {
     "name": "stderr",
     "output_type": "stream",
     "text": [
      "  4%|█▎                                 | 2162/59545 [51:44<25:57:30,  1.63s/it]"
     ]
    },
    {
     "name": "stdout",
     "output_type": "stream",
     "text": [
      "Fail: status code 429 paper_id c5b0eb110d16802b6fada6c40f9403d328e65cfe\n"
     ]
    },
    {
     "name": "stderr",
     "output_type": "stream",
     "text": [
      "  4%|█▎                                 | 2163/59545 [51:46<26:00:22,  1.63s/it]"
     ]
    },
    {
     "name": "stdout",
     "output_type": "stream",
     "text": [
      "Fail: status code 429 paper_id 90e11a97811a18980b3733ec6f3b98883c48f1f5\n"
     ]
    },
    {
     "name": "stderr",
     "output_type": "stream",
     "text": [
      "  4%|█▎                                 | 2164/59545 [51:48<26:31:33,  1.66s/it]"
     ]
    },
    {
     "name": "stdout",
     "output_type": "stream",
     "text": [
      "Fail: status code 429 paper_id bb0955b98f8ab3199900036b293616d861935c69\n"
     ]
    },
    {
     "name": "stderr",
     "output_type": "stream",
     "text": [
      "  4%|█▎                                 | 2165/59545 [51:49<26:23:40,  1.66s/it]"
     ]
    },
    {
     "name": "stdout",
     "output_type": "stream",
     "text": [
      "Fail: status code 429 paper_id 79bd95c46325fce092ff3e9bcb7082f4f91700d7\n"
     ]
    },
    {
     "name": "stderr",
     "output_type": "stream",
     "text": [
      "  4%|█▎                                 | 2166/59545 [51:51<26:19:13,  1.65s/it]"
     ]
    },
    {
     "name": "stdout",
     "output_type": "stream",
     "text": [
      "Fail: status code 429 paper_id a5836b4a39f29d80aadb8b72a4baa8a9dedcf348\n"
     ]
    },
    {
     "name": "stderr",
     "output_type": "stream",
     "text": [
      "  4%|█▎                                 | 2167/59545 [51:52<24:47:14,  1.56s/it]"
     ]
    },
    {
     "name": "stdout",
     "output_type": "stream",
     "text": [
      "Fail: status code 429 paper_id b8f7870aee5dbfe3905eb61de2e74e786f1e66d5\n"
     ]
    },
    {
     "name": "stderr",
     "output_type": "stream",
     "text": [
      "  4%|█▎                                 | 2168/59545 [51:54<25:11:41,  1.58s/it]"
     ]
    },
    {
     "name": "stdout",
     "output_type": "stream",
     "text": [
      "Fail: status code 429 paper_id e810bc9e732fa3fa80430d9b37cb0f90732ed4e0\n"
     ]
    },
    {
     "name": "stderr",
     "output_type": "stream",
     "text": [
      "  4%|█▎                                 | 2169/59545 [51:56<25:27:14,  1.60s/it]"
     ]
    },
    {
     "name": "stdout",
     "output_type": "stream",
     "text": [
      "Fail: status code 429 paper_id a0e7e17762d0297f9a4cb7c714aa1ee86962c512\n"
     ]
    },
    {
     "name": "stderr",
     "output_type": "stream",
     "text": [
      "  4%|█▎                                 | 2170/59545 [51:57<25:17:38,  1.59s/it]"
     ]
    },
    {
     "name": "stdout",
     "output_type": "stream",
     "text": [
      "Fail: status code 429 paper_id 3cca742cbdcbd5d44eb55b2625fd57ebefe4e67f\n"
     ]
    },
    {
     "name": "stderr",
     "output_type": "stream",
     "text": [
      "  4%|█▎                                 | 2172/59545 [52:00<25:04:56,  1.57s/it]"
     ]
    },
    {
     "name": "stdout",
     "output_type": "stream",
     "text": [
      "Fail: status code 429 paper_id 5d4a300a89ecde19b69fd3c3accee4da5a5505ad\n"
     ]
    },
    {
     "name": "stderr",
     "output_type": "stream",
     "text": [
      "  4%|█▎                                 | 2173/59545 [52:02<24:57:48,  1.57s/it]"
     ]
    },
    {
     "name": "stdout",
     "output_type": "stream",
     "text": [
      "Fail: status code 429 paper_id 17beb56027f4d2b5ce982ca49d20cc04f3f64e8c\n"
     ]
    },
    {
     "name": "stderr",
     "output_type": "stream",
     "text": [
      "  4%|█▎                                 | 2176/59545 [52:05<19:16:20,  1.21s/it]"
     ]
    },
    {
     "name": "stdout",
     "output_type": "stream",
     "text": [
      "Fail: status code 429 paper_id 4935f5764d1359bd076e23728bb4372b59c0686f\n"
     ]
    },
    {
     "name": "stderr",
     "output_type": "stream",
     "text": [
      "  4%|█▎                                 | 2180/59545 [52:12<24:16:11,  1.52s/it]"
     ]
    },
    {
     "name": "stdout",
     "output_type": "stream",
     "text": [
      "Fail: status code 429 paper_id 0fc44e637927c10616956313efa66eff9cb8153b\n"
     ]
    },
    {
     "name": "stderr",
     "output_type": "stream",
     "text": [
      "  4%|█▎                                 | 2197/59545 [52:38<24:44:31,  1.55s/it]"
     ]
    },
    {
     "name": "stdout",
     "output_type": "stream",
     "text": [
      "Fail: status code 429 paper_id 2db662af10d7c6f2a171ca8cd7a7bccec7d33158\n"
     ]
    },
    {
     "name": "stderr",
     "output_type": "stream",
     "text": [
      "  4%|█▎                                 | 2204/59545 [52:49<26:39:50,  1.67s/it]"
     ]
    },
    {
     "name": "stdout",
     "output_type": "stream",
     "text": [
      "Fail: status code 429 paper_id 0ab0299bbc83ad0714a52534e695d301f3e74107\n"
     ]
    },
    {
     "name": "stderr",
     "output_type": "stream",
     "text": [
      "  4%|█▎                                 | 2214/59545 [53:05<25:06:48,  1.58s/it]"
     ]
    },
    {
     "name": "stdout",
     "output_type": "stream",
     "text": [
      "Fail: status code 429 paper_id df1f1fe84ef007f4c7a1f3d4177c1dd0f2a576fb\n"
     ]
    },
    {
     "name": "stderr",
     "output_type": "stream",
     "text": [
      "  4%|█▎                                 | 2269/59545 [54:35<24:33:10,  1.54s/it]"
     ]
    },
    {
     "name": "stdout",
     "output_type": "stream",
     "text": [
      "Fail: status code 404 paper_id None\n"
     ]
    },
    {
     "name": "stderr",
     "output_type": "stream",
     "text": [
      "  4%|█▎                                 | 2276/59545 [54:46<25:25:55,  1.60s/it]"
     ]
    },
    {
     "name": "stdout",
     "output_type": "stream",
     "text": [
      "Fail: status code 429 paper_id fdf487264a94fc014098523252c83ac28311cb14\n"
     ]
    },
    {
     "name": "stderr",
     "output_type": "stream",
     "text": [
      "  4%|█▎                                 | 2277/59545 [54:48<26:13:25,  1.65s/it]"
     ]
    },
    {
     "name": "stdout",
     "output_type": "stream",
     "text": [
      "Fail: status code 429 paper_id f469fae58eed77cd62703365aa1b1538134fdc9c\n"
     ]
    },
    {
     "name": "stderr",
     "output_type": "stream",
     "text": [
      "  4%|█▎                                 | 2278/59545 [54:50<26:10:27,  1.65s/it]"
     ]
    },
    {
     "name": "stdout",
     "output_type": "stream",
     "text": [
      "Fail: status code 429 paper_id 2145129c795c7b7b36fb98c7aa3b91ccd2d398b8\n"
     ]
    },
    {
     "name": "stderr",
     "output_type": "stream",
     "text": [
      "  4%|█▎                                 | 2279/59545 [54:51<26:08:02,  1.64s/it]"
     ]
    },
    {
     "name": "stdout",
     "output_type": "stream",
     "text": [
      "Fail: status code 429 paper_id 90e3eb0639d2675b351f65262bca50df486b6f5a\n"
     ]
    },
    {
     "name": "stderr",
     "output_type": "stream",
     "text": [
      "  4%|█▎                                 | 2280/59545 [54:53<26:07:13,  1.64s/it]"
     ]
    },
    {
     "name": "stdout",
     "output_type": "stream",
     "text": [
      "Fail: status code 429 paper_id a0193a1008dcef592f340ba0d1db620025d854f4\n"
     ]
    },
    {
     "name": "stderr",
     "output_type": "stream",
     "text": [
      "  4%|█▎                                 | 2282/59545 [54:56<24:37:34,  1.55s/it]"
     ]
    },
    {
     "name": "stdout",
     "output_type": "stream",
     "text": [
      "Fail: status code 429 paper_id fa37dd495b629ef512060bbcf66a0145c1b162ba\n"
     ]
    },
    {
     "name": "stderr",
     "output_type": "stream",
     "text": [
      "  4%|█▎                                 | 2283/59545 [54:58<25:03:14,  1.58s/it]"
     ]
    },
    {
     "name": "stdout",
     "output_type": "stream",
     "text": [
      "Fail: status code 429 paper_id 4c41f1cede4ccf848e21cde6db4ca1ec881ad72f\n"
     ]
    },
    {
     "name": "stderr",
     "output_type": "stream",
     "text": [
      "  4%|█▎                                 | 2287/59545 [55:05<28:07:36,  1.77s/it]"
     ]
    },
    {
     "name": "stdout",
     "output_type": "stream",
     "text": [
      "Fail: status code 429 paper_id 583fcfbbfee90d986eb6959bfe8d2360623b47f7\n"
     ]
    },
    {
     "name": "stderr",
     "output_type": "stream",
     "text": [
      "  4%|█▎                                 | 2289/59545 [55:08<25:39:35,  1.61s/it]"
     ]
    },
    {
     "name": "stdout",
     "output_type": "stream",
     "text": [
      "Fail: status code 429 paper_id 3c648529783d941f0afc1b9345c13df93a194d4a\n"
     ]
    },
    {
     "name": "stderr",
     "output_type": "stream",
     "text": [
      "  4%|█▎                                 | 2290/59545 [55:10<25:47:17,  1.62s/it]"
     ]
    },
    {
     "name": "stdout",
     "output_type": "stream",
     "text": [
      "Fail: status code 429 paper_id 1006cecb7151591d20c8454cff42ef0e3426a7d7\n"
     ]
    },
    {
     "name": "stderr",
     "output_type": "stream",
     "text": [
      "  4%|█▎                                 | 2292/59545 [55:13<25:57:29,  1.63s/it]"
     ]
    },
    {
     "name": "stdout",
     "output_type": "stream",
     "text": [
      "Fail: status code 429 paper_id 2fe27c03156dcad3dda30bf95229b1d24ff42999\n"
     ]
    },
    {
     "name": "stderr",
     "output_type": "stream",
     "text": [
      "  4%|█▎                                 | 2295/59545 [55:18<25:59:43,  1.63s/it]"
     ]
    },
    {
     "name": "stdout",
     "output_type": "stream",
     "text": [
      "Fail: status code 429 paper_id 2c79cd9ab26713953b760b5bedba20c5df87766c\n"
     ]
    },
    {
     "name": "stderr",
     "output_type": "stream",
     "text": [
      "  4%|█▎                                 | 2298/59545 [55:21<20:35:07,  1.29s/it]"
     ]
    },
    {
     "name": "stdout",
     "output_type": "stream",
     "text": [
      "Fail: status code 429 paper_id f8a3d2b96df340c883160a54426459f7e2ec9585\n"
     ]
    },
    {
     "name": "stderr",
     "output_type": "stream",
     "text": [
      "  4%|█▎                                 | 2299/59545 [55:23<22:01:08,  1.38s/it]"
     ]
    },
    {
     "name": "stdout",
     "output_type": "stream",
     "text": [
      "Fail: status code 429 paper_id ce115a9d7d1cc7dcdebf903f4534cc9d7673db96\n"
     ]
    },
    {
     "name": "stderr",
     "output_type": "stream",
     "text": [
      "  4%|█▎                                 | 2303/59545 [55:29<24:41:36,  1.55s/it]"
     ]
    },
    {
     "name": "stdout",
     "output_type": "stream",
     "text": [
      "Fail: status code 429 paper_id f0a948bde9e79837bbcde3ca5003e8beafec2e43\n"
     ]
    },
    {
     "name": "stderr",
     "output_type": "stream",
     "text": [
      "  4%|█▎                                 | 2316/59545 [55:49<19:32:16,  1.23s/it]"
     ]
    },
    {
     "name": "stdout",
     "output_type": "stream",
     "text": [
      "Fail: status code 429 paper_id a0f438a644faf72da379764890665d32969b0360\n"
     ]
    },
    {
     "name": "stderr",
     "output_type": "stream",
     "text": [
      "  4%|█▎                                 | 2317/59545 [55:51<21:08:51,  1.33s/it]"
     ]
    },
    {
     "name": "stdout",
     "output_type": "stream",
     "text": [
      "Fail: status code 429 paper_id ccfe7a4a62705941b067f2bc3bdad809e73b444e\n"
     ]
    },
    {
     "name": "stderr",
     "output_type": "stream",
     "text": [
      "  4%|█▎                                 | 2318/59545 [55:53<22:25:40,  1.41s/it]"
     ]
    },
    {
     "name": "stdout",
     "output_type": "stream",
     "text": [
      "Fail: status code 429 paper_id a8639a6b719cf1cf6b1ab35714ab9b118031e121\n"
     ]
    },
    {
     "name": "stderr",
     "output_type": "stream",
     "text": [
      "  4%|█▎                                 | 2319/59545 [55:54<23:25:01,  1.47s/it]"
     ]
    },
    {
     "name": "stdout",
     "output_type": "stream",
     "text": [
      "Fail: status code 429 paper_id b6f16d040e9f056a59aa89d742acc0963960ee35\n"
     ]
    },
    {
     "name": "stderr",
     "output_type": "stream",
     "text": [
      "  4%|█▎                                 | 2320/59545 [55:56<24:08:33,  1.52s/it]"
     ]
    },
    {
     "name": "stdout",
     "output_type": "stream",
     "text": [
      "Fail: status code 429 paper_id 70e89bdfd0d6a4c981a2f027a78e5452fa1d0fd9\n"
     ]
    },
    {
     "name": "stderr",
     "output_type": "stream",
     "text": [
      "  4%|█▎                                 | 2321/59545 [55:57<24:40:56,  1.55s/it]"
     ]
    },
    {
     "name": "stdout",
     "output_type": "stream",
     "text": [
      "Fail: status code 429 paper_id 9059d77712fae9de156b798252df1143068c275a\n"
     ]
    },
    {
     "name": "stderr",
     "output_type": "stream",
     "text": [
      "  4%|█▎                                 | 2324/59545 [56:02<25:47:16,  1.62s/it]"
     ]
    },
    {
     "name": "stdout",
     "output_type": "stream",
     "text": [
      "Fail: status code 429 paper_id c590ca046aefcc4cf88cfa619dd87295f631ba80\n"
     ]
    },
    {
     "name": "stderr",
     "output_type": "stream",
     "text": [
      "  4%|█▎                                 | 2326/59545 [56:06<25:54:34,  1.63s/it]"
     ]
    },
    {
     "name": "stdout",
     "output_type": "stream",
     "text": [
      "Fail: status code 429 paper_id 7792f488462aa28a7b9d6fc312440138bf1c3de6\n"
     ]
    },
    {
     "name": "stderr",
     "output_type": "stream",
     "text": [
      "  4%|█▎                                 | 2327/59545 [56:07<25:32:10,  1.61s/it]"
     ]
    },
    {
     "name": "stdout",
     "output_type": "stream",
     "text": [
      "Fail: status code 429 paper_id 346627e4ff71514bc5c192e5a5698b2e25d2c892\n"
     ]
    },
    {
     "name": "stderr",
     "output_type": "stream",
     "text": [
      "  4%|█▎                                 | 2328/59545 [56:09<25:22:42,  1.60s/it]"
     ]
    },
    {
     "name": "stdout",
     "output_type": "stream",
     "text": [
      "Fail: status code 429 paper_id 55527fe683df1402571f0c961377f81fa31053b9\n"
     ]
    },
    {
     "name": "stderr",
     "output_type": "stream",
     "text": [
      "  4%|█▎                                 | 2329/59545 [56:10<25:19:30,  1.59s/it]"
     ]
    },
    {
     "name": "stdout",
     "output_type": "stream",
     "text": [
      "Fail: status code 429 paper_id 6ad837d26c8f207b16a638fa05a310a21f4f3cde\n"
     ]
    },
    {
     "name": "stderr",
     "output_type": "stream",
     "text": [
      "  4%|█▎                                 | 2330/59545 [56:12<25:22:22,  1.60s/it]"
     ]
    },
    {
     "name": "stdout",
     "output_type": "stream",
     "text": [
      "Fail: status code 429 paper_id 144df909fa1e4a0342bf3534b0a940edf18063e9\n"
     ]
    },
    {
     "name": "stderr",
     "output_type": "stream",
     "text": [
      "  4%|█▎                                 | 2331/59545 [56:14<25:44:26,  1.62s/it]"
     ]
    },
    {
     "name": "stdout",
     "output_type": "stream",
     "text": [
      "Fail: status code 429 paper_id 8d95c8ada3bc53718c841c40be8a5a978ee54c4c\n"
     ]
    },
    {
     "name": "stderr",
     "output_type": "stream",
     "text": [
      "  4%|█▎                                 | 2332/59545 [56:15<25:26:08,  1.60s/it]"
     ]
    },
    {
     "name": "stdout",
     "output_type": "stream",
     "text": [
      "Fail: status code 429 paper_id ae56f24b8810ee304de30225f94fad45fd0980b3\n"
     ]
    },
    {
     "name": "stderr",
     "output_type": "stream",
     "text": [
      "  4%|█▎                                 | 2333/59545 [56:17<26:00:04,  1.64s/it]"
     ]
    },
    {
     "name": "stdout",
     "output_type": "stream",
     "text": [
      "Fail: status code 429 paper_id f7de4d2d6132480915d3fa96223bdeac3f47efc2\n"
     ]
    },
    {
     "name": "stderr",
     "output_type": "stream",
     "text": [
      "  4%|█▎                                 | 2334/59545 [56:19<25:32:47,  1.61s/it]"
     ]
    },
    {
     "name": "stdout",
     "output_type": "stream",
     "text": [
      "Fail: status code 429 paper_id b1bb6d5c806f71aad6813f494dffcd82012d6095\n"
     ]
    },
    {
     "name": "stderr",
     "output_type": "stream",
     "text": [
      "  4%|█▎                                 | 2335/59545 [56:20<25:40:54,  1.62s/it]"
     ]
    },
    {
     "name": "stdout",
     "output_type": "stream",
     "text": [
      "Fail: status code 429 paper_id f4322516f0f4829e0588982b7a59b0ea4f8c67eb\n"
     ]
    },
    {
     "name": "stderr",
     "output_type": "stream",
     "text": [
      "  4%|█▎                                 | 2336/59545 [56:22<25:30:39,  1.61s/it]"
     ]
    },
    {
     "name": "stdout",
     "output_type": "stream",
     "text": [
      "Fail: status code 429 paper_id 0b632b4adf20f0dbaa7a360c8fe5b28efb1321de\n"
     ]
    },
    {
     "name": "stderr",
     "output_type": "stream",
     "text": [
      "  4%|█▎                                 | 2337/59545 [56:23<25:56:32,  1.63s/it]"
     ]
    },
    {
     "name": "stdout",
     "output_type": "stream",
     "text": [
      "Fail: status code 429 paper_id 12bba4ea6c9b49b287b223073c090e9b659b831e\n"
     ]
    },
    {
     "name": "stderr",
     "output_type": "stream",
     "text": [
      "  4%|█▎                                 | 2338/59545 [56:25<25:57:54,  1.63s/it]"
     ]
    },
    {
     "name": "stdout",
     "output_type": "stream",
     "text": [
      "Fail: status code 429 paper_id 1695833bae176400ac174eda1d3482d7d1d51064\n"
     ]
    },
    {
     "name": "stderr",
     "output_type": "stream",
     "text": [
      "  4%|█▍                                 | 2340/59545 [56:28<24:58:11,  1.57s/it]"
     ]
    },
    {
     "name": "stdout",
     "output_type": "stream",
     "text": [
      "Fail: status code 429 paper_id 37b7b162d38b12fe276cba8df159783dde7f21ee\n"
     ]
    },
    {
     "name": "stderr",
     "output_type": "stream",
     "text": [
      "  4%|█▍                                 | 2341/59545 [56:30<25:17:54,  1.59s/it]"
     ]
    },
    {
     "name": "stdout",
     "output_type": "stream",
     "text": [
      "Fail: status code 429 paper_id 837e68ebd1f5bb676840bc8e0aabb152e881cf3a\n"
     ]
    },
    {
     "name": "stderr",
     "output_type": "stream",
     "text": [
      "  4%|█▍                                 | 2342/59545 [56:31<25:33:55,  1.61s/it]"
     ]
    },
    {
     "name": "stdout",
     "output_type": "stream",
     "text": [
      "Fail: status code 429 paper_id 25da90147e1f047b143418f46460a7092667917d\n"
     ]
    },
    {
     "name": "stderr",
     "output_type": "stream",
     "text": [
      "  4%|█▍                                 | 2345/59545 [56:36<25:51:08,  1.63s/it]"
     ]
    },
    {
     "name": "stdout",
     "output_type": "stream",
     "text": [
      "Fail: status code 429 paper_id 39d79d3d9840681de6aebc37492ff12a15fbe74f\n"
     ]
    },
    {
     "name": "stderr",
     "output_type": "stream",
     "text": [
      "  4%|█▍                                 | 2348/59545 [56:41<25:54:37,  1.63s/it]"
     ]
    },
    {
     "name": "stdout",
     "output_type": "stream",
     "text": [
      "Fail: status code 429 paper_id c11f7930a25a6b70c0c48b17f26cacc621921d9f\n"
     ]
    },
    {
     "name": "stderr",
     "output_type": "stream",
     "text": [
      "  4%|█▍                                 | 2351/59545 [56:46<25:59:37,  1.64s/it]"
     ]
    },
    {
     "name": "stdout",
     "output_type": "stream",
     "text": [
      "Fail: status code 429 paper_id 43420e0695ee7c4bdf2fd1d018c9906b6569ad9e\n"
     ]
    },
    {
     "name": "stderr",
     "output_type": "stream",
     "text": [
      "  4%|█▍                                 | 2360/59545 [57:00<24:01:28,  1.51s/it]"
     ]
    },
    {
     "name": "stdout",
     "output_type": "stream",
     "text": [
      "Fail: status code 429 paper_id ea2a23913889e69dcfe18bf0f54606a905aa8596\n"
     ]
    },
    {
     "name": "stderr",
     "output_type": "stream",
     "text": [
      "  4%|█▍                                 | 2362/59545 [57:03<23:03:50,  1.45s/it]"
     ]
    },
    {
     "name": "stdout",
     "output_type": "stream",
     "text": [
      "Fail: status code 429 paper_id 06d6635aaf2276a74914d678ea8998cbd945b09f\n"
     ]
    },
    {
     "name": "stderr",
     "output_type": "stream",
     "text": [
      "  4%|█▍                                 | 2378/59545 [57:21<19:03:32,  1.20s/it]"
     ]
    },
    {
     "name": "stdout",
     "output_type": "stream",
     "text": [
      "Fail: status code 429 paper_id 30712541bb7e51355a2134c75a304076e73c9612\n"
     ]
    },
    {
     "name": "stderr",
     "output_type": "stream",
     "text": [
      "  4%|█▍                                 | 2408/59545 [58:05<26:04:05,  1.64s/it]"
     ]
    },
    {
     "name": "stdout",
     "output_type": "stream",
     "text": [
      "Fail: status code 429 paper_id 162a30c9a79c27ebe120404e9d287831f2ae861f\n"
     ]
    },
    {
     "name": "stderr",
     "output_type": "stream",
     "text": [
      "  4%|█▍                                 | 2410/59545 [58:08<25:38:07,  1.62s/it]"
     ]
    },
    {
     "name": "stdout",
     "output_type": "stream",
     "text": [
      "Fail: status code 429 paper_id 9122dec17e27b491105f831dc1f0507d11f03055\n"
     ]
    },
    {
     "name": "stderr",
     "output_type": "stream",
     "text": [
      "  4%|█▍                                 | 2411/59545 [58:10<26:36:25,  1.68s/it]"
     ]
    },
    {
     "name": "stdout",
     "output_type": "stream",
     "text": [
      "Fail: status code 429 paper_id a173abe8d28c456ed1c2b293a6126d2bb24cd8e9\n"
     ]
    },
    {
     "name": "stderr",
     "output_type": "stream",
     "text": [
      "  4%|█▍                                 | 2413/59545 [58:13<26:21:01,  1.66s/it]"
     ]
    },
    {
     "name": "stdout",
     "output_type": "stream",
     "text": [
      "Fail: status code 429 paper_id a1fc431a39043770bfa4f0f3246e822ed529c1e4\n"
     ]
    },
    {
     "name": "stderr",
     "output_type": "stream",
     "text": [
      "  4%|█▍                                 | 2414/59545 [58:15<26:44:19,  1.68s/it]"
     ]
    },
    {
     "name": "stdout",
     "output_type": "stream",
     "text": [
      "Fail: status code 429 paper_id 7644c5fee57e6daef133bce7d096041e9a0f682d\n"
     ]
    },
    {
     "name": "stderr",
     "output_type": "stream",
     "text": [
      "  4%|█▍                                 | 2415/59545 [58:16<24:44:59,  1.56s/it]"
     ]
    },
    {
     "name": "stdout",
     "output_type": "stream",
     "text": [
      "Fail: status code 429 paper_id ecce0b1c35cf500db507b4597a4d6cdd35d563a8\n"
     ]
    },
    {
     "name": "stderr",
     "output_type": "stream",
     "text": [
      "  4%|█▍                                 | 2416/59545 [58:17<24:56:15,  1.57s/it]"
     ]
    },
    {
     "name": "stdout",
     "output_type": "stream",
     "text": [
      "Fail: status code 429 paper_id 181e424f6f9dc612e2ecdfe9248393dcac8205f7\n"
     ]
    },
    {
     "name": "stderr",
     "output_type": "stream",
     "text": [
      "  4%|█▍                                 | 2418/59545 [58:21<25:28:02,  1.60s/it]"
     ]
    },
    {
     "name": "stdout",
     "output_type": "stream",
     "text": [
      "Fail: status code 429 paper_id c6e9ba41d717f4f554c565bfb53a6809303079b1\n"
     ]
    },
    {
     "name": "stderr",
     "output_type": "stream",
     "text": [
      "  4%|█▍                                 | 2419/59545 [58:22<25:37:27,  1.61s/it]"
     ]
    },
    {
     "name": "stdout",
     "output_type": "stream",
     "text": [
      "Fail: status code 429 paper_id ff88173ba5d7aa81bbaf522d6a70fa4c146fe9c8\n"
     ]
    },
    {
     "name": "stderr",
     "output_type": "stream",
     "text": [
      "  4%|█▍                                 | 2420/59545 [58:24<25:45:00,  1.62s/it]"
     ]
    },
    {
     "name": "stdout",
     "output_type": "stream",
     "text": [
      "Fail: status code 429 paper_id 7e22b9221c5ebf24075de864eccaa6ff5ac36e7c\n"
     ]
    },
    {
     "name": "stderr",
     "output_type": "stream",
     "text": [
      "  4%|█▍                                 | 2421/59545 [58:26<25:25:20,  1.60s/it]"
     ]
    },
    {
     "name": "stdout",
     "output_type": "stream",
     "text": [
      "Fail: status code 429 paper_id 7e8383daa7a64b3c5dc2ecca96f392eb3318154d\n"
     ]
    },
    {
     "name": "stderr",
     "output_type": "stream",
     "text": [
      "  4%|█▍                                 | 2422/59545 [58:27<24:01:43,  1.51s/it]"
     ]
    },
    {
     "name": "stdout",
     "output_type": "stream",
     "text": [
      "Fail: status code 429 paper_id aea7b7f47e973edf0bfe60e1f182eb4225272851\n"
     ]
    },
    {
     "name": "stderr",
     "output_type": "stream",
     "text": [
      "  4%|█▍                                 | 2423/59545 [58:29<24:37:45,  1.55s/it]"
     ]
    },
    {
     "name": "stdout",
     "output_type": "stream",
     "text": [
      "Fail: status code 429 paper_id 542c3630023d6a4dac03e213b637fd88252245ce\n"
     ]
    },
    {
     "name": "stderr",
     "output_type": "stream",
     "text": [
      "  4%|█▍                                 | 2424/59545 [58:30<25:02:50,  1.58s/it]"
     ]
    },
    {
     "name": "stdout",
     "output_type": "stream",
     "text": [
      "Fail: status code 429 paper_id 1c71449c5b47c67995ad1ba7e3a3a2533f715564\n"
     ]
    },
    {
     "name": "stderr",
     "output_type": "stream",
     "text": [
      "  4%|█▍                                 | 2425/59545 [58:32<24:52:20,  1.57s/it]"
     ]
    },
    {
     "name": "stdout",
     "output_type": "stream",
     "text": [
      "Fail: status code 429 paper_id eaed38fb521dd74c43ac5c59fa3d48aa941f87f1\n"
     ]
    },
    {
     "name": "stderr",
     "output_type": "stream",
     "text": [
      "  4%|█▍                                 | 2426/59545 [58:33<25:10:36,  1.59s/it]"
     ]
    },
    {
     "name": "stdout",
     "output_type": "stream",
     "text": [
      "Fail: status code 429 paper_id 63009b9c9392e044d30e0877899d43706b186298\n"
     ]
    },
    {
     "name": "stderr",
     "output_type": "stream",
     "text": [
      "  4%|█▍                                 | 2427/59545 [58:35<25:25:31,  1.60s/it]"
     ]
    },
    {
     "name": "stdout",
     "output_type": "stream",
     "text": [
      "Fail: status code 429 paper_id 1f46ebc6bcfaefdfe084aac65a9e7a2457b1b867\n"
     ]
    },
    {
     "name": "stderr",
     "output_type": "stream",
     "text": [
      "  4%|█▍                                 | 2428/59545 [58:37<25:09:07,  1.59s/it]"
     ]
    },
    {
     "name": "stdout",
     "output_type": "stream",
     "text": [
      "Fail: status code 429 paper_id 2fc99aade084d35dcebbc88b4bb7fa0416b439d4\n"
     ]
    },
    {
     "name": "stderr",
     "output_type": "stream",
     "text": [
      "  4%|█▍                                 | 2429/59545 [58:38<25:21:36,  1.60s/it]"
     ]
    },
    {
     "name": "stdout",
     "output_type": "stream",
     "text": [
      "Fail: status code 429 paper_id e69fef1ebf6b242135db33452f0826c51fa79edf\n"
     ]
    },
    {
     "name": "stderr",
     "output_type": "stream",
     "text": [
      "  4%|█▍                                 | 2430/59545 [58:40<25:33:03,  1.61s/it]"
     ]
    },
    {
     "name": "stdout",
     "output_type": "stream",
     "text": [
      "Fail: status code 429 paper_id ec69edb09731e03506b7696e4a1db53aba901141\n"
     ]
    },
    {
     "name": "stderr",
     "output_type": "stream",
     "text": [
      "  4%|█▍                                 | 2431/59545 [58:41<25:41:07,  1.62s/it]"
     ]
    },
    {
     "name": "stdout",
     "output_type": "stream",
     "text": [
      "Fail: status code 429 paper_id d386744c94963e9542365120f6b433725ab00cc7\n"
     ]
    },
    {
     "name": "stderr",
     "output_type": "stream",
     "text": [
      "  4%|█▍                                 | 2432/59545 [58:43<25:46:22,  1.62s/it]"
     ]
    },
    {
     "name": "stdout",
     "output_type": "stream",
     "text": [
      "Fail: status code 429 paper_id 9de653982af300cea5b82d2d27ea10d54657a84a\n"
     ]
    },
    {
     "name": "stderr",
     "output_type": "stream",
     "text": [
      "  4%|█▍                                 | 2433/59545 [58:45<25:30:35,  1.61s/it]"
     ]
    },
    {
     "name": "stdout",
     "output_type": "stream",
     "text": [
      "Fail: status code 429 paper_id 57f85ab5638e3f5ec70e3c7e53b06f79a1fb6860\n"
     ]
    },
    {
     "name": "stderr",
     "output_type": "stream",
     "text": [
      "  4%|█▍                                 | 2434/59545 [58:46<25:59:18,  1.64s/it]"
     ]
    },
    {
     "name": "stdout",
     "output_type": "stream",
     "text": [
      "Fail: status code 429 paper_id dd5e8c9dbce4d7fcfce63073434c53867b8a9c39\n"
     ]
    },
    {
     "name": "stderr",
     "output_type": "stream",
     "text": [
      "  4%|█▍                                  | 2455/59545 [58:48<3:42:40,  4.27it/s]"
     ]
    },
    {
     "name": "stdout",
     "output_type": "stream",
     "text": [
      "Fail: status code 429 paper_id 8e3a34aad2c03a8cdee8fb9365a87d189339731b\n"
     ]
    },
    {
     "name": "stderr",
     "output_type": "stream",
     "text": [
      "  4%|█▍                                  | 2481/59545 [58:50<2:02:38,  7.75it/s]"
     ]
    },
    {
     "name": "stdout",
     "output_type": "stream",
     "text": [
      "Fail: status code 429 paper_id 137a37271768415539100c7a46d88935e6b42b2b\n"
     ]
    },
    {
     "name": "stderr",
     "output_type": "stream",
     "text": [
      "  4%|█▌                                  | 2482/59545 [58:51<2:49:35,  5.61it/s]"
     ]
    },
    {
     "name": "stdout",
     "output_type": "stream",
     "text": [
      "Fail: status code 429 paper_id 20aabda5d5523464d0c0d33f5482708ecf2aa999\n"
     ]
    },
    {
     "name": "stderr",
     "output_type": "stream",
     "text": [
      "  4%|█▌                                  | 2483/59545 [58:53<3:51:24,  4.11it/s]"
     ]
    },
    {
     "name": "stdout",
     "output_type": "stream",
     "text": [
      "Fail: status code 429 paper_id 4ec1fb6a48a5766d228b758a69e6dc0e34b2cf70\n"
     ]
    },
    {
     "name": "stderr",
     "output_type": "stream",
     "text": [
      "  4%|█▌                                  | 2484/59545 [58:55<5:10:49,  3.06it/s]"
     ]
    },
    {
     "name": "stdout",
     "output_type": "stream",
     "text": [
      "Fail: status code 429 paper_id 4256dfd6af49f05d7f31c99196c4d488f1a65b28\n"
     ]
    },
    {
     "name": "stderr",
     "output_type": "stream",
     "text": [
      "  4%|█▌                                  | 2485/59545 [58:56<6:56:37,  2.28it/s]"
     ]
    },
    {
     "name": "stdout",
     "output_type": "stream",
     "text": [
      "Fail: status code 429 paper_id fc8bfaf95abb03b7e71c0aaf079e03df2abdc226\n"
     ]
    },
    {
     "name": "stderr",
     "output_type": "stream",
     "text": [
      "  4%|█▍                                 | 2488/59545 [59:01<13:06:06,  1.21it/s]"
     ]
    },
    {
     "name": "stdout",
     "output_type": "stream",
     "text": [
      "Fail: status code 429 paper_id fe67370b2831eacca2ce777294ba5edcf8e327ed\n"
     ]
    },
    {
     "name": "stderr",
     "output_type": "stream",
     "text": [
      "  4%|█▍                                 | 2489/59545 [59:02<14:32:08,  1.09it/s]"
     ]
    },
    {
     "name": "stdout",
     "output_type": "stream",
     "text": [
      "Fail: status code 429 paper_id 3e6893523525a68ba30b155e494b8fcc1f49dd06\n"
     ]
    },
    {
     "name": "stderr",
     "output_type": "stream",
     "text": [
      "  4%|█▍                                 | 2492/59545 [59:05<15:23:15,  1.03it/s]"
     ]
    },
    {
     "name": "stdout",
     "output_type": "stream",
     "text": [
      "Fail: status code 429 paper_id 9741764a42588e0d46d27a89fccb584086fe06d0\n"
     ]
    },
    {
     "name": "stderr",
     "output_type": "stream",
     "text": [
      "  4%|█▍                                 | 2493/59545 [59:07<17:42:54,  1.12s/it]"
     ]
    },
    {
     "name": "stdout",
     "output_type": "stream",
     "text": [
      "Fail: status code 429 paper_id 76af469f8cbd0708a74c72d7325e96506c9f3b12\n"
     ]
    },
    {
     "name": "stderr",
     "output_type": "stream",
     "text": [
      "  4%|█▍                                 | 2494/59545 [59:09<19:38:39,  1.24s/it]"
     ]
    },
    {
     "name": "stdout",
     "output_type": "stream",
     "text": [
      "Fail: status code 429 paper_id cd9bf94513c3906dd6c1d80d6056b425ea1b6217\n"
     ]
    },
    {
     "name": "stderr",
     "output_type": "stream",
     "text": [
      "  4%|█▍                                 | 2495/59545 [59:10<21:14:56,  1.34s/it]"
     ]
    },
    {
     "name": "stdout",
     "output_type": "stream",
     "text": [
      "Fail: status code 429 paper_id 5704bdb2980ff80145a00317b8229bf0a9874718\n"
     ]
    },
    {
     "name": "stderr",
     "output_type": "stream",
     "text": [
      "  4%|█▍                                 | 2496/59545 [59:12<22:29:08,  1.42s/it]"
     ]
    },
    {
     "name": "stdout",
     "output_type": "stream",
     "text": [
      "Fail: status code 429 paper_id 0fc0f1905284d9a9df944da274f06c7b7c5a030f\n"
     ]
    },
    {
     "name": "stderr",
     "output_type": "stream",
     "text": [
      "  4%|█▌                                  | 2515/59545 [59:28<9:24:50,  1.68it/s]"
     ]
    },
    {
     "name": "stdout",
     "output_type": "stream",
     "text": [
      "Fail: status code 429 paper_id 5013c78394c0c40625bdcf077835eebf06f07cc3\n"
     ]
    },
    {
     "name": "stderr",
     "output_type": "stream",
     "text": [
      "  4%|█▍                                 | 2540/59545 [59:47<10:36:52,  1.49it/s]"
     ]
    },
    {
     "name": "stdout",
     "output_type": "stream",
     "text": [
      "Fail: status code 429 paper_id 8f41f2edd5fd018a91fe17cf677f0c43067a7f7e\n"
     ]
    },
    {
     "name": "stderr",
     "output_type": "stream",
     "text": [
      "  4%|█▌                                  | 2548/59545 [59:49<6:16:35,  2.52it/s]"
     ]
    },
    {
     "name": "stdout",
     "output_type": "stream",
     "text": [
      "Fail: status code 429 paper_id 2e79afe9091daeaebe22c47170af8586b0123952\n"
     ]
    },
    {
     "name": "stderr",
     "output_type": "stream",
     "text": [
      "  4%|█▌                                  | 2550/59545 [59:50<7:00:59,  2.26it/s]"
     ]
    },
    {
     "name": "stdout",
     "output_type": "stream",
     "text": [
      "Fail: status code 429 paper_id 180a05effc9d39e5524c3714f89e46fe89c0a0e6\n"
     ]
    },
    {
     "name": "stderr",
     "output_type": "stream",
     "text": [
      "  4%|█▌                                  | 2551/59545 [59:52<9:06:23,  1.74it/s]"
     ]
    },
    {
     "name": "stdout",
     "output_type": "stream",
     "text": [
      "Fail: status code 429 paper_id b5b24fd550fe6ff5682741b77f58a30fa13ff1f4\n"
     ]
    },
    {
     "name": "stderr",
     "output_type": "stream",
     "text": [
      "  4%|█▌                                  | 2560/59545 [59:54<5:27:40,  2.90it/s]"
     ]
    },
    {
     "name": "stdout",
     "output_type": "stream",
     "text": [
      "Fail: status code 429 paper_id e07f7b953ace121daed07224bcd38f3e9b226c72\n"
     ]
    },
    {
     "name": "stderr",
     "output_type": "stream",
     "text": [
      "  4%|█▌                                  | 2561/59545 [59:55<7:11:34,  2.20it/s]"
     ]
    },
    {
     "name": "stdout",
     "output_type": "stream",
     "text": [
      "Fail: status code 429 paper_id f42b9a51dc82dcab6606ecd084b0ee2d21bce46f\n"
     ]
    },
    {
     "name": "stderr",
     "output_type": "stream",
     "text": [
      "  4%|█▌                                  | 2562/59545 [59:57<8:33:36,  1.85it/s]"
     ]
    },
    {
     "name": "stdout",
     "output_type": "stream",
     "text": [
      "Fail: status code 429 paper_id 37177038cc84e3f7f4da1677c1007e54c982a3dd\n"
     ]
    },
    {
     "name": "stderr",
     "output_type": "stream",
     "text": [
      "  4%|█▍                               | 2565/59545 [1:00:02<15:31:01,  1.02it/s]"
     ]
    },
    {
     "name": "stdout",
     "output_type": "stream",
     "text": [
      "Fail: status code 429 paper_id 7a4fb0dde088a06cbd21f4ce7235b6f575081772\n"
     ]
    },
    {
     "name": "stderr",
     "output_type": "stream",
     "text": [
      "  4%|█▍                               | 2578/59545 [1:00:08<11:16:07,  1.40it/s]"
     ]
    },
    {
     "name": "stdout",
     "output_type": "stream",
     "text": [
      "Fail: status code 429 paper_id df84742e5ecd2814f844b77f4d6a5a452f2aee6e\n"
     ]
    },
    {
     "name": "stderr",
     "output_type": "stream",
     "text": [
      "  4%|█▍                               | 2581/59545 [1:00:11<14:02:17,  1.13it/s]"
     ]
    },
    {
     "name": "stdout",
     "output_type": "stream",
     "text": [
      "Fail: status code 429 paper_id 5ca0cadf12cef2908c636d64da225e168273ca90\n"
     ]
    },
    {
     "name": "stderr",
     "output_type": "stream",
     "text": [
      "  4%|█▍                               | 2589/59545 [1:00:16<10:48:04,  1.46it/s]"
     ]
    },
    {
     "name": "stdout",
     "output_type": "stream",
     "text": [
      "Fail: status code 429 paper_id a8e3257d8ec0424d3fd82acdcecd5123f6fa5820\n"
     ]
    },
    {
     "name": "stderr",
     "output_type": "stream",
     "text": [
      "  4%|█▍                               | 2596/59545 [1:00:25<16:08:14,  1.02s/it]"
     ]
    },
    {
     "name": "stdout",
     "output_type": "stream",
     "text": [
      "Fail: status code 429 paper_id 11d0a9fce3210b81b714f347dbef7e2419a20832\n"
     ]
    },
    {
     "name": "stderr",
     "output_type": "stream",
     "text": [
      "  4%|█▍                               | 2602/59545 [1:00:30<15:28:23,  1.02it/s]"
     ]
    },
    {
     "name": "stdout",
     "output_type": "stream",
     "text": [
      "Fail: status code 429 paper_id 1ddde8f0946b4eee6cc45a3bc31f2e0ee34b5f5a\n"
     ]
    },
    {
     "name": "stderr",
     "output_type": "stream",
     "text": [
      "  4%|█▍                               | 2611/59545 [1:00:35<11:08:26,  1.42it/s]"
     ]
    },
    {
     "name": "stdout",
     "output_type": "stream",
     "text": [
      "Fail: status code 429 paper_id d63280c19305d4a55e13aa9038d2ff53cfc884ca\n"
     ]
    },
    {
     "name": "stderr",
     "output_type": "stream",
     "text": [
      "  4%|█▍                               | 2613/59545 [1:00:37<11:37:07,  1.36it/s]"
     ]
    },
    {
     "name": "stdout",
     "output_type": "stream",
     "text": [
      "Fail: status code 429 paper_id a4cd622f90c3603c91218d6794992e863cafd9e8\n"
     ]
    },
    {
     "name": "stderr",
     "output_type": "stream",
     "text": [
      "  4%|█▍                               | 2622/59545 [1:00:43<10:31:13,  1.50it/s]"
     ]
    },
    {
     "name": "stdout",
     "output_type": "stream",
     "text": [
      "Fail: status code 429 paper_id c24132d2eb4f4599b4abd363fe55d284d86bd65d\n"
     ]
    },
    {
     "name": "stderr",
     "output_type": "stream",
     "text": [
      "  4%|█▌                                | 2634/59545 [1:00:48<6:05:25,  2.60it/s]"
     ]
    },
    {
     "name": "stdout",
     "output_type": "stream",
     "text": [
      "Fail: status code 429 paper_id dda199bcb834114bcf1a7a58be5bb6e46a93888b\n"
     ]
    },
    {
     "name": "stderr",
     "output_type": "stream",
     "text": [
      "  4%|█▌                                | 2649/59545 [1:00:50<3:28:30,  4.55it/s]"
     ]
    },
    {
     "name": "stdout",
     "output_type": "stream",
     "text": [
      "Fail: status code 429 paper_id b6e348285cf1670d326323fa1de870ec64271eed\n"
     ]
    },
    {
     "name": "stderr",
     "output_type": "stream",
     "text": [
      "  4%|█▌                                | 2650/59545 [1:00:52<4:41:39,  3.37it/s]"
     ]
    },
    {
     "name": "stdout",
     "output_type": "stream",
     "text": [
      "Fail: status code 429 paper_id 2e87da98e95bce76fcf2f2cbc7d15f8136ca4f4c\n"
     ]
    },
    {
     "name": "stderr",
     "output_type": "stream",
     "text": [
      "  4%|█▌                                | 2656/59545 [1:00:58<9:02:45,  1.75it/s]"
     ]
    },
    {
     "name": "stdout",
     "output_type": "stream",
     "text": [
      "Fail: status code 429 paper_id af5fdd1dd5a703b8936d32b813d9fb4400a8e29e\n"
     ]
    },
    {
     "name": "stderr",
     "output_type": "stream",
     "text": [
      "  4%|█▍                               | 2660/59545 [1:01:05<18:18:49,  1.16s/it]"
     ]
    },
    {
     "name": "stdout",
     "output_type": "stream",
     "text": [
      "Fail: status code 429 paper_id cfd360cde92883c280097e573ab8bb641ad16273\n"
     ]
    },
    {
     "name": "stderr",
     "output_type": "stream",
     "text": [
      "  4%|█▍                               | 2661/59545 [1:01:06<20:05:32,  1.27s/it]"
     ]
    },
    {
     "name": "stdout",
     "output_type": "stream",
     "text": [
      "Fail: status code 429 paper_id 55e11dba7d52c4d55bbbe9514838f8f2a4e9bd16\n"
     ]
    },
    {
     "name": "stderr",
     "output_type": "stream",
     "text": [
      "  4%|█▍                               | 2662/59545 [1:01:08<21:15:09,  1.35s/it]"
     ]
    },
    {
     "name": "stdout",
     "output_type": "stream",
     "text": [
      "Fail: status code 429 paper_id 10c854848c4e514115591bfc198916052ee5ef08\n"
     ]
    },
    {
     "name": "stderr",
     "output_type": "stream",
     "text": [
      "  4%|█▍                               | 2663/59545 [1:01:09<22:24:30,  1.42s/it]"
     ]
    },
    {
     "name": "stdout",
     "output_type": "stream",
     "text": [
      "Fail: status code 429 paper_id ca1fa1cb43249c1ff0b9b12e0b6b20642865d408\n"
     ]
    },
    {
     "name": "stderr",
     "output_type": "stream",
     "text": [
      "  4%|█▍                               | 2664/59545 [1:01:11<23:18:14,  1.47s/it]"
     ]
    },
    {
     "name": "stdout",
     "output_type": "stream",
     "text": [
      "Fail: status code 429 paper_id 48a4226c2e7fdbb2f7cfdd7c1ac4af9b3fbb78e5\n"
     ]
    },
    {
     "name": "stderr",
     "output_type": "stream",
     "text": [
      "  4%|█▍                               | 2668/59545 [1:01:18<25:33:10,  1.62s/it]"
     ]
    },
    {
     "name": "stdout",
     "output_type": "stream",
     "text": [
      "Fail: status code 429 paper_id 34fcf5b74c168c82df0062c554102363031438aa\n"
     ]
    },
    {
     "name": "stderr",
     "output_type": "stream",
     "text": [
      "  4%|█▍                               | 2669/59545 [1:01:19<25:27:27,  1.61s/it]"
     ]
    },
    {
     "name": "stdout",
     "output_type": "stream",
     "text": [
      "Fail: status code 429 paper_id c7f7c0a61219202fb99e30b26be210fe2382c7ed\n"
     ]
    },
    {
     "name": "stderr",
     "output_type": "stream",
     "text": [
      "  4%|█▍                               | 2670/59545 [1:01:21<25:18:22,  1.60s/it]"
     ]
    },
    {
     "name": "stdout",
     "output_type": "stream",
     "text": [
      "Fail: status code 429 paper_id cef29b8f14dd08ed642e8c4b97c6a79e3c1297af\n"
     ]
    },
    {
     "name": "stderr",
     "output_type": "stream",
     "text": [
      "  4%|█▍                               | 2671/59545 [1:01:22<25:28:10,  1.61s/it]"
     ]
    },
    {
     "name": "stdout",
     "output_type": "stream",
     "text": [
      "Fail: status code 429 paper_id 2280050190d75db29c2f05a6a1d94fae8c95c53c\n"
     ]
    },
    {
     "name": "stderr",
     "output_type": "stream",
     "text": [
      "  4%|█▍                               | 2672/59545 [1:01:24<25:35:57,  1.62s/it]"
     ]
    },
    {
     "name": "stdout",
     "output_type": "stream",
     "text": [
      "Fail: status code 429 paper_id 873a17dbe1d6174d16b9963c3eafe5de1f461cb1\n"
     ]
    },
    {
     "name": "stderr",
     "output_type": "stream",
     "text": [
      "  4%|█▍                               | 2673/59545 [1:01:26<25:40:03,  1.62s/it]"
     ]
    },
    {
     "name": "stdout",
     "output_type": "stream",
     "text": [
      "Fail: status code 429 paper_id add1df78fee91ebc6e4514c202b796eb15592450\n"
     ]
    },
    {
     "name": "stderr",
     "output_type": "stream",
     "text": [
      "  4%|█▍                               | 2676/59545 [1:01:27<16:06:14,  1.02s/it]"
     ]
    },
    {
     "name": "stdout",
     "output_type": "stream",
     "text": [
      "Fail: status code 429 paper_id f7ca07c4cbc9c9affb620dd9762b582d3b203121\n"
     ]
    },
    {
     "name": "stderr",
     "output_type": "stream",
     "text": [
      "  4%|█▍                               | 2677/59545 [1:01:29<18:12:15,  1.15s/it]"
     ]
    },
    {
     "name": "stdout",
     "output_type": "stream",
     "text": [
      "Fail: status code 429 paper_id 3f08ec6513c71a7674f292b56b9005ce00745e9a\n"
     ]
    },
    {
     "name": "stderr",
     "output_type": "stream",
     "text": [
      "  4%|█▍                               | 2678/59545 [1:01:31<19:56:28,  1.26s/it]"
     ]
    },
    {
     "name": "stdout",
     "output_type": "stream",
     "text": [
      "Fail: status code 429 paper_id e464af8a537df6c40298a22cdcf14a2d9c889b64\n"
     ]
    },
    {
     "name": "stderr",
     "output_type": "stream",
     "text": [
      "  4%|█▍                               | 2679/59545 [1:01:32<21:25:06,  1.36s/it]"
     ]
    },
    {
     "name": "stdout",
     "output_type": "stream",
     "text": [
      "Fail: status code 429 paper_id 57416ef36969924035a9ebd1123c8216d010b61e\n"
     ]
    },
    {
     "name": "stderr",
     "output_type": "stream",
     "text": [
      "  5%|█▍                               | 2681/59545 [1:01:36<23:28:09,  1.49s/it]"
     ]
    },
    {
     "name": "stdout",
     "output_type": "stream",
     "text": [
      "Fail: status code 429 paper_id 20a2fee8f4f6bbc2f4f52c1745766e32541fdf05\n"
     ]
    },
    {
     "name": "stderr",
     "output_type": "stream",
     "text": [
      "  5%|█▍                               | 2682/59545 [1:01:37<23:58:19,  1.52s/it]"
     ]
    },
    {
     "name": "stdout",
     "output_type": "stream",
     "text": [
      "Fail: status code 429 paper_id 3f600981032394329917dcfed71d479b2e4ae620\n"
     ]
    },
    {
     "name": "stderr",
     "output_type": "stream",
     "text": [
      "  5%|█▍                               | 2683/59545 [1:01:39<24:09:58,  1.53s/it]"
     ]
    },
    {
     "name": "stdout",
     "output_type": "stream",
     "text": [
      "Fail: status code 429 paper_id daa2ac651b6f30afead064f23bc3d87898b62bdf\n"
     ]
    },
    {
     "name": "stderr",
     "output_type": "stream",
     "text": [
      "  5%|█▍                               | 2685/59545 [1:01:42<25:04:24,  1.59s/it]"
     ]
    },
    {
     "name": "stdout",
     "output_type": "stream",
     "text": [
      "Fail: status code 429 paper_id db3d52dc91a3da6e446c78f218f7f6410ca8567a\n"
     ]
    },
    {
     "name": "stderr",
     "output_type": "stream",
     "text": [
      "  5%|█▍                               | 2686/59545 [1:01:44<25:18:23,  1.60s/it]"
     ]
    },
    {
     "name": "stdout",
     "output_type": "stream",
     "text": [
      "Fail: status code 429 paper_id ff7dd74c763fbc28b9becd2d7f0f40c1320c8039\n"
     ]
    },
    {
     "name": "stderr",
     "output_type": "stream",
     "text": [
      "  5%|█▍                               | 2687/59545 [1:01:45<25:28:40,  1.61s/it]"
     ]
    },
    {
     "name": "stdout",
     "output_type": "stream",
     "text": [
      "Fail: status code 429 paper_id f1c4d6cc1660c28882b021fa603704c0e1599ea1\n"
     ]
    },
    {
     "name": "stderr",
     "output_type": "stream",
     "text": [
      "  5%|█▍                               | 2688/59545 [1:01:47<25:35:57,  1.62s/it]"
     ]
    },
    {
     "name": "stdout",
     "output_type": "stream",
     "text": [
      "Fail: status code 429 paper_id 66b81c8f9e7366fd73692a8b976739967df859d2\n"
     ]
    },
    {
     "name": "stderr",
     "output_type": "stream",
     "text": [
      "  5%|█▍                               | 2690/59545 [1:01:49<19:46:24,  1.25s/it]"
     ]
    },
    {
     "name": "stdout",
     "output_type": "stream",
     "text": [
      "Fail: status code 429 paper_id ea7ed5c0999d06f3cbd7ee7b094716587f87fc26\n"
     ]
    },
    {
     "name": "stderr",
     "output_type": "stream",
     "text": [
      "  5%|█▍                               | 2692/59545 [1:01:50<17:04:02,  1.08s/it]"
     ]
    },
    {
     "name": "stdout",
     "output_type": "stream",
     "text": [
      "Fail: status code 429 paper_id 78ee85ac29775aefed350a18500ecfb4c5182dd9\n"
     ]
    },
    {
     "name": "stderr",
     "output_type": "stream",
     "text": [
      "  5%|█▍                               | 2694/59545 [1:01:54<20:39:26,  1.31s/it]"
     ]
    },
    {
     "name": "stdout",
     "output_type": "stream",
     "text": [
      "Fail: status code 429 paper_id 2e40e729f2c212a581028585d85b9bf2f1b31069\n"
     ]
    },
    {
     "name": "stderr",
     "output_type": "stream",
     "text": [
      "  5%|█▍                               | 2696/59545 [1:01:57<23:01:04,  1.46s/it]"
     ]
    },
    {
     "name": "stdout",
     "output_type": "stream",
     "text": [
      "Fail: status code 429 paper_id 6764b7a23e7bd4b745ce1c7fa24c195cd2e8408a\n"
     ]
    },
    {
     "name": "stderr",
     "output_type": "stream",
     "text": [
      "  5%|█▌                               | 2715/59545 [1:02:24<24:16:42,  1.54s/it]"
     ]
    },
    {
     "name": "stdout",
     "output_type": "stream",
     "text": [
      "Fail: status code 429 paper_id ee37f68c5e714a5a01342c2d3b10d727f7542ebe\n"
     ]
    },
    {
     "name": "stderr",
     "output_type": "stream",
     "text": [
      "  5%|█▌                               | 2716/59545 [1:02:26<25:13:15,  1.60s/it]"
     ]
    },
    {
     "name": "stdout",
     "output_type": "stream",
     "text": [
      "Fail: status code 429 paper_id 2d324a4282e00948f0525bb29abb4fc6a1075c7c\n"
     ]
    },
    {
     "name": "stderr",
     "output_type": "stream",
     "text": [
      "  5%|█▌                               | 2717/59545 [1:02:27<25:24:09,  1.61s/it]"
     ]
    },
    {
     "name": "stdout",
     "output_type": "stream",
     "text": [
      "Fail: status code 429 paper_id 1eb7c9b3ff245647aaeea944eedeb4a9a410920a\n"
     ]
    },
    {
     "name": "stderr",
     "output_type": "stream",
     "text": [
      "  5%|█▌                               | 2718/59545 [1:02:29<25:08:21,  1.59s/it]"
     ]
    },
    {
     "name": "stdout",
     "output_type": "stream",
     "text": [
      "Fail: status code 429 paper_id 2beea8fd1d2f6608306d1b9bda00b87b7b457b26\n"
     ]
    },
    {
     "name": "stderr",
     "output_type": "stream",
     "text": [
      "  5%|█▌                               | 2719/59545 [1:02:31<25:08:54,  1.59s/it]"
     ]
    },
    {
     "name": "stdout",
     "output_type": "stream",
     "text": [
      "Fail: status code 429 paper_id a5389bc77bb342192f84eb721c6a880d5283f110\n"
     ]
    },
    {
     "name": "stderr",
     "output_type": "stream",
     "text": [
      "  5%|█▌                               | 2720/59545 [1:02:32<25:29:46,  1.62s/it]"
     ]
    },
    {
     "name": "stdout",
     "output_type": "stream",
     "text": [
      "Fail: status code 429 paper_id 70ef97d30c7318dd3d64a7f99aa833811b9531ac\n"
     ]
    },
    {
     "name": "stderr",
     "output_type": "stream",
     "text": [
      "  5%|█▌                               | 2721/59545 [1:02:34<25:07:23,  1.59s/it]"
     ]
    },
    {
     "name": "stdout",
     "output_type": "stream",
     "text": [
      "Fail: status code 429 paper_id dc913c8c9209954cb3f21105c7b45e394843d37f\n"
     ]
    },
    {
     "name": "stderr",
     "output_type": "stream",
     "text": [
      "  5%|█▌                               | 2722/59545 [1:02:35<25:20:27,  1.61s/it]"
     ]
    },
    {
     "name": "stdout",
     "output_type": "stream",
     "text": [
      "Fail: status code 429 paper_id b86b5e65437ce7e785b1e3eb295360512a9f06f5\n"
     ]
    },
    {
     "name": "stderr",
     "output_type": "stream",
     "text": [
      "  5%|█▌                               | 2723/59545 [1:02:37<25:29:51,  1.62s/it]"
     ]
    },
    {
     "name": "stdout",
     "output_type": "stream",
     "text": [
      "Fail: status code 429 paper_id 98d2d43dcf9fb7312cf6b6c1ea2d8ac800844084\n"
     ]
    },
    {
     "name": "stderr",
     "output_type": "stream",
     "text": [
      "  5%|█▌                               | 2724/59545 [1:02:39<25:36:03,  1.62s/it]"
     ]
    },
    {
     "name": "stdout",
     "output_type": "stream",
     "text": [
      "Fail: status code 429 paper_id 5b330cdb513116a74a674f9ac36b799c91d5dd2e\n"
     ]
    },
    {
     "name": "stderr",
     "output_type": "stream",
     "text": [
      "  5%|█▌                               | 2725/59545 [1:02:40<25:40:53,  1.63s/it]"
     ]
    },
    {
     "name": "stdout",
     "output_type": "stream",
     "text": [
      "Fail: status code 429 paper_id 4ff2a9eddcaa6507c0b0ee7f96fdc4e90193837d\n"
     ]
    },
    {
     "name": "stderr",
     "output_type": "stream",
     "text": [
      "  5%|█▌                               | 2726/59545 [1:02:42<25:44:03,  1.63s/it]"
     ]
    },
    {
     "name": "stdout",
     "output_type": "stream",
     "text": [
      "Fail: status code 429 paper_id 497d9dc0eac7c8dd43c2b53857fc25acdef6aec0\n"
     ]
    },
    {
     "name": "stderr",
     "output_type": "stream",
     "text": [
      "  5%|█▌                               | 2727/59545 [1:02:43<24:19:16,  1.54s/it]"
     ]
    },
    {
     "name": "stdout",
     "output_type": "stream",
     "text": [
      "Fail: status code 429 paper_id 1de325952eb93eaffa8c025d47eea9c249d2d529\n"
     ]
    },
    {
     "name": "stderr",
     "output_type": "stream",
     "text": [
      "  5%|█▌                               | 2728/59545 [1:02:45<24:49:13,  1.57s/it]"
     ]
    },
    {
     "name": "stdout",
     "output_type": "stream",
     "text": [
      "Fail: status code 429 paper_id 975e28806752336fa57ec5a3e7c6376de8549187\n"
     ]
    },
    {
     "name": "stderr",
     "output_type": "stream",
     "text": [
      "  5%|█▌                               | 2729/59545 [1:02:46<23:15:46,  1.47s/it]"
     ]
    },
    {
     "name": "stdout",
     "output_type": "stream",
     "text": [
      "Fail: status code 429 paper_id 42757c86369bbded70e9149c2f40811215bd1e61\n"
     ]
    },
    {
     "name": "stderr",
     "output_type": "stream",
     "text": [
      "  5%|█▌                               | 2730/59545 [1:02:48<23:55:51,  1.52s/it]"
     ]
    },
    {
     "name": "stdout",
     "output_type": "stream",
     "text": [
      "Fail: status code 429 paper_id f5e6eb7126d2c1527eb13fb512b17296e8f0e0fb\n"
     ]
    },
    {
     "name": "stderr",
     "output_type": "stream",
     "text": [
      "  5%|█▌                               | 2731/59545 [1:02:49<24:30:13,  1.55s/it]"
     ]
    },
    {
     "name": "stdout",
     "output_type": "stream",
     "text": [
      "Fail: status code 429 paper_id 7f0abcab65893990810d11d5b44562e057c11457\n"
     ]
    },
    {
     "name": "stderr",
     "output_type": "stream",
     "text": [
      "  5%|█▌                               | 2732/59545 [1:02:51<24:29:37,  1.55s/it]"
     ]
    },
    {
     "name": "stdout",
     "output_type": "stream",
     "text": [
      "Fail: status code 429 paper_id 65ad6d738fdc91e5ca2072de628e18802dc234e2\n"
     ]
    },
    {
     "name": "stderr",
     "output_type": "stream",
     "text": [
      "  5%|█▌                               | 2733/59545 [1:02:53<24:42:04,  1.57s/it]"
     ]
    },
    {
     "name": "stdout",
     "output_type": "stream",
     "text": [
      "Fail: status code 429 paper_id 7514708250a28bb6d067edeba23622520b7e4d40\n"
     ]
    },
    {
     "name": "stderr",
     "output_type": "stream",
     "text": [
      "  5%|█▌                               | 2734/59545 [1:02:54<24:37:07,  1.56s/it]"
     ]
    },
    {
     "name": "stdout",
     "output_type": "stream",
     "text": [
      "Fail: status code 429 paper_id 44b507a661d53b345f5142bfa8e6d24ebfa6e71c\n"
     ]
    },
    {
     "name": "stderr",
     "output_type": "stream",
     "text": [
      "  5%|█▌                               | 2738/59545 [1:02:59<18:09:29,  1.15s/it]"
     ]
    },
    {
     "name": "stdout",
     "output_type": "stream",
     "text": [
      "Fail: status code 429 paper_id 1fb6b1863223babb571e66618ed8f4fcd93fd4ea\n"
     ]
    },
    {
     "name": "stderr",
     "output_type": "stream",
     "text": [
      "  5%|█▌                               | 2739/59545 [1:03:00<20:03:58,  1.27s/it]"
     ]
    },
    {
     "name": "stdout",
     "output_type": "stream",
     "text": [
      "Fail: status code 429 paper_id eb67e45d7634e729e268e4181c7442bd6b6a95e8\n"
     ]
    },
    {
     "name": "stderr",
     "output_type": "stream",
     "text": [
      "  5%|█▌                               | 2740/59545 [1:03:02<21:34:36,  1.37s/it]"
     ]
    },
    {
     "name": "stdout",
     "output_type": "stream",
     "text": [
      "Fail: status code 429 paper_id 2d8aedff05f2000bd7bfa80f98fddb55a41b9ae2\n"
     ]
    },
    {
     "name": "stderr",
     "output_type": "stream",
     "text": [
      "  5%|█▌                               | 2742/59545 [1:03:05<22:16:18,  1.41s/it]"
     ]
    },
    {
     "name": "stdout",
     "output_type": "stream",
     "text": [
      "Fail: status code 429 paper_id 6de5bcc78cbe05bc71aced4bbf423203998977ae\n"
     ]
    },
    {
     "name": "stderr",
     "output_type": "stream",
     "text": [
      "  5%|█▌                               | 2743/59545 [1:03:06<23:17:10,  1.48s/it]"
     ]
    },
    {
     "name": "stdout",
     "output_type": "stream",
     "text": [
      "Fail: status code 429 paper_id 20d542aef19a75fde96aaf1f0c9e608c1c1b1610\n"
     ]
    },
    {
     "name": "stderr",
     "output_type": "stream",
     "text": [
      "  5%|█▌                               | 2744/59545 [1:03:08<24:03:00,  1.52s/it]"
     ]
    },
    {
     "name": "stdout",
     "output_type": "stream",
     "text": [
      "Fail: status code 429 paper_id 28b3d8715feebb1e8a1cbaa1de88be952e97ee85\n"
     ]
    },
    {
     "name": "stderr",
     "output_type": "stream",
     "text": [
      "  5%|█▌                               | 2745/59545 [1:03:10<24:33:56,  1.56s/it]"
     ]
    },
    {
     "name": "stdout",
     "output_type": "stream",
     "text": [
      "Fail: status code 429 paper_id c1144febe1168a993621834ecb15f9f251c480da\n"
     ]
    },
    {
     "name": "stderr",
     "output_type": "stream",
     "text": [
      "  5%|█▌                               | 2747/59545 [1:03:13<25:12:47,  1.60s/it]"
     ]
    },
    {
     "name": "stdout",
     "output_type": "stream",
     "text": [
      "Fail: status code 429 paper_id 10012533294ce4099dfbd9368bcd16ef21dd6030\n"
     ]
    },
    {
     "name": "stderr",
     "output_type": "stream",
     "text": [
      "  5%|█▌                               | 2748/59545 [1:03:15<25:24:17,  1.61s/it]"
     ]
    },
    {
     "name": "stdout",
     "output_type": "stream",
     "text": [
      "Fail: status code 429 paper_id b5b44fdfd1b22b8666c247f6f0676f3ed33f7fc9\n"
     ]
    },
    {
     "name": "stderr",
     "output_type": "stream",
     "text": [
      "  5%|█▌                               | 2749/59545 [1:03:16<25:31:43,  1.62s/it]"
     ]
    },
    {
     "name": "stdout",
     "output_type": "stream",
     "text": [
      "Fail: status code 429 paper_id f6591fa6ba676c00f9e88f2fee822c6d4b68ed4d\n"
     ]
    },
    {
     "name": "stderr",
     "output_type": "stream",
     "text": [
      "  5%|█▌                               | 2750/59545 [1:03:18<25:38:08,  1.62s/it]"
     ]
    },
    {
     "name": "stdout",
     "output_type": "stream",
     "text": [
      "Fail: status code 429 paper_id c162bbb6d8f6ba7b92203402b66326f753859928\n"
     ]
    },
    {
     "name": "stderr",
     "output_type": "stream",
     "text": [
      "  5%|█▌                               | 2751/59545 [1:03:19<25:24:31,  1.61s/it]"
     ]
    },
    {
     "name": "stdout",
     "output_type": "stream",
     "text": [
      "Fail: status code 429 paper_id 6c6f2354b940ca3170f6c3bfa68fa63178641754\n"
     ]
    },
    {
     "name": "stderr",
     "output_type": "stream",
     "text": [
      "  5%|█▌                               | 2752/59545 [1:03:21<26:18:38,  1.67s/it]"
     ]
    },
    {
     "name": "stdout",
     "output_type": "stream",
     "text": [
      "Fail: status code 429 paper_id 0f595da5f03301e1e6cb4dbb31aff3ee137e5bc7\n"
     ]
    },
    {
     "name": "stderr",
     "output_type": "stream",
     "text": [
      "  5%|█▌                               | 2756/59545 [1:03:26<21:06:20,  1.34s/it]"
     ]
    },
    {
     "name": "stdout",
     "output_type": "stream",
     "text": [
      "Fail: status code 429 paper_id 03dc27484968b008282fd8efc0e33bbd7fce69df\n"
     ]
    },
    {
     "name": "stderr",
     "output_type": "stream",
     "text": [
      "  5%|█▌                               | 2761/59545 [1:03:34<24:47:42,  1.57s/it]"
     ]
    },
    {
     "name": "stdout",
     "output_type": "stream",
     "text": [
      "Fail: status code 429 paper_id c4ae4e4114ee227b19eee33e96feb40066294889\n"
     ]
    },
    {
     "name": "stderr",
     "output_type": "stream",
     "text": [
      "  5%|█▋                                | 2894/59545 [1:06:44<9:20:18,  1.69it/s]"
     ]
    },
    {
     "name": "stdout",
     "output_type": "stream",
     "text": [
      "Fail: status code 429 paper_id f116c5eacf6c743145722d820fd387fd72e89f87\n"
     ]
    },
    {
     "name": "stderr",
     "output_type": "stream",
     "text": [
      "  5%|█▌                               | 2895/59545 [1:06:45<11:32:33,  1.36it/s]"
     ]
    },
    {
     "name": "stdout",
     "output_type": "stream",
     "text": [
      "Fail: status code 429 paper_id 3d1ca6fe15e7ccc7ca942c268c7ffccbeedd502e\n"
     ]
    },
    {
     "name": "stderr",
     "output_type": "stream",
     "text": [
      "  5%|█▌                               | 2897/59545 [1:06:47<11:54:49,  1.32it/s]"
     ]
    },
    {
     "name": "stdout",
     "output_type": "stream",
     "text": [
      "Fail: status code 429 paper_id ccafce4b84df8a77ec37aa3edc6eeb025daad699\n"
     ]
    },
    {
     "name": "stderr",
     "output_type": "stream",
     "text": [
      "  5%|█▌                               | 2898/59545 [1:06:48<13:11:08,  1.19it/s]"
     ]
    },
    {
     "name": "stdout",
     "output_type": "stream",
     "text": [
      "Fail: status code 429 paper_id 1db04857e49b12fb0bc0d0d3c02e52d191b89ae4\n"
     ]
    },
    {
     "name": "stderr",
     "output_type": "stream",
     "text": [
      "  5%|█▌                               | 2899/59545 [1:06:50<15:32:38,  1.01it/s]"
     ]
    },
    {
     "name": "stdout",
     "output_type": "stream",
     "text": [
      "Fail: status code 429 paper_id b9d6d4bafaea3c0ccd88927356d0bec66600c559\n"
     ]
    },
    {
     "name": "stderr",
     "output_type": "stream",
     "text": [
      "  5%|█▌                               | 2900/59545 [1:06:51<17:43:31,  1.13s/it]"
     ]
    },
    {
     "name": "stdout",
     "output_type": "stream",
     "text": [
      "Fail: status code 429 paper_id 0e9d3436bc26425c084f2c95bfe6fb8f25a1b095\n"
     ]
    },
    {
     "name": "stderr",
     "output_type": "stream",
     "text": [
      "  5%|█▌                               | 2901/59545 [1:06:53<19:37:13,  1.25s/it]"
     ]
    },
    {
     "name": "stdout",
     "output_type": "stream",
     "text": [
      "Fail: status code 429 paper_id 67f39b74ae3e86d2893ad6b08f01bece01abf022\n"
     ]
    },
    {
     "name": "stderr",
     "output_type": "stream",
     "text": [
      "  5%|█▌                               | 2902/59545 [1:06:55<21:10:10,  1.35s/it]"
     ]
    },
    {
     "name": "stdout",
     "output_type": "stream",
     "text": [
      "Fail: status code 429 paper_id 7ae4bb7a7bca9d0eed7c16c56822c35acc4191ef\n"
     ]
    },
    {
     "name": "stderr",
     "output_type": "stream",
     "text": [
      "  5%|█▌                               | 2903/59545 [1:06:56<22:22:56,  1.42s/it]"
     ]
    },
    {
     "name": "stdout",
     "output_type": "stream",
     "text": [
      "Fail: status code 429 paper_id aa5191cf10db7b2cf293c336321cfce2410ae68b\n"
     ]
    },
    {
     "name": "stderr",
     "output_type": "stream",
     "text": [
      "  5%|█▌                               | 2905/59545 [1:06:59<23:36:02,  1.50s/it]"
     ]
    },
    {
     "name": "stdout",
     "output_type": "stream",
     "text": [
      "Fail: status code 429 paper_id 80eb1e5c00dfad529364cf254f2a4022ca8464ad\n"
     ]
    },
    {
     "name": "stderr",
     "output_type": "stream",
     "text": [
      "  5%|█▌                               | 2906/59545 [1:07:01<24:10:15,  1.54s/it]"
     ]
    },
    {
     "name": "stdout",
     "output_type": "stream",
     "text": [
      "Fail: status code 429 paper_id ce573c7fa7f01d16c873f494e5c1140518b9b4f2\n"
     ]
    },
    {
     "name": "stderr",
     "output_type": "stream",
     "text": [
      "  5%|█▌                               | 2908/59545 [1:07:04<23:33:22,  1.50s/it]"
     ]
    },
    {
     "name": "stdout",
     "output_type": "stream",
     "text": [
      "Fail: status code 429 paper_id f436f4186fc2dd14e803470c621618af849f1e30\n"
     ]
    },
    {
     "name": "stderr",
     "output_type": "stream",
     "text": [
      "  5%|█▌                               | 2911/59545 [1:07:07<19:17:35,  1.23s/it]"
     ]
    },
    {
     "name": "stdout",
     "output_type": "stream",
     "text": [
      "Fail: status code 429 paper_id bb7bdcf77515d1d80e78a16f595a366914f238df\n"
     ]
    },
    {
     "name": "stderr",
     "output_type": "stream",
     "text": [
      "  5%|█▌                               | 2913/59545 [1:07:10<21:54:03,  1.39s/it]"
     ]
    },
    {
     "name": "stdout",
     "output_type": "stream",
     "text": [
      "Fail: status code 429 paper_id 0fd63ff4cf47335b6d3d47969f9d9c393bb4fa1a\n"
     ]
    },
    {
     "name": "stderr",
     "output_type": "stream",
     "text": [
      "  5%|█▌                               | 2915/59545 [1:07:12<17:55:25,  1.14s/it]"
     ]
    },
    {
     "name": "stdout",
     "output_type": "stream",
     "text": [
      "Fail: status code 429 paper_id c6002247dee39ff91db2b646d8f2dd375cbb0a43\n"
     ]
    },
    {
     "name": "stderr",
     "output_type": "stream",
     "text": [
      "  5%|█▌                               | 2917/59545 [1:07:13<15:45:48,  1.00s/it]"
     ]
    },
    {
     "name": "stdout",
     "output_type": "stream",
     "text": [
      "Fail: status code 429 paper_id fa80e5a26bbbdf422259bb516cefeab535c383da\n"
     ]
    },
    {
     "name": "stderr",
     "output_type": "stream",
     "text": [
      "  5%|█▌                               | 2918/59545 [1:07:15<17:36:09,  1.12s/it]"
     ]
    },
    {
     "name": "stdout",
     "output_type": "stream",
     "text": [
      "Fail: status code 429 paper_id 8c68ba842187073049e5f81001f65725ca5383a2\n"
     ]
    },
    {
     "name": "stderr",
     "output_type": "stream",
     "text": [
      "  5%|█▌                               | 2920/59545 [1:07:18<21:16:23,  1.35s/it]"
     ]
    },
    {
     "name": "stdout",
     "output_type": "stream",
     "text": [
      "Fail: status code 429 paper_id 3aa42091f9080c1583343f75e9262a237afcaa6b\n"
     ]
    },
    {
     "name": "stderr",
     "output_type": "stream",
     "text": [
      "  5%|█▋                               | 2949/59545 [1:08:04<26:03:50,  1.66s/it]"
     ]
    },
    {
     "name": "stdout",
     "output_type": "stream",
     "text": [
      "Fail: status code 429 paper_id 32c52d71f660069400be35128ed489334ac34706\n"
     ]
    },
    {
     "name": "stderr",
     "output_type": "stream",
     "text": [
      "  5%|█▋                               | 2958/59545 [1:08:14<19:24:42,  1.23s/it]"
     ]
    },
    {
     "name": "stdout",
     "output_type": "stream",
     "text": [
      "Fail: status code 429 paper_id 32c18059e0615af885aed16b7a89aabc14f464f2\n"
     ]
    },
    {
     "name": "stderr",
     "output_type": "stream",
     "text": [
      "  5%|█▋                               | 2961/59545 [1:08:19<23:15:30,  1.48s/it]"
     ]
    },
    {
     "name": "stdout",
     "output_type": "stream",
     "text": [
      "Fail: status code 429 paper_id f458655848baa1a364a7b7933346b9c93372ea0f\n"
     ]
    },
    {
     "name": "stderr",
     "output_type": "stream",
     "text": [
      "  5%|█▋                               | 2962/59545 [1:08:20<23:49:27,  1.52s/it]"
     ]
    },
    {
     "name": "stdout",
     "output_type": "stream",
     "text": [
      "Fail: status code 429 paper_id 73144ae896723fd2fe92ac5a018a1fecf5f9efc3\n"
     ]
    },
    {
     "name": "stderr",
     "output_type": "stream",
     "text": [
      "  5%|█▋                               | 2963/59545 [1:08:21<22:40:33,  1.44s/it]"
     ]
    },
    {
     "name": "stdout",
     "output_type": "stream",
     "text": [
      "Fail: status code 429 paper_id f2c00af705618a986e248de54725bfc8e68cd9e2\n"
     ]
    },
    {
     "name": "stderr",
     "output_type": "stream",
     "text": [
      "  5%|█▋                               | 2964/59545 [1:08:23<23:30:32,  1.50s/it]"
     ]
    },
    {
     "name": "stdout",
     "output_type": "stream",
     "text": [
      "Fail: status code 429 paper_id 407045707200d9808313afb59342917da85f80b6\n"
     ]
    },
    {
     "name": "stderr",
     "output_type": "stream",
     "text": [
      "  5%|█▋                               | 2965/59545 [1:08:25<24:04:28,  1.53s/it]"
     ]
    },
    {
     "name": "stdout",
     "output_type": "stream",
     "text": [
      "Fail: status code 429 paper_id 49b8a8137ae0acbc19edb55365a113d4c6982ac6\n"
     ]
    },
    {
     "name": "stderr",
     "output_type": "stream",
     "text": [
      "  5%|█▋                               | 2966/59545 [1:08:26<24:33:57,  1.56s/it]"
     ]
    },
    {
     "name": "stdout",
     "output_type": "stream",
     "text": [
      "Fail: status code 429 paper_id 1ce857e078dada249cc420fa756fc307f49a2323\n"
     ]
    },
    {
     "name": "stderr",
     "output_type": "stream",
     "text": [
      "  5%|█▋                               | 2967/59545 [1:08:28<24:55:12,  1.59s/it]"
     ]
    },
    {
     "name": "stdout",
     "output_type": "stream",
     "text": [
      "Fail: status code 429 paper_id fb15b9199fe07f8e960b2253d387ef845143af34\n"
     ]
    },
    {
     "name": "stderr",
     "output_type": "stream",
     "text": [
      "  5%|█▋                               | 2968/59545 [1:08:30<24:45:06,  1.57s/it]"
     ]
    },
    {
     "name": "stdout",
     "output_type": "stream",
     "text": [
      "Fail: status code 429 paper_id df7e2fd830e4cfff6f0a9382bb84c5057c158861\n"
     ]
    },
    {
     "name": "stderr",
     "output_type": "stream",
     "text": [
      "  5%|█▋                               | 2969/59545 [1:08:31<24:58:12,  1.59s/it]"
     ]
    },
    {
     "name": "stdout",
     "output_type": "stream",
     "text": [
      "Fail: status code 429 paper_id 5c3eac270e1fae18e3453912fa51e9bf1d66fd4c\n"
     ]
    },
    {
     "name": "stderr",
     "output_type": "stream",
     "text": [
      "  5%|█▋                               | 2970/59545 [1:08:33<25:12:37,  1.60s/it]"
     ]
    },
    {
     "name": "stdout",
     "output_type": "stream",
     "text": [
      "Fail: status code 429 paper_id 09aaa85c6fe92ec2e894700dc2bab4d481c5b27d\n"
     ]
    },
    {
     "name": "stderr",
     "output_type": "stream",
     "text": [
      "  5%|█▋                               | 2971/59545 [1:08:34<25:00:45,  1.59s/it]"
     ]
    },
    {
     "name": "stdout",
     "output_type": "stream",
     "text": [
      "Fail: status code 429 paper_id aa43585fc80ad1bfe06244126f5bf7cad892973b\n"
     ]
    },
    {
     "name": "stderr",
     "output_type": "stream",
     "text": [
      "  5%|█▋                               | 2972/59545 [1:08:36<24:52:33,  1.58s/it]"
     ]
    },
    {
     "name": "stdout",
     "output_type": "stream",
     "text": [
      "Fail: status code 429 paper_id 82d5f7b67bc453d0945407bd45323d2e7f9b663c\n"
     ]
    },
    {
     "name": "stderr",
     "output_type": "stream",
     "text": [
      "  5%|█▋                               | 2973/59545 [1:08:38<25:01:09,  1.59s/it]"
     ]
    },
    {
     "name": "stdout",
     "output_type": "stream",
     "text": [
      "Fail: status code 429 paper_id 2c6ae2908404fab2f490ca31651c5bca4935ce7a\n"
     ]
    },
    {
     "name": "stderr",
     "output_type": "stream",
     "text": [
      "  5%|█▋                               | 2974/59545 [1:08:39<25:06:53,  1.60s/it]"
     ]
    },
    {
     "name": "stdout",
     "output_type": "stream",
     "text": [
      "Fail: status code 429 paper_id d94fd8fbfa75bcb1772de921e40e97b5c68c8027\n"
     ]
    },
    {
     "name": "stderr",
     "output_type": "stream",
     "text": [
      "  5%|█▋                               | 3025/59545 [1:09:52<23:26:32,  1.49s/it]"
     ]
    },
    {
     "name": "stdout",
     "output_type": "stream",
     "text": [
      "Fail: status code 429 paper_id 9d1cd3cb2b602ac32a40233b989ab76358ed8ab3\n"
     ]
    },
    {
     "name": "stderr",
     "output_type": "stream",
     "text": [
      "  5%|█▋                               | 3026/59545 [1:09:54<24:05:29,  1.53s/it]"
     ]
    },
    {
     "name": "stdout",
     "output_type": "stream",
     "text": [
      "Fail: status code 429 paper_id a64a73e045b82a57ca96501b50ae8ea99a41a735\n"
     ]
    },
    {
     "name": "stderr",
     "output_type": "stream",
     "text": [
      "  5%|█▋                               | 3027/59545 [1:09:56<24:32:41,  1.56s/it]"
     ]
    },
    {
     "name": "stdout",
     "output_type": "stream",
     "text": [
      "Fail: status code 429 paper_id 497737e654926a6691e19447bb99901e368741c8\n"
     ]
    },
    {
     "name": "stderr",
     "output_type": "stream",
     "text": [
      "  5%|█▋                               | 3029/59545 [1:09:57<19:17:21,  1.23s/it]"
     ]
    },
    {
     "name": "stdout",
     "output_type": "stream",
     "text": [
      "Fail: status code 429 paper_id f1fc7323bb9f59f444be47e1624e31320e417f6b\n"
     ]
    },
    {
     "name": "stderr",
     "output_type": "stream",
     "text": [
      "  5%|█▋                               | 3030/59545 [1:09:59<20:50:43,  1.33s/it]"
     ]
    },
    {
     "name": "stdout",
     "output_type": "stream",
     "text": [
      "Fail: status code 429 paper_id d3d2a24651d9f102084f22754458ddd66025ea90\n"
     ]
    },
    {
     "name": "stderr",
     "output_type": "stream",
     "text": [
      "  5%|█▋                               | 3031/59545 [1:10:01<22:06:20,  1.41s/it]"
     ]
    },
    {
     "name": "stdout",
     "output_type": "stream",
     "text": [
      "Fail: status code 429 paper_id 62cd36333c27c6a922171d00f3dc5487da458586\n"
     ]
    },
    {
     "name": "stderr",
     "output_type": "stream",
     "text": [
      "  5%|█▋                               | 3032/59545 [1:10:02<23:05:02,  1.47s/it]"
     ]
    },
    {
     "name": "stdout",
     "output_type": "stream",
     "text": [
      "Fail: status code 429 paper_id cba210277b3cc00061c5a224fd3a1885d7232681\n"
     ]
    },
    {
     "name": "stderr",
     "output_type": "stream",
     "text": [
      "  5%|█▋                               | 3033/59545 [1:10:04<23:48:14,  1.52s/it]"
     ]
    },
    {
     "name": "stdout",
     "output_type": "stream",
     "text": [
      "Fail: status code 429 paper_id ba596795970f3e32d8462fcde6e60e1569e0d7d2\n"
     ]
    },
    {
     "name": "stderr",
     "output_type": "stream",
     "text": [
      "  5%|█▋                               | 3034/59545 [1:10:06<24:24:01,  1.55s/it]"
     ]
    },
    {
     "name": "stdout",
     "output_type": "stream",
     "text": [
      "Fail: status code 429 paper_id 075cc31c004940078dabe867e1703de4d7fcbfba\n"
     ]
    },
    {
     "name": "stderr",
     "output_type": "stream",
     "text": [
      "  5%|█▋                               | 3035/59545 [1:10:07<24:44:03,  1.58s/it]"
     ]
    },
    {
     "name": "stdout",
     "output_type": "stream",
     "text": [
      "Fail: status code 429 paper_id a5120414bb710dab367fb47ed3b2d6f89531d2b8\n"
     ]
    },
    {
     "name": "stderr",
     "output_type": "stream",
     "text": [
      "  5%|█▋                               | 3036/59545 [1:10:09<25:01:42,  1.59s/it]"
     ]
    },
    {
     "name": "stdout",
     "output_type": "stream",
     "text": [
      "Fail: status code 429 paper_id a81e1678d3b9b948f9b19422700559221762161b\n"
     ]
    },
    {
     "name": "stderr",
     "output_type": "stream",
     "text": [
      "  5%|█▋                               | 3037/59545 [1:10:10<25:15:32,  1.61s/it]"
     ]
    },
    {
     "name": "stdout",
     "output_type": "stream",
     "text": [
      "Fail: status code 429 paper_id 9e7f1165225a54dc45192acddf7f3f021c1e71ad\n"
     ]
    },
    {
     "name": "stderr",
     "output_type": "stream",
     "text": [
      "  5%|█▋                               | 3039/59545 [1:10:14<25:27:56,  1.62s/it]"
     ]
    },
    {
     "name": "stdout",
     "output_type": "stream",
     "text": [
      "Fail: status code 429 paper_id 5f5f8cb1a646a0612738784f6774fa179adcdf65\n"
     ]
    },
    {
     "name": "stderr",
     "output_type": "stream",
     "text": [
      "  5%|█▋                               | 3041/59545 [1:10:17<25:35:56,  1.63s/it]"
     ]
    },
    {
     "name": "stdout",
     "output_type": "stream",
     "text": [
      "Fail: status code 429 paper_id 1006bbb634f55fc9aef59771673dae19dd1c68af\n"
     ]
    },
    {
     "name": "stderr",
     "output_type": "stream",
     "text": [
      "  5%|█▋                               | 3042/59545 [1:10:19<25:38:15,  1.63s/it]"
     ]
    },
    {
     "name": "stdout",
     "output_type": "stream",
     "text": [
      "Fail: status code 429 paper_id 86b81c7e396278ad3ab608c0383aafd3ea3067b6\n"
     ]
    },
    {
     "name": "stderr",
     "output_type": "stream",
     "text": [
      "  5%|█▋                               | 3043/59545 [1:10:20<25:39:30,  1.63s/it]"
     ]
    },
    {
     "name": "stdout",
     "output_type": "stream",
     "text": [
      "Fail: status code 429 paper_id 7a588d36ee28021c976c5b85353b378f0d829076\n"
     ]
    },
    {
     "name": "stderr",
     "output_type": "stream",
     "text": [
      "  5%|█▋                               | 3044/59545 [1:10:22<25:40:17,  1.64s/it]"
     ]
    },
    {
     "name": "stdout",
     "output_type": "stream",
     "text": [
      "Fail: status code 429 paper_id bad03fffafd3de750029e20c25d98dc6f6ce8fd7\n"
     ]
    },
    {
     "name": "stderr",
     "output_type": "stream",
     "text": [
      "  5%|█▋                               | 3046/59545 [1:10:25<25:41:40,  1.64s/it]"
     ]
    },
    {
     "name": "stdout",
     "output_type": "stream",
     "text": [
      "Fail: status code 429 paper_id ad34496f8a4f8bffec7cd98ff9cda1ec19d07a9d\n"
     ]
    },
    {
     "name": "stderr",
     "output_type": "stream",
     "text": [
      "  5%|█▋                               | 3047/59545 [1:10:27<25:41:33,  1.64s/it]"
     ]
    },
    {
     "name": "stdout",
     "output_type": "stream",
     "text": [
      "Fail: status code 429 paper_id 68c47eb738df2ed6c2781abe8af1d0303f4ad373\n"
     ]
    },
    {
     "name": "stderr",
     "output_type": "stream",
     "text": [
      "  5%|█▋                               | 3049/59545 [1:10:30<25:35:34,  1.63s/it]"
     ]
    },
    {
     "name": "stdout",
     "output_type": "stream",
     "text": [
      "Fail: status code 429 paper_id 88d581c7cefb225ec731e576ae17058b976ba263\n"
     ]
    },
    {
     "name": "stderr",
     "output_type": "stream",
     "text": [
      "  5%|█▋                               | 3050/59545 [1:10:32<25:35:41,  1.63s/it]"
     ]
    },
    {
     "name": "stdout",
     "output_type": "stream",
     "text": [
      "Fail: status code 429 paper_id bccf951307e3c05a408456079ba94e419a885658\n"
     ]
    },
    {
     "name": "stderr",
     "output_type": "stream",
     "text": [
      "  5%|█▋                               | 3052/59545 [1:10:35<26:39:58,  1.70s/it]"
     ]
    },
    {
     "name": "stdout",
     "output_type": "stream",
     "text": [
      "Fail: status code 429 paper_id a37a4c15a277e13976af93f5f4b6d2482f4d0f11\n"
     ]
    },
    {
     "name": "stderr",
     "output_type": "stream",
     "text": [
      "  5%|█▋                               | 3053/59545 [1:10:37<26:22:04,  1.68s/it]"
     ]
    },
    {
     "name": "stdout",
     "output_type": "stream",
     "text": [
      "Fail: status code 429 paper_id 090c51bb1dd57916289b2cce38c13336544f39bf\n"
     ]
    },
    {
     "name": "stderr",
     "output_type": "stream",
     "text": [
      "  5%|█▋                               | 3056/59545 [1:10:42<25:36:27,  1.63s/it]"
     ]
    },
    {
     "name": "stdout",
     "output_type": "stream",
     "text": [
      "Fail: status code 429 paper_id 3161bc5a2736946bc640ee1d5dab544a866c69e5\n"
     ]
    },
    {
     "name": "stderr",
     "output_type": "stream",
     "text": [
      "  5%|█▋                               | 3058/59545 [1:10:45<25:53:46,  1.65s/it]"
     ]
    },
    {
     "name": "stdout",
     "output_type": "stream",
     "text": [
      "Fail: status code 429 paper_id 778de8b53daa66954f1c9084bf09d996e0861b97\n"
     ]
    },
    {
     "name": "stderr",
     "output_type": "stream",
     "text": [
      "  5%|█▋                               | 3061/59545 [1:10:50<25:45:21,  1.64s/it]"
     ]
    },
    {
     "name": "stdout",
     "output_type": "stream",
     "text": [
      "Fail: status code 429 paper_id 39264d99064dddb854d7c25abfaa1bc212d75e01\n"
     ]
    },
    {
     "name": "stderr",
     "output_type": "stream",
     "text": [
      "  5%|█▋                               | 3063/59545 [1:10:53<26:13:06,  1.67s/it]"
     ]
    },
    {
     "name": "stdout",
     "output_type": "stream",
     "text": [
      "Fail: status code 429 paper_id 0539f3da4dc64adb5243ba1489cf4a047a81f1ca\n"
     ]
    },
    {
     "name": "stderr",
     "output_type": "stream",
     "text": [
      "  5%|█▋                               | 3064/59545 [1:10:55<24:14:00,  1.54s/it]"
     ]
    },
    {
     "name": "stdout",
     "output_type": "stream",
     "text": [
      "Fail: status code 429 paper_id e6fb0415ef303bfafe1113a24de6659ac7c4afb9\n"
     ]
    },
    {
     "name": "stderr",
     "output_type": "stream",
     "text": [
      "  5%|█▋                               | 3066/59545 [1:10:58<24:55:14,  1.59s/it]"
     ]
    },
    {
     "name": "stdout",
     "output_type": "stream",
     "text": [
      "Fail: status code 429 paper_id b642b07114ebb6b026261066219247078383f199\n"
     ]
    },
    {
     "name": "stderr",
     "output_type": "stream",
     "text": [
      "  5%|█▋                               | 3067/59545 [1:11:00<25:09:00,  1.60s/it]"
     ]
    },
    {
     "name": "stdout",
     "output_type": "stream",
     "text": [
      "Fail: status code 429 paper_id a76076804cbcd2d4e422171a454d1eb56e83575d\n"
     ]
    },
    {
     "name": "stderr",
     "output_type": "stream",
     "text": [
      "  5%|█▋                               | 3069/59545 [1:11:03<25:26:15,  1.62s/it]"
     ]
    },
    {
     "name": "stdout",
     "output_type": "stream",
     "text": [
      "Fail: status code 429 paper_id de5e585f1b2045c3164378b179557c9485a0cc29\n"
     ]
    },
    {
     "name": "stderr",
     "output_type": "stream",
     "text": [
      "  5%|█▋                               | 3070/59545 [1:11:05<25:30:41,  1.63s/it]"
     ]
    },
    {
     "name": "stdout",
     "output_type": "stream",
     "text": [
      "Fail: status code 429 paper_id e7230f8081ce155294b24ab5b15a425a00077373\n"
     ]
    },
    {
     "name": "stderr",
     "output_type": "stream",
     "text": [
      "  5%|█▋                               | 3071/59545 [1:11:06<25:34:11,  1.63s/it]"
     ]
    },
    {
     "name": "stdout",
     "output_type": "stream",
     "text": [
      "Fail: status code 429 paper_id d3f7e151e6d754fc6d2bfe26cf47cbe497afc04f\n"
     ]
    },
    {
     "name": "stderr",
     "output_type": "stream",
     "text": [
      "  5%|█▋                               | 3072/59545 [1:11:08<24:09:49,  1.54s/it]"
     ]
    },
    {
     "name": "stdout",
     "output_type": "stream",
     "text": [
      "Fail: status code 429 paper_id 40b228e06c05a0c40f4881d7991145132d0e35b8\n"
     ]
    },
    {
     "name": "stderr",
     "output_type": "stream",
     "text": [
      "  5%|█▋                               | 3074/59545 [1:11:11<25:16:41,  1.61s/it]"
     ]
    },
    {
     "name": "stdout",
     "output_type": "stream",
     "text": [
      "Fail: status code 429 paper_id 4c9543bf50f9ca5cfe5e1796b1f6d869118ef728\n"
     ]
    },
    {
     "name": "stderr",
     "output_type": "stream",
     "text": [
      "  5%|█▋                               | 3077/59545 [1:11:14<19:36:35,  1.25s/it]"
     ]
    },
    {
     "name": "stdout",
     "output_type": "stream",
     "text": [
      "Fail: status code 429 paper_id cf75ed6de884681b1e866174a70fd6cb4b836725\n"
     ]
    },
    {
     "name": "stderr",
     "output_type": "stream",
     "text": [
      "  5%|█▋                               | 3080/59545 [1:11:18<18:22:52,  1.17s/it]"
     ]
    },
    {
     "name": "stdout",
     "output_type": "stream",
     "text": [
      "Fail: status code 429 paper_id 3b7f9aa451c2e6a66f0c9dde722a155beaf79605\n"
     ]
    },
    {
     "name": "stderr",
     "output_type": "stream",
     "text": [
      "  5%|█▋                               | 3081/59545 [1:11:19<20:03:18,  1.28s/it]"
     ]
    },
    {
     "name": "stdout",
     "output_type": "stream",
     "text": [
      "Fail: status code 429 paper_id 9aea9178770049d4edc7da77a94e6ca6321e5203\n"
     ]
    },
    {
     "name": "stderr",
     "output_type": "stream",
     "text": [
      "  5%|█▋                               | 3086/59545 [1:11:28<24:54:05,  1.59s/it]"
     ]
    },
    {
     "name": "stdout",
     "output_type": "stream",
     "text": [
      "Fail: status code 429 paper_id 759ef231abd73632dc91f73ae467c3d3bf314deb\n"
     ]
    },
    {
     "name": "stderr",
     "output_type": "stream",
     "text": [
      "  5%|█▋                               | 3089/59545 [1:11:32<24:43:35,  1.58s/it]"
     ]
    },
    {
     "name": "stdout",
     "output_type": "stream",
     "text": [
      "Fail: status code 429 paper_id d2352109ea7eccbbd5b9a473f27ad082c3176150\n"
     ]
    },
    {
     "name": "stderr",
     "output_type": "stream",
     "text": [
      "  5%|█▋                               | 3093/59545 [1:11:39<25:15:05,  1.61s/it]"
     ]
    },
    {
     "name": "stdout",
     "output_type": "stream",
     "text": [
      "Fail: status code 429 paper_id 6d0628e55e05eb311b59be4dfd3a8b122c860bc2\n"
     ]
    },
    {
     "name": "stderr",
     "output_type": "stream",
     "text": [
      "  5%|█▋                               | 3094/59545 [1:11:40<25:23:08,  1.62s/it]"
     ]
    },
    {
     "name": "stdout",
     "output_type": "stream",
     "text": [
      "Fail: status code 429 paper_id 93b8113c988abf4fd03be8208c2fa2365e0fe7f8\n"
     ]
    },
    {
     "name": "stderr",
     "output_type": "stream",
     "text": [
      "  5%|█▋                               | 3095/59545 [1:11:42<25:29:08,  1.63s/it]"
     ]
    },
    {
     "name": "stdout",
     "output_type": "stream",
     "text": [
      "Fail: status code 429 paper_id 1b2fc5ff8648359b185a5cbebea7046d76c23746\n"
     ]
    },
    {
     "name": "stderr",
     "output_type": "stream",
     "text": [
      "  5%|█▋                               | 3096/59545 [1:11:44<25:32:15,  1.63s/it]"
     ]
    },
    {
     "name": "stdout",
     "output_type": "stream",
     "text": [
      "Fail: status code 429 paper_id 99c46cac8b4a0b9e91176f7651855ff0a8ff5347\n"
     ]
    },
    {
     "name": "stderr",
     "output_type": "stream",
     "text": [
      "  5%|█▋                               | 3097/59545 [1:11:45<25:35:14,  1.63s/it]"
     ]
    },
    {
     "name": "stdout",
     "output_type": "stream",
     "text": [
      "Fail: status code 429 paper_id e56cefd165decb37b54a8f13c44f61b909271668\n"
     ]
    },
    {
     "name": "stderr",
     "output_type": "stream",
     "text": [
      "  5%|█▋                               | 3099/59545 [1:11:49<25:38:21,  1.64s/it]"
     ]
    },
    {
     "name": "stdout",
     "output_type": "stream",
     "text": [
      "Fail: status code 429 paper_id eec6a71cfe5c400ea05f7bf655d0b8297071fe8c\n"
     ]
    },
    {
     "name": "stderr",
     "output_type": "stream",
     "text": [
      "  5%|█▋                               | 3100/59545 [1:11:50<25:16:21,  1.61s/it]"
     ]
    },
    {
     "name": "stdout",
     "output_type": "stream",
     "text": [
      "Fail: status code 429 paper_id ddd24a680add9140ff1d146181c9770ecb20d1c8\n"
     ]
    },
    {
     "name": "stderr",
     "output_type": "stream",
     "text": [
      "  5%|█▋                               | 3102/59545 [1:11:54<25:25:36,  1.62s/it]"
     ]
    },
    {
     "name": "stdout",
     "output_type": "stream",
     "text": [
      "Fail: status code 429 paper_id a0916d400cf6bbeaa0183e4284c254a3b03dfeaf\n"
     ]
    },
    {
     "name": "stderr",
     "output_type": "stream",
     "text": [
      "  5%|█▋                               | 3106/59545 [1:12:00<25:37:34,  1.63s/it]"
     ]
    },
    {
     "name": "stdout",
     "output_type": "stream",
     "text": [
      "Fail: status code 429 paper_id 7c0f034e9a30970094419b052a85a472eaec8ad5\n"
     ]
    },
    {
     "name": "stderr",
     "output_type": "stream",
     "text": [
      "  5%|█▋                               | 3109/59545 [1:12:05<25:40:22,  1.64s/it]"
     ]
    },
    {
     "name": "stdout",
     "output_type": "stream",
     "text": [
      "Fail: status code 429 paper_id 603a6389c246bf7a960e738c890b14ea4ede5cdf\n"
     ]
    },
    {
     "name": "stderr",
     "output_type": "stream",
     "text": [
      "  5%|█▋                               | 3112/59545 [1:12:10<25:22:39,  1.62s/it]"
     ]
    },
    {
     "name": "stdout",
     "output_type": "stream",
     "text": [
      "Fail: status code 429 paper_id c4c3d1bb87b792946d1d6f3ed541e782d2d51300\n"
     ]
    },
    {
     "name": "stderr",
     "output_type": "stream",
     "text": [
      "  5%|█▋                               | 3120/59545 [1:12:23<25:40:07,  1.64s/it]"
     ]
    },
    {
     "name": "stdout",
     "output_type": "stream",
     "text": [
      "Fail: status code 429 paper_id f2b3bd44dbdafc79324173700e7bba492e634eac\n"
     ]
    },
    {
     "name": "stderr",
     "output_type": "stream",
     "text": [
      "  5%|█▋                               | 3121/59545 [1:12:24<24:01:55,  1.53s/it]"
     ]
    },
    {
     "name": "stdout",
     "output_type": "stream",
     "text": [
      "Fail: status code 429 paper_id 0e9f596753ea92dbce719a0af2ac57258c399d08\n"
     ]
    },
    {
     "name": "stderr",
     "output_type": "stream",
     "text": [
      "  5%|█▋                               | 3122/59545 [1:12:26<24:39:26,  1.57s/it]"
     ]
    },
    {
     "name": "stdout",
     "output_type": "stream",
     "text": [
      "Fail: status code 429 paper_id 1176c27949ab8d7f8cd98fae6eb9899d982db36f\n"
     ]
    },
    {
     "name": "stderr",
     "output_type": "stream",
     "text": [
      "  5%|█▋                               | 3123/59545 [1:12:28<25:02:10,  1.60s/it]"
     ]
    },
    {
     "name": "stdout",
     "output_type": "stream",
     "text": [
      "Fail: status code 429 paper_id 744cf6d68a204686e4aea00f19c5f92d27f250f5\n"
     ]
    },
    {
     "name": "stderr",
     "output_type": "stream",
     "text": [
      "  5%|█▋                               | 3124/59545 [1:12:29<25:09:05,  1.60s/it]"
     ]
    },
    {
     "name": "stdout",
     "output_type": "stream",
     "text": [
      "Fail: status code 429 paper_id 0bd343e03848372641037b4edb6b4f9479809277\n"
     ]
    },
    {
     "name": "stderr",
     "output_type": "stream",
     "text": [
      "  5%|█▋                               | 3125/59545 [1:12:31<24:55:35,  1.59s/it]"
     ]
    },
    {
     "name": "stdout",
     "output_type": "stream",
     "text": [
      "Fail: status code 429 paper_id d0efd261e12c316a0a4f50c2f673af04a04b6200\n"
     ]
    },
    {
     "name": "stderr",
     "output_type": "stream",
     "text": [
      "  5%|█▋                               | 3126/59545 [1:12:32<24:40:15,  1.57s/it]"
     ]
    },
    {
     "name": "stdout",
     "output_type": "stream",
     "text": [
      "Fail: status code 429 paper_id 33918f87b9baddd9b56ca20db8fae2946127976f\n"
     ]
    },
    {
     "name": "stderr",
     "output_type": "stream",
     "text": [
      "  5%|█▋                               | 3127/59545 [1:12:34<24:33:06,  1.57s/it]"
     ]
    },
    {
     "name": "stdout",
     "output_type": "stream",
     "text": [
      "Fail: status code 429 paper_id 7c26ec540fb2cc00ce3d1f60d425b221838bf089\n"
     ]
    },
    {
     "name": "stderr",
     "output_type": "stream",
     "text": [
      "  5%|█▋                               | 3128/59545 [1:12:36<24:27:54,  1.56s/it]"
     ]
    },
    {
     "name": "stdout",
     "output_type": "stream",
     "text": [
      "Fail: status code 429 paper_id 982c06261ab475bf4ff586bceb40f47a8ad3a9ce\n"
     ]
    },
    {
     "name": "stderr",
     "output_type": "stream",
     "text": [
      "  5%|█▋                               | 3129/59545 [1:12:37<24:36:04,  1.57s/it]"
     ]
    },
    {
     "name": "stdout",
     "output_type": "stream",
     "text": [
      "Fail: status code 429 paper_id 710bf99ed7c5c9813b0ec90a7ee5ae1e1913de39\n"
     ]
    },
    {
     "name": "stderr",
     "output_type": "stream",
     "text": [
      "  5%|█▋                               | 3130/59545 [1:12:39<24:55:07,  1.59s/it]"
     ]
    },
    {
     "name": "stdout",
     "output_type": "stream",
     "text": [
      "Fail: status code 429 paper_id 2bdbc154beb4da42520757ced57a52f2b0991fd4\n"
     ]
    },
    {
     "name": "stderr",
     "output_type": "stream",
     "text": [
      "  5%|█▋                               | 3131/59545 [1:12:40<24:52:07,  1.59s/it]"
     ]
    },
    {
     "name": "stdout",
     "output_type": "stream",
     "text": [
      "Fail: status code 429 paper_id e2334139fdfb2991c6f14183ef55ace777147c07\n"
     ]
    },
    {
     "name": "stderr",
     "output_type": "stream",
     "text": [
      "  5%|█▋                               | 3132/59545 [1:12:42<24:55:04,  1.59s/it]"
     ]
    },
    {
     "name": "stdout",
     "output_type": "stream",
     "text": [
      "Fail: status code 429 paper_id f359e2465e11742454b45c22232d32cb634651d9\n"
     ]
    },
    {
     "name": "stderr",
     "output_type": "stream",
     "text": [
      "  5%|█▋                               | 3135/59545 [1:12:47<24:47:03,  1.58s/it]"
     ]
    },
    {
     "name": "stdout",
     "output_type": "stream",
     "text": [
      "Fail: status code 429 paper_id cc31aaae0b2c780410af7e31a709ad1e53e19c50\n"
     ]
    },
    {
     "name": "stderr",
     "output_type": "stream",
     "text": [
      "  5%|█▋                               | 3136/59545 [1:12:48<25:17:49,  1.61s/it]"
     ]
    },
    {
     "name": "stdout",
     "output_type": "stream",
     "text": [
      "Fail: status code 429 paper_id 6fdc38cad2499b0fc43f6ed0ef0a0952279d5e6c\n"
     ]
    },
    {
     "name": "stderr",
     "output_type": "stream",
     "text": [
      "  5%|█▋                               | 3137/59545 [1:12:50<25:23:32,  1.62s/it]"
     ]
    },
    {
     "name": "stdout",
     "output_type": "stream",
     "text": [
      "Fail: status code 429 paper_id 86485720399ddae7bbc5080fd268bd45e99b0acd\n"
     ]
    },
    {
     "name": "stderr",
     "output_type": "stream",
     "text": [
      "  5%|█▋                               | 3138/59545 [1:12:52<25:06:07,  1.60s/it]"
     ]
    },
    {
     "name": "stdout",
     "output_type": "stream",
     "text": [
      "Fail: status code 429 paper_id 2a24078aef433e13455050e18b8a3c09fc907dab\n"
     ]
    },
    {
     "name": "stderr",
     "output_type": "stream",
     "text": [
      "  5%|█▋                               | 3139/59545 [1:12:53<24:54:14,  1.59s/it]"
     ]
    },
    {
     "name": "stdout",
     "output_type": "stream",
     "text": [
      "Fail: status code 429 paper_id 54101015ed95794ee3cb4dc0bd8df71ab4891910\n"
     ]
    },
    {
     "name": "stderr",
     "output_type": "stream",
     "text": [
      "  5%|█▋                               | 3140/59545 [1:12:55<24:40:55,  1.58s/it]"
     ]
    },
    {
     "name": "stdout",
     "output_type": "stream",
     "text": [
      "Fail: status code 429 paper_id 47b96d757ed9601b273894902d3ee64a10037be1\n"
     ]
    },
    {
     "name": "stderr",
     "output_type": "stream",
     "text": [
      "  5%|█▋                               | 3141/59545 [1:12:56<24:38:24,  1.57s/it]"
     ]
    },
    {
     "name": "stdout",
     "output_type": "stream",
     "text": [
      "Fail: status code 429 paper_id de1b63023a392d98005ee1797ea9638f1b7900a6\n"
     ]
    },
    {
     "name": "stderr",
     "output_type": "stream",
     "text": [
      "  5%|█▋                               | 3142/59545 [1:12:58<24:48:25,  1.58s/it]"
     ]
    },
    {
     "name": "stdout",
     "output_type": "stream",
     "text": [
      "Fail: status code 429 paper_id 81247405e8dd725a56998270acf990ef49c1070d\n"
     ]
    },
    {
     "name": "stderr",
     "output_type": "stream",
     "text": [
      "  5%|█▋                               | 3143/59545 [1:12:59<24:48:34,  1.58s/it]"
     ]
    },
    {
     "name": "stdout",
     "output_type": "stream",
     "text": [
      "Fail: status code 429 paper_id 9a4cf2645a3f5b853c8be12f9f15b72cde9d4b13\n"
     ]
    },
    {
     "name": "stderr",
     "output_type": "stream",
     "text": [
      "  5%|█▋                               | 3144/59545 [1:13:01<23:13:59,  1.48s/it]"
     ]
    },
    {
     "name": "stdout",
     "output_type": "stream",
     "text": [
      "Fail: status code 429 paper_id b35249403d91934de534a1192eb303f42f4772ad\n"
     ]
    },
    {
     "name": "stderr",
     "output_type": "stream",
     "text": [
      "  5%|█▋                               | 3145/59545 [1:13:02<23:52:46,  1.52s/it]"
     ]
    },
    {
     "name": "stdout",
     "output_type": "stream",
     "text": [
      "Fail: status code 429 paper_id 68147f16a750daa8cf8e1d4f00a4cb5e0cd04ba6\n"
     ]
    },
    {
     "name": "stderr",
     "output_type": "stream",
     "text": [
      "  5%|█▋                               | 3146/59545 [1:13:04<22:58:18,  1.47s/it]"
     ]
    },
    {
     "name": "stdout",
     "output_type": "stream",
     "text": [
      "Fail: status code 429 paper_id 2f8fea869d2d2e7a1b6f683863eb90b659025e8f\n"
     ]
    },
    {
     "name": "stderr",
     "output_type": "stream",
     "text": [
      "  5%|█▋                               | 3148/59545 [1:13:07<23:58:34,  1.53s/it]"
     ]
    },
    {
     "name": "stdout",
     "output_type": "stream",
     "text": [
      "Fail: status code 429 paper_id 39ceb3b9901ed4fdc53326b69a694d504f1d0308\n"
     ]
    },
    {
     "name": "stderr",
     "output_type": "stream",
     "text": [
      "  5%|█▋                               | 3149/59545 [1:13:09<24:54:36,  1.59s/it]"
     ]
    },
    {
     "name": "stdout",
     "output_type": "stream",
     "text": [
      "Fail: status code 429 paper_id 9574a9b5248743fd558572e80967b81ba4728c51\n"
     ]
    },
    {
     "name": "stderr",
     "output_type": "stream",
     "text": [
      "  5%|█▋                               | 3151/59545 [1:13:12<25:17:53,  1.61s/it]"
     ]
    },
    {
     "name": "stdout",
     "output_type": "stream",
     "text": [
      "Fail: status code 429 paper_id 34e31c490644ae588145032e3fbe76847b4a2b37\n"
     ]
    },
    {
     "name": "stderr",
     "output_type": "stream",
     "text": [
      "  5%|█▋                               | 3152/59545 [1:13:13<25:24:21,  1.62s/it]"
     ]
    },
    {
     "name": "stdout",
     "output_type": "stream",
     "text": [
      "Fail: status code 429 paper_id 7701490b046bff2261602c8fd7a73fe7aed05064\n"
     ]
    },
    {
     "name": "stderr",
     "output_type": "stream",
     "text": [
      "  5%|█▋                               | 3153/59545 [1:13:15<25:01:02,  1.60s/it]"
     ]
    },
    {
     "name": "stdout",
     "output_type": "stream",
     "text": [
      "Fail: status code 429 paper_id c27c47f90b441fd196517ddb4d059c90d8a974cd\n"
     ]
    },
    {
     "name": "stderr",
     "output_type": "stream",
     "text": [
      "  5%|█▋                               | 3154/59545 [1:13:17<25:11:22,  1.61s/it]"
     ]
    },
    {
     "name": "stdout",
     "output_type": "stream",
     "text": [
      "Fail: status code 429 paper_id ca6428ceff99f7df0bcf67c91f588c2a3ee8f12a\n"
     ]
    },
    {
     "name": "stderr",
     "output_type": "stream",
     "text": [
      "  5%|█▋                               | 3157/59545 [1:13:21<25:08:22,  1.61s/it]"
     ]
    },
    {
     "name": "stdout",
     "output_type": "stream",
     "text": [
      "Fail: status code 429 paper_id 627744598849f6376dee9ad205e0a022e0045944\n"
     ]
    },
    {
     "name": "stderr",
     "output_type": "stream",
     "text": [
      "  5%|█▊                               | 3158/59545 [1:13:23<25:10:32,  1.61s/it]"
     ]
    },
    {
     "name": "stdout",
     "output_type": "stream",
     "text": [
      "Fail: status code 429 paper_id 89de43866ec0005ded0ff0e332fc42a260b5ab36\n"
     ]
    },
    {
     "name": "stderr",
     "output_type": "stream",
     "text": [
      "  5%|█▊                               | 3161/59545 [1:13:28<25:05:29,  1.60s/it]"
     ]
    },
    {
     "name": "stdout",
     "output_type": "stream",
     "text": [
      "Fail: status code 429 paper_id 11e589facd75ee9cbf7787cc02f1644aaf7cfb34\n"
     ]
    },
    {
     "name": "stderr",
     "output_type": "stream",
     "text": [
      "  5%|█▊                               | 3165/59545 [1:13:34<25:07:50,  1.60s/it]"
     ]
    },
    {
     "name": "stdout",
     "output_type": "stream",
     "text": [
      "Fail: status code 429 paper_id 622c8198d677150188345317226731fef27d3d6a\n"
     ]
    },
    {
     "name": "stderr",
     "output_type": "stream",
     "text": [
      "  5%|█▊                               | 3174/59545 [1:13:49<25:48:23,  1.65s/it]"
     ]
    },
    {
     "name": "stdout",
     "output_type": "stream",
     "text": [
      "Fail: status code 429 paper_id e4d33caea9a979c88ad3344880fe072d97e05d66\n"
     ]
    },
    {
     "name": "stderr",
     "output_type": "stream",
     "text": [
      "  5%|█▊                               | 3181/59545 [1:14:00<25:25:46,  1.62s/it]"
     ]
    },
    {
     "name": "stdout",
     "output_type": "stream",
     "text": [
      "Fail: status code 429 paper_id 4e1cac32403c6caff15aa8c2a3560031bb05c6d4\n"
     ]
    },
    {
     "name": "stderr",
     "output_type": "stream",
     "text": [
      "  5%|█▊                               | 3185/59545 [1:14:07<25:20:56,  1.62s/it]"
     ]
    },
    {
     "name": "stdout",
     "output_type": "stream",
     "text": [
      "Fail: status code 429 paper_id d2cbf94e80f91fe5a547e593ea6b2e6585d692e7\n"
     ]
    },
    {
     "name": "stderr",
     "output_type": "stream",
     "text": [
      "  5%|█▊                               | 3189/59545 [1:14:13<25:34:46,  1.63s/it]"
     ]
    },
    {
     "name": "stdout",
     "output_type": "stream",
     "text": [
      "Fail: status code 429 paper_id d4374c933a910e9bd1c68e2800704c1442ee50c9\n"
     ]
    },
    {
     "name": "stderr",
     "output_type": "stream",
     "text": [
      "  5%|█▊                               | 3190/59545 [1:14:15<25:36:03,  1.64s/it]"
     ]
    },
    {
     "name": "stdout",
     "output_type": "stream",
     "text": [
      "Fail: status code 429 paper_id c89bc519239c7c5357983a91d581a4fb5e4fbbc5\n"
     ]
    },
    {
     "name": "stderr",
     "output_type": "stream",
     "text": [
      "  5%|█▊                               | 3191/59545 [1:14:16<25:37:05,  1.64s/it]"
     ]
    },
    {
     "name": "stdout",
     "output_type": "stream",
     "text": [
      "Fail: status code 429 paper_id f40324348e5207a81c0373b30123e2867b6122a3\n"
     ]
    },
    {
     "name": "stderr",
     "output_type": "stream",
     "text": [
      "  5%|█▊                               | 3192/59545 [1:14:18<25:23:22,  1.62s/it]"
     ]
    },
    {
     "name": "stdout",
     "output_type": "stream",
     "text": [
      "Fail: status code 429 paper_id 394bd431e522b86581086bcb5cd9be161cf1cdf4\n"
     ]
    },
    {
     "name": "stderr",
     "output_type": "stream",
     "text": [
      "  5%|█▊                               | 3193/59545 [1:14:20<25:42:03,  1.64s/it]"
     ]
    },
    {
     "name": "stdout",
     "output_type": "stream",
     "text": [
      "Fail: status code 429 paper_id 19284738cf14845d3d5febf46412fd6224f3044e\n"
     ]
    },
    {
     "name": "stderr",
     "output_type": "stream",
     "text": [
      "  5%|█▊                               | 3194/59545 [1:14:21<25:41:28,  1.64s/it]"
     ]
    },
    {
     "name": "stdout",
     "output_type": "stream",
     "text": [
      "Fail: status code 429 paper_id ce6e4d1e2678b3021d27175e877ee3e4670aa702\n"
     ]
    },
    {
     "name": "stderr",
     "output_type": "stream",
     "text": [
      "  5%|█▊                               | 3195/59545 [1:14:23<25:40:27,  1.64s/it]"
     ]
    },
    {
     "name": "stdout",
     "output_type": "stream",
     "text": [
      "Fail: status code 429 paper_id 71caf2da4e33efb67bcb5e7fa1a6888de835efc5\n"
     ]
    },
    {
     "name": "stderr",
     "output_type": "stream",
     "text": [
      "  5%|█▊                               | 3196/59545 [1:14:25<26:09:10,  1.67s/it]"
     ]
    },
    {
     "name": "stdout",
     "output_type": "stream",
     "text": [
      "Fail: status code 429 paper_id 6b486b7a58dd9c228279cf67fd52d3fa4ee117ae\n"
     ]
    },
    {
     "name": "stderr",
     "output_type": "stream",
     "text": [
      "  5%|█▊                               | 3198/59545 [1:14:28<25:25:53,  1.62s/it]"
     ]
    },
    {
     "name": "stdout",
     "output_type": "stream",
     "text": [
      "Fail: status code 429 paper_id 86fcf31461661c6d6fd72c7338c171f7a659f211\n"
     ]
    },
    {
     "name": "stderr",
     "output_type": "stream",
     "text": [
      "  5%|█▊                               | 3199/59545 [1:14:29<25:04:01,  1.60s/it]"
     ]
    },
    {
     "name": "stdout",
     "output_type": "stream",
     "text": [
      "Fail: status code 429 paper_id 555830933472a8cf2b46c18c7152a58048d64760\n"
     ]
    },
    {
     "name": "stderr",
     "output_type": "stream",
     "text": [
      "  5%|█▊                               | 3200/59545 [1:14:31<25:11:19,  1.61s/it]"
     ]
    },
    {
     "name": "stdout",
     "output_type": "stream",
     "text": [
      "Fail: status code 429 paper_id 0233cd95dd0bc327dd72a14d60216c98021250ab\n"
     ]
    },
    {
     "name": "stderr",
     "output_type": "stream",
     "text": [
      "  5%|█▊                               | 3201/59545 [1:14:33<25:18:48,  1.62s/it]"
     ]
    },
    {
     "name": "stdout",
     "output_type": "stream",
     "text": [
      "Fail: status code 429 paper_id e83856fe19c7979c4883239e2186b5bf6c17485b\n"
     ]
    },
    {
     "name": "stderr",
     "output_type": "stream",
     "text": [
      "  5%|█▊                               | 3202/59545 [1:14:34<25:27:50,  1.63s/it]"
     ]
    },
    {
     "name": "stdout",
     "output_type": "stream",
     "text": [
      "Fail: status code 429 paper_id da02c1777f218dd1bfeda1a5ab8c92c02ea41c17\n"
     ]
    },
    {
     "name": "stderr",
     "output_type": "stream",
     "text": [
      "  5%|█▊                               | 3204/59545 [1:14:38<25:31:18,  1.63s/it]"
     ]
    },
    {
     "name": "stdout",
     "output_type": "stream",
     "text": [
      "Fail: status code 429 paper_id dd647c7b4f0973511bfb3c6a4d1c1d2753ea11d8\n"
     ]
    },
    {
     "name": "stderr",
     "output_type": "stream",
     "text": [
      "  5%|█▊                               | 3207/59545 [1:14:43<25:49:56,  1.65s/it]"
     ]
    },
    {
     "name": "stdout",
     "output_type": "stream",
     "text": [
      "Fail: status code 429 paper_id ee70451064ada3ef0a54b7bf2c05b1416c5554e3\n"
     ]
    },
    {
     "name": "stderr",
     "output_type": "stream",
     "text": [
      "  5%|█▊                               | 3208/59545 [1:14:44<25:46:37,  1.65s/it]"
     ]
    },
    {
     "name": "stdout",
     "output_type": "stream",
     "text": [
      "Fail: status code 429 paper_id 8049fa113151d1d7348b0baaca2ecc1aed3763b8\n"
     ]
    },
    {
     "name": "stderr",
     "output_type": "stream",
     "text": [
      "  5%|█▊                               | 3209/59545 [1:14:46<25:20:23,  1.62s/it]"
     ]
    },
    {
     "name": "stdout",
     "output_type": "stream",
     "text": [
      "Fail: status code 429 paper_id 2bd281be033742939e0124846b9f6736948c5013\n"
     ]
    },
    {
     "name": "stderr",
     "output_type": "stream",
     "text": [
      "  5%|█▊                               | 3210/59545 [1:14:47<25:20:56,  1.62s/it]"
     ]
    },
    {
     "name": "stdout",
     "output_type": "stream",
     "text": [
      "Fail: status code 429 paper_id 8af073f729d0fc1f748c8f1c44ab15b6051e93c2\n"
     ]
    },
    {
     "name": "stderr",
     "output_type": "stream",
     "text": [
      "  5%|█▊                               | 3212/59545 [1:14:51<25:49:28,  1.65s/it]"
     ]
    },
    {
     "name": "stdout",
     "output_type": "stream",
     "text": [
      "Fail: status code 429 paper_id 7f83a520f327fb56d8910d7d789d8e44cf6db431\n"
     ]
    },
    {
     "name": "stderr",
     "output_type": "stream",
     "text": [
      "  5%|█▊                               | 3213/59545 [1:14:53<25:46:25,  1.65s/it]"
     ]
    },
    {
     "name": "stdout",
     "output_type": "stream",
     "text": [
      "Fail: status code 429 paper_id aa1d6c8a868cf18588f6ab21e5d73e3b591f9f60\n"
     ]
    },
    {
     "name": "stderr",
     "output_type": "stream",
     "text": [
      "  5%|█▊                               | 3215/59545 [1:14:56<25:41:51,  1.64s/it]"
     ]
    },
    {
     "name": "stdout",
     "output_type": "stream",
     "text": [
      "Fail: status code 429 paper_id 219da4ca56b70a20f4eaea70d1d11d670f7191e9\n"
     ]
    },
    {
     "name": "stderr",
     "output_type": "stream",
     "text": [
      "  5%|█▊                               | 3217/59545 [1:14:59<24:40:47,  1.58s/it]"
     ]
    },
    {
     "name": "stdout",
     "output_type": "stream",
     "text": [
      "Fail: status code 429 paper_id ef1bbe1fa9039f82c9bcc0ef7232ef29e199331f\n"
     ]
    },
    {
     "name": "stderr",
     "output_type": "stream",
     "text": [
      "  5%|█▊                               | 3218/59545 [1:15:00<24:56:55,  1.59s/it]"
     ]
    },
    {
     "name": "stdout",
     "output_type": "stream",
     "text": [
      "Fail: status code 429 paper_id e78c80db370a8dca6bd84acc2285e803e3ca904e\n"
     ]
    },
    {
     "name": "stderr",
     "output_type": "stream",
     "text": [
      "  5%|█▊                               | 3220/59545 [1:15:04<25:24:06,  1.62s/it]"
     ]
    },
    {
     "name": "stdout",
     "output_type": "stream",
     "text": [
      "Fail: status code 429 paper_id 5a9e06edd441c56dd1d29048a209782b82e46877\n"
     ]
    },
    {
     "name": "stderr",
     "output_type": "stream",
     "text": [
      "  5%|█▊                               | 3233/59545 [1:15:25<25:06:32,  1.61s/it]"
     ]
    },
    {
     "name": "stdout",
     "output_type": "stream",
     "text": [
      "Fail: status code 429 paper_id 5370e8a28774178aac93658284ee552357133416\n"
     ]
    },
    {
     "name": "stderr",
     "output_type": "stream",
     "text": [
      "  5%|█▊                               | 3260/59545 [1:16:10<24:57:13,  1.60s/it]"
     ]
    },
    {
     "name": "stdout",
     "output_type": "stream",
     "text": [
      "Fail: status code 429 paper_id 50c3a856d1abae08a872ce3524571f29cb80abdd\n"
     ]
    },
    {
     "name": "stderr",
     "output_type": "stream",
     "text": [
      "  5%|█▊                               | 3272/59545 [1:16:29<24:45:00,  1.58s/it]"
     ]
    },
    {
     "name": "stdout",
     "output_type": "stream",
     "text": [
      "Fail: status code 429 paper_id 187d122d6d4027936bc6d28aa010786c6a6a8b4b\n"
     ]
    },
    {
     "name": "stderr",
     "output_type": "stream",
     "text": [
      "  5%|█▊                               | 3273/59545 [1:16:31<25:00:31,  1.60s/it]"
     ]
    },
    {
     "name": "stdout",
     "output_type": "stream",
     "text": [
      "Fail: status code 429 paper_id 17f43a1a979d2d8d76229ba104a2367523496452\n"
     ]
    },
    {
     "name": "stderr",
     "output_type": "stream",
     "text": [
      "  6%|█▊                               | 3275/59545 [1:16:34<23:39:07,  1.51s/it]"
     ]
    },
    {
     "name": "stdout",
     "output_type": "stream",
     "text": [
      "Fail: status code 429 paper_id 2553ae4cd6d835b980564d7f8805865fe804343f\n"
     ]
    },
    {
     "name": "stderr",
     "output_type": "stream",
     "text": [
      "  6%|█▊                               | 3276/59545 [1:16:35<24:27:13,  1.56s/it]"
     ]
    },
    {
     "name": "stdout",
     "output_type": "stream",
     "text": [
      "Fail: status code 429 paper_id cb219448f5c045b65f5c574a1b251a709486400b\n"
     ]
    },
    {
     "name": "stderr",
     "output_type": "stream",
     "text": [
      "  6%|█▊                               | 3277/59545 [1:16:37<24:45:07,  1.58s/it]"
     ]
    },
    {
     "name": "stdout",
     "output_type": "stream",
     "text": [
      "Fail: status code 429 paper_id e60c124ed386370235add11b507d42320596504d\n"
     ]
    },
    {
     "name": "stderr",
     "output_type": "stream",
     "text": [
      "  6%|█▊                               | 3278/59545 [1:16:38<25:03:52,  1.60s/it]"
     ]
    },
    {
     "name": "stdout",
     "output_type": "stream",
     "text": [
      "Fail: status code 429 paper_id 8e6d0ed32aaa5e3d7c598d5a2ace76eab8485801\n"
     ]
    },
    {
     "name": "stderr",
     "output_type": "stream",
     "text": [
      "  6%|█▊                               | 3279/59545 [1:16:40<25:13:28,  1.61s/it]"
     ]
    },
    {
     "name": "stdout",
     "output_type": "stream",
     "text": [
      "Fail: status code 429 paper_id dfbe620ab73cbf9d3370bde4f573041702df3653\n"
     ]
    },
    {
     "name": "stderr",
     "output_type": "stream",
     "text": [
      "  6%|█▊                               | 3280/59545 [1:16:42<24:55:54,  1.60s/it]"
     ]
    },
    {
     "name": "stdout",
     "output_type": "stream",
     "text": [
      "Fail: status code 429 paper_id 888079c95af35767023127083be2465d76af9788\n"
     ]
    },
    {
     "name": "stderr",
     "output_type": "stream",
     "text": [
      "  6%|█▊                               | 3281/59545 [1:16:43<25:03:56,  1.60s/it]"
     ]
    },
    {
     "name": "stdout",
     "output_type": "stream",
     "text": [
      "Fail: status code 429 paper_id 304944549ddc3c08c401ddd3c4b2faafc1c2d7e9\n"
     ]
    },
    {
     "name": "stderr",
     "output_type": "stream",
     "text": [
      "  6%|█▊                               | 3282/59545 [1:16:45<25:13:28,  1.61s/it]"
     ]
    },
    {
     "name": "stdout",
     "output_type": "stream",
     "text": [
      "Fail: status code 429 paper_id 6a60ee0cfb3eacb3adecff9a7f92d3c56ae58c3e\n"
     ]
    },
    {
     "name": "stderr",
     "output_type": "stream",
     "text": [
      "  6%|█▊                               | 3283/59545 [1:16:47<25:20:40,  1.62s/it]"
     ]
    },
    {
     "name": "stdout",
     "output_type": "stream",
     "text": [
      "Fail: status code 429 paper_id c14286bb4c96316f7b3cd889bd4204a4cd0b2fd1\n"
     ]
    },
    {
     "name": "stderr",
     "output_type": "stream",
     "text": [
      "  6%|█▊                               | 3286/59545 [1:16:50<21:19:46,  1.36s/it]"
     ]
    },
    {
     "name": "stdout",
     "output_type": "stream",
     "text": [
      "Fail: status code 429 paper_id 977684eca8b061e0ef61281106b257bffd6017b9\n"
     ]
    },
    {
     "name": "stderr",
     "output_type": "stream",
     "text": [
      "  6%|█▊                               | 3287/59545 [1:16:52<22:27:07,  1.44s/it]"
     ]
    },
    {
     "name": "stdout",
     "output_type": "stream",
     "text": [
      "Fail: status code 429 paper_id 48b4a7679aea74174850dd2af888083dc0ead175\n"
     ]
    },
    {
     "name": "stderr",
     "output_type": "stream",
     "text": [
      "  6%|█▊                               | 3288/59545 [1:16:53<22:58:07,  1.47s/it]"
     ]
    },
    {
     "name": "stdout",
     "output_type": "stream",
     "text": [
      "Fail: status code 429 paper_id 9f5fbde5efc101fcc620b40d4c4f523833845c39\n"
     ]
    },
    {
     "name": "stderr",
     "output_type": "stream",
     "text": [
      "  6%|█▊                               | 3289/59545 [1:16:55<23:35:44,  1.51s/it]"
     ]
    },
    {
     "name": "stdout",
     "output_type": "stream",
     "text": [
      "Fail: status code 429 paper_id 98d9ae36655562263a433e93c8c1ffb9275a88cc\n"
     ]
    },
    {
     "name": "stderr",
     "output_type": "stream",
     "text": [
      "  6%|█▊                               | 3292/59545 [1:17:00<24:53:11,  1.59s/it]"
     ]
    },
    {
     "name": "stdout",
     "output_type": "stream",
     "text": [
      "Fail: status code 429 paper_id 40a0ab13bd8f45d3edaa4be364ea46e50a47a78b\n"
     ]
    },
    {
     "name": "stderr",
     "output_type": "stream",
     "text": [
      "  6%|█▊                               | 3293/59545 [1:17:01<25:09:02,  1.61s/it]"
     ]
    },
    {
     "name": "stdout",
     "output_type": "stream",
     "text": [
      "Fail: status code 429 paper_id 390dd029e38e9f850ebf3d18aa5405c6663ab517\n"
     ]
    },
    {
     "name": "stderr",
     "output_type": "stream",
     "text": [
      "  6%|█▊                               | 3296/59545 [1:17:06<25:44:18,  1.65s/it]"
     ]
    },
    {
     "name": "stdout",
     "output_type": "stream",
     "text": [
      "Fail: status code 429 paper_id 39b055ef2460926ba0e1a3ef64d4da816ac5d93a\n"
     ]
    },
    {
     "name": "stderr",
     "output_type": "stream",
     "text": [
      "  6%|█▊                               | 3297/59545 [1:17:08<25:18:24,  1.62s/it]"
     ]
    },
    {
     "name": "stdout",
     "output_type": "stream",
     "text": [
      "Fail: status code 429 paper_id d979020ec3ffdd8c5297cb0975798b67fd4a57c8\n"
     ]
    },
    {
     "name": "stderr",
     "output_type": "stream",
     "text": [
      "  6%|█▊                               | 3298/59545 [1:17:10<25:47:36,  1.65s/it]"
     ]
    },
    {
     "name": "stdout",
     "output_type": "stream",
     "text": [
      "Fail: status code 429 paper_id 5aa3cfc2c41c3a2e09a01bbf1f23a17511aa10ab\n"
     ]
    },
    {
     "name": "stderr",
     "output_type": "stream",
     "text": [
      "  6%|█▊                               | 3299/59545 [1:17:11<25:45:06,  1.65s/it]"
     ]
    },
    {
     "name": "stdout",
     "output_type": "stream",
     "text": [
      "Fail: status code 429 paper_id 2f15a472dd454769500d6928f880a1b3d848c6fd\n"
     ]
    },
    {
     "name": "stderr",
     "output_type": "stream",
     "text": [
      "  6%|█▊                               | 3300/59545 [1:17:13<25:41:22,  1.64s/it]"
     ]
    },
    {
     "name": "stdout",
     "output_type": "stream",
     "text": [
      "Fail: status code 429 paper_id 01c057b4b59fee5ffd7c5b2dad83cacc4190567f\n"
     ]
    },
    {
     "name": "stderr",
     "output_type": "stream",
     "text": [
      "  6%|█▊                               | 3301/59545 [1:17:15<26:09:06,  1.67s/it]"
     ]
    },
    {
     "name": "stdout",
     "output_type": "stream",
     "text": [
      "Fail: status code 429 paper_id 3c7d71c59f50808c839ac1def6de64ab2fc13674\n"
     ]
    },
    {
     "name": "stderr",
     "output_type": "stream",
     "text": [
      "  6%|█▊                               | 3303/59545 [1:17:18<24:25:23,  1.56s/it]"
     ]
    },
    {
     "name": "stdout",
     "output_type": "stream",
     "text": [
      "Fail: status code 429 paper_id 3c56a86720c3a82e3d31b956692626a288114795\n"
     ]
    },
    {
     "name": "stderr",
     "output_type": "stream",
     "text": [
      "  6%|█▊                               | 3304/59545 [1:17:19<24:46:43,  1.59s/it]"
     ]
    },
    {
     "name": "stdout",
     "output_type": "stream",
     "text": [
      "Fail: status code 429 paper_id 72b6e0a2e834d0f6b93fc8ea152b234b16d23165\n"
     ]
    },
    {
     "name": "stderr",
     "output_type": "stream",
     "text": [
      "  6%|█▊                               | 3305/59545 [1:17:21<25:01:40,  1.60s/it]"
     ]
    },
    {
     "name": "stdout",
     "output_type": "stream",
     "text": [
      "Fail: status code 429 paper_id 5cb66b2b5a740bb584fc3517054f95158b831ae6\n"
     ]
    },
    {
     "name": "stderr",
     "output_type": "stream",
     "text": [
      "  6%|█▊                               | 3306/59545 [1:17:23<25:11:25,  1.61s/it]"
     ]
    },
    {
     "name": "stdout",
     "output_type": "stream",
     "text": [
      "Fail: status code 429 paper_id ed22fab47c64495eeef62f02326077689596418a\n"
     ]
    },
    {
     "name": "stderr",
     "output_type": "stream",
     "text": [
      "  6%|█▊                               | 3307/59545 [1:17:24<25:19:08,  1.62s/it]"
     ]
    },
    {
     "name": "stdout",
     "output_type": "stream",
     "text": [
      "Fail: status code 429 paper_id 6df0ae78b225ee5d832eb7451a8616245fb23c65\n"
     ]
    },
    {
     "name": "stderr",
     "output_type": "stream",
     "text": [
      "  6%|█▊                               | 3312/59545 [1:17:32<25:15:10,  1.62s/it]"
     ]
    },
    {
     "name": "stdout",
     "output_type": "stream",
     "text": [
      "Fail: status code 429 paper_id 793d69ecc8fe11e0a41aad5e34e5764227552e24\n"
     ]
    },
    {
     "name": "stderr",
     "output_type": "stream",
     "text": [
      "  6%|█▊                               | 3318/59545 [1:17:40<21:00:35,  1.35s/it]"
     ]
    },
    {
     "name": "stdout",
     "output_type": "stream",
     "text": [
      "Fail: status code 429 paper_id 4a87b1fc50535d0016522008c5fedb9b6685c00e\n"
     ]
    },
    {
     "name": "stderr",
     "output_type": "stream",
     "text": [
      "  6%|█▊                               | 3319/59545 [1:17:42<21:47:54,  1.40s/it]"
     ]
    },
    {
     "name": "stdout",
     "output_type": "stream",
     "text": [
      "Fail: status code 429 paper_id fb2a7eefb59d1d9033abe8559d74a6eeb6437d21\n"
     ]
    },
    {
     "name": "stderr",
     "output_type": "stream",
     "text": [
      "  6%|█▊                               | 3322/59545 [1:17:47<24:10:07,  1.55s/it]"
     ]
    },
    {
     "name": "stdout",
     "output_type": "stream",
     "text": [
      "Fail: status code 429 paper_id 6c868748398c7af64e0f8d2b0009f374797b298c\n"
     ]
    },
    {
     "name": "stderr",
     "output_type": "stream",
     "text": [
      "  6%|█▊                               | 3350/59545 [1:18:32<25:33:09,  1.64s/it]"
     ]
    },
    {
     "name": "stdout",
     "output_type": "stream",
     "text": [
      "Fail: status code 429 paper_id b5c94a853815421d7a2143818b330da3e880170f\n"
     ]
    },
    {
     "name": "stderr",
     "output_type": "stream",
     "text": [
      "  6%|█▉                               | 3414/59545 [1:19:27<21:03:21,  1.35s/it]"
     ]
    },
    {
     "name": "stdout",
     "output_type": "stream",
     "text": [
      "Fail: status code 429 paper_id 042a8bddf02690ade705c7d8318d52ceec7ab7ae\n"
     ]
    },
    {
     "name": "stderr",
     "output_type": "stream",
     "text": [
      "  6%|█▉                               | 3416/59545 [1:19:28<16:39:14,  1.07s/it]"
     ]
    },
    {
     "name": "stdout",
     "output_type": "stream",
     "text": [
      "Fail: status code 429 paper_id 9b831340c6b3b87a395aa8e9bf994f983036d106\n"
     ]
    },
    {
     "name": "stderr",
     "output_type": "stream",
     "text": [
      "  6%|█▉                               | 3417/59545 [1:19:30<18:40:34,  1.20s/it]"
     ]
    },
    {
     "name": "stdout",
     "output_type": "stream",
     "text": [
      "Fail: status code 429 paper_id a6a7448014dc6db37d70342ba5b5c98b7d1a843f\n"
     ]
    },
    {
     "name": "stderr",
     "output_type": "stream",
     "text": [
      "  6%|█▉                               | 3418/59545 [1:19:31<20:21:35,  1.31s/it]"
     ]
    },
    {
     "name": "stdout",
     "output_type": "stream",
     "text": [
      "Fail: status code 429 paper_id 049cc60523435d121ce2b953951a48fa4670daed\n"
     ]
    },
    {
     "name": "stderr",
     "output_type": "stream",
     "text": [
      "  6%|█▉                               | 3419/59545 [1:19:33<21:42:00,  1.39s/it]"
     ]
    },
    {
     "name": "stdout",
     "output_type": "stream",
     "text": [
      "Fail: status code 429 paper_id 08a7f285a56a17d95e309a018a975b49a79dacf9\n"
     ]
    },
    {
     "name": "stderr",
     "output_type": "stream",
     "text": [
      "  6%|█▉                               | 3432/59545 [1:19:45<10:24:40,  1.50it/s]"
     ]
    },
    {
     "name": "stdout",
     "output_type": "stream",
     "text": [
      "Fail: status code 429 paper_id aedc03bc3d229637d3e6e2d81c2b38ad2c2cf43e\n"
     ]
    },
    {
     "name": "stderr",
     "output_type": "stream",
     "text": [
      "  6%|█▉                               | 3438/59545 [1:19:52<14:54:44,  1.05it/s]"
     ]
    },
    {
     "name": "stdout",
     "output_type": "stream",
     "text": [
      "Fail: status code 429 paper_id b87a7d18ac97b10eb823827567f456321dc0254c\n"
     ]
    },
    {
     "name": "stderr",
     "output_type": "stream",
     "text": [
      "  6%|█▉                               | 3439/59545 [1:19:53<16:58:18,  1.09s/it]"
     ]
    },
    {
     "name": "stdout",
     "output_type": "stream",
     "text": [
      "Fail: status code 429 paper_id 71235fd3f6a1e2e3ed83b2b7c88bad4d0f122874\n"
     ]
    },
    {
     "name": "stderr",
     "output_type": "stream",
     "text": [
      "  6%|█▉                               | 3440/59545 [1:19:55<18:49:54,  1.21s/it]"
     ]
    },
    {
     "name": "stdout",
     "output_type": "stream",
     "text": [
      "Fail: status code 429 paper_id d711fe466c7c7f0fba39a858017f10a73af13641\n"
     ]
    },
    {
     "name": "stderr",
     "output_type": "stream",
     "text": [
      "  6%|█▉                               | 3441/59545 [1:19:56<20:25:03,  1.31s/it]"
     ]
    },
    {
     "name": "stdout",
     "output_type": "stream",
     "text": [
      "Fail: status code 429 paper_id c8b8a0b8c151a0f3b69b5a8c750eaa61e33325c0\n"
     ]
    },
    {
     "name": "stderr",
     "output_type": "stream",
     "text": [
      "  6%|█▉                               | 3442/59545 [1:19:58<21:41:56,  1.39s/it]"
     ]
    },
    {
     "name": "stdout",
     "output_type": "stream",
     "text": [
      "Fail: status code 429 paper_id ce99bf71ce998916627358f2f7d6a3c0eb73f912\n"
     ]
    },
    {
     "name": "stderr",
     "output_type": "stream",
     "text": [
      "  6%|█▉                               | 3443/59545 [1:20:00<22:44:03,  1.46s/it]"
     ]
    },
    {
     "name": "stdout",
     "output_type": "stream",
     "text": [
      "Fail: status code 429 paper_id 48227bf3283bc684418c534f35bd23a3ab0849d1\n"
     ]
    },
    {
     "name": "stderr",
     "output_type": "stream",
     "text": [
      "  6%|█▉                               | 3444/59545 [1:20:01<23:30:11,  1.51s/it]"
     ]
    },
    {
     "name": "stdout",
     "output_type": "stream",
     "text": [
      "Fail: status code 429 paper_id 2f494ba3ac31d380a3f4575ae61e0fcc901dd813\n"
     ]
    },
    {
     "name": "stderr",
     "output_type": "stream",
     "text": [
      "  6%|█▉                               | 3445/59545 [1:20:03<24:04:15,  1.54s/it]"
     ]
    },
    {
     "name": "stdout",
     "output_type": "stream",
     "text": [
      "Fail: status code 429 paper_id 826ca832bd5842862dccb703d3af02019abdff96\n"
     ]
    },
    {
     "name": "stderr",
     "output_type": "stream",
     "text": [
      "  6%|█▉                               | 3448/59545 [1:20:06<20:35:42,  1.32s/it]"
     ]
    },
    {
     "name": "stdout",
     "output_type": "stream",
     "text": [
      "Fail: status code 429 paper_id 8ecbd1f37191a6a1fb3a4ca1dd78de58411b06ef\n"
     ]
    },
    {
     "name": "stderr",
     "output_type": "stream",
     "text": [
      "  6%|█▉                               | 3449/59545 [1:20:08<21:43:06,  1.39s/it]"
     ]
    },
    {
     "name": "stdout",
     "output_type": "stream",
     "text": [
      "Fail: status code 429 paper_id 324e4cde175b82b94be5e4c206726abc3def0cb1\n"
     ]
    },
    {
     "name": "stderr",
     "output_type": "stream",
     "text": [
      "  6%|█▉                               | 3450/59545 [1:20:10<22:53:20,  1.47s/it]"
     ]
    },
    {
     "name": "stdout",
     "output_type": "stream",
     "text": [
      "Fail: status code 429 paper_id 17a310e46359bb8cdb84d4fce0ca4e097d140151\n"
     ]
    },
    {
     "name": "stderr",
     "output_type": "stream",
     "text": [
      "  6%|█▉                               | 3452/59545 [1:20:11<18:29:17,  1.19s/it]"
     ]
    },
    {
     "name": "stdout",
     "output_type": "stream",
     "text": [
      "Fail: status code 429 paper_id ed805b0b44c5b537090228cbcb1c352eab0a1986\n"
     ]
    },
    {
     "name": "stderr",
     "output_type": "stream",
     "text": [
      "  6%|█▉                               | 3453/59545 [1:20:13<20:10:14,  1.29s/it]"
     ]
    },
    {
     "name": "stdout",
     "output_type": "stream",
     "text": [
      "Fail: status code 429 paper_id aa3803dced32af4dd27d09ad94f1bb08c634d390\n"
     ]
    },
    {
     "name": "stderr",
     "output_type": "stream",
     "text": [
      "  6%|█▉                               | 3455/59545 [1:20:16<22:35:47,  1.45s/it]"
     ]
    },
    {
     "name": "stdout",
     "output_type": "stream",
     "text": [
      "Fail: status code 429 paper_id f4eee2705b7cb549adfc628b7dde52542b0c58f7\n"
     ]
    },
    {
     "name": "stderr",
     "output_type": "stream",
     "text": [
      "  6%|█▉                               | 3458/59545 [1:20:19<18:59:47,  1.22s/it]"
     ]
    },
    {
     "name": "stdout",
     "output_type": "stream",
     "text": [
      "Fail: status code 429 paper_id 0f3b97eb980a9d4f07d606d5f483055e1ca178bd\n"
     ]
    },
    {
     "name": "stderr",
     "output_type": "stream",
     "text": [
      "  6%|█▉                               | 3460/59545 [1:20:21<16:35:22,  1.06s/it]"
     ]
    },
    {
     "name": "stdout",
     "output_type": "stream",
     "text": [
      "Fail: status code 429 paper_id 717feb33598258ae72a4394556e8dc198b2893ef\n"
     ]
    },
    {
     "name": "stderr",
     "output_type": "stream",
     "text": [
      "  6%|█▉                               | 3463/59545 [1:20:26<21:14:26,  1.36s/it]"
     ]
    },
    {
     "name": "stdout",
     "output_type": "stream",
     "text": [
      "Fail: status code 429 paper_id 96d3fac085b7f2396e4c99dc5f7db02eb9cb8588\n"
     ]
    },
    {
     "name": "stderr",
     "output_type": "stream",
     "text": [
      "  6%|█▉                               | 3466/59545 [1:20:31<22:56:33,  1.47s/it]"
     ]
    },
    {
     "name": "stdout",
     "output_type": "stream",
     "text": [
      "Fail: status code 429 paper_id 04f50ab287d9e02c67a03f8a6b364b02bcf68eb5\n"
     ]
    },
    {
     "name": "stderr",
     "output_type": "stream",
     "text": [
      "  6%|█▉                               | 3467/59545 [1:20:32<23:43:34,  1.52s/it]"
     ]
    },
    {
     "name": "stdout",
     "output_type": "stream",
     "text": [
      "Fail: status code 429 paper_id c00b4d2800e313a9b75fd6aa4ed1c3e6e3e9f909\n"
     ]
    },
    {
     "name": "stderr",
     "output_type": "stream",
     "text": [
      "  6%|█▉                               | 3489/59545 [1:20:51<20:09:33,  1.29s/it]"
     ]
    },
    {
     "name": "stdout",
     "output_type": "stream",
     "text": [
      "Fail: status code 429 paper_id b946b08e8585220024d280c5eeb5cce99fe1ca4b\n"
     ]
    },
    {
     "name": "stderr",
     "output_type": "stream",
     "text": [
      "  6%|█▉                               | 3494/59545 [1:20:57<20:24:41,  1.31s/it]"
     ]
    },
    {
     "name": "stdout",
     "output_type": "stream",
     "text": [
      "Fail: status code 429 paper_id ea0115694402d1cfb7e9a34cd44db6a0211c75a1\n"
     ]
    },
    {
     "name": "stderr",
     "output_type": "stream",
     "text": [
      "  6%|█▉                               | 3502/59545 [1:21:05<15:08:53,  1.03it/s]"
     ]
    },
    {
     "name": "stdout",
     "output_type": "stream",
     "text": [
      "Fail: status code 429 paper_id 4eb61ac220459437c909b2a6e93c45684bc93ebd\n"
     ]
    },
    {
     "name": "stderr",
     "output_type": "stream",
     "text": [
      "  6%|█▉                               | 3509/59545 [1:21:12<15:52:56,  1.02s/it]"
     ]
    },
    {
     "name": "stdout",
     "output_type": "stream",
     "text": [
      "Fail: status code 429 paper_id b44c2438a0bb4c3db6f4fccd96e99f5110dbb1a7\n"
     ]
    },
    {
     "name": "stderr",
     "output_type": "stream",
     "text": [
      "  6%|█▉                               | 3510/59545 [1:21:13<17:54:20,  1.15s/it]"
     ]
    },
    {
     "name": "stdout",
     "output_type": "stream",
     "text": [
      "Fail: status code 429 paper_id 7a0ec6499cace3ab3178645c2c63dcb34608f02e\n"
     ]
    },
    {
     "name": "stderr",
     "output_type": "stream",
     "text": [
      "  6%|█▉                               | 3511/59545 [1:21:15<19:40:22,  1.26s/it]"
     ]
    },
    {
     "name": "stdout",
     "output_type": "stream",
     "text": [
      "Fail: status code 429 paper_id fa2de32ec7b1ffc83b597c769a2fb6a4ee59d0b4\n"
     ]
    },
    {
     "name": "stderr",
     "output_type": "stream",
     "text": [
      "  6%|█▉                               | 3512/59545 [1:21:17<20:46:19,  1.33s/it]"
     ]
    },
    {
     "name": "stdout",
     "output_type": "stream",
     "text": [
      "Fail: status code 429 paper_id 9ffa0d2a4042bdc8e991999c8c1df1348eb60ca5\n"
     ]
    },
    {
     "name": "stderr",
     "output_type": "stream",
     "text": [
      "  6%|█▉                               | 3513/59545 [1:21:18<21:58:01,  1.41s/it]"
     ]
    },
    {
     "name": "stdout",
     "output_type": "stream",
     "text": [
      "Fail: status code 429 paper_id 938ff51b43f95921c6071bf7f85ccb358da23951\n"
     ]
    },
    {
     "name": "stderr",
     "output_type": "stream",
     "text": [
      "  6%|█▉                               | 3514/59545 [1:21:20<23:00:34,  1.48s/it]"
     ]
    },
    {
     "name": "stdout",
     "output_type": "stream",
     "text": [
      "Fail: status code 429 paper_id 0c156ab7ef7bcbbce8dc893d91c4695047826966\n"
     ]
    },
    {
     "name": "stderr",
     "output_type": "stream",
     "text": [
      "  6%|█▉                               | 3516/59545 [1:21:22<18:27:22,  1.19s/it]"
     ]
    },
    {
     "name": "stdout",
     "output_type": "stream",
     "text": [
      "Fail: status code 429 paper_id cab1d8a1a105014824b7eba916018c6c5024e140\n"
     ]
    },
    {
     "name": "stderr",
     "output_type": "stream",
     "text": [
      "  6%|█▉                               | 3517/59545 [1:21:23<19:46:26,  1.27s/it]"
     ]
    },
    {
     "name": "stdout",
     "output_type": "stream",
     "text": [
      "Fail: status code 429 paper_id 1dbc17ac351cc9cb469f98c552bb97d80144e041\n"
     ]
    },
    {
     "name": "stderr",
     "output_type": "stream",
     "text": [
      "  6%|█▉                               | 3518/59545 [1:21:25<21:11:42,  1.36s/it]"
     ]
    },
    {
     "name": "stdout",
     "output_type": "stream",
     "text": [
      "Fail: status code 429 paper_id f00691e0fc7a8cda9d89937dd52f1c290229f855\n"
     ]
    },
    {
     "name": "stderr",
     "output_type": "stream",
     "text": [
      "  6%|█▉                               | 3519/59545 [1:21:26<22:20:37,  1.44s/it]"
     ]
    },
    {
     "name": "stdout",
     "output_type": "stream",
     "text": [
      "Fail: status code 429 paper_id 657764d95876300ec282a5ed96774981084a3cd8\n"
     ]
    },
    {
     "name": "stderr",
     "output_type": "stream",
     "text": [
      "  6%|█▉                               | 3520/59545 [1:21:28<23:12:45,  1.49s/it]"
     ]
    },
    {
     "name": "stdout",
     "output_type": "stream",
     "text": [
      "Fail: status code 429 paper_id 1f02aa1cb619c8ba989e3e5d72d5c204e8fbe102\n"
     ]
    },
    {
     "name": "stderr",
     "output_type": "stream",
     "text": [
      "  6%|█▉                               | 3522/59545 [1:21:30<18:57:15,  1.22s/it]"
     ]
    },
    {
     "name": "stdout",
     "output_type": "stream",
     "text": [
      "Fail: status code 429 paper_id a8ae6d0fff5f8e3ce9b9216efff1319be25a4702\n"
     ]
    },
    {
     "name": "stderr",
     "output_type": "stream",
     "text": [
      "  6%|█▉                               | 3523/59545 [1:21:31<20:54:06,  1.34s/it]"
     ]
    },
    {
     "name": "stdout",
     "output_type": "stream",
     "text": [
      "Fail: status code 429 paper_id af8a9970736d4fde427861d8ec367c3c8f634cdd\n"
     ]
    },
    {
     "name": "stderr",
     "output_type": "stream",
     "text": [
      "  6%|█▉                               | 3524/59545 [1:21:33<22:04:23,  1.42s/it]"
     ]
    },
    {
     "name": "stdout",
     "output_type": "stream",
     "text": [
      "Fail: status code 429 paper_id 289a3351da7b5e8ea4360f504d8f0ff5ed94d8d0\n"
     ]
    },
    {
     "name": "stderr",
     "output_type": "stream",
     "text": [
      "  6%|█▉                               | 3527/59545 [1:21:35<14:58:51,  1.04it/s]"
     ]
    },
    {
     "name": "stdout",
     "output_type": "stream",
     "text": [
      "Fail: status code 429 paper_id 1fa72c835e6b1a38a2549bbbf4f3e9a0f6c9a23d\n"
     ]
    },
    {
     "name": "stderr",
     "output_type": "stream",
     "text": [
      "  6%|█▉                               | 3530/59545 [1:21:39<17:50:35,  1.15s/it]"
     ]
    },
    {
     "name": "stdout",
     "output_type": "stream",
     "text": [
      "Fail: status code 429 paper_id f00d069001dbe814eada65478f48cf263617cee4\n"
     ]
    },
    {
     "name": "stderr",
     "output_type": "stream",
     "text": [
      "  6%|█▉                               | 3531/59545 [1:21:40<19:20:22,  1.24s/it]"
     ]
    },
    {
     "name": "stdout",
     "output_type": "stream",
     "text": [
      "Fail: status code 429 paper_id 3717842d7005e751510eaca1a62f65db9e94a1d7\n"
     ]
    },
    {
     "name": "stderr",
     "output_type": "stream",
     "text": [
      "  6%|█▉                               | 3538/59545 [1:21:49<18:16:58,  1.18s/it]"
     ]
    },
    {
     "name": "stdout",
     "output_type": "stream",
     "text": [
      "Fail: status code 429 paper_id aca2939659b20615a65d10c16d9268afcca8b89e\n"
     ]
    },
    {
     "name": "stderr",
     "output_type": "stream",
     "text": [
      "  6%|█▉                               | 3539/59545 [1:21:50<18:50:52,  1.21s/it]"
     ]
    },
    {
     "name": "stdout",
     "output_type": "stream",
     "text": [
      "Fail: status code 429 paper_id f698de98ee6c438f4354090f712fbcdf128c74ee\n"
     ]
    },
    {
     "name": "stderr",
     "output_type": "stream",
     "text": [
      "  6%|█▉                               | 3550/59545 [1:22:01<16:00:38,  1.03s/it]"
     ]
    },
    {
     "name": "stdout",
     "output_type": "stream",
     "text": [
      "Fail: status code 429 paper_id 09e69fa721875f9a69c7dc657b09a9cc9def736f\n"
     ]
    },
    {
     "name": "stderr",
     "output_type": "stream",
     "text": [
      "  6%|█▉                               | 3556/59545 [1:22:11<23:52:17,  1.53s/it]"
     ]
    },
    {
     "name": "stdout",
     "output_type": "stream",
     "text": [
      "Fail: status code 429 paper_id 52645d4faff53b2a4e812f5289a9348e38898066\n"
     ]
    },
    {
     "name": "stderr",
     "output_type": "stream",
     "text": [
      "  6%|█▉                               | 3560/59545 [1:22:16<19:15:38,  1.24s/it]"
     ]
    },
    {
     "name": "stdout",
     "output_type": "stream",
     "text": [
      "Fail: status code 429 paper_id 2abc4332ed1f03d8877bd7eaed7a9473c1deff5b\n"
     ]
    },
    {
     "name": "stderr",
     "output_type": "stream",
     "text": [
      "  6%|█▉                               | 3562/59545 [1:22:19<22:20:49,  1.44s/it]"
     ]
    },
    {
     "name": "stdout",
     "output_type": "stream",
     "text": [
      "Fail: status code 429 paper_id fd59f181ba423590ea592cc776458b3b1420f8d7\n"
     ]
    },
    {
     "name": "stderr",
     "output_type": "stream",
     "text": [
      "  6%|█▉                               | 3572/59545 [1:22:33<23:00:37,  1.48s/it]"
     ]
    },
    {
     "name": "stdout",
     "output_type": "stream",
     "text": [
      "Fail: status code 429 paper_id bc6558e204eaac329a0dffef92782d176076b791\n"
     ]
    },
    {
     "name": "stderr",
     "output_type": "stream",
     "text": [
      "  6%|█▉                               | 3573/59545 [1:22:35<23:44:00,  1.53s/it]"
     ]
    },
    {
     "name": "stdout",
     "output_type": "stream",
     "text": [
      "Fail: status code 429 paper_id dea142be66ae99d84a2bb06f5e7eca3d6c08baf5\n"
     ]
    },
    {
     "name": "stderr",
     "output_type": "stream",
     "text": [
      "  6%|█▉                               | 3574/59545 [1:22:37<24:14:42,  1.56s/it]"
     ]
    },
    {
     "name": "stdout",
     "output_type": "stream",
     "text": [
      "Fail: status code 429 paper_id 19d34d414e4fd8eec3ac1e71b8d4c0d59abbf4d2\n"
     ]
    },
    {
     "name": "stderr",
     "output_type": "stream",
     "text": [
      "  6%|█▉                               | 3575/59545 [1:22:38<24:36:50,  1.58s/it]"
     ]
    },
    {
     "name": "stdout",
     "output_type": "stream",
     "text": [
      "Fail: status code 429 paper_id 6f8f308d4ccbd531f8ffa280decaa5055ebc596e\n"
     ]
    },
    {
     "name": "stderr",
     "output_type": "stream",
     "text": [
      "  6%|█▉                               | 3576/59545 [1:22:40<24:22:15,  1.57s/it]"
     ]
    },
    {
     "name": "stdout",
     "output_type": "stream",
     "text": [
      "Fail: status code 429 paper_id eed687987e3c67b400cdf8c3bf9c5f7f0ac5f799\n"
     ]
    },
    {
     "name": "stderr",
     "output_type": "stream",
     "text": [
      "  6%|█▉                               | 3577/59545 [1:22:42<25:11:52,  1.62s/it]"
     ]
    },
    {
     "name": "stdout",
     "output_type": "stream",
     "text": [
      "Fail: status code 429 paper_id 9a06964b5168500f2b1a3887a7b7e2d267117094\n"
     ]
    },
    {
     "name": "stderr",
     "output_type": "stream",
     "text": [
      "  6%|█▉                               | 3580/59545 [1:22:47<25:53:46,  1.67s/it]"
     ]
    },
    {
     "name": "stdout",
     "output_type": "stream",
     "text": [
      "Fail: status code 429 paper_id 3bf6a99e49781e5cf73bae152667f99fb15c3ca7\n"
     ]
    },
    {
     "name": "stderr",
     "output_type": "stream",
     "text": [
      "  6%|█▉                               | 3581/59545 [1:22:48<25:46:05,  1.66s/it]"
     ]
    },
    {
     "name": "stdout",
     "output_type": "stream",
     "text": [
      "Fail: status code 429 paper_id d1f3a77f52bbef5f5682563b05b8802ca2556474\n"
     ]
    },
    {
     "name": "stderr",
     "output_type": "stream",
     "text": [
      "  6%|█▉                               | 3585/59545 [1:22:53<21:24:33,  1.38s/it]"
     ]
    },
    {
     "name": "stdout",
     "output_type": "stream",
     "text": [
      "Fail: status code 429 paper_id db84a181a3e75562e99546f33864e430222eb6e0\n"
     ]
    },
    {
     "name": "stderr",
     "output_type": "stream",
     "text": [
      "  6%|█▉                               | 3586/59545 [1:22:55<22:28:23,  1.45s/it]"
     ]
    },
    {
     "name": "stdout",
     "output_type": "stream",
     "text": [
      "Fail: status code 429 paper_id 809fdcc7292aa9782d0de13642d23bf61f8de73a\n"
     ]
    },
    {
     "name": "stderr",
     "output_type": "stream",
     "text": [
      "  6%|█▉                               | 3588/59545 [1:22:58<23:53:52,  1.54s/it]"
     ]
    },
    {
     "name": "stdout",
     "output_type": "stream",
     "text": [
      "Fail: status code 429 paper_id d2090a0ef01fe9fcf834267a8361b1feafefcb77\n"
     ]
    },
    {
     "name": "stderr",
     "output_type": "stream",
     "text": [
      "  6%|█▉                               | 3591/59545 [1:23:03<24:53:05,  1.60s/it]"
     ]
    },
    {
     "name": "stdout",
     "output_type": "stream",
     "text": [
      "Fail: status code 429 paper_id 27591e2210d67d4e57c3ad620865e359fd8f5fbd\n"
     ]
    },
    {
     "name": "stderr",
     "output_type": "stream",
     "text": [
      "  6%|█▉                               | 3604/59545 [1:23:23<24:21:05,  1.57s/it]"
     ]
    },
    {
     "name": "stdout",
     "output_type": "stream",
     "text": [
      "Fail: status code 429 paper_id 6a4ad32b4744461b37a0c763a481de31774260d7\n"
     ]
    },
    {
     "name": "stderr",
     "output_type": "stream",
     "text": [
      "  6%|█▉                               | 3605/59545 [1:23:24<24:40:42,  1.59s/it]"
     ]
    },
    {
     "name": "stdout",
     "output_type": "stream",
     "text": [
      "Fail: status code 429 paper_id 9a1069d32f0b42d50898d5b7e0c4cfaf19569335\n"
     ]
    },
    {
     "name": "stderr",
     "output_type": "stream",
     "text": [
      "  6%|█▉                               | 3606/59545 [1:23:26<24:54:49,  1.60s/it]"
     ]
    },
    {
     "name": "stdout",
     "output_type": "stream",
     "text": [
      "Fail: status code 429 paper_id f51eed586ed39142cfc1a5080635dea68177b47e\n"
     ]
    },
    {
     "name": "stderr",
     "output_type": "stream",
     "text": [
      "  6%|█▉                               | 3607/59545 [1:23:28<25:05:05,  1.61s/it]"
     ]
    },
    {
     "name": "stdout",
     "output_type": "stream",
     "text": [
      "Fail: status code 429 paper_id aac8c3a209f85338326460a92c7595367f12a9bb\n"
     ]
    },
    {
     "name": "stderr",
     "output_type": "stream",
     "text": [
      "  6%|█▉                               | 3608/59545 [1:23:29<25:12:05,  1.62s/it]"
     ]
    },
    {
     "name": "stdout",
     "output_type": "stream",
     "text": [
      "Fail: status code 429 paper_id 641b46fc44d6c7db82640ad6f15da260589513ef\n"
     ]
    },
    {
     "name": "stderr",
     "output_type": "stream",
     "text": [
      "  6%|██                               | 3609/59545 [1:23:31<25:15:04,  1.63s/it]"
     ]
    },
    {
     "name": "stdout",
     "output_type": "stream",
     "text": [
      "Fail: status code 429 paper_id 91a6858aa5969fb55eb2a12f6b86556b0acc76d0\n"
     ]
    },
    {
     "name": "stderr",
     "output_type": "stream",
     "text": [
      "  6%|██                               | 3610/59545 [1:23:33<25:19:19,  1.63s/it]"
     ]
    },
    {
     "name": "stdout",
     "output_type": "stream",
     "text": [
      "Fail: status code 429 paper_id 605b8ced549a2a08691ab2111572a7f58d0e11a0\n"
     ]
    },
    {
     "name": "stderr",
     "output_type": "stream",
     "text": [
      "  6%|██                               | 3611/59545 [1:23:34<25:22:24,  1.63s/it]"
     ]
    },
    {
     "name": "stdout",
     "output_type": "stream",
     "text": [
      "Fail: status code 429 paper_id d34e1fa8d888bbccc8cce0ed25d96172cb186b0f\n"
     ]
    },
    {
     "name": "stderr",
     "output_type": "stream",
     "text": [
      "  6%|██                               | 3612/59545 [1:23:36<25:23:28,  1.63s/it]"
     ]
    },
    {
     "name": "stdout",
     "output_type": "stream",
     "text": [
      "Fail: status code 429 paper_id 97bf84ae70066516f0d09475b53df042dc2d7543\n"
     ]
    },
    {
     "name": "stderr",
     "output_type": "stream",
     "text": [
      "  6%|██                               | 3613/59545 [1:23:37<25:25:01,  1.64s/it]"
     ]
    },
    {
     "name": "stdout",
     "output_type": "stream",
     "text": [
      "Fail: status code 429 paper_id d104c6dd4b02da2aaf6b71957f65d63e75343629\n"
     ]
    },
    {
     "name": "stderr",
     "output_type": "stream",
     "text": [
      "  6%|██                               | 3614/59545 [1:23:39<25:25:12,  1.64s/it]"
     ]
    },
    {
     "name": "stdout",
     "output_type": "stream",
     "text": [
      "Fail: status code 429 paper_id 3acaf0ef1181e5c61590f61b5bfb646164f967d6\n"
     ]
    },
    {
     "name": "stderr",
     "output_type": "stream",
     "text": [
      "  6%|██                               | 3615/59545 [1:23:41<25:01:57,  1.61s/it]"
     ]
    },
    {
     "name": "stdout",
     "output_type": "stream",
     "text": [
      "Fail: status code 429 paper_id 2b86ca2bb9cd254b52f06e913bb8034487c4c477\n"
     ]
    },
    {
     "name": "stderr",
     "output_type": "stream",
     "text": [
      "  6%|██                               | 3617/59545 [1:23:44<25:31:17,  1.64s/it]"
     ]
    },
    {
     "name": "stdout",
     "output_type": "stream",
     "text": [
      "Fail: status code 429 paper_id 43a490b0a04706e3c7fe409bd4a038442c3eec8f\n"
     ]
    },
    {
     "name": "stderr",
     "output_type": "stream",
     "text": [
      "  6%|██                               | 3618/59545 [1:23:45<24:46:05,  1.59s/it]"
     ]
    },
    {
     "name": "stdout",
     "output_type": "stream",
     "text": [
      "Fail: status code 429 paper_id 4e7e3c2b4b997c639f8cc0684d9d81dc3b7f7543\n"
     ]
    },
    {
     "name": "stderr",
     "output_type": "stream",
     "text": [
      "  6%|██                               | 3620/59545 [1:23:47<19:03:02,  1.23s/it]"
     ]
    },
    {
     "name": "stdout",
     "output_type": "stream",
     "text": [
      "Fail: status code 429 paper_id b8d23c4f5157419218a2c50aaa446a06631eeaab\n"
     ]
    },
    {
     "name": "stderr",
     "output_type": "stream",
     "text": [
      "  6%|██                               | 3621/59545 [1:23:49<20:18:24,  1.31s/it]"
     ]
    },
    {
     "name": "stdout",
     "output_type": "stream",
     "text": [
      "Fail: status code 429 paper_id 6f0c13db767455303c3571222dc9d25c9371ed7f\n"
     ]
    },
    {
     "name": "stderr",
     "output_type": "stream",
     "text": [
      "  6%|██                               | 3622/59545 [1:23:50<21:59:10,  1.42s/it]"
     ]
    },
    {
     "name": "stdout",
     "output_type": "stream",
     "text": [
      "Fail: status code 429 paper_id cb1c1fdb8464a409f05624d6247cfdf38e47de42\n"
     ]
    },
    {
     "name": "stderr",
     "output_type": "stream",
     "text": [
      "  6%|██                               | 3624/59545 [1:23:54<23:37:40,  1.52s/it]"
     ]
    },
    {
     "name": "stdout",
     "output_type": "stream",
     "text": [
      "Fail: status code 429 paper_id bf6b994a579b1a8b74dfd6d5ba3dc5888fd86188\n"
     ]
    },
    {
     "name": "stderr",
     "output_type": "stream",
     "text": [
      "  6%|██                               | 3625/59545 [1:23:55<24:37:22,  1.59s/it]"
     ]
    },
    {
     "name": "stdout",
     "output_type": "stream",
     "text": [
      "Fail: status code 429 paper_id 46ee405bd0af7e67f8fe990019f8715188f89df6\n"
     ]
    },
    {
     "name": "stderr",
     "output_type": "stream",
     "text": [
      "  6%|██                               | 3629/59545 [1:24:02<24:11:34,  1.56s/it]"
     ]
    },
    {
     "name": "stdout",
     "output_type": "stream",
     "text": [
      "Fail: status code 429 paper_id 14184fbd923c5c48fb55fa0978f75b515a9fa9d6\n"
     ]
    },
    {
     "name": "stderr",
     "output_type": "stream",
     "text": [
      "  6%|██                               | 3630/59545 [1:24:03<24:27:45,  1.57s/it]"
     ]
    },
    {
     "name": "stdout",
     "output_type": "stream",
     "text": [
      "Fail: status code 429 paper_id de32c29aa83312de76a5148ebd90536e24f78492\n"
     ]
    },
    {
     "name": "stderr",
     "output_type": "stream",
     "text": [
      "  6%|██                               | 3633/59545 [1:24:08<24:46:44,  1.60s/it]"
     ]
    },
    {
     "name": "stdout",
     "output_type": "stream",
     "text": [
      "Fail: status code 429 paper_id 813106acd36ddb8ba26c0acb114f26ae906e2cf2\n"
     ]
    },
    {
     "name": "stderr",
     "output_type": "stream",
     "text": [
      "  6%|██                               | 3634/59545 [1:24:10<25:48:04,  1.66s/it]"
     ]
    },
    {
     "name": "stdout",
     "output_type": "stream",
     "text": [
      "Fail: status code 429 paper_id 67e50a02eafa7ef71d11399ecbcfa579899f5294\n"
     ]
    },
    {
     "name": "stderr",
     "output_type": "stream",
     "text": [
      "  6%|██                               | 3648/59545 [1:24:33<25:42:08,  1.66s/it]"
     ]
    },
    {
     "name": "stdout",
     "output_type": "stream",
     "text": [
      "Fail: status code 429 paper_id 03d12d332eb793d032bca60c5dc702281d41115f\n"
     ]
    },
    {
     "name": "stderr",
     "output_type": "stream",
     "text": [
      "  6%|██                               | 3662/59545 [1:24:55<25:01:06,  1.61s/it]"
     ]
    },
    {
     "name": "stdout",
     "output_type": "stream",
     "text": [
      "Fail: status code 429 paper_id 276a1b5129df2d5f6fbdd77782d4cd2ec49e3d50\n"
     ]
    },
    {
     "name": "stderr",
     "output_type": "stream",
     "text": [
      "  6%|██                               | 3668/59545 [1:25:04<23:22:46,  1.51s/it]"
     ]
    },
    {
     "name": "stdout",
     "output_type": "stream",
     "text": [
      "Fail: status code 429 paper_id 09b17532657eeda785b0da1dbc5fded6ab31f859\n"
     ]
    },
    {
     "name": "stderr",
     "output_type": "stream",
     "text": [
      "  6%|██                               | 3674/59545 [1:25:13<23:57:03,  1.54s/it]"
     ]
    },
    {
     "name": "stdout",
     "output_type": "stream",
     "text": [
      "Fail: status code 429 paper_id 9cbdbaddc00eb8c50430efa8255954e7f4c24fcd\n"
     ]
    },
    {
     "name": "stderr",
     "output_type": "stream",
     "text": [
      "  6%|██                               | 3681/59545 [1:25:24<24:27:01,  1.58s/it]"
     ]
    },
    {
     "name": "stdout",
     "output_type": "stream",
     "text": [
      "Fail: status code 429 paper_id 20e20e6e6f09cf40c5645d142213f8f6ddb11920\n"
     ]
    },
    {
     "name": "stderr",
     "output_type": "stream",
     "text": [
      "  6%|██                               | 3682/59545 [1:25:26<24:42:37,  1.59s/it]"
     ]
    },
    {
     "name": "stdout",
     "output_type": "stream",
     "text": [
      "Fail: status code 429 paper_id 4261970e1dc1ae0eaace846110b898cf12f286e2\n"
     ]
    },
    {
     "name": "stderr",
     "output_type": "stream",
     "text": [
      "  6%|██                               | 3683/59545 [1:25:28<24:55:25,  1.61s/it]"
     ]
    },
    {
     "name": "stdout",
     "output_type": "stream",
     "text": [
      "Fail: status code 429 paper_id c2d78c7f3bac47dd7827de9e175ffc1cc6505727\n"
     ]
    },
    {
     "name": "stderr",
     "output_type": "stream",
     "text": [
      "  6%|██                               | 3684/59545 [1:25:29<24:42:43,  1.59s/it]"
     ]
    },
    {
     "name": "stdout",
     "output_type": "stream",
     "text": [
      "Fail: status code 429 paper_id aefd6d88e6676e89a36a4e1404aa3269ac6861e2\n"
     ]
    },
    {
     "name": "stderr",
     "output_type": "stream",
     "text": [
      "  6%|██                               | 3686/59545 [1:25:32<24:59:03,  1.61s/it]"
     ]
    },
    {
     "name": "stdout",
     "output_type": "stream",
     "text": [
      "Fail: status code 429 paper_id 4026114556652ba4e35ad4aff5ea40ec0e816170\n"
     ]
    },
    {
     "name": "stderr",
     "output_type": "stream",
     "text": [
      "  6%|██                               | 3687/59545 [1:25:34<25:09:58,  1.62s/it]"
     ]
    },
    {
     "name": "stdout",
     "output_type": "stream",
     "text": [
      "Fail: status code 429 paper_id 91e63282fd45eee29b57cf6e6ded6af2f2b0d888\n"
     ]
    },
    {
     "name": "stderr",
     "output_type": "stream",
     "text": [
      "  6%|██                               | 3688/59545 [1:25:36<24:58:16,  1.61s/it]"
     ]
    },
    {
     "name": "stdout",
     "output_type": "stream",
     "text": [
      "Fail: status code 429 paper_id 6fc3990532f2cda211227c9844e996402eab2b9d\n"
     ]
    },
    {
     "name": "stderr",
     "output_type": "stream",
     "text": [
      "  6%|██                               | 3689/59545 [1:25:37<24:51:34,  1.60s/it]"
     ]
    },
    {
     "name": "stdout",
     "output_type": "stream",
     "text": [
      "Fail: status code 429 paper_id fcaeaed999b514557da9fc991b16021ff2fe2196\n"
     ]
    },
    {
     "name": "stderr",
     "output_type": "stream",
     "text": [
      "  6%|██                               | 3690/59545 [1:25:39<25:01:44,  1.61s/it]"
     ]
    },
    {
     "name": "stdout",
     "output_type": "stream",
     "text": [
      "Fail: status code 429 paper_id 65e6328bd0a295541828e790c7086b02901aeb7d\n"
     ]
    },
    {
     "name": "stderr",
     "output_type": "stream",
     "text": [
      "  6%|██                               | 3691/59545 [1:25:40<25:08:58,  1.62s/it]"
     ]
    },
    {
     "name": "stdout",
     "output_type": "stream",
     "text": [
      "Fail: status code 429 paper_id b9fe90de142231a936f02dbe5a46c9a91cd85493\n"
     ]
    },
    {
     "name": "stderr",
     "output_type": "stream",
     "text": [
      "  6%|██                               | 3692/59545 [1:25:42<25:13:10,  1.63s/it]"
     ]
    },
    {
     "name": "stdout",
     "output_type": "stream",
     "text": [
      "Fail: status code 429 paper_id 0a5b56b38648b18786f42cc78104e181ff09645e\n"
     ]
    },
    {
     "name": "stderr",
     "output_type": "stream",
     "text": [
      "  6%|██                               | 3693/59545 [1:25:44<24:52:49,  1.60s/it]"
     ]
    },
    {
     "name": "stdout",
     "output_type": "stream",
     "text": [
      "Fail: status code 429 paper_id 4921e6fb384beb3a2140473ae9f40c5ef2e05b15\n"
     ]
    },
    {
     "name": "stderr",
     "output_type": "stream",
     "text": [
      "  6%|██                               | 3694/59545 [1:25:45<24:57:54,  1.61s/it]"
     ]
    },
    {
     "name": "stdout",
     "output_type": "stream",
     "text": [
      "Fail: status code 429 paper_id f3e76b869cfdb4781e91044a87a5543ebc34a269\n"
     ]
    },
    {
     "name": "stderr",
     "output_type": "stream",
     "text": [
      "  6%|██                               | 3695/59545 [1:25:47<25:05:31,  1.62s/it]"
     ]
    },
    {
     "name": "stdout",
     "output_type": "stream",
     "text": [
      "Fail: status code 429 paper_id 17b3f4bd1134e75790f393021bf1aae8da4a0bd1\n"
     ]
    },
    {
     "name": "stderr",
     "output_type": "stream",
     "text": [
      "  6%|██                               | 3696/59545 [1:25:48<25:11:00,  1.62s/it]"
     ]
    },
    {
     "name": "stdout",
     "output_type": "stream",
     "text": [
      "Fail: status code 429 paper_id c9d1175e9a7f8c367f773751684c0fe50def77ea\n"
     ]
    },
    {
     "name": "stderr",
     "output_type": "stream",
     "text": [
      "  6%|██                               | 3697/59545 [1:25:50<25:15:56,  1.63s/it]"
     ]
    },
    {
     "name": "stdout",
     "output_type": "stream",
     "text": [
      "Fail: status code 429 paper_id e7079bea68e1b7ec93006316ff5df40f5839889a\n"
     ]
    },
    {
     "name": "stderr",
     "output_type": "stream",
     "text": [
      "  6%|██                               | 3700/59545 [1:25:54<23:24:54,  1.51s/it]"
     ]
    },
    {
     "name": "stdout",
     "output_type": "stream",
     "text": [
      "Fail: status code 429 paper_id 6e7519a12700efa0dfe482ca922a15b3ad8f09eb\n"
     ]
    },
    {
     "name": "stderr",
     "output_type": "stream",
     "text": [
      "  6%|██                               | 3701/59545 [1:25:56<23:47:55,  1.53s/it]"
     ]
    },
    {
     "name": "stdout",
     "output_type": "stream",
     "text": [
      "Fail: status code 429 paper_id e6253c8bd35aadf081138a3394442c844961ed5f\n"
     ]
    },
    {
     "name": "stderr",
     "output_type": "stream",
     "text": [
      "  6%|██                               | 3702/59545 [1:25:58<24:16:34,  1.57s/it]"
     ]
    },
    {
     "name": "stdout",
     "output_type": "stream",
     "text": [
      "Fail: status code 429 paper_id f538d6b0eba5ada7caf97769d628dd73c4b66629\n"
     ]
    },
    {
     "name": "stderr",
     "output_type": "stream",
     "text": [
      "  6%|██                               | 3703/59545 [1:25:59<24:41:53,  1.59s/it]"
     ]
    },
    {
     "name": "stdout",
     "output_type": "stream",
     "text": [
      "Fail: status code 429 paper_id 2a2a90ee0d6b8aa9d077a4cb132ef599a0c52da8\n"
     ]
    },
    {
     "name": "stderr",
     "output_type": "stream",
     "text": [
      "  6%|██                               | 3716/59545 [1:26:20<24:47:53,  1.60s/it]"
     ]
    },
    {
     "name": "stdout",
     "output_type": "stream",
     "text": [
      "Fail: status code 429 paper_id b1746c4a0f6e094fec5b295521095dae011fb08e\n"
     ]
    },
    {
     "name": "stderr",
     "output_type": "stream",
     "text": [
      "  6%|██                               | 3719/59545 [1:26:25<25:40:09,  1.66s/it]"
     ]
    },
    {
     "name": "stdout",
     "output_type": "stream",
     "text": [
      "Fail: status code 429 paper_id c92bbd64a2ea6bd0ed51e16c93882b4bfb107e0e\n"
     ]
    },
    {
     "name": "stderr",
     "output_type": "stream",
     "text": [
      "  6%|██                               | 3720/59545 [1:26:26<26:03:56,  1.68s/it]"
     ]
    },
    {
     "name": "stdout",
     "output_type": "stream",
     "text": [
      "Fail: status code 429 paper_id 6a8d44cccc0914b05ebb1c99b6933de069f60fe9\n"
     ]
    },
    {
     "name": "stderr",
     "output_type": "stream",
     "text": [
      "  6%|██                               | 3721/59545 [1:26:28<25:51:44,  1.67s/it]"
     ]
    },
    {
     "name": "stdout",
     "output_type": "stream",
     "text": [
      "Fail: status code 429 paper_id ee7532bd7a16ac93994e127fb40fad70531511c4\n"
     ]
    },
    {
     "name": "stderr",
     "output_type": "stream",
     "text": [
      "  6%|██                               | 3722/59545 [1:26:30<25:44:01,  1.66s/it]"
     ]
    },
    {
     "name": "stdout",
     "output_type": "stream",
     "text": [
      "Fail: status code 429 paper_id d17aef77cb014d8226c6557b3df0a28d3d5e5820\n"
     ]
    },
    {
     "name": "stderr",
     "output_type": "stream",
     "text": [
      "  6%|██                               | 3723/59545 [1:26:31<24:12:33,  1.56s/it]"
     ]
    },
    {
     "name": "stdout",
     "output_type": "stream",
     "text": [
      "Fail: status code 429 paper_id ece4ebc0a98766e535fe1b8c2a6739ad52c3fc59\n"
     ]
    },
    {
     "name": "stderr",
     "output_type": "stream",
     "text": [
      "  6%|██                               | 3725/59545 [1:26:34<25:08:43,  1.62s/it]"
     ]
    },
    {
     "name": "stdout",
     "output_type": "stream",
     "text": [
      "Fail: status code 429 paper_id 03084a3f5b38eb5024b1187f2da4a28d7f91d552\n"
     ]
    },
    {
     "name": "stderr",
     "output_type": "stream",
     "text": [
      "  6%|██                               | 3726/59545 [1:26:36<25:13:18,  1.63s/it]"
     ]
    },
    {
     "name": "stdout",
     "output_type": "stream",
     "text": [
      "Fail: status code 429 paper_id 5b0bb68bec04d9cc93dd834cef21842d8c8f00bb\n"
     ]
    },
    {
     "name": "stderr",
     "output_type": "stream",
     "text": [
      "  6%|██                               | 3727/59545 [1:26:38<24:52:45,  1.60s/it]"
     ]
    },
    {
     "name": "stdout",
     "output_type": "stream",
     "text": [
      "Fail: status code 429 paper_id 579cfd75b03817dc71307437a6910f3a459e9463\n"
     ]
    },
    {
     "name": "stderr",
     "output_type": "stream",
     "text": [
      "  6%|██                               | 3728/59545 [1:26:39<24:57:31,  1.61s/it]"
     ]
    },
    {
     "name": "stdout",
     "output_type": "stream",
     "text": [
      "Fail: status code 429 paper_id 69420a2f77ad8ed26c6cb9b572905666e0c63042\n"
     ]
    },
    {
     "name": "stderr",
     "output_type": "stream",
     "text": [
      "  6%|██                               | 3731/59545 [1:26:41<14:47:32,  1.05it/s]"
     ]
    },
    {
     "name": "stdout",
     "output_type": "stream",
     "text": [
      "Fail: status code 429 paper_id d30698c378118ef7c82dc7a3eebc5985b01fc550\n"
     ]
    },
    {
     "name": "stderr",
     "output_type": "stream",
     "text": [
      "  6%|██                               | 3732/59545 [1:26:42<17:01:50,  1.10s/it]"
     ]
    },
    {
     "name": "stdout",
     "output_type": "stream",
     "text": [
      "Fail: status code 429 paper_id a7655a9801083b84c2d78a3b952e4acdc9bfa37a\n"
     ]
    },
    {
     "name": "stderr",
     "output_type": "stream",
     "text": [
      "  6%|██                               | 3734/59545 [1:26:45<20:34:29,  1.33s/it]"
     ]
    },
    {
     "name": "stdout",
     "output_type": "stream",
     "text": [
      "Fail: status code 429 paper_id 5e7e71000c3dcc69937d9c1026127032c60f7e81\n"
     ]
    },
    {
     "name": "stderr",
     "output_type": "stream",
     "text": [
      "  6%|██                               | 3735/59545 [1:26:47<21:51:13,  1.41s/it]"
     ]
    },
    {
     "name": "stdout",
     "output_type": "stream",
     "text": [
      "Fail: status code 429 paper_id ac80eaa856a9adecb33f0503c22dccc406667cc1\n"
     ]
    },
    {
     "name": "stderr",
     "output_type": "stream",
     "text": [
      "  6%|██                               | 3737/59545 [1:26:50<23:31:27,  1.52s/it]"
     ]
    },
    {
     "name": "stdout",
     "output_type": "stream",
     "text": [
      "Fail: status code 429 paper_id f54b031f24df73a4616cc1673eaf78b279b5afed\n"
     ]
    },
    {
     "name": "stderr",
     "output_type": "stream",
     "text": [
      "  6%|██                               | 3738/59545 [1:26:52<24:03:58,  1.55s/it]"
     ]
    },
    {
     "name": "stdout",
     "output_type": "stream",
     "text": [
      "Fail: status code 429 paper_id 59f09a5b85ee248311cddb074c1c69ef8a6f075e\n"
     ]
    },
    {
     "name": "stderr",
     "output_type": "stream",
     "text": [
      "  6%|██                               | 3742/59545 [1:26:57<21:23:30,  1.38s/it]"
     ]
    },
    {
     "name": "stdout",
     "output_type": "stream",
     "text": [
      "Fail: status code 429 paper_id c24b9ba9fb10def76556ab4b2553f14e30184e7a\n"
     ]
    },
    {
     "name": "stderr",
     "output_type": "stream",
     "text": [
      "  6%|██                               | 3746/59545 [1:27:02<18:50:43,  1.22s/it]"
     ]
    },
    {
     "name": "stdout",
     "output_type": "stream",
     "text": [
      "Fail: status code 429 paper_id 476a560c65038f0cd9744603ce83c484b1e9a7bf\n"
     ]
    },
    {
     "name": "stderr",
     "output_type": "stream",
     "text": [
      "  6%|██                               | 3750/59545 [1:27:06<17:11:17,  1.11s/it]"
     ]
    },
    {
     "name": "stdout",
     "output_type": "stream",
     "text": [
      "Fail: status code 429 paper_id d53a0f75aa12181e49e1ddc687356655f16ed387\n"
     ]
    },
    {
     "name": "stderr",
     "output_type": "stream",
     "text": [
      "  6%|██                               | 3751/59545 [1:27:08<18:45:39,  1.21s/it]"
     ]
    },
    {
     "name": "stdout",
     "output_type": "stream",
     "text": [
      "Fail: status code 429 paper_id 82960f8f911cf144eebdbc2f8795b8f7ab564364\n"
     ]
    },
    {
     "name": "stderr",
     "output_type": "stream",
     "text": [
      "  6%|██                               | 3753/59545 [1:27:11<21:40:56,  1.40s/it]"
     ]
    },
    {
     "name": "stdout",
     "output_type": "stream",
     "text": [
      "Fail: status code 429 paper_id 5d809ae3499f10c73eba96dc5c1bbb55a56fb1c0\n"
     ]
    },
    {
     "name": "stderr",
     "output_type": "stream",
     "text": [
      "  6%|██                               | 3756/59545 [1:27:16<23:37:05,  1.52s/it]"
     ]
    },
    {
     "name": "stdout",
     "output_type": "stream",
     "text": [
      "Fail: status code 429 paper_id 508f6a5cebe42cdd0b876841a3858a6f4c08a478\n"
     ]
    },
    {
     "name": "stderr",
     "output_type": "stream",
     "text": [
      "  6%|██                               | 3759/59545 [1:27:21<25:31:15,  1.65s/it]"
     ]
    },
    {
     "name": "stdout",
     "output_type": "stream",
     "text": [
      "Fail: status code 429 paper_id 9056b3c83b9036db5c43b7e2603efa8c62907a07\n"
     ]
    },
    {
     "name": "stderr",
     "output_type": "stream",
     "text": [
      "  6%|██                               | 3765/59545 [1:27:31<25:47:00,  1.66s/it]"
     ]
    },
    {
     "name": "stdout",
     "output_type": "stream",
     "text": [
      "Fail: status code 429 paper_id 2d7874ea2ce91eefbd4ec02ef4c4a3dd428df36c\n"
     ]
    },
    {
     "name": "stderr",
     "output_type": "stream",
     "text": [
      "  6%|██                               | 3771/59545 [1:27:41<24:59:54,  1.61s/it]"
     ]
    },
    {
     "name": "stdout",
     "output_type": "stream",
     "text": [
      "Fail: status code 429 paper_id 866b56a1a6dd47a779e13407875119b8e5602c99\n"
     ]
    },
    {
     "name": "stderr",
     "output_type": "stream",
     "text": [
      "  6%|██                               | 3774/59545 [1:27:46<25:15:06,  1.63s/it]"
     ]
    },
    {
     "name": "stdout",
     "output_type": "stream",
     "text": [
      "Fail: status code 429 paper_id 1aa576ead41847353f272f4f9f494d21b2fadfc0\n"
     ]
    },
    {
     "name": "stderr",
     "output_type": "stream",
     "text": [
      "  6%|██                               | 3808/59545 [1:28:28<16:24:21,  1.06s/it]"
     ]
    },
    {
     "name": "stdout",
     "output_type": "stream",
     "text": [
      "Fail: status code 429 paper_id a56bc99651d52402d09f25da7c81e81a5fcffb60\n"
     ]
    },
    {
     "name": "stderr",
     "output_type": "stream",
     "text": [
      "  6%|██                               | 3809/59545 [1:28:29<18:20:28,  1.18s/it]"
     ]
    },
    {
     "name": "stdout",
     "output_type": "stream",
     "text": [
      "Fail: status code 429 paper_id d8faa413feb6951ad5a5e0c841f78c8b33270544\n"
     ]
    },
    {
     "name": "stderr",
     "output_type": "stream",
     "text": [
      "  6%|██                               | 3810/59545 [1:28:31<20:22:44,  1.32s/it]"
     ]
    },
    {
     "name": "stdout",
     "output_type": "stream",
     "text": [
      "Fail: status code 429 paper_id 33f1045edbd2bd8e09b625598862e57cb2ceeeab\n"
     ]
    },
    {
     "name": "stderr",
     "output_type": "stream",
     "text": [
      "  6%|██                               | 3811/59545 [1:28:33<21:38:23,  1.40s/it]"
     ]
    },
    {
     "name": "stdout",
     "output_type": "stream",
     "text": [
      "Fail: status code 429 paper_id ff68f2e7ae72e5b088e871ed4762a6e539284de6\n"
     ]
    },
    {
     "name": "stderr",
     "output_type": "stream",
     "text": [
      "  6%|██                               | 3812/59545 [1:28:34<22:36:52,  1.46s/it]"
     ]
    },
    {
     "name": "stdout",
     "output_type": "stream",
     "text": [
      "Fail: status code 429 paper_id 8ccd02e2c635bc80f4acaba4c023aacd1acd38b0\n"
     ]
    },
    {
     "name": "stderr",
     "output_type": "stream",
     "text": [
      "  6%|██                               | 3813/59545 [1:28:36<23:48:54,  1.54s/it]"
     ]
    },
    {
     "name": "stdout",
     "output_type": "stream",
     "text": [
      "Fail: status code 429 paper_id 68153e1e1032bd723769d8becfc66d5d1b163ed0\n"
     ]
    },
    {
     "name": "stderr",
     "output_type": "stream",
     "text": [
      "  6%|██                               | 3814/59545 [1:28:38<24:07:03,  1.56s/it]"
     ]
    },
    {
     "name": "stdout",
     "output_type": "stream",
     "text": [
      "Fail: status code 429 paper_id 03cc6c1e90496be4096c8355502fbd90d97829c6\n"
     ]
    },
    {
     "name": "stderr",
     "output_type": "stream",
     "text": [
      "  6%|██                               | 3815/59545 [1:28:39<23:59:21,  1.55s/it]"
     ]
    },
    {
     "name": "stdout",
     "output_type": "stream",
     "text": [
      "Fail: status code 429 paper_id f2f061889ac255a7356e8a832f59aeb073c4c90c\n"
     ]
    },
    {
     "name": "stderr",
     "output_type": "stream",
     "text": [
      "  6%|██                               | 3816/59545 [1:28:41<24:33:34,  1.59s/it]"
     ]
    },
    {
     "name": "stdout",
     "output_type": "stream",
     "text": [
      "Fail: status code 429 paper_id 336e653cf2e8bc860b498273116569cd4240aaa8\n"
     ]
    },
    {
     "name": "stderr",
     "output_type": "stream",
     "text": [
      "  6%|██                               | 3817/59545 [1:28:42<24:47:30,  1.60s/it]"
     ]
    },
    {
     "name": "stdout",
     "output_type": "stream",
     "text": [
      "Fail: status code 429 paper_id b62de36023fc8320a8e6c69f39a1b138b2447728\n"
     ]
    },
    {
     "name": "stderr",
     "output_type": "stream",
     "text": [
      "  6%|██                               | 3818/59545 [1:28:44<24:48:21,  1.60s/it]"
     ]
    },
    {
     "name": "stdout",
     "output_type": "stream",
     "text": [
      "Fail: status code 429 paper_id 6811638b1210367ceaac3b5870c6adc7064a950e\n"
     ]
    },
    {
     "name": "stderr",
     "output_type": "stream",
     "text": [
      "  6%|██                               | 3819/59545 [1:28:46<24:39:13,  1.59s/it]"
     ]
    },
    {
     "name": "stdout",
     "output_type": "stream",
     "text": [
      "Fail: status code 429 paper_id 5a6e1da5370fafe51272d0ab593751116d35807b\n"
     ]
    },
    {
     "name": "stderr",
     "output_type": "stream",
     "text": [
      "  6%|██                               | 3820/59545 [1:28:47<24:51:19,  1.61s/it]"
     ]
    },
    {
     "name": "stdout",
     "output_type": "stream",
     "text": [
      "Fail: status code 429 paper_id c499427e50411a1dac6d62fdde68597e9e12d89f\n"
     ]
    },
    {
     "name": "stderr",
     "output_type": "stream",
     "text": [
      "  6%|██                               | 3821/59545 [1:28:49<25:01:22,  1.62s/it]"
     ]
    },
    {
     "name": "stdout",
     "output_type": "stream",
     "text": [
      "Fail: status code 429 paper_id None\n"
     ]
    },
    {
     "name": "stderr",
     "output_type": "stream",
     "text": [
      "  6%|██                               | 3824/59545 [1:28:54<25:14:41,  1.63s/it]"
     ]
    },
    {
     "name": "stdout",
     "output_type": "stream",
     "text": [
      "Fail: status code 429 paper_id d5c0b6b6b2190272b449d8c4d700e1af8f9e7a35\n"
     ]
    },
    {
     "name": "stderr",
     "output_type": "stream",
     "text": [
      "  6%|██                               | 3826/59545 [1:28:57<25:17:56,  1.63s/it]"
     ]
    },
    {
     "name": "stdout",
     "output_type": "stream",
     "text": [
      "Fail: status code 429 paper_id 69d73fffcbc8d1d52d2e4126d3f731d6f3cbecf9\n"
     ]
    },
    {
     "name": "stderr",
     "output_type": "stream",
     "text": [
      "  6%|██                               | 3827/59545 [1:28:59<25:01:07,  1.62s/it]"
     ]
    },
    {
     "name": "stdout",
     "output_type": "stream",
     "text": [
      "Fail: status code 429 paper_id e640470f70491027d7f6535214847ac264c61304\n"
     ]
    },
    {
     "name": "stderr",
     "output_type": "stream",
     "text": [
      "  6%|██                               | 3829/59545 [1:29:02<25:23:43,  1.64s/it]"
     ]
    },
    {
     "name": "stdout",
     "output_type": "stream",
     "text": [
      "Fail: status code 429 paper_id 2c58a1ac0c1ebdbac07b8def7ea98d5448a4249a\n"
     ]
    },
    {
     "name": "stderr",
     "output_type": "stream",
     "text": [
      "  6%|██                               | 3830/59545 [1:29:03<23:57:33,  1.55s/it]"
     ]
    },
    {
     "name": "stdout",
     "output_type": "stream",
     "text": [
      "Fail: status code 429 paper_id d60ae895468d67186df467a84c74519e8eaeedf2\n"
     ]
    },
    {
     "name": "stderr",
     "output_type": "stream",
     "text": [
      "  6%|██                               | 3831/59545 [1:29:05<24:22:08,  1.57s/it]"
     ]
    },
    {
     "name": "stdout",
     "output_type": "stream",
     "text": [
      "Fail: status code 429 paper_id 423e91a0e24653f7d2aa707744bd507857124b62\n"
     ]
    },
    {
     "name": "stderr",
     "output_type": "stream",
     "text": [
      "  6%|██                               | 3832/59545 [1:29:07<24:40:01,  1.59s/it]"
     ]
    },
    {
     "name": "stdout",
     "output_type": "stream",
     "text": [
      "Fail: status code 429 paper_id 489c6cfe633f22a5aced35826a02356b9c49a365\n"
     ]
    },
    {
     "name": "stderr",
     "output_type": "stream",
     "text": [
      "  6%|██                               | 3833/59545 [1:29:08<24:41:21,  1.60s/it]"
     ]
    },
    {
     "name": "stdout",
     "output_type": "stream",
     "text": [
      "Fail: status code 429 paper_id 28317f0b7c644d3497f316dcacb9cb9f97160acf\n"
     ]
    },
    {
     "name": "stderr",
     "output_type": "stream",
     "text": [
      "  6%|██▏                              | 3835/59545 [1:29:12<25:09:27,  1.63s/it]"
     ]
    },
    {
     "name": "stdout",
     "output_type": "stream",
     "text": [
      "Fail: status code 429 paper_id 521a1e6ae144c2cdf94a261f68727ce82d0aa0b8\n"
     ]
    },
    {
     "name": "stderr",
     "output_type": "stream",
     "text": [
      "  6%|██▏                              | 3836/59545 [1:29:13<25:13:21,  1.63s/it]"
     ]
    },
    {
     "name": "stdout",
     "output_type": "stream",
     "text": [
      "Fail: status code 429 paper_id 96e345f9ba63383a60b7c520ef2906f165f3b173\n"
     ]
    },
    {
     "name": "stderr",
     "output_type": "stream",
     "text": [
      "  6%|██▏                              | 3837/59545 [1:29:15<25:06:29,  1.62s/it]"
     ]
    },
    {
     "name": "stdout",
     "output_type": "stream",
     "text": [
      "Fail: status code 429 paper_id 2d36dba4761044fa72ef91cae4d2cc084044e79c\n"
     ]
    },
    {
     "name": "stderr",
     "output_type": "stream",
     "text": [
      "  6%|██▏                              | 3838/59545 [1:29:16<24:51:21,  1.61s/it]"
     ]
    },
    {
     "name": "stdout",
     "output_type": "stream",
     "text": [
      "Fail: status code 429 paper_id d8d17c2cac15ed55d0fc301545fd67d8aa7beb24\n"
     ]
    },
    {
     "name": "stderr",
     "output_type": "stream",
     "text": [
      "  6%|██▏                              | 3839/59545 [1:29:18<25:00:21,  1.62s/it]"
     ]
    },
    {
     "name": "stdout",
     "output_type": "stream",
     "text": [
      "Fail: status code 429 paper_id fde0535d71e2e9e9273e09d3b4e3bc0591e1607e\n"
     ]
    },
    {
     "name": "stderr",
     "output_type": "stream",
     "text": [
      "  6%|██▏                              | 3840/59545 [1:29:20<25:06:02,  1.62s/it]"
     ]
    },
    {
     "name": "stdout",
     "output_type": "stream",
     "text": [
      "Fail: status code 429 paper_id 019a8f5b78dc62c8c29188ac5e077a035e058a1c\n"
     ]
    },
    {
     "name": "stderr",
     "output_type": "stream",
     "text": [
      "  6%|██▏                              | 3841/59545 [1:29:21<24:46:17,  1.60s/it]"
     ]
    },
    {
     "name": "stdout",
     "output_type": "stream",
     "text": [
      "Fail: status code 429 paper_id 127ec3ac49ef6c8d022ba4ff31ca05fb8b1c2c94\n"
     ]
    },
    {
     "name": "stderr",
     "output_type": "stream",
     "text": [
      "  6%|██▏                              | 3842/59545 [1:29:23<25:00:49,  1.62s/it]"
     ]
    },
    {
     "name": "stdout",
     "output_type": "stream",
     "text": [
      "Fail: status code 429 paper_id 4b800119b57bf66a66873765e621c94c92a93c93\n"
     ]
    },
    {
     "name": "stderr",
     "output_type": "stream",
     "text": [
      "  6%|██▏                              | 3844/59545 [1:29:26<24:39:26,  1.59s/it]"
     ]
    },
    {
     "name": "stdout",
     "output_type": "stream",
     "text": [
      "Fail: status code 429 paper_id 3774ce1e73d73a79e3b0c5e7b8c2d81a32b0fd36\n"
     ]
    },
    {
     "name": "stderr",
     "output_type": "stream",
     "text": [
      "  6%|██▏                              | 3845/59545 [1:29:28<24:49:41,  1.60s/it]"
     ]
    },
    {
     "name": "stdout",
     "output_type": "stream",
     "text": [
      "Fail: status code 429 paper_id 55e11dba7d52c4d55bbbe9514838f8f2a4e9bd16\n"
     ]
    },
    {
     "name": "stderr",
     "output_type": "stream",
     "text": [
      "  6%|██▏                              | 3846/59545 [1:29:29<24:59:05,  1.61s/it]"
     ]
    },
    {
     "name": "stdout",
     "output_type": "stream",
     "text": [
      "Fail: status code 429 paper_id 8f68a1cbb3f81a806f955af764e7a424cf5105ff\n"
     ]
    },
    {
     "name": "stderr",
     "output_type": "stream",
     "text": [
      "  6%|██▏                              | 3847/59545 [1:29:31<25:05:31,  1.62s/it]"
     ]
    },
    {
     "name": "stdout",
     "output_type": "stream",
     "text": [
      "Fail: status code 429 paper_id 73fe3cc9a5bd51da856d749d83e4ecc8872bcf46\n"
     ]
    },
    {
     "name": "stderr",
     "output_type": "stream",
     "text": [
      "  6%|██▏                              | 3848/59545 [1:29:33<25:00:57,  1.62s/it]"
     ]
    },
    {
     "name": "stdout",
     "output_type": "stream",
     "text": [
      "Fail: status code 429 paper_id 1f962e3a67bdf21e4c28a7cc5d121b219f9947b1\n"
     ]
    },
    {
     "name": "stderr",
     "output_type": "stream",
     "text": [
      "  6%|██▏                              | 3850/59545 [1:29:34<19:04:20,  1.23s/it]"
     ]
    },
    {
     "name": "stdout",
     "output_type": "stream",
     "text": [
      "Fail: status code 429 paper_id 895e252bfc0c2aa39ddeb148e1c3ac2784bd4b0e\n"
     ]
    },
    {
     "name": "stderr",
     "output_type": "stream",
     "text": [
      "  6%|██▏                              | 3852/59545 [1:29:37<21:53:43,  1.42s/it]"
     ]
    },
    {
     "name": "stdout",
     "output_type": "stream",
     "text": [
      "Fail: status code 429 paper_id edaa7f858a4d8c4f88d77ec4d0d2e9d1efed2e42\n"
     ]
    },
    {
     "name": "stderr",
     "output_type": "stream",
     "text": [
      "  6%|██▏                              | 3854/59545 [1:29:39<17:55:52,  1.16s/it]"
     ]
    },
    {
     "name": "stdout",
     "output_type": "stream",
     "text": [
      "Fail: status code 429 paper_id 361d5e09f2e5de0f60d791bb8adf62089a694bd2\n"
     ]
    },
    {
     "name": "stderr",
     "output_type": "stream",
     "text": [
      "  6%|██▏                              | 3857/59545 [1:29:42<16:51:02,  1.09s/it]"
     ]
    },
    {
     "name": "stdout",
     "output_type": "stream",
     "text": [
      "Fail: status code 429 paper_id 060680fbeffbef60b4a730a578622579f7597bb2\n"
     ]
    },
    {
     "name": "stderr",
     "output_type": "stream",
     "text": [
      "  6%|██▏                              | 3859/59545 [1:29:45<20:04:35,  1.30s/it]"
     ]
    },
    {
     "name": "stdout",
     "output_type": "stream",
     "text": [
      "Fail: status code 429 paper_id 3bdb87927b67b29bddb3bf46000c459f28e3415e\n"
     ]
    },
    {
     "name": "stderr",
     "output_type": "stream",
     "text": [
      "  6%|██▏                              | 3862/59545 [1:29:49<19:05:34,  1.23s/it]"
     ]
    },
    {
     "name": "stdout",
     "output_type": "stream",
     "text": [
      "Fail: status code 429 paper_id 5e7a9e09b27b917cb6d032a417d7958a99aab4ae\n"
     ]
    },
    {
     "name": "stderr",
     "output_type": "stream",
     "text": [
      "  6%|██▏                              | 3864/59545 [1:29:50<16:34:01,  1.07s/it]"
     ]
    },
    {
     "name": "stdout",
     "output_type": "stream",
     "text": [
      "Fail: status code 429 paper_id 80ffd41abe1fffc21f389067d650ed48b0e98fd1\n"
     ]
    },
    {
     "name": "stderr",
     "output_type": "stream",
     "text": [
      "  6%|██▏                              | 3865/59545 [1:29:52<18:50:05,  1.22s/it]"
     ]
    },
    {
     "name": "stdout",
     "output_type": "stream",
     "text": [
      "Fail: status code 429 paper_id 86fd88099ef3ab0346ca553a20ab3d63f973a89c\n"
     ]
    },
    {
     "name": "stderr",
     "output_type": "stream",
     "text": [
      "  6%|██▏                              | 3866/59545 [1:29:54<20:22:27,  1.32s/it]"
     ]
    },
    {
     "name": "stdout",
     "output_type": "stream",
     "text": [
      "Fail: status code 429 paper_id 302a2f0b82ecc00b01eccc310eb922a61f1e3cb0\n"
     ]
    },
    {
     "name": "stderr",
     "output_type": "stream",
     "text": [
      "  6%|██▏                              | 3868/59545 [1:29:57<23:03:37,  1.49s/it]"
     ]
    },
    {
     "name": "stdout",
     "output_type": "stream",
     "text": [
      "Fail: status code 429 paper_id 673331486d585cf77b6f1e408d8feefcd77d0561\n"
     ]
    },
    {
     "name": "stderr",
     "output_type": "stream",
     "text": [
      "  7%|██▏                              | 3871/59545 [1:30:02<24:42:39,  1.60s/it]"
     ]
    },
    {
     "name": "stdout",
     "output_type": "stream",
     "text": [
      "Fail: status code 429 paper_id 0d86ad66746691d5b7e1537045d7c25e3ea15d4e\n"
     ]
    },
    {
     "name": "stderr",
     "output_type": "stream",
     "text": [
      "  7%|██▏                              | 3872/59545 [1:30:04<24:53:28,  1.61s/it]"
     ]
    },
    {
     "name": "stdout",
     "output_type": "stream",
     "text": [
      "Fail: status code 429 paper_id 610b7c09dc305eb25acb2f4fe0e8a01b64fb97ce\n"
     ]
    },
    {
     "name": "stderr",
     "output_type": "stream",
     "text": [
      "  7%|██▏                              | 3873/59545 [1:30:06<25:00:59,  1.62s/it]"
     ]
    }
   ],
   "source": [
    "for paper_id in tqdm(visit_cited_papers()):\n",
    "    r = cache_request(paper_id)"
   ]
  },
  {
   "cell_type": "markdown",
   "id": "521a2db7-1207-4033-ada0-4ef5f0971f1f",
   "metadata": {},
   "source": [
    "# Docs"
   ]
  },
  {
   "cell_type": "markdown",
   "id": "b6889981-a912-4de7-9880-017e12242f9e",
   "metadata": {},
   "source": [
    "{'paperId': '1226d86b1333a93141b76d88e3c3c9c5c8ac1fb0', 'publicationVenue': None, 'title': 'Elastic Pipelining in an In-Memory Database Cluster', 'venue': 'SIGMOD Conference', 'year': 2016, 'fieldsOfStudy': ['Computer Science'], 'publicationTypes': ['JournalArticle', 'Book', 'Conference'], 'publicationDate': '2016-06-14', 'journal': {'name': 'Proceedings of the 2016 International Conference on Management of Data'}, 'authors': [{'authorId': '2152714702', 'name': 'Li Wang'}, {'authorId': '39337286', 'name': 'Minqi Zhou'}, {'authorId': '2109512262', 'name': 'Zhenjie Zhang'}, {'authorId': '47796371', 'name': 'Y. Yang'}, {'authorId': '145031580', 'name': 'Aoying Zhou'}, {'authorId': '1909942', 'name': 'D. Bitton'}], 'citations': [{'paperId': 'c4c193b3fca96a8b16f3dbe3247ad36389073537', 'title': 'Krypton: Real-time Serving and Analytical SQL Engine at ByteDance'}, {'paperId': 'f3e8edfb0e6d6844a8a017e8100647b6fbf63c4b', 'title': 'On inter-operator data transfers in query processing'}, {'paperId': '71bfa79c702c230b257c5fe277b2e642d01a6673', 'title': 'Pipelined XPath Query Based on Cost Optimization'}, {'paperId': '6b57fffef9323858122084c4f5cc4ffdd922eec3', 'title': 'A-DSP: An Adaptive Join Algorithm for Dynamic Data Stream on Cloud System'}, {'paperId': 'bc61dce150ff871386f85481970bfc1d1c10941c', 'title': 'Out-of-order execution of database queries'}, {'paperId': 'd0eede72be60fd031cbab0b7fe527e5dbe8808b8', 'title': 'PA-Tree: Polled-Mode Asynchronous B+ Tree for NVMe'}, {'paperId': 'fb2f9dd392b22e99ebc1c9087c41d6e1a9238f1e', 'title': 'Handling Data Skew for Aggregation in Spark SQL Using Task Stealing'}, {'paperId': 'c4d3bba752b4b15c05b3d71a9de2a73fe94ec8a2', 'title': 'Scheduling Resources to Multiple Pipelines of One Query in a Main Memory Database Cluster'}, {'paperId': '954bb881fd92ff5c5ef7b729a8b85d984c39a715', 'title': 'To pipeline or not to pipeline, that is the question'}, {'paperId': '4bd927570edc775c0ed38496491549a7bab0b68e', 'title': 'Waterwheel: Realtime Indexing and Temporal Range Query Processing over Massive Data Streams'}, {'paperId': 'f963a5bab702915567f7cc3d85dd40a77110362a', 'title': 'Parallelizing Multiple Pipelines of One Query in a Main Memory Database Cluster'}, {'paperId': 'e639762852d31f57697e1f96aef60cc3587a58b1', 'title': 'Elasticutor: Rapid Elasticity for Realtime Stateful Stream Processing'}, {'paperId': 'b79a8fb33c8209ef6c02d43335affa8e7129eabd', 'title': 'Empowering In-Memory Relational Database Engines with Native Graph Processing'}, {'paperId': 'd2189bf80b2c1bd55c80b6c189bd4c8a1464c667', 'title': 'DRS: Auto-Scaling for Real-Time Stream Analytics'}, {'paperId': 'c7f9193a0bcaa3a0601b47183a2842535c3de6df', 'title': 'DITIR: Distributed Index for High Throughput Trajectory Insertion and Real-time Temporal Range Query'}, {'paperId': '90ef13ee34dff3ed4fa3779e5b9b87afc7e30ad0', 'title': 'Adaptive Concurrent Query Execution Framework for an Analytical In-Memory Database System'}, {'paperId': '71b2f44bb489feb5e7562a43a2d0c7c4f22b5c42', 'title': 'Cost-Effective Stream Join Algorithm on Cloud System'}, {'paperId': 'c5f74dc959ba45880ebc346d08ca8fb30f874b83', 'title': 'the Proceedings of the 18th USENIX Symposium on Networked Systems Design and Implementation.'}, {'paperId': '21810bed01c0873d2568840814465717093f710e', 'title': 'HetExchange: Encapsulating heterogeneous CPU-GPU parallelism in JIT compiled engines'}, {'paperId': '9ec2f0d95acc8606323e39054dfab18fe1ca301c', 'title': 'Extending In-Memory Relational Database Engines with Native Graph Support'}]}"
   ]
  },
  {
   "cell_type": "markdown",
   "id": "ef43584f-8d54-4087-9423-73670a4bae31",
   "metadata": {},
   "source": [
    "In this domain, authors write research papers that\n",
    "can be published in the proceedings of a conference or workshop\n",
    ", or in a journal. A conference/workshop is organized in terms of editions.\n",
    "Each edition of a conference/workshop is held in a given city (venue) at a specific period of\n",
    "time of a given year.Proceedings are published records which include all the papers presented\n",
    "in an edition of a conference/workshop. Oppositely, journals do not hold joint meeting events\n",
    "and, like a magazine, a journal publishes accepted papers in terms of volumes. There can be\n",
    "various volumes of a journal per year.\n",
    "A paper can be written by many authors, however only one of them acts as corresponding\n",
    "author. A paper can be cited by another paper, meaning their content is related. A paper\n",
    "can be about one or more topics, specified by means of keywords (e.g., property graph, graph\n",
    "processing, data quality, etc.). A paper must also contain an abstract (i.e., a summary of its\n",
    "content).\n",
    "\n",
    "Finally, we also want to include in the graph the concept of review. When a paper is submit-\n",
    "ted to a conference/workshop or a journal, the conference chair or the journal editor assigns\n",
    "a set of reviewers (typically three) to each paper. Reviewers are scientists and therefore they\n",
    "are relevant authors (i.e., they have published papers in relevant conferences or journals).\n",
    "Obviously, the author of a certain paper cannot be reviewer of her own paper."
   ]
  },
  {
   "cell_type": "markdown",
   "id": "eb66f8e6-75de-4a69-bf90-cedb0af658fd",
   "metadata": {},
   "source": [
    "- [ ] Keywords\n",
    "- [ ] Workshops are funky\n",
    "- [ ] Reviews - How do they work?"
   ]
  },
  {
   "cell_type": "markdown",
   "id": "715d95b0-7b83-4a84-a741-150d96d22efa",
   "metadata": {},
   "source": [
    "# TODO"
   ]
  }
 ],
 "metadata": {
  "kernelspec": {
   "display_name": "Python 3 (ipykernel)",
   "language": "python",
   "name": "python3"
  },
  "language_info": {
   "codemirror_mode": {
    "name": "ipython",
    "version": 3
   },
   "file_extension": ".py",
   "mimetype": "text/x-python",
   "name": "python",
   "nbconvert_exporter": "python",
   "pygments_lexer": "ipython3",
   "version": "3.11.2"
  }
 },
 "nbformat": 4,
 "nbformat_minor": 5
}

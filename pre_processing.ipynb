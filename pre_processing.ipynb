{
 "cells": [
  {
   "cell_type": "code",
   "execution_count": 1,
   "id": "b59be153-eb9d-498f-8b9f-752e0d2ad6fc",
   "metadata": {},
   "outputs": [],
   "source": [
    "import pandas as pd"
   ]
  },
  {
   "cell_type": "markdown",
   "id": "04c978a0-ec18-4884-a495-13b6070fe601",
   "metadata": {},
   "source": [
    "# Person"
   ]
  },
  {
   "cell_type": "code",
   "execution_count": 2,
   "id": "eb836957-7f58-488a-b0ba-d4658f83ba05",
   "metadata": {},
   "outputs": [
    {
     "data": {
      "text/html": [
       "<div>\n",
       "<style scoped>\n",
       "    .dataframe tbody tr th:only-of-type {\n",
       "        vertical-align: middle;\n",
       "    }\n",
       "\n",
       "    .dataframe tbody tr th {\n",
       "        vertical-align: top;\n",
       "    }\n",
       "\n",
       "    .dataframe thead th {\n",
       "        text-align: right;\n",
       "    }\n",
       "</style>\n",
       "<table border=\"1\" class=\"dataframe\">\n",
       "  <thead>\n",
       "    <tr style=\"text-align: right;\">\n",
       "      <th></th>\n",
       "      <th>:ID</th>\n",
       "      <th>author:string</th>\n",
       "    </tr>\n",
       "  </thead>\n",
       "  <tbody>\n",
       "    <tr>\n",
       "      <th>0</th>\n",
       "      <td>10573921</td>\n",
       "      <td>Paul Kocher</td>\n",
       "    </tr>\n",
       "    <tr>\n",
       "      <th>1</th>\n",
       "      <td>10573922</td>\n",
       "      <td>Daniel Genkin</td>\n",
       "    </tr>\n",
       "    <tr>\n",
       "      <th>2</th>\n",
       "      <td>10573923</td>\n",
       "      <td>Daniel Gruss</td>\n",
       "    </tr>\n",
       "    <tr>\n",
       "      <th>3</th>\n",
       "      <td>10573924</td>\n",
       "      <td>Werner Haas 0004</td>\n",
       "    </tr>\n",
       "    <tr>\n",
       "      <th>4</th>\n",
       "      <td>10573925</td>\n",
       "      <td>Mike Hamburg</td>\n",
       "    </tr>\n",
       "  </tbody>\n",
       "</table>\n",
       "</div>"
      ],
      "text/plain": [
       "        :ID     author:string\n",
       "0  10573921       Paul Kocher\n",
       "1  10573922     Daniel Genkin\n",
       "2  10573923      Daniel Gruss\n",
       "3  10573924  Werner Haas 0004\n",
       "4  10573925      Mike Hamburg"
      ]
     },
     "execution_count": 2,
     "metadata": {},
     "output_type": "execute_result"
    }
   ],
   "source": [
    "person = pd.read_csv(\"./sample_data/dblp_author.csv\",\n",
    "                    header=0,\n",
    "                    sep=';')\n",
    "\n",
    "person.head()"
   ]
  },
  {
   "cell_type": "code",
   "execution_count": 3,
   "id": "ba29fee7-927e-4f77-a456-013b675bb4e4",
   "metadata": {},
   "outputs": [
    {
     "data": {
      "text/html": [
       "<div>\n",
       "<style scoped>\n",
       "    .dataframe tbody tr th:only-of-type {\n",
       "        vertical-align: middle;\n",
       "    }\n",
       "\n",
       "    .dataframe tbody tr th {\n",
       "        vertical-align: top;\n",
       "    }\n",
       "\n",
       "    .dataframe thead th {\n",
       "        text-align: right;\n",
       "    }\n",
       "</style>\n",
       "<table border=\"1\" class=\"dataframe\">\n",
       "  <thead>\n",
       "    <tr style=\"text-align: right;\">\n",
       "      <th></th>\n",
       "      <th>name</th>\n",
       "    </tr>\n",
       "    <tr>\n",
       "      <th>id</th>\n",
       "      <th></th>\n",
       "    </tr>\n",
       "  </thead>\n",
       "  <tbody>\n",
       "    <tr>\n",
       "      <th>10573921</th>\n",
       "      <td>Paul Kocher</td>\n",
       "    </tr>\n",
       "    <tr>\n",
       "      <th>10573922</th>\n",
       "      <td>Daniel Genkin</td>\n",
       "    </tr>\n",
       "    <tr>\n",
       "      <th>10573923</th>\n",
       "      <td>Daniel Gruss</td>\n",
       "    </tr>\n",
       "    <tr>\n",
       "      <th>10573924</th>\n",
       "      <td>Werner Haas 0004</td>\n",
       "    </tr>\n",
       "    <tr>\n",
       "      <th>10573925</th>\n",
       "      <td>Mike Hamburg</td>\n",
       "    </tr>\n",
       "  </tbody>\n",
       "</table>\n",
       "</div>"
      ],
      "text/plain": [
       "                      name\n",
       "id                        \n",
       "10573921       Paul Kocher\n",
       "10573922     Daniel Genkin\n",
       "10573923      Daniel Gruss\n",
       "10573924  Werner Haas 0004\n",
       "10573925      Mike Hamburg"
      ]
     },
     "execution_count": 3,
     "metadata": {},
     "output_type": "execute_result"
    }
   ],
   "source": [
    "# Fix column name\n",
    "person = person.rename({':ID': 'id', 'author:string': 'name'}, axis=1)\n",
    "\n",
    "# Set id to be used as index\n",
    "person = person.set_index('id')\n",
    "person.head()"
   ]
  },
  {
   "cell_type": "markdown",
   "id": "eb6873ba-d4d2-4ea9-9f12-038285dcee07",
   "metadata": {},
   "source": [
    "## Store"
   ]
  },
  {
   "cell_type": "code",
   "execution_count": 4,
   "id": "929a07a5-3fe2-4735-8804-a1ddd0d27d00",
   "metadata": {},
   "outputs": [],
   "source": [
    "person.to_csv('./processed_data/person.csv')"
   ]
  },
  {
   "cell_type": "markdown",
   "id": "255c0ba0-3d84-4d72-8ad4-6159880f0b1e",
   "metadata": {},
   "source": [
    "## Neo4j Load"
   ]
  },
  {
   "cell_type": "markdown",
   "id": "f7131923-9074-4d83-8577-3d52546e8279",
   "metadata": {},
   "source": [
    "```\n",
    "LOAD CSV WITH HEADERS FROM 'file:///person.csv'\n",
    "AS row\n",
    "CREATE (p:Person {id: row['id'], p_name: row['name']})\n",
    ";\n",
    "```"
   ]
  },
  {
   "cell_type": "markdown",
   "id": "badb636f-dde4-41bc-a276-3f13a0cdc3a2",
   "metadata": {},
   "source": [
    "# Load into Neo4j"
   ]
  },
  {
   "cell_type": "code",
   "execution_count": 5,
   "id": "a0b4439e-7477-4533-b4c4-01be877c6c71",
   "metadata": {},
   "outputs": [],
   "source": [
    "!#sudo cp ./processed_data/* ./neo4j/import/"
   ]
  },
  {
   "cell_type": "markdown",
   "id": "b44351b5-407c-418a-bc0e-ab45a38600f4",
   "metadata": {},
   "source": [
    "# Neo4j"
   ]
  },
  {
   "cell_type": "code",
   "execution_count": null,
   "id": "1a6d8919-b937-4784-b2b9-e489ed0a614c",
   "metadata": {},
   "outputs": [],
   "source": [
    "import neo4j"
   ]
  },
  {
   "cell_type": "code",
   "execution_count": null,
   "id": "d3c54dea-d956-4053-a97c-4ec690d4e104",
   "metadata": {},
   "outputs": [],
   "source": [
    "conn = neo4j.GraphDatabase.driver(\n",
    "    uri=\"neo4j://localhost\"\n",
    ")"
   ]
  },
  {
   "cell_type": "code",
   "execution_count": null,
   "id": "7b2c62da-f8c2-4ff9-9fed-5b9ce887f9e1",
   "metadata": {},
   "outputs": [],
   "source": [
    "# Delete nodes and relationships\n",
    "query = \"\"\"\n",
    "    MATCH (n)\n",
    "    DETACH DELETE n;\n",
    "\"\"\""
   ]
  },
  {
   "cell_type": "code",
   "execution_count": null,
   "id": "09ef09bb-6d75-49cd-a15d-938a66c10af0",
   "metadata": {},
   "outputs": [],
   "source": [
    "result = conn.session().run(query)"
   ]
  },
  {
   "cell_type": "code",
   "execution_count": null,
   "id": "cf34bf30-b9f6-4022-b441-75a4b8d6b6e4",
   "metadata": {},
   "outputs": [],
   "source": [
    "query = \"\"\"\n",
    "    LOAD CSV WITH HEADERS FROM 'file:///dblp_author.csv'\n",
    "    AS row\n",
    "    FIELDTERMINATOR ';'\n",
    "    CREATE (p:Person {id: row[':ID'], name: row['author:string']})\n",
    "    ;\n",
    "\"\"\""
   ]
  },
  {
   "cell_type": "code",
   "execution_count": null,
   "id": "e3368b3c-d779-46c0-b94d-c6d2db9fa4e4",
   "metadata": {},
   "outputs": [],
   "source": [
    "result = conn.session().run(query)"
   ]
  },
  {
   "cell_type": "code",
   "execution_count": null,
   "id": "925f5f80-18f4-425f-8ed0-bba82ed9cd14",
   "metadata": {},
   "outputs": [],
   "source": [
    "result = conn.session().run(\n",
    "    \"MATCH (n) RETURN (n) LIMIT 50\"\n",
    ")"
   ]
  },
  {
   "cell_type": "code",
   "execution_count": null,
   "id": "9c7fbe37-72b0-4caa-9c06-c9ffc0ce255d",
   "metadata": {},
   "outputs": [],
   "source": [
    "for r in result:\n",
    "    print(r.data())"
   ]
  },
  {
   "cell_type": "code",
   "execution_count": null,
   "id": "69ca75c1-caac-431d-b658-616e0b724edd",
   "metadata": {},
   "outputs": [],
   "source": []
  }
 ],
 "metadata": {
  "kernelspec": {
   "display_name": "Python 3 (ipykernel)",
   "language": "python",
   "name": "python3"
  },
  "language_info": {
   "codemirror_mode": {
    "name": "ipython",
    "version": 3
   },
   "file_extension": ".py",
   "mimetype": "text/x-python",
   "name": "python",
   "nbconvert_exporter": "python",
   "pygments_lexer": "ipython3",
   "version": "3.11.2"
  }
 },
 "nbformat": 4,
 "nbformat_minor": 5
}
